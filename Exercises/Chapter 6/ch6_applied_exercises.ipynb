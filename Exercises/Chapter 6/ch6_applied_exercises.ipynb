{
 "cells": [
  {
   "cell_type": "code",
   "execution_count": 87,
   "id": "675a32f9",
   "metadata": {
    "ExecuteTime": {
     "end_time": "2025-07-07T21:12:47.388057Z",
     "start_time": "2025-07-07T21:12:46.701036Z"
    }
   },
   "outputs": [],
   "source": [
    "%matplotlib inline\n",
    "\n",
    "import pandas as pd\n",
    "import numpy as np\n",
    "import matplotlib.pyplot as plt\n",
    "import seaborn as sns\n",
    "import statsmodels.api as sm\n",
    "from sklearn.linear_model import LinearRegression, Lasso, LassoCV, Ridge, RidgeCV \n",
    "from sklearn.preprocessing import PolynomialFeatures, scale, StandardScaler\n",
    "from sklearn.model_selection import train_test_split, cross_val_score\n",
    "from sklearn.cross_decomposition import PLSRegression\n",
    "from sklearn.metrics import mean_squared_error\n",
    "from sklearn.decomposition import PCA\n",
    "from itertools import combinations\n",
    "from tqdm import tqdm"
   ]
  },
  {
   "cell_type": "markdown",
   "id": "c832f687",
   "metadata": {},
   "source": [
    "## Question 8\n",
    "\n",
    "### 8.a"
   ]
  },
  {
   "cell_type": "code",
   "execution_count": 88,
   "id": "93876762",
   "metadata": {
    "ExecuteTime": {
     "end_time": "2025-07-07T21:12:47.629474Z",
     "start_time": "2025-07-07T21:12:47.622407Z"
    }
   },
   "outputs": [],
   "source": [
    "np.random.seed(5)\n",
    "# predictor X vector\n",
    "x = np.random.randn(100, 1)\n",
    "# noise vector\n",
    "eps = np.random.randn(100, 1)"
   ]
  },
  {
   "cell_type": "markdown",
   "id": "1026a92b",
   "metadata": {},
   "source": [
    "### 8.b"
   ]
  },
  {
   "cell_type": "code",
   "execution_count": 89,
   "id": "cd1c6c2c",
   "metadata": {
    "ExecuteTime": {
     "end_time": "2025-07-07T21:12:47.723348Z",
     "start_time": "2025-07-07T21:12:47.717830Z"
    }
   },
   "outputs": [],
   "source": [
    "betas = [5, -10, 3, 14]\n",
    "\n",
    "y = betas[0] + betas[1] * x + betas[2] * (x**2) + betas[3] * (x**3) + eps"
   ]
  },
  {
   "cell_type": "markdown",
   "id": "dd445a28",
   "metadata": {},
   "source": [
    "### 8.c"
   ]
  },
  {
   "cell_type": "code",
   "execution_count": 90,
   "id": "1cc5d5e5",
   "metadata": {
    "ExecuteTime": {
     "end_time": "2025-07-07T21:12:47.804857Z",
     "start_time": "2025-07-07T21:12:47.789929Z"
    },
    "scrolled": false
   },
   "outputs": [
    {
     "data": {
      "application/vnd.microsoft.datawrangler.viewer.v0+json": {
       "columns": [
        {
         "name": "index",
         "rawType": "int64",
         "type": "integer"
        },
        {
         "name": "x1",
         "rawType": "float64",
         "type": "float"
        },
        {
         "name": "x2",
         "rawType": "float64",
         "type": "float"
        },
        {
         "name": "x3",
         "rawType": "float64",
         "type": "float"
        },
        {
         "name": "x4",
         "rawType": "float64",
         "type": "float"
        },
        {
         "name": "x5",
         "rawType": "float64",
         "type": "float"
        },
        {
         "name": "x6",
         "rawType": "float64",
         "type": "float"
        },
        {
         "name": "x7",
         "rawType": "float64",
         "type": "float"
        },
        {
         "name": "x8",
         "rawType": "float64",
         "type": "float"
        },
        {
         "name": "x9",
         "rawType": "float64",
         "type": "float"
        },
        {
         "name": "x10",
         "rawType": "float64",
         "type": "float"
        },
        {
         "name": "y",
         "rawType": "float64",
         "type": "float"
        }
       ],
       "ref": "a5f3cbea-9298-4598-aa8e-cefaf8be1073",
       "rows": [
        [
         "0",
         "0.44122748688504143",
         "0.1946816951828894",
         "0.08589891510806598",
         "0.03790096243928347",
         "0.016722946407609393",
         "0.0073786236167427246",
         "0.0032556515550860076",
         "0.0014364829538239762",
         "0.0006338157636689541",
         "0.00027965693655177594",
         "3.166777645517812"
        ],
        [
         "1",
         "-0.33087015189408764",
         "0.10947505741441663",
         "-0.03622202887532199",
         "0.011984788195889816",
         "-0.003965408690792532",
         "0.00131203537584466",
         "-0.00043411334409613903",
         "0.00014363514810033986",
         "-4.752458326928922e-05",
         "1.572446608501294e-05",
         "8.300782739395185"
        ],
        [
         "2",
         "2.43077118700778",
         "5.908648563587212",
         "14.362572682522702",
         "34.912127847981225",
         "84.86339445000469",
         "206.28349406074736",
         "501.42797371815516",
         "1218.8566708737858",
         "2962.7616766522233",
         "7201.795717577085",
         "197.7405105155246"
        ],
        [
         "3",
         "-0.2520921296030769",
         "0.06355044180781454",
         "-0.01602056621254838",
         "0.004038658653968422",
         "-0.0010181140608187956",
         "0.0002566585417706468",
         "-6.470159837578261e-05",
         "1.6310763723274022e-05",
         "-4.11181516245276e-06",
         "1.036556240836938e-06",
         "8.117581171068037"
        ],
        [
         "4",
         "0.10960984157818278",
         "0.012014317370794326",
         "0.0013168874236827756",
         "0.0001443438218861703",
         "1.582150344973256e-05",
         "1.734192486653858e-06",
         "1.9008456372820423e-07",
         "2.0835138916706455e-08",
         "2.2837362759196254e-09",
         "2.5031997140989926e-10",
         "4.456710174962372"
        ]
       ],
       "shape": {
        "columns": 11,
        "rows": 5
       }
      },
      "text/html": [
       "<div>\n",
       "<style scoped>\n",
       "    .dataframe tbody tr th:only-of-type {\n",
       "        vertical-align: middle;\n",
       "    }\n",
       "\n",
       "    .dataframe tbody tr th {\n",
       "        vertical-align: top;\n",
       "    }\n",
       "\n",
       "    .dataframe thead th {\n",
       "        text-align: right;\n",
       "    }\n",
       "</style>\n",
       "<table border=\"1\" class=\"dataframe\">\n",
       "  <thead>\n",
       "    <tr style=\"text-align: right;\">\n",
       "      <th></th>\n",
       "      <th>x1</th>\n",
       "      <th>x2</th>\n",
       "      <th>x3</th>\n",
       "      <th>x4</th>\n",
       "      <th>x5</th>\n",
       "      <th>x6</th>\n",
       "      <th>x7</th>\n",
       "      <th>x8</th>\n",
       "      <th>x9</th>\n",
       "      <th>x10</th>\n",
       "      <th>y</th>\n",
       "    </tr>\n",
       "  </thead>\n",
       "  <tbody>\n",
       "    <tr>\n",
       "      <th>0</th>\n",
       "      <td>0.441227</td>\n",
       "      <td>0.194682</td>\n",
       "      <td>0.085899</td>\n",
       "      <td>0.037901</td>\n",
       "      <td>0.016723</td>\n",
       "      <td>0.007379</td>\n",
       "      <td>3.255652e-03</td>\n",
       "      <td>1.436483e-03</td>\n",
       "      <td>6.338158e-04</td>\n",
       "      <td>2.796569e-04</td>\n",
       "      <td>3.166778</td>\n",
       "    </tr>\n",
       "    <tr>\n",
       "      <th>1</th>\n",
       "      <td>-0.330870</td>\n",
       "      <td>0.109475</td>\n",
       "      <td>-0.036222</td>\n",
       "      <td>0.011985</td>\n",
       "      <td>-0.003965</td>\n",
       "      <td>0.001312</td>\n",
       "      <td>-4.341133e-04</td>\n",
       "      <td>1.436351e-04</td>\n",
       "      <td>-4.752458e-05</td>\n",
       "      <td>1.572447e-05</td>\n",
       "      <td>8.300783</td>\n",
       "    </tr>\n",
       "    <tr>\n",
       "      <th>2</th>\n",
       "      <td>2.430771</td>\n",
       "      <td>5.908649</td>\n",
       "      <td>14.362573</td>\n",
       "      <td>34.912128</td>\n",
       "      <td>84.863394</td>\n",
       "      <td>206.283494</td>\n",
       "      <td>5.014280e+02</td>\n",
       "      <td>1.218857e+03</td>\n",
       "      <td>2.962762e+03</td>\n",
       "      <td>7.201796e+03</td>\n",
       "      <td>197.740511</td>\n",
       "    </tr>\n",
       "    <tr>\n",
       "      <th>3</th>\n",
       "      <td>-0.252092</td>\n",
       "      <td>0.063550</td>\n",
       "      <td>-0.016021</td>\n",
       "      <td>0.004039</td>\n",
       "      <td>-0.001018</td>\n",
       "      <td>0.000257</td>\n",
       "      <td>-6.470160e-05</td>\n",
       "      <td>1.631076e-05</td>\n",
       "      <td>-4.111815e-06</td>\n",
       "      <td>1.036556e-06</td>\n",
       "      <td>8.117581</td>\n",
       "    </tr>\n",
       "    <tr>\n",
       "      <th>4</th>\n",
       "      <td>0.109610</td>\n",
       "      <td>0.012014</td>\n",
       "      <td>0.001317</td>\n",
       "      <td>0.000144</td>\n",
       "      <td>0.000016</td>\n",
       "      <td>0.000002</td>\n",
       "      <td>1.900846e-07</td>\n",
       "      <td>2.083514e-08</td>\n",
       "      <td>2.283736e-09</td>\n",
       "      <td>2.503200e-10</td>\n",
       "      <td>4.456710</td>\n",
       "    </tr>\n",
       "  </tbody>\n",
       "</table>\n",
       "</div>"
      ],
      "text/plain": [
       "         x1        x2         x3         x4         x5          x6  \\\n",
       "0  0.441227  0.194682   0.085899   0.037901   0.016723    0.007379   \n",
       "1 -0.330870  0.109475  -0.036222   0.011985  -0.003965    0.001312   \n",
       "2  2.430771  5.908649  14.362573  34.912128  84.863394  206.283494   \n",
       "3 -0.252092  0.063550  -0.016021   0.004039  -0.001018    0.000257   \n",
       "4  0.109610  0.012014   0.001317   0.000144   0.000016    0.000002   \n",
       "\n",
       "             x7            x8            x9           x10           y  \n",
       "0  3.255652e-03  1.436483e-03  6.338158e-04  2.796569e-04    3.166778  \n",
       "1 -4.341133e-04  1.436351e-04 -4.752458e-05  1.572447e-05    8.300783  \n",
       "2  5.014280e+02  1.218857e+03  2.962762e+03  7.201796e+03  197.740511  \n",
       "3 -6.470160e-05  1.631076e-05 -4.111815e-06  1.036556e-06    8.117581  \n",
       "4  1.900846e-07  2.083514e-08  2.283736e-09  2.503200e-10    4.456710  "
      ]
     },
     "execution_count": 90,
     "metadata": {},
     "output_type": "execute_result"
    }
   ],
   "source": [
    "poly = PolynomialFeatures(degree=10, include_bias=False)\n",
    "X_poly = poly.fit_transform(x)\n",
    "\n",
    "cols = ['x'+str(i) for i in range(1, 11)] + ['y']\n",
    "X_df = pd.DataFrame(np.concatenate((X_poly,y), axis=1), columns=cols)\n",
    "X_df.head()"
   ]
  },
  {
   "cell_type": "code",
   "execution_count": 91,
   "id": "f2529b8d",
   "metadata": {
    "ExecuteTime": {
     "end_time": "2025-07-07T21:12:47.982475Z",
     "start_time": "2025-07-07T21:12:47.975965Z"
    }
   },
   "outputs": [],
   "source": [
    "def process_linear_model(subset, data, response):\n",
    "    x_train = sm.add_constant(data[subset])\n",
    "    model = sm.OLS(response, x_train).fit()\n",
    "    train_RSS = model.ssr\n",
    "    return (model, train_RSS)\n",
    "\n",
    "def find_best_subset(data, response, max_features, operation):\n",
    "    best_sub_list = []\n",
    "    best_model = []\n",
    "    num_of_features = []\n",
    "    \n",
    "    for k in tqdm(range(1, max_features+1)):\n",
    "        best_rss = np.inf\n",
    "        best_kth_model = None\n",
    "        \n",
    "        subsets = combinations(data.columns, k)\n",
    "        \n",
    "        for subset in subsets:\n",
    "            result = process_linear_model(list(subset), data, response)\n",
    "            if result[1] < best_rss:\n",
    "                best_rss = result[1]\n",
    "                best_subset = list(subset)\n",
    "                best_kth_model = result[0]\n",
    "                \n",
    "        num_of_features.append(k)\n",
    "        best_sub_list.append(best_subset)\n",
    "        best_model.append(best_kth_model)\n",
    "            \n",
    "    results = pd.DataFrame({'sub': best_sub_list, 'model': best_model})\n",
    "    results.to_pickle(f'../../data/{operation}.pkl')\n",
    "    return results"
   ]
  },
  {
   "cell_type": "code",
   "execution_count": 92,
   "id": "f7715085",
   "metadata": {
    "ExecuteTime": {
     "end_time": "2025-07-07T21:12:51.492370Z",
     "start_time": "2025-07-07T21:12:48.039121Z"
    }
   },
   "outputs": [
    {
     "name": "stderr",
     "output_type": "stream",
     "text": [
      "100%|██████████| 10/10 [00:01<00:00,  6.74it/s]\n"
     ]
    }
   ],
   "source": [
    "X = X_df.drop(['y'], axis=1)\n",
    "y = X_df.y\n",
    "\n",
    "bestsub_results = find_best_subset(X, y, 10, 'poly_bestsub')"
   ]
  },
  {
   "cell_type": "code",
   "execution_count": 93,
   "id": "3009cf9b",
   "metadata": {
    "ExecuteTime": {
     "end_time": "2025-07-07T21:12:51.592010Z",
     "start_time": "2025-07-07T21:12:51.573730Z"
    }
   },
   "outputs": [
    {
     "data": {
      "application/vnd.microsoft.datawrangler.viewer.v0+json": {
       "columns": [
        {
         "name": "index",
         "rawType": "int64",
         "type": "integer"
        },
        {
         "name": "sub",
         "rawType": "object",
         "type": "unknown"
        },
        {
         "name": "model",
         "rawType": "object",
         "type": "unknown"
        }
       ],
       "ref": "418485da-cc5e-431a-bf3c-b7cb49fb5cb3",
       "rows": [
        [
         "0",
         "['x3']",
         "<statsmodels.regression.linear_model.RegressionResultsWrapper object at 0x00000129F87430E0>"
        ],
        [
         "1",
         "['x5', 'x7']",
         "<statsmodels.regression.linear_model.RegressionResultsWrapper object at 0x00000129F45340B0>"
        ],
        [
         "2",
         "['x1', 'x2', 'x3']",
         "<statsmodels.regression.linear_model.RegressionResultsWrapper object at 0x00000129F60438F0>"
        ],
        [
         "3",
         "['x1', 'x2', 'x3', 'x5']",
         "<statsmodels.regression.linear_model.RegressionResultsWrapper object at 0x00000129F1446B10>"
        ],
        [
         "4",
         "['x1', 'x2', 'x3', 'x7', 'x10']",
         "<statsmodels.regression.linear_model.RegressionResultsWrapper object at 0x00000129F4629B50>"
        ],
        [
         "5",
         "['x1', 'x2', 'x3', 'x5', 'x7', 'x9']",
         "<statsmodels.regression.linear_model.RegressionResultsWrapper object at 0x00000129F4657AD0>"
        ],
        [
         "6",
         "['x1', 'x2', 'x3', 'x5', 'x6', 'x7', 'x9']",
         "<statsmodels.regression.linear_model.RegressionResultsWrapper object at 0x00000129F884CA40>"
        ],
        [
         "7",
         "['x1', 'x2', 'x3', 'x5', 'x7', 'x8', 'x9', 'x10']",
         "<statsmodels.regression.linear_model.RegressionResultsWrapper object at 0x00000129F46AD550>"
        ],
        [
         "8",
         "['x1', 'x2', 'x3', 'x5', 'x6', 'x7', 'x8', 'x9', 'x10']",
         "<statsmodels.regression.linear_model.RegressionResultsWrapper object at 0x00000129F46285C0>"
        ],
        [
         "9",
         "['x1', 'x2', 'x3', 'x4', 'x5', 'x6', 'x7', 'x8', 'x9', 'x10']",
         "<statsmodels.regression.linear_model.RegressionResultsWrapper object at 0x00000129F6092AB0>"
        ]
       ],
       "shape": {
        "columns": 2,
        "rows": 10
       }
      },
      "text/html": [
       "<div>\n",
       "<style scoped>\n",
       "    .dataframe tbody tr th:only-of-type {\n",
       "        vertical-align: middle;\n",
       "    }\n",
       "\n",
       "    .dataframe tbody tr th {\n",
       "        vertical-align: top;\n",
       "    }\n",
       "\n",
       "    .dataframe thead th {\n",
       "        text-align: right;\n",
       "    }\n",
       "</style>\n",
       "<table border=\"1\" class=\"dataframe\">\n",
       "  <thead>\n",
       "    <tr style=\"text-align: right;\">\n",
       "      <th></th>\n",
       "      <th>sub</th>\n",
       "      <th>model</th>\n",
       "    </tr>\n",
       "  </thead>\n",
       "  <tbody>\n",
       "    <tr>\n",
       "      <th>0</th>\n",
       "      <td>[x3]</td>\n",
       "      <td>&lt;statsmodels.regression.linear_model.Regressio...</td>\n",
       "    </tr>\n",
       "    <tr>\n",
       "      <th>1</th>\n",
       "      <td>[x5, x7]</td>\n",
       "      <td>&lt;statsmodels.regression.linear_model.Regressio...</td>\n",
       "    </tr>\n",
       "    <tr>\n",
       "      <th>2</th>\n",
       "      <td>[x1, x2, x3]</td>\n",
       "      <td>&lt;statsmodels.regression.linear_model.Regressio...</td>\n",
       "    </tr>\n",
       "    <tr>\n",
       "      <th>3</th>\n",
       "      <td>[x1, x2, x3, x5]</td>\n",
       "      <td>&lt;statsmodels.regression.linear_model.Regressio...</td>\n",
       "    </tr>\n",
       "    <tr>\n",
       "      <th>4</th>\n",
       "      <td>[x1, x2, x3, x7, x10]</td>\n",
       "      <td>&lt;statsmodels.regression.linear_model.Regressio...</td>\n",
       "    </tr>\n",
       "    <tr>\n",
       "      <th>5</th>\n",
       "      <td>[x1, x2, x3, x5, x7, x9]</td>\n",
       "      <td>&lt;statsmodels.regression.linear_model.Regressio...</td>\n",
       "    </tr>\n",
       "    <tr>\n",
       "      <th>6</th>\n",
       "      <td>[x1, x2, x3, x5, x6, x7, x9]</td>\n",
       "      <td>&lt;statsmodels.regression.linear_model.Regressio...</td>\n",
       "    </tr>\n",
       "    <tr>\n",
       "      <th>7</th>\n",
       "      <td>[x1, x2, x3, x5, x7, x8, x9, x10]</td>\n",
       "      <td>&lt;statsmodels.regression.linear_model.Regressio...</td>\n",
       "    </tr>\n",
       "    <tr>\n",
       "      <th>8</th>\n",
       "      <td>[x1, x2, x3, x5, x6, x7, x8, x9, x10]</td>\n",
       "      <td>&lt;statsmodels.regression.linear_model.Regressio...</td>\n",
       "    </tr>\n",
       "    <tr>\n",
       "      <th>9</th>\n",
       "      <td>[x1, x2, x3, x4, x5, x6, x7, x8, x9, x10]</td>\n",
       "      <td>&lt;statsmodels.regression.linear_model.Regressio...</td>\n",
       "    </tr>\n",
       "  </tbody>\n",
       "</table>\n",
       "</div>"
      ],
      "text/plain": [
       "                                         sub  \\\n",
       "0                                       [x3]   \n",
       "1                                   [x5, x7]   \n",
       "2                               [x1, x2, x3]   \n",
       "3                           [x1, x2, x3, x5]   \n",
       "4                      [x1, x2, x3, x7, x10]   \n",
       "5                   [x1, x2, x3, x5, x7, x9]   \n",
       "6               [x1, x2, x3, x5, x6, x7, x9]   \n",
       "7          [x1, x2, x3, x5, x7, x8, x9, x10]   \n",
       "8      [x1, x2, x3, x5, x6, x7, x8, x9, x10]   \n",
       "9  [x1, x2, x3, x4, x5, x6, x7, x8, x9, x10]   \n",
       "\n",
       "                                               model  \n",
       "0  <statsmodels.regression.linear_model.Regressio...  \n",
       "1  <statsmodels.regression.linear_model.Regressio...  \n",
       "2  <statsmodels.regression.linear_model.Regressio...  \n",
       "3  <statsmodels.regression.linear_model.Regressio...  \n",
       "4  <statsmodels.regression.linear_model.Regressio...  \n",
       "5  <statsmodels.regression.linear_model.Regressio...  \n",
       "6  <statsmodels.regression.linear_model.Regressio...  \n",
       "7  <statsmodels.regression.linear_model.Regressio...  \n",
       "8  <statsmodels.regression.linear_model.Regressio...  \n",
       "9  <statsmodels.regression.linear_model.Regressio...  "
      ]
     },
     "execution_count": 93,
     "metadata": {},
     "output_type": "execute_result"
    }
   ],
   "source": [
    "# best subset selection results\n",
    "bestsub_results"
   ]
  },
  {
   "cell_type": "code",
   "execution_count": 94,
   "id": "0e1d31b2",
   "metadata": {
    "ExecuteTime": {
     "end_time": "2025-07-07T21:12:51.744747Z",
     "start_time": "2025-07-07T21:12:51.726114Z"
    }
   },
   "outputs": [],
   "source": [
    "aic = [bestsub_results.model[i].aic for i in range(0, len(bestsub_results.model))]\n",
    "bic = [bestsub_results.model[i].bic for i in range(0, len(bestsub_results.model))]\n",
    "r2_adj = [bestsub_results.model[i].rsquared_adj for i in range(0, len(bestsub_results.model))]\n",
    "rss = [bestsub_results.model[i].ssr for i in range(0, len(bestsub_results.model))]"
   ]
  },
  {
   "cell_type": "code",
   "execution_count": 95,
   "id": "da690c57",
   "metadata": {
    "ExecuteTime": {
     "end_time": "2025-07-07T21:12:54.397461Z",
     "start_time": "2025-07-07T21:12:51.866572Z"
    },
    "scrolled": false
   },
   "outputs": [
    {
     "data": {
      "text/plain": [
       "[<matplotlib.axis.XTick at 0x129f88e8710>,\n",
       " <matplotlib.axis.XTick at 0x129f609a630>,\n",
       " <matplotlib.axis.XTick at 0x129f46a5400>,\n",
       " <matplotlib.axis.XTick at 0x129f46a5370>,\n",
       " <matplotlib.axis.XTick at 0x129f46a6780>,\n",
       " <matplotlib.axis.XTick at 0x129f46a6f90>,\n",
       " <matplotlib.axis.XTick at 0x129f47086e0>,\n",
       " <matplotlib.axis.XTick at 0x129f46a5c10>,\n",
       " <matplotlib.axis.XTick at 0x129f46a6fc0>,\n",
       " <matplotlib.axis.XTick at 0x129f46f49e0>]"
      ]
     },
     "execution_count": 95,
     "metadata": {},
     "output_type": "execute_result"
    },
    {
     "data": {
      "image/png": "[encoded data removed]",
      "text/plain": [
       "<Figure size 1000x1000 with 4 Axes>"
      ]
     },
     "metadata": {},
     "output_type": "display_data"
    }
   ],
   "source": [
    "fig, axes = plt.subplots(2, 2, sharex=False, sharey=False)\n",
    "fig.set_figheight(10)\n",
    "fig.set_figwidth(10)\n",
    "fig.supxlabel('Num of Features')\n",
    "\n",
    "axes[0, 0].plot(rss)\n",
    "axes[0, 0].set_title('RSS')\n",
    "axes[0, 0].set_xticks(np.arange(0, 10, 1))\n",
    "\n",
    "axes[0, 1].plot(r2_adj, markevery=[np.argmax(r2_adj)], marker='D')\n",
    "axes[0, 1].set_title('Adj R Squared')\n",
    "axes[0, 1].set_xticks(np.arange(0, 10, 1))\n",
    "\n",
    "axes[1, 0].plot(aic, markevery=[np.argmin(aic)], marker='D')\n",
    "axes[1, 0].set_title('AIC')\n",
    "axes[1, 0].set_xticks(np.arange(0, 10, 1))\n",
    "\n",
    "axes[1, 1].plot(bic, markevery=[np.argmin(bic)], marker='D')\n",
    "axes[1, 1].set_title('BIC')\n",
    "axes[1, 1].set_xticks(np.arange(0, 10, 1))"
   ]
  },
  {
   "cell_type": "markdown",
   "id": "9695c73a",
   "metadata": {},
   "source": [
    "#### The best model obtained:\n",
    "According to\n",
    "- BIC => 5-variable model [x1, x2, x3, x7, x10]\t\n",
    "- Adjusted R2 & AIC => 7-variable model [x1, x2, x3, x5, x6, x7, x9]"
   ]
  },
  {
   "cell_type": "code",
   "execution_count": 96,
   "id": "b660c141",
   "metadata": {
    "ExecuteTime": {
     "end_time": "2025-07-07T21:12:54.541487Z",
     "start_time": "2025-07-07T21:12:54.506693Z"
    }
   },
   "outputs": [
    {
     "data": {
      "application/vnd.microsoft.datawrangler.viewer.v0+json": {
       "columns": [
        {
         "name": "index",
         "rawType": "object",
         "type": "string"
        },
        {
         "name": "0",
         "rawType": "float64",
         "type": "float"
        }
       ],
       "ref": "900c5fa9-b717-4540-a80b-2b683eeeff0d",
       "rows": [
        [
         "const",
         "4.9473372634824075"
        ],
        [
         "x1",
         "-10.429378484161479"
        ],
        [
         "x2",
         "3.0734732930291027"
        ],
        [
         "x3",
         "14.450428943984587"
        ],
        [
         "x7",
         "-0.011510668661138118"
        ],
        [
         "x10",
         "-0.00026037293109527123"
        ]
       ],
       "shape": {
        "columns": 1,
        "rows": 6
       }
      },
      "text/plain": [
       "const     4.947337\n",
       "x1      -10.429378\n",
       "x2        3.073473\n",
       "x3       14.450429\n",
       "x7       -0.011511\n",
       "x10      -0.000260\n",
       "dtype: float64"
      ]
     },
     "execution_count": 96,
     "metadata": {},
     "output_type": "execute_result"
    }
   ],
   "source": [
    "# Coefficient estimates for best model obtained acc.to BIC\n",
    "bestsub_results.model[4].params"
   ]
  },
  {
   "cell_type": "code",
   "execution_count": 97,
   "id": "0b62170c",
   "metadata": {
    "ExecuteTime": {
     "end_time": "2025-07-07T21:12:54.751267Z",
     "start_time": "2025-07-07T21:12:54.739278Z"
    }
   },
   "outputs": [
    {
     "data": {
      "application/vnd.microsoft.datawrangler.viewer.v0+json": {
       "columns": [
        {
         "name": "index",
         "rawType": "object",
         "type": "string"
        },
        {
         "name": "0",
         "rawType": "float64",
         "type": "float"
        }
       ],
       "ref": "68fcaafa-39cf-47c3-92ed-411357c38a05",
       "rows": [
        [
         "const",
         "5.068818251886542"
        ],
        [
         "x1",
         "-9.646527977644691"
        ],
        [
         "x2",
         "2.7899097503646066"
        ],
        [
         "x3",
         "12.042326482687143"
        ],
        [
         "x5",
         "1.870728822654102"
        ],
        [
         "x6",
         "0.03373857880652248"
        ],
        [
         "x7",
         "-0.5043064921883283"
        ],
        [
         "x9",
         "0.03853137138239093"
        ]
       ],
       "shape": {
        "columns": 1,
        "rows": 8
       }
      },
      "text/plain": [
       "const     5.068818\n",
       "x1       -9.646528\n",
       "x2        2.789910\n",
       "x3       12.042326\n",
       "x5        1.870729\n",
       "x6        0.033739\n",
       "x7       -0.504306\n",
       "x9        0.038531\n",
       "dtype: float64"
      ]
     },
     "execution_count": 97,
     "metadata": {},
     "output_type": "execute_result"
    }
   ],
   "source": [
    "# Coefficient estimates for best model obtained acc.to AIC and Adjusted R2\n",
    "bestsub_results.model[6].params"
   ]
  },
  {
   "cell_type": "markdown",
   "id": "214ff03c",
   "metadata": {},
   "source": [
    "### 8.d"
   ]
  },
  {
   "cell_type": "code",
   "execution_count": 98,
   "id": "f1a32feb",
   "metadata": {
    "ExecuteTime": {
     "end_time": "2025-07-07T21:12:56.007233Z",
     "start_time": "2025-07-07T21:12:55.984899Z"
    }
   },
   "outputs": [],
   "source": [
    "def forward_stepwise(X, y, max_features):\n",
    "    models = []\n",
    "    feature_list = []\n",
    "    remaining_features = list(X.columns)\n",
    "    \n",
    "    def update_model(current_features, remaining_features):\n",
    "        best_rss = np.inf\n",
    "        best_model = None\n",
    "        \n",
    "        for new_feature in tqdm(remaining_features):\n",
    "            result = process_linear_model(feature_list + [new_feature], X, y)\n",
    "            if result[1] < best_rss:\n",
    "                best_rss = result[1]\n",
    "                best_model = result[0]\n",
    "\n",
    "        new_feature_list = list(best_model.params.index)[1:]\n",
    "        \n",
    "        return new_feature_list, best_model\n",
    "    \n",
    "    while remaining_features and len(feature_list) < max_features:\n",
    "        feature_list, best_model = update_model(feature_list, remaining_features)\n",
    "        remaining_features = [x for x in list(X.columns) if x not in feature_list]\n",
    "        models.append([feature_list, best_model])\n",
    "        \n",
    "    return models"
   ]
  },
  {
   "cell_type": "code",
   "execution_count": 99,
   "id": "959abbab",
   "metadata": {
    "ExecuteTime": {
     "end_time": "2025-07-07T21:12:56.872993Z",
     "start_time": "2025-07-07T21:12:56.464917Z"
    }
   },
   "outputs": [
    {
     "name": "stderr",
     "output_type": "stream",
     "text": [
      "100%|██████████| 10/10 [00:00<00:00, 2027.12it/s]\n",
      "100%|██████████| 9/9 [00:00<00:00, 345.79it/s]\n",
      "100%|██████████| 8/8 [00:00<00:00, 520.53it/s]\n",
      "100%|██████████| 7/7 [00:00<00:00, 454.90it/s]\n",
      "100%|██████████| 6/6 [00:00<?, ?it/s]\n",
      "100%|██████████| 5/5 [00:00<?, ?it/s]\n",
      "100%|██████████| 4/4 [00:00<00:00, 255.67it/s]\n",
      "100%|██████████| 3/3 [00:00<00:00, 412.23it/s]\n",
      "100%|██████████| 2/2 [00:00<00:00, 268.03it/s]\n",
      "100%|██████████| 1/1 [00:00<00:00, 663.66it/s]\n"
     ]
    }
   ],
   "source": [
    "bestsub_forward = forward_stepwise(X, y, 10)"
   ]
  },
  {
   "cell_type": "code",
   "execution_count": 100,
   "id": "7d1802e5",
   "metadata": {
    "ExecuteTime": {
     "end_time": "2025-07-07T21:12:56.996485Z",
     "start_time": "2025-07-07T21:12:56.983662Z"
    }
   },
   "outputs": [],
   "source": [
    "aic_fwd = [model[1].aic for model in bestsub_forward]\n",
    "bic_fwd = [model[1].bic for model in bestsub_forward] \n",
    "r2_adj_fwd = [model[1].rsquared_adj for model in bestsub_forward]\n",
    "rss_fwd = [model[1].ssr for model in bestsub_forward]"
   ]
  },
  {
   "cell_type": "code",
   "execution_count": 101,
   "id": "19f58701",
   "metadata": {
    "ExecuteTime": {
     "end_time": "2025-07-07T21:12:58.931243Z",
     "start_time": "2025-07-07T21:12:57.141776Z"
    }
   },
   "outputs": [
    {
     "data": {
      "image/png": "[encoded data removed]",
      "text/plain": [
       "<Figure size 1000x1000 with 4 Axes>"
      ]
     },
     "metadata": {},
     "output_type": "display_data"
    }
   ],
   "source": [
    "fig, axes = plt.subplots(2, 2, sharex=False, sharey=False)\n",
    "fig.set_figheight(10)\n",
    "fig.set_figwidth(10)\n",
    "fig.supxlabel('Num of Features')\n",
    "\n",
    "axes[0, 0].plot(rss_fwd)\n",
    "axes[0, 0].set_title('RSS')\n",
    "axes[0, 0].set_xticks(np.arange(0, 10, 1))\n",
    "\n",
    "axes[0, 1].plot(r2_adj_fwd, markevery=[np.argmax(r2_adj_fwd)], marker='D')\n",
    "axes[0, 1].set_title('Adj R Squared')\n",
    "axes[0, 1].set_xticks(np.arange(0, 10, 1))\n",
    "\n",
    "axes[1, 0].plot(aic_fwd, markevery=[np.argmin(aic_fwd)], marker='D')\n",
    "axes[1, 0].set_title('AIC')\n",
    "axes[1, 0].set_xticks(np.arange(0, 10, 1))\n",
    "\n",
    "axes[1, 1].plot(bic_fwd, markevery=[np.argmin(bic_fwd)], marker='D')\n",
    "axes[1, 1].set_title('BIC')\n",
    "axes[1, 1].set_xticks(np.arange(0, 10, 1))\n",
    "plt.show()"
   ]
  },
  {
   "cell_type": "code",
   "execution_count": 102,
   "id": "adb21838",
   "metadata": {
    "ExecuteTime": {
     "end_time": "2025-07-07T21:12:59.040824Z",
     "start_time": "2025-07-07T21:12:59.033238Z"
    }
   },
   "outputs": [
    {
     "name": "stdout",
     "output_type": "stream",
     "text": [
      "4-variable model parameter acc.t. forward stepwise:  ['x3', 'x1', 'x2', 'x5', 'x10']\n",
      "9-variable model parameter acc.t. forward stepwise:  ['x3', 'x1', 'x2', 'x5', 'x10', 'x4', 'x7', 'x9', 'x8', 'x6']\n"
     ]
    }
   ],
   "source": [
    "print('4-variable model parameter acc.t. forward stepwise: ', bestsub_forward[4][0])\n",
    "print('9-variable model parameter acc.t. forward stepwise: ', bestsub_forward[9][0])"
   ]
  },
  {
   "cell_type": "markdown",
   "id": "241412b9",
   "metadata": {},
   "source": [
    "#### The best model obtained:\n",
    "According to\n",
    "- BIC & AIC => 5-variable model ['x3', 'x1', 'x2', 'x5', 'x10']\n",
    "- Adjusted R2 => 10-variable model ['x3', 'x1', 'x2', 'x5', 'x10', 'x4', 'x7', 'x9', 'x8', 'x6']"
   ]
  },
  {
   "cell_type": "code",
   "execution_count": 103,
   "id": "3dc2953d",
   "metadata": {
    "ExecuteTime": {
     "end_time": "2025-07-07T21:12:59.214663Z",
     "start_time": "2025-07-07T21:12:59.203652Z"
    }
   },
   "outputs": [],
   "source": [
    "def backward_stepwise(X, y, min_feature):\n",
    "    models = []\n",
    "    feature_list = list(X.columns)\n",
    "    \n",
    "    def update_model(feature_list):\n",
    "        best_rss = np.inf\n",
    "        best_model = None\n",
    "        best_feature_list = []\n",
    "        \n",
    "        for feature in tqdm(feature_list):\n",
    "            new_feature_list = [x for x in feature_list if x != feature]\n",
    "            \n",
    "            result = process_linear_model(new_feature_list, X, y)\n",
    "            if result[1] < best_rss:\n",
    "                best_rss = result[1]\n",
    "                best_model = result[0]\n",
    "        \n",
    "        best_feature_list = list(best_model.params.index)[1:]\n",
    "        return best_feature_list, best_model\n",
    "    \n",
    "    while len(feature_list) >= min_feature:\n",
    "        best_feature_list, best_model = update_model(feature_list)\n",
    "        feature_list = best_feature_list\n",
    "        models.append([feature_list, best_model])\n",
    "    \n",
    "    return models"
   ]
  },
  {
   "cell_type": "code",
   "execution_count": 104,
   "id": "e2ba093d",
   "metadata": {
    "ExecuteTime": {
     "end_time": "2025-07-07T21:12:59.714183Z",
     "start_time": "2025-07-07T21:12:59.310965Z"
    }
   },
   "outputs": [
    {
     "name": "stderr",
     "output_type": "stream",
     "text": [
      "100%|██████████| 10/10 [00:00<00:00, 455.63it/s]\n",
      "100%|██████████| 9/9 [00:00<00:00, 370.61it/s]\n",
      "100%|██████████| 8/8 [00:00<00:00, 663.04it/s]\n",
      "100%|██████████| 7/7 [00:00<00:00, 630.42it/s]\n",
      "100%|██████████| 6/6 [00:00<00:00, 852.10it/s]\n",
      "100%|██████████| 5/5 [00:00<00:00, 279.40it/s]\n",
      "100%|██████████| 4/4 [00:00<00:00, 541.08it/s]\n",
      "100%|██████████| 3/3 [00:00<?, ?it/s]\n",
      "100%|██████████| 2/2 [00:00<00:00, 176.52it/s]\n",
      "100%|██████████| 1/1 [00:00<?, ?it/s]\n"
     ]
    }
   ],
   "source": [
    "bestsub_backward = backward_stepwise(X, y, 1)"
   ]
  },
  {
   "cell_type": "code",
   "execution_count": 105,
   "id": "3791e319",
   "metadata": {
    "ExecuteTime": {
     "end_time": "2025-07-07T21:12:59.789281Z",
     "start_time": "2025-07-07T21:12:59.781772Z"
    }
   },
   "outputs": [],
   "source": [
    "aic_back = [model[1].aic for model in bestsub_backward]\n",
    "bic_back = [model[1].bic for model in bestsub_backward] \n",
    "r2_adj_back = [model[1].rsquared_adj for model in bestsub_backward]\n",
    "rss_back = [model[1].ssr for model in bestsub_backward]"
   ]
  },
  {
   "cell_type": "markdown",
   "id": "75bce53c",
   "metadata": {},
   "source": [
    "#### The best model obtained:\n",
    "According to\n",
    "- BIC & AIC => 5-variable model ['x3', 'x1', 'x2', 'x5', 'x10']\n",
    "- Adjusted R2 => 10-variable model ['x3', 'x1', 'x2', 'x5', 'x10', 'x4', 'x7', 'x9', 'x8', 'x6']"
   ]
  },
  {
   "cell_type": "code",
   "execution_count": 106,
   "id": "7ba62cae",
   "metadata": {
    "ExecuteTime": {
     "end_time": "2025-07-07T21:13:01.737292Z",
     "start_time": "2025-07-07T21:12:59.893372Z"
    }
   },
   "outputs": [
    {
     "data": {
      "image/png": "[encoded data removed]",
      "text/plain": [
       "<Figure size 1000x1000 with 4 Axes>"
      ]
     },
     "metadata": {},
     "output_type": "display_data"
    }
   ],
   "source": [
    "fig, axes = plt.subplots(2, 2, sharex=False, sharey=False)\n",
    "fig.set_figheight(10)\n",
    "fig.set_figwidth(10)\n",
    "fig.supxlabel('Num of Features Removed')\n",
    "\n",
    "axes[0, 0].plot(rss_back)\n",
    "axes[0, 0].set_title('RSS')\n",
    "axes[0, 0].set_xticks(np.arange(0, 10, 1))\n",
    "\n",
    "axes[0, 1].plot(r2_adj_back, markevery=[np.argmax(r2_adj_back)], marker='D')\n",
    "axes[0, 1].set_title('Adj R Squared')\n",
    "axes[0, 1].set_xticks(np.arange(0, 10, 1))\n",
    "\n",
    "axes[1, 0].plot(aic_back, markevery=[np.argmin(aic_back)], marker='D')\n",
    "axes[1, 0].set_title('AIC')\n",
    "axes[1, 0].set_xticks(np.arange(0, 10, 1))\n",
    "\n",
    "axes[1, 1].plot(bic_back, markevery=[np.argmin(bic_back)], marker='D')\n",
    "axes[1, 1].set_title('BIC')\n",
    "axes[1, 1].set_xticks(np.arange(0, 10, 1))\n",
    "plt.show()"
   ]
  },
  {
   "cell_type": "code",
   "execution_count": 107,
   "id": "0821a5dd",
   "metadata": {
    "ExecuteTime": {
     "end_time": "2025-07-07T21:13:01.844360Z",
     "start_time": "2025-07-07T21:13:01.835584Z"
    }
   },
   "outputs": [
    {
     "name": "stdout",
     "output_type": "stream",
     "text": [
      "8-variable model parameter acc.t. backward stepwise:  ['x1', 'x2', 'x3', 'x5', 'x7', 'x8', 'x9', 'x10']\n",
      "7-variable model parameter acc.t. backward stepwise:  ['x1', 'x2', 'x3', 'x5', 'x7', 'x8', 'x9']\n",
      "5-variable model parameter acc.t. backward stepwise:  ['x1', 'x2', 'x3', 'x7', 'x9']\n"
     ]
    }
   ],
   "source": [
    "print('8-variable model parameter acc.t. backward stepwise: ', bestsub_backward[1][0])\n",
    "print('7-variable model parameter acc.t. backward stepwise: ', bestsub_backward[2][0])\n",
    "print('5-variable model parameter acc.t. backward stepwise: ', bestsub_backward[4][0])"
   ]
  },
  {
   "cell_type": "markdown",
   "id": "27df9f1b",
   "metadata": {},
   "source": [
    "#### The best model obtained:\n",
    "According to\n",
    "- BIC => 5-variable model ['x1', 'x2', 'x3', 'x7', 'x9']\n",
    "- Adjusted R2 => 8-variable model ['x1', 'x2', 'x3', 'x5', 'x7', 'x8', 'x9', 'x10']\n",
    "- AIC => 7-variable model ['x1', 'x2', 'x3', 'x5', 'x7', 'x8', 'x9']"
   ]
  },
  {
   "cell_type": "markdown",
   "id": "b8d5c7dd",
   "metadata": {},
   "source": [
    "#### As shown above, we can say that subset selection results may differ depending on the algorithm used"
   ]
  },
  {
   "cell_type": "markdown",
   "id": "c76dadc8",
   "metadata": {},
   "source": [
    "### 8.e"
   ]
  },
  {
   "cell_type": "code",
   "execution_count": 108,
   "id": "984e50ec",
   "metadata": {
    "ExecuteTime": {
     "end_time": "2025-07-07T21:13:02.425188Z",
     "start_time": "2025-07-07T21:13:02.013988Z"
    }
   },
   "outputs": [
    {
     "data": {
      "text/html": [
       "<style>#sk-container-id-3 {\n",
       "  /* Definition of color scheme common for light and dark mode */\n",
       "  --sklearn-color-text: #000;\n",
       "  --sklearn-color-text-muted: #666;\n",
       "  --sklearn-color-line: gray;\n",
       "  /* Definition of color scheme for unfitted estimators */\n",
       "  --sklearn-color-unfitted-level-0: #fff5e6;\n",
       "  --sklearn-color-unfitted-level-1: #f6e4d2;\n",
       "  --sklearn-color-unfitted-level-2: #ffe0b3;\n",
       "  --sklearn-color-unfitted-level-3: chocolate;\n",
       "  /* Definition of color scheme for fitted estimators */\n",
       "  --sklearn-color-fitted-level-0: #f0f8ff;\n",
       "  --sklearn-color-fitted-level-1: #d4ebff;\n",
       "  --sklearn-color-fitted-level-2: #b3dbfd;\n",
       "  --sklearn-color-fitted-level-3: cornflowerblue;\n",
       "\n",
       "  /* Specific color for light theme */\n",
       "  --sklearn-color-text-on-default-background: var(--sg-text-color, var(--theme-code-foreground, var(--jp-content-font-color1, black)));\n",
       "  --sklearn-color-background: var(--sg-background-color, var(--theme-background, var(--jp-layout-color0, white)));\n",
       "  --sklearn-color-border-box: var(--sg-text-color, var(--theme-code-foreground, var(--jp-content-font-color1, black)));\n",
       "  --sklearn-color-icon: #696969;\n",
       "\n",
       "  @media (prefers-color-scheme: dark) {\n",
       "    /* Redefinition of color scheme for dark theme */\n",
       "    --sklearn-color-text-on-default-background: var(--sg-text-color, var(--theme-code-foreground, var(--jp-content-font-color1, white)));\n",
       "    --sklearn-color-background: var(--sg-background-color, var(--theme-background, var(--jp-layout-color0, #111)));\n",
       "    --sklearn-color-border-box: var(--sg-text-color, var(--theme-code-foreground, var(--jp-content-font-color1, white)));\n",
       "    --sklearn-color-icon: #878787;\n",
       "  }\n",
       "}\n",
       "\n",
       "#sk-container-id-3 {\n",
       "  color: var(--sklearn-color-text);\n",
       "}\n",
       "\n",
       "#sk-container-id-3 pre {\n",
       "  padding: 0;\n",
       "}\n",
       "\n",
       "#sk-container-id-3 input.sk-hidden--visually {\n",
       "  border: 0;\n",
       "  clip: rect(1px 1px 1px 1px);\n",
       "  clip: rect(1px, 1px, 1px, 1px);\n",
       "  height: 1px;\n",
       "  margin: -1px;\n",
       "  overflow: hidden;\n",
       "  padding: 0;\n",
       "  position: absolute;\n",
       "  width: 1px;\n",
       "}\n",
       "\n",
       "#sk-container-id-3 div.sk-dashed-wrapped {\n",
       "  border: 1px dashed var(--sklearn-color-line);\n",
       "  margin: 0 0.4em 0.5em 0.4em;\n",
       "  box-sizing: border-box;\n",
       "  padding-bottom: 0.4em;\n",
       "  background-color: var(--sklearn-color-background);\n",
       "}\n",
       "\n",
       "#sk-container-id-3 div.sk-container {\n",
       "  /* jupyter's `normalize.less` sets `[hidden] { display: none; }`\n",
       "     but bootstrap.min.css set `[hidden] { display: none !important; }`\n",
       "     so we also need the `!important` here to be able to override the\n",
       "     default hidden behavior on the sphinx rendered scikit-learn.org.\n",
       "     See: https://github.com/scikit-learn/scikit-learn/issues/21755 */\n",
       "  display: inline-block !important;\n",
       "  position: relative;\n",
       "}\n",
       "\n",
       "#sk-container-id-3 div.sk-text-repr-fallback {\n",
       "  display: none;\n",
       "}\n",
       "\n",
       "div.sk-parallel-item,\n",
       "div.sk-serial,\n",
       "div.sk-item {\n",
       "  /* draw centered vertical line to link estimators */\n",
       "  background-image: linear-gradient(var(--sklearn-color-text-on-default-background), var(--sklearn-color-text-on-default-background));\n",
       "  background-size: 2px 100%;\n",
       "  background-repeat: no-repeat;\n",
       "  background-position: center center;\n",
       "}\n",
       "\n",
       "/* Parallel-specific style estimator block */\n",
       "\n",
       "#sk-container-id-3 div.sk-parallel-item::after {\n",
       "  content: \"\";\n",
       "  width: 100%;\n",
       "  border-bottom: 2px solid var(--sklearn-color-text-on-default-background);\n",
       "  flex-grow: 1;\n",
       "}\n",
       "\n",
       "#sk-container-id-3 div.sk-parallel {\n",
       "  display: flex;\n",
       "  align-items: stretch;\n",
       "  justify-content: center;\n",
       "  background-color: var(--sklearn-color-background);\n",
       "  position: relative;\n",
       "}\n",
       "\n",
       "#sk-container-id-3 div.sk-parallel-item {\n",
       "  display: flex;\n",
       "  flex-direction: column;\n",
       "}\n",
       "\n",
       "#sk-container-id-3 div.sk-parallel-item:first-child::after {\n",
       "  align-self: flex-end;\n",
       "  width: 50%;\n",
       "}\n",
       "\n",
       "#sk-container-id-3 div.sk-parallel-item:last-child::after {\n",
       "  align-self: flex-start;\n",
       "  width: 50%;\n",
       "}\n",
       "\n",
       "#sk-container-id-3 div.sk-parallel-item:only-child::after {\n",
       "  width: 0;\n",
       "}\n",
       "\n",
       "/* Serial-specific style estimator block */\n",
       "\n",
       "#sk-container-id-3 div.sk-serial {\n",
       "  display: flex;\n",
       "  flex-direction: column;\n",
       "  align-items: center;\n",
       "  background-color: var(--sklearn-color-background);\n",
       "  padding-right: 1em;\n",
       "  padding-left: 1em;\n",
       "}\n",
       "\n",
       "\n",
       "/* Toggleable style: style used for estimator/Pipeline/ColumnTransformer box that is\n",
       "clickable and can be expanded/collapsed.\n",
       "- Pipeline and ColumnTransformer use this feature and define the default style\n",
       "- Estimators will overwrite some part of the style using the `sk-estimator` class\n",
       "*/\n",
       "\n",
       "/* Pipeline and ColumnTransformer style (default) */\n",
       "\n",
       "#sk-container-id-3 div.sk-toggleable {\n",
       "  /* Default theme specific background. It is overwritten whether we have a\n",
       "  specific estimator or a Pipeline/ColumnTransformer */\n",
       "  background-color: var(--sklearn-color-background);\n",
       "}\n",
       "\n",
       "/* Toggleable label */\n",
       "#sk-container-id-3 label.sk-toggleable__label {\n",
       "  cursor: pointer;\n",
       "  display: flex;\n",
       "  width: 100%;\n",
       "  margin-bottom: 0;\n",
       "  padding: 0.5em;\n",
       "  box-sizing: border-box;\n",
       "  text-align: center;\n",
       "  align-items: start;\n",
       "  justify-content: space-between;\n",
       "  gap: 0.5em;\n",
       "}\n",
       "\n",
       "#sk-container-id-3 label.sk-toggleable__label .caption {\n",
       "  font-size: 0.6rem;\n",
       "  font-weight: lighter;\n",
       "  color: var(--sklearn-color-text-muted);\n",
       "}\n",
       "\n",
       "#sk-container-id-3 label.sk-toggleable__label-arrow:before {\n",
       "  /* Arrow on the left of the label */\n",
       "  content: \"▸\";\n",
       "  float: left;\n",
       "  margin-right: 0.25em;\n",
       "  color: var(--sklearn-color-icon);\n",
       "}\n",
       "\n",
       "#sk-container-id-3 label.sk-toggleable__label-arrow:hover:before {\n",
       "  color: var(--sklearn-color-text);\n",
       "}\n",
       "\n",
       "/* Toggleable content - dropdown */\n",
       "\n",
       "#sk-container-id-3 div.sk-toggleable__content {\n",
       "  max-height: 0;\n",
       "  max-width: 0;\n",
       "  overflow: hidden;\n",
       "  text-align: left;\n",
       "  /* unfitted */\n",
       "  background-color: var(--sklearn-color-unfitted-level-0);\n",
       "}\n",
       "\n",
       "#sk-container-id-3 div.sk-toggleable__content.fitted {\n",
       "  /* fitted */\n",
       "  background-color: var(--sklearn-color-fitted-level-0);\n",
       "}\n",
       "\n",
       "#sk-container-id-3 div.sk-toggleable__content pre {\n",
       "  margin: 0.2em;\n",
       "  border-radius: 0.25em;\n",
       "  color: var(--sklearn-color-text);\n",
       "  /* unfitted */\n",
       "  background-color: var(--sklearn-color-unfitted-level-0);\n",
       "}\n",
       "\n",
       "#sk-container-id-3 div.sk-toggleable__content.fitted pre {\n",
       "  /* unfitted */\n",
       "  background-color: var(--sklearn-color-fitted-level-0);\n",
       "}\n",
       "\n",
       "#sk-container-id-3 input.sk-toggleable__control:checked~div.sk-toggleable__content {\n",
       "  /* Expand drop-down */\n",
       "  max-height: 200px;\n",
       "  max-width: 100%;\n",
       "  overflow: auto;\n",
       "}\n",
       "\n",
       "#sk-container-id-3 input.sk-toggleable__control:checked~label.sk-toggleable__label-arrow:before {\n",
       "  content: \"▾\";\n",
       "}\n",
       "\n",
       "/* Pipeline/ColumnTransformer-specific style */\n",
       "\n",
       "#sk-container-id-3 div.sk-label input.sk-toggleable__control:checked~label.sk-toggleable__label {\n",
       "  color: var(--sklearn-color-text);\n",
       "  background-color: var(--sklearn-color-unfitted-level-2);\n",
       "}\n",
       "\n",
       "#sk-container-id-3 div.sk-label.fitted input.sk-toggleable__control:checked~label.sk-toggleable__label {\n",
       "  background-color: var(--sklearn-color-fitted-level-2);\n",
       "}\n",
       "\n",
       "/* Estimator-specific style */\n",
       "\n",
       "/* Colorize estimator box */\n",
       "#sk-container-id-3 div.sk-estimator input.sk-toggleable__control:checked~label.sk-toggleable__label {\n",
       "  /* unfitted */\n",
       "  background-color: var(--sklearn-color-unfitted-level-2);\n",
       "}\n",
       "\n",
       "#sk-container-id-3 div.sk-estimator.fitted input.sk-toggleable__control:checked~label.sk-toggleable__label {\n",
       "  /* fitted */\n",
       "  background-color: var(--sklearn-color-fitted-level-2);\n",
       "}\n",
       "\n",
       "#sk-container-id-3 div.sk-label label.sk-toggleable__label,\n",
       "#sk-container-id-3 div.sk-label label {\n",
       "  /* The background is the default theme color */\n",
       "  color: var(--sklearn-color-text-on-default-background);\n",
       "}\n",
       "\n",
       "/* On hover, darken the color of the background */\n",
       "#sk-container-id-3 div.sk-label:hover label.sk-toggleable__label {\n",
       "  color: var(--sklearn-color-text);\n",
       "  background-color: var(--sklearn-color-unfitted-level-2);\n",
       "}\n",
       "\n",
       "/* Label box, darken color on hover, fitted */\n",
       "#sk-container-id-3 div.sk-label.fitted:hover label.sk-toggleable__label.fitted {\n",
       "  color: var(--sklearn-color-text);\n",
       "  background-color: var(--sklearn-color-fitted-level-2);\n",
       "}\n",
       "\n",
       "/* Estimator label */\n",
       "\n",
       "#sk-container-id-3 div.sk-label label {\n",
       "  font-family: monospace;\n",
       "  font-weight: bold;\n",
       "  display: inline-block;\n",
       "  line-height: 1.2em;\n",
       "}\n",
       "\n",
       "#sk-container-id-3 div.sk-label-container {\n",
       "  text-align: center;\n",
       "}\n",
       "\n",
       "/* Estimator-specific */\n",
       "#sk-container-id-3 div.sk-estimator {\n",
       "  font-family: monospace;\n",
       "  border: 1px dotted var(--sklearn-color-border-box);\n",
       "  border-radius: 0.25em;\n",
       "  box-sizing: border-box;\n",
       "  margin-bottom: 0.5em;\n",
       "  /* unfitted */\n",
       "  background-color: var(--sklearn-color-unfitted-level-0);\n",
       "}\n",
       "\n",
       "#sk-container-id-3 div.sk-estimator.fitted {\n",
       "  /* fitted */\n",
       "  background-color: var(--sklearn-color-fitted-level-0);\n",
       "}\n",
       "\n",
       "/* on hover */\n",
       "#sk-container-id-3 div.sk-estimator:hover {\n",
       "  /* unfitted */\n",
       "  background-color: var(--sklearn-color-unfitted-level-2);\n",
       "}\n",
       "\n",
       "#sk-container-id-3 div.sk-estimator.fitted:hover {\n",
       "  /* fitted */\n",
       "  background-color: var(--sklearn-color-fitted-level-2);\n",
       "}\n",
       "\n",
       "/* Specification for estimator info (e.g. \"i\" and \"?\") */\n",
       "\n",
       "/* Common style for \"i\" and \"?\" */\n",
       "\n",
       ".sk-estimator-doc-link,\n",
       "a:link.sk-estimator-doc-link,\n",
       "a:visited.sk-estimator-doc-link {\n",
       "  float: right;\n",
       "  font-size: smaller;\n",
       "  line-height: 1em;\n",
       "  font-family: monospace;\n",
       "  background-color: var(--sklearn-color-background);\n",
       "  border-radius: 1em;\n",
       "  height: 1em;\n",
       "  width: 1em;\n",
       "  text-decoration: none !important;\n",
       "  margin-left: 0.5em;\n",
       "  text-align: center;\n",
       "  /* unfitted */\n",
       "  border: var(--sklearn-color-unfitted-level-1) 1pt solid;\n",
       "  color: var(--sklearn-color-unfitted-level-1);\n",
       "}\n",
       "\n",
       ".sk-estimator-doc-link.fitted,\n",
       "a:link.sk-estimator-doc-link.fitted,\n",
       "a:visited.sk-estimator-doc-link.fitted {\n",
       "  /* fitted */\n",
       "  border: var(--sklearn-color-fitted-level-1) 1pt solid;\n",
       "  color: var(--sklearn-color-fitted-level-1);\n",
       "}\n",
       "\n",
       "/* On hover */\n",
       "div.sk-estimator:hover .sk-estimator-doc-link:hover,\n",
       ".sk-estimator-doc-link:hover,\n",
       "div.sk-label-container:hover .sk-estimator-doc-link:hover,\n",
       ".sk-estimator-doc-link:hover {\n",
       "  /* unfitted */\n",
       "  background-color: var(--sklearn-color-unfitted-level-3);\n",
       "  color: var(--sklearn-color-background);\n",
       "  text-decoration: none;\n",
       "}\n",
       "\n",
       "div.sk-estimator.fitted:hover .sk-estimator-doc-link.fitted:hover,\n",
       ".sk-estimator-doc-link.fitted:hover,\n",
       "div.sk-label-container:hover .sk-estimator-doc-link.fitted:hover,\n",
       ".sk-estimator-doc-link.fitted:hover {\n",
       "  /* fitted */\n",
       "  background-color: var(--sklearn-color-fitted-level-3);\n",
       "  color: var(--sklearn-color-background);\n",
       "  text-decoration: none;\n",
       "}\n",
       "\n",
       "/* Span, style for the box shown on hovering the info icon */\n",
       ".sk-estimator-doc-link span {\n",
       "  display: none;\n",
       "  z-index: 9999;\n",
       "  position: relative;\n",
       "  font-weight: normal;\n",
       "  right: .2ex;\n",
       "  padding: .5ex;\n",
       "  margin: .5ex;\n",
       "  width: min-content;\n",
       "  min-width: 20ex;\n",
       "  max-width: 50ex;\n",
       "  color: var(--sklearn-color-text);\n",
       "  box-shadow: 2pt 2pt 4pt #999;\n",
       "  /* unfitted */\n",
       "  background: var(--sklearn-color-unfitted-level-0);\n",
       "  border: .5pt solid var(--sklearn-color-unfitted-level-3);\n",
       "}\n",
       "\n",
       ".sk-estimator-doc-link.fitted span {\n",
       "  /* fitted */\n",
       "  background: var(--sklearn-color-fitted-level-0);\n",
       "  border: var(--sklearn-color-fitted-level-3);\n",
       "}\n",
       "\n",
       ".sk-estimator-doc-link:hover span {\n",
       "  display: block;\n",
       "}\n",
       "\n",
       "/* \"?\"-specific style due to the `<a>` HTML tag */\n",
       "\n",
       "#sk-container-id-3 a.estimator_doc_link {\n",
       "  float: right;\n",
       "  font-size: 1rem;\n",
       "  line-height: 1em;\n",
       "  font-family: monospace;\n",
       "  background-color: var(--sklearn-color-background);\n",
       "  border-radius: 1rem;\n",
       "  height: 1rem;\n",
       "  width: 1rem;\n",
       "  text-decoration: none;\n",
       "  /* unfitted */\n",
       "  color: var(--sklearn-color-unfitted-level-1);\n",
       "  border: var(--sklearn-color-unfitted-level-1) 1pt solid;\n",
       "}\n",
       "\n",
       "#sk-container-id-3 a.estimator_doc_link.fitted {\n",
       "  /* fitted */\n",
       "  border: var(--sklearn-color-fitted-level-1) 1pt solid;\n",
       "  color: var(--sklearn-color-fitted-level-1);\n",
       "}\n",
       "\n",
       "/* On hover */\n",
       "#sk-container-id-3 a.estimator_doc_link:hover {\n",
       "  /* unfitted */\n",
       "  background-color: var(--sklearn-color-unfitted-level-3);\n",
       "  color: var(--sklearn-color-background);\n",
       "  text-decoration: none;\n",
       "}\n",
       "\n",
       "#sk-container-id-3 a.estimator_doc_link.fitted:hover {\n",
       "  /* fitted */\n",
       "  background-color: var(--sklearn-color-fitted-level-3);\n",
       "}\n",
       "</style><div id=\"sk-container-id-3\" class=\"sk-top-container\"><div class=\"sk-text-repr-fallback\"><pre>LassoCV(alphas=array([0.0001    , 0.00010723, 0.00011498, 0.00012328, 0.00013219,\n",
       "       0.00014175, 0.00015199, 0.00016298, 0.00017475, 0.00018738,\n",
       "       0.00020092, 0.00021544, 0.00023101, 0.00024771, 0.00026561,\n",
       "       0.0002848 , 0.00030539, 0.00032745, 0.00035112, 0.00037649,\n",
       "       0.0004037 , 0.00043288, 0.00046416, 0.0004977 , 0.00053367,\n",
       "       0.00057224, 0.00061359, 0.00065793, 0.00070548, 0.00075646,\n",
       "       0.000...\n",
       "       0.00932603, 0.01      , 0.01072267, 0.01149757, 0.01232847,\n",
       "       0.01321941, 0.01417474, 0.01519911, 0.01629751, 0.01747528,\n",
       "       0.01873817, 0.02009233, 0.02154435, 0.0231013 , 0.02477076,\n",
       "       0.02656088, 0.02848036, 0.03053856, 0.03274549, 0.03511192,\n",
       "       0.03764936, 0.04037017, 0.04328761, 0.04641589, 0.04977024,\n",
       "       0.05336699, 0.05722368, 0.06135907, 0.06579332, 0.07054802,\n",
       "       0.07564633, 0.08111308, 0.0869749 , 0.09326033, 0.1       ]),\n",
       "        cv=5, max_iter=100000)</pre><b>In a Jupyter environment, please rerun this cell to show the HTML representation or trust the notebook. <br />On GitHub, the HTML representation is unable to render, please try loading this page with nbviewer.org.</b></div><div class=\"sk-container\" hidden><div class=\"sk-item\"><div class=\"sk-estimator fitted sk-toggleable\"><input class=\"sk-toggleable__control sk-hidden--visually\" id=\"sk-estimator-id-3\" type=\"checkbox\" checked><label for=\"sk-estimator-id-3\" class=\"sk-toggleable__label fitted sk-toggleable__label-arrow\"><div><div>LassoCV</div></div><div><a class=\"sk-estimator-doc-link fitted\" rel=\"noreferrer\" target=\"_blank\" href=\"https://scikit-learn.org/1.6/modules/generated/sklearn.linear_model.LassoCV.html\">?<span>Documentation for LassoCV</span></a><span class=\"sk-estimator-doc-link fitted\">i<span>Fitted</span></span></div></label><div class=\"sk-toggleable__content fitted\"><pre>LassoCV(alphas=array([0.0001    , 0.00010723, 0.00011498, 0.00012328, 0.00013219,\n",
       "       0.00014175, 0.00015199, 0.00016298, 0.00017475, 0.00018738,\n",
       "       0.00020092, 0.00021544, 0.00023101, 0.00024771, 0.00026561,\n",
       "       0.0002848 , 0.00030539, 0.00032745, 0.00035112, 0.00037649,\n",
       "       0.0004037 , 0.00043288, 0.00046416, 0.0004977 , 0.00053367,\n",
       "       0.00057224, 0.00061359, 0.00065793, 0.00070548, 0.00075646,\n",
       "       0.000...\n",
       "       0.00932603, 0.01      , 0.01072267, 0.01149757, 0.01232847,\n",
       "       0.01321941, 0.01417474, 0.01519911, 0.01629751, 0.01747528,\n",
       "       0.01873817, 0.02009233, 0.02154435, 0.0231013 , 0.02477076,\n",
       "       0.02656088, 0.02848036, 0.03053856, 0.03274549, 0.03511192,\n",
       "       0.03764936, 0.04037017, 0.04328761, 0.04641589, 0.04977024,\n",
       "       0.05336699, 0.05722368, 0.06135907, 0.06579332, 0.07054802,\n",
       "       0.07564633, 0.08111308, 0.0869749 , 0.09326033, 0.1       ]),\n",
       "        cv=5, max_iter=100000)</pre></div> </div></div></div></div>"
      ],
      "text/plain": [
       "LassoCV(alphas=array([0.0001    , 0.00010723, 0.00011498, 0.00012328, 0.00013219,\n",
       "       0.00014175, 0.00015199, 0.00016298, 0.00017475, 0.00018738,\n",
       "       0.00020092, 0.00021544, 0.00023101, 0.00024771, 0.00026561,\n",
       "       0.0002848 , 0.00030539, 0.00032745, 0.00035112, 0.00037649,\n",
       "       0.0004037 , 0.00043288, 0.00046416, 0.0004977 , 0.00053367,\n",
       "       0.00057224, 0.00061359, 0.00065793, 0.00070548, 0.00075646,\n",
       "       0.000...\n",
       "       0.00932603, 0.01      , 0.01072267, 0.01149757, 0.01232847,\n",
       "       0.01321941, 0.01417474, 0.01519911, 0.01629751, 0.01747528,\n",
       "       0.01873817, 0.02009233, 0.02154435, 0.0231013 , 0.02477076,\n",
       "       0.02656088, 0.02848036, 0.03053856, 0.03274549, 0.03511192,\n",
       "       0.03764936, 0.04037017, 0.04328761, 0.04641589, 0.04977024,\n",
       "       0.05336699, 0.05722368, 0.06135907, 0.06579332, 0.07054802,\n",
       "       0.07564633, 0.08111308, 0.0869749 , 0.09326033, 0.1       ]),\n",
       "        cv=5, max_iter=100000)"
      ]
     },
     "execution_count": 108,
     "metadata": {},
     "output_type": "execute_result"
    }
   ],
   "source": [
    "alphas = np.logspace(-4, -1, 100)\n",
    "lassocv = LassoCV(alphas=alphas, cv=5, max_iter=100000)\n",
    "\n",
    "lassocv.fit(scale(X), y)"
   ]
  },
  {
   "cell_type": "code",
   "execution_count": 109,
   "id": "f99525b6",
   "metadata": {
    "ExecuteTime": {
     "end_time": "2025-07-07T21:13:02.977729Z",
     "start_time": "2025-07-07T21:13:02.962071Z"
    }
   },
   "outputs": [
    {
     "data": {
      "text/plain": [
       "0.061359072734131756"
      ]
     },
     "execution_count": 109,
     "metadata": {},
     "output_type": "execute_result"
    }
   ],
   "source": [
    "# optimal value of alpha\n",
    "lassocv.alpha_"
   ]
  },
  {
   "cell_type": "code",
   "execution_count": 110,
   "id": "2805a4e6",
   "metadata": {
    "ExecuteTime": {
     "end_time": "2025-07-07T21:13:11.594540Z",
     "start_time": "2025-07-07T21:13:03.394825Z"
    }
   },
   "outputs": [
    {
     "data": {
      "image/png": "[encoded data removed]",
      "text/plain": [
       "<Figure size 1000x500 with 1 Axes>"
      ]
     },
     "metadata": {},
     "output_type": "display_data"
    }
   ],
   "source": [
    "mses = np.mean(lassocv.mse_path_, axis=1)\n",
    "\n",
    "# Plot CV error vs alpha\n",
    "fig, ax = plt.subplots(figsize=(10,5));\n",
    "ax.plot(lassocv.alphas_,mses, color='b');\n",
    "ax.plot(lassocv.alpha_, np.min(mses), marker='o', color='r', markersize=8);\n",
    "ax.set_xlabel('alpha log-scale');\n",
    "ax.set_xscale('log')\n",
    "ax.set_ylabel('CV 5-Fold');"
   ]
  },
  {
   "cell_type": "code",
   "execution_count": 111,
   "id": "d3aab344",
   "metadata": {
    "ExecuteTime": {
     "end_time": "2025-07-07T21:13:11.631700Z",
     "start_time": "2025-07-07T21:13:11.620971Z"
    }
   },
   "outputs": [
    {
     "data": {
      "application/vnd.microsoft.datawrangler.viewer.v0+json": {
       "columns": [
        {
         "name": "index",
         "rawType": "object",
         "type": "string"
        },
        {
         "name": "0",
         "rawType": "float64",
         "type": "float"
        }
       ],
       "ref": "d5f1f226-b870-41d5-af53-5aa4479bcdb0",
       "rows": [
        [
         "x1",
         "-8.818816493132031"
        ],
        [
         "x2",
         "3.8785246840267655"
        ],
        [
         "x3",
         "48.509025740796964"
        ],
        [
         "x4",
         "0.0"
        ],
        [
         "x5",
         "0.0"
        ],
        [
         "x6",
         "-0.0"
        ],
        [
         "x7",
         "0.0"
        ],
        [
         "x8",
         "-0.0"
        ],
        [
         "x9",
         "0.0"
        ],
        [
         "x10",
         "-0.0"
        ]
       ],
       "shape": {
        "columns": 1,
        "rows": 10
       }
      },
      "text/plain": [
       "x1     -8.818816\n",
       "x2      3.878525\n",
       "x3     48.509026\n",
       "x4      0.000000\n",
       "x5      0.000000\n",
       "x6     -0.000000\n",
       "x7      0.000000\n",
       "x8     -0.000000\n",
       "x9      0.000000\n",
       "x10    -0.000000\n",
       "dtype: float64"
      ]
     },
     "execution_count": 111,
     "metadata": {},
     "output_type": "execute_result"
    }
   ],
   "source": [
    "pd.Series(lassocv.coef_.flatten(), index=X.columns)"
   ]
  },
  {
   "cell_type": "markdown",
   "id": "e832d796",
   "metadata": {},
   "source": [
    "### 8.f"
   ]
  },
  {
   "cell_type": "code",
   "execution_count": 112,
   "id": "1ec519d8",
   "metadata": {
    "ExecuteTime": {
     "end_time": "2025-07-07T21:13:11.862613Z",
     "start_time": "2025-07-07T21:13:11.843806Z"
    }
   },
   "outputs": [],
   "source": [
    "y2 = -4 + 7.25 * (x**7) + eps"
   ]
  },
  {
   "cell_type": "markdown",
   "id": "dbbc8152",
   "metadata": {},
   "source": [
    "### 8.f - Best subset selection\n"
   ]
  },
  {
   "cell_type": "code",
   "execution_count": 113,
   "id": "0ff499c6",
   "metadata": {
    "ExecuteTime": {
     "end_time": "2025-07-07T21:13:24.584033Z",
     "start_time": "2025-07-07T21:13:12.256551Z"
    }
   },
   "outputs": [
    {
     "name": "stderr",
     "output_type": "stream",
     "text": [
      "100%|██████████| 10/10 [00:01<00:00,  7.17it/s]\n"
     ]
    },
    {
     "data": {
      "application/vnd.microsoft.datawrangler.viewer.v0+json": {
       "columns": [
        {
         "name": "index",
         "rawType": "int64",
         "type": "integer"
        },
        {
         "name": "sub",
         "rawType": "object",
         "type": "unknown"
        },
        {
         "name": "model",
         "rawType": "object",
         "type": "unknown"
        }
       ],
       "ref": "7062118a-f222-4097-a611-2996fc148d40",
       "rows": [
        [
         "0",
         "['x7']",
         "<statsmodels.regression.linear_model.RegressionResultsWrapper object at 0x00000129FA2C5310>"
        ],
        [
         "1",
         "['x3', 'x7']",
         "<statsmodels.regression.linear_model.RegressionResultsWrapper object at 0x00000129F6512A20>"
        ],
        [
         "2",
         "['x5', 'x7', 'x9']",
         "<statsmodels.regression.linear_model.RegressionResultsWrapper object at 0x00000129F60BA4B0>"
        ],
        [
         "3",
         "['x3', 'x5', 'x7', 'x9']",
         "<statsmodels.regression.linear_model.RegressionResultsWrapper object at 0x00000129F5DFB560>"
        ],
        [
         "4",
         "['x3', 'x5', 'x6', 'x7', 'x9']",
         "<statsmodels.regression.linear_model.RegressionResultsWrapper object at 0x00000129F5C58950>"
        ],
        [
         "5",
         "['x2', 'x3', 'x4', 'x5', 'x7', 'x9']",
         "<statsmodels.regression.linear_model.RegressionResultsWrapper object at 0x00000129F477BD10>"
        ],
        [
         "6",
         "['x3', 'x5', 'x6', 'x7', 'x8', 'x9', 'x10']",
         "<statsmodels.regression.linear_model.RegressionResultsWrapper object at 0x00000129F9B58890>"
        ],
        [
         "7",
         "['x1', 'x3', 'x5', 'x6', 'x7', 'x8', 'x9', 'x10']",
         "<statsmodels.regression.linear_model.RegressionResultsWrapper object at 0x00000129FA323C20>"
        ],
        [
         "8",
         "['x2', 'x3', 'x4', 'x5', 'x6', 'x7', 'x8', 'x9', 'x10']",
         "<statsmodels.regression.linear_model.RegressionResultsWrapper object at 0x00000129F65479E0>"
        ],
        [
         "9",
         "['x1', 'x2', 'x3', 'x4', 'x5', 'x6', 'x7', 'x8', 'x9', 'x10']",
         "<statsmodels.regression.linear_model.RegressionResultsWrapper object at 0x00000129F9ADFFE0>"
        ]
       ],
       "shape": {
        "columns": 2,
        "rows": 10
       }
      },
      "text/html": [
       "<div>\n",
       "<style scoped>\n",
       "    .dataframe tbody tr th:only-of-type {\n",
       "        vertical-align: middle;\n",
       "    }\n",
       "\n",
       "    .dataframe tbody tr th {\n",
       "        vertical-align: top;\n",
       "    }\n",
       "\n",
       "    .dataframe thead th {\n",
       "        text-align: right;\n",
       "    }\n",
       "</style>\n",
       "<table border=\"1\" class=\"dataframe\">\n",
       "  <thead>\n",
       "    <tr style=\"text-align: right;\">\n",
       "      <th></th>\n",
       "      <th>sub</th>\n",
       "      <th>model</th>\n",
       "    </tr>\n",
       "  </thead>\n",
       "  <tbody>\n",
       "    <tr>\n",
       "      <th>0</th>\n",
       "      <td>[x7]</td>\n",
       "      <td>&lt;statsmodels.regression.linear_model.Regressio...</td>\n",
       "    </tr>\n",
       "    <tr>\n",
       "      <th>1</th>\n",
       "      <td>[x3, x7]</td>\n",
       "      <td>&lt;statsmodels.regression.linear_model.Regressio...</td>\n",
       "    </tr>\n",
       "    <tr>\n",
       "      <th>2</th>\n",
       "      <td>[x5, x7, x9]</td>\n",
       "      <td>&lt;statsmodels.regression.linear_model.Regressio...</td>\n",
       "    </tr>\n",
       "    <tr>\n",
       "      <th>3</th>\n",
       "      <td>[x3, x5, x7, x9]</td>\n",
       "      <td>&lt;statsmodels.regression.linear_model.Regressio...</td>\n",
       "    </tr>\n",
       "    <tr>\n",
       "      <th>4</th>\n",
       "      <td>[x3, x5, x6, x7, x9]</td>\n",
       "      <td>&lt;statsmodels.regression.linear_model.Regressio...</td>\n",
       "    </tr>\n",
       "    <tr>\n",
       "      <th>5</th>\n",
       "      <td>[x2, x3, x4, x5, x7, x9]</td>\n",
       "      <td>&lt;statsmodels.regression.linear_model.Regressio...</td>\n",
       "    </tr>\n",
       "    <tr>\n",
       "      <th>6</th>\n",
       "      <td>[x3, x5, x6, x7, x8, x9, x10]</td>\n",
       "      <td>&lt;statsmodels.regression.linear_model.Regressio...</td>\n",
       "    </tr>\n",
       "    <tr>\n",
       "      <th>7</th>\n",
       "      <td>[x1, x3, x5, x6, x7, x8, x9, x10]</td>\n",
       "      <td>&lt;statsmodels.regression.linear_model.Regressio...</td>\n",
       "    </tr>\n",
       "    <tr>\n",
       "      <th>8</th>\n",
       "      <td>[x2, x3, x4, x5, x6, x7, x8, x9, x10]</td>\n",
       "      <td>&lt;statsmodels.regression.linear_model.Regressio...</td>\n",
       "    </tr>\n",
       "    <tr>\n",
       "      <th>9</th>\n",
       "      <td>[x1, x2, x3, x4, x5, x6, x7, x8, x9, x10]</td>\n",
       "      <td>&lt;statsmodels.regression.linear_model.Regressio...</td>\n",
       "    </tr>\n",
       "  </tbody>\n",
       "</table>\n",
       "</div>"
      ],
      "text/plain": [
       "                                         sub  \\\n",
       "0                                       [x7]   \n",
       "1                                   [x3, x7]   \n",
       "2                               [x5, x7, x9]   \n",
       "3                           [x3, x5, x7, x9]   \n",
       "4                       [x3, x5, x6, x7, x9]   \n",
       "5                   [x2, x3, x4, x5, x7, x9]   \n",
       "6              [x3, x5, x6, x7, x8, x9, x10]   \n",
       "7          [x1, x3, x5, x6, x7, x8, x9, x10]   \n",
       "8      [x2, x3, x4, x5, x6, x7, x8, x9, x10]   \n",
       "9  [x1, x2, x3, x4, x5, x6, x7, x8, x9, x10]   \n",
       "\n",
       "                                               model  \n",
       "0  <statsmodels.regression.linear_model.Regressio...  \n",
       "1  <statsmodels.regression.linear_model.Regressio...  \n",
       "2  <statsmodels.regression.linear_model.Regressio...  \n",
       "3  <statsmodels.regression.linear_model.Regressio...  \n",
       "4  <statsmodels.regression.linear_model.Regressio...  \n",
       "5  <statsmodels.regression.linear_model.Regressio...  \n",
       "6  <statsmodels.regression.linear_model.Regressio...  \n",
       "7  <statsmodels.regression.linear_model.Regressio...  \n",
       "8  <statsmodels.regression.linear_model.Regressio...  \n",
       "9  <statsmodels.regression.linear_model.Regressio...  "
      ]
     },
     "execution_count": 113,
     "metadata": {},
     "output_type": "execute_result"
    }
   ],
   "source": [
    "bestsub2 = find_best_subset(X, y2, 10, 'poly_bestsub_2')\n",
    "bestsub2"
   ]
  },
  {
   "cell_type": "code",
   "execution_count": 114,
   "id": "c97d4355",
   "metadata": {
    "ExecuteTime": {
     "end_time": "2025-07-07T21:13:24.936652Z",
     "start_time": "2025-07-07T21:13:24.909533Z"
    }
   },
   "outputs": [],
   "source": [
    "aic2 = [bestsub2.model[i].aic for i in range(0, len(bestsub2.model))]\n",
    "bic2 = [bestsub2.model[i].bic for i in range(0, len(bestsub2.model))]\n",
    "r2_adj2 = [bestsub2.model[i].rsquared_adj for i in range(0, len(bestsub2.model))]\n",
    "rss2 = [bestsub2.model[i].ssr for i in range(0, len(bestsub2.model))]"
   ]
  },
  {
   "cell_type": "code",
   "execution_count": 115,
   "id": "3d722240",
   "metadata": {
    "ExecuteTime": {
     "end_time": "2025-07-07T21:13:27.115735Z",
     "start_time": "2025-07-07T21:13:25.183572Z"
    }
   },
   "outputs": [
    {
     "data": {
      "image/png": "[encoded data removed]",
      "text/plain": [
       "<Figure size 1000x1000 with 4 Axes>"
      ]
     },
     "metadata": {},
     "output_type": "display_data"
    }
   ],
   "source": [
    "fig, axes = plt.subplots(2, 2, sharex=False, sharey=False)\n",
    "fig.set_figheight(10)\n",
    "fig.set_figwidth(10)\n",
    "fig.supxlabel('Num of Features')\n",
    "\n",
    "fig.suptitle('Best Subset Selection Results')\n",
    "\n",
    "axes[0, 0].plot(rss2)\n",
    "axes[0, 0].set_title('RSS')\n",
    "axes[0, 0].set_xticks(np.arange(0, 10, 1))\n",
    "\n",
    "axes[0, 1].plot(r2_adj2, markevery=[np.argmax(r2_adj2)], marker='D')\n",
    "axes[0, 1].set_title('Adj R Squared')\n",
    "axes[0, 1].set_xticks(np.arange(0, 10, 1))\n",
    "\n",
    "axes[1, 0].plot(aic2, markevery=[np.argmin(aic2)], marker='D')\n",
    "axes[1, 0].set_title('AIC')\n",
    "axes[1, 0].set_xticks(np.arange(0, 10, 1))\n",
    "\n",
    "axes[1, 1].plot(bic2, markevery=[np.argmin(bic2)], marker='D')\n",
    "axes[1, 1].set_title('BIC')\n",
    "axes[1, 1].set_xticks(np.arange(0, 10, 1))\n",
    "\n",
    "plt.show()"
   ]
  },
  {
   "cell_type": "code",
   "execution_count": 116,
   "id": "502c3995",
   "metadata": {
    "ExecuteTime": {
     "end_time": "2025-07-07T21:13:28.525647Z",
     "start_time": "2025-07-07T21:13:27.198199Z"
    }
   },
   "outputs": [
    {
     "data": {
      "text/html": [
       "<style>#sk-container-id-4 {\n",
       "  /* Definition of color scheme common for light and dark mode */\n",
       "  --sklearn-color-text: #000;\n",
       "  --sklearn-color-text-muted: #666;\n",
       "  --sklearn-color-line: gray;\n",
       "  /* Definition of color scheme for unfitted estimators */\n",
       "  --sklearn-color-unfitted-level-0: #fff5e6;\n",
       "  --sklearn-color-unfitted-level-1: #f6e4d2;\n",
       "  --sklearn-color-unfitted-level-2: #ffe0b3;\n",
       "  --sklearn-color-unfitted-level-3: chocolate;\n",
       "  /* Definition of color scheme for fitted estimators */\n",
       "  --sklearn-color-fitted-level-0: #f0f8ff;\n",
       "  --sklearn-color-fitted-level-1: #d4ebff;\n",
       "  --sklearn-color-fitted-level-2: #b3dbfd;\n",
       "  --sklearn-color-fitted-level-3: cornflowerblue;\n",
       "\n",
       "  /* Specific color for light theme */\n",
       "  --sklearn-color-text-on-default-background: var(--sg-text-color, var(--theme-code-foreground, var(--jp-content-font-color1, black)));\n",
       "  --sklearn-color-background: var(--sg-background-color, var(--theme-background, var(--jp-layout-color0, white)));\n",
       "  --sklearn-color-border-box: var(--sg-text-color, var(--theme-code-foreground, var(--jp-content-font-color1, black)));\n",
       "  --sklearn-color-icon: #696969;\n",
       "\n",
       "  @media (prefers-color-scheme: dark) {\n",
       "    /* Redefinition of color scheme for dark theme */\n",
       "    --sklearn-color-text-on-default-background: var(--sg-text-color, var(--theme-code-foreground, var(--jp-content-font-color1, white)));\n",
       "    --sklearn-color-background: var(--sg-background-color, var(--theme-background, var(--jp-layout-color0, #111)));\n",
       "    --sklearn-color-border-box: var(--sg-text-color, var(--theme-code-foreground, var(--jp-content-font-color1, white)));\n",
       "    --sklearn-color-icon: #878787;\n",
       "  }\n",
       "}\n",
       "\n",
       "#sk-container-id-4 {\n",
       "  color: var(--sklearn-color-text);\n",
       "}\n",
       "\n",
       "#sk-container-id-4 pre {\n",
       "  padding: 0;\n",
       "}\n",
       "\n",
       "#sk-container-id-4 input.sk-hidden--visually {\n",
       "  border: 0;\n",
       "  clip: rect(1px 1px 1px 1px);\n",
       "  clip: rect(1px, 1px, 1px, 1px);\n",
       "  height: 1px;\n",
       "  margin: -1px;\n",
       "  overflow: hidden;\n",
       "  padding: 0;\n",
       "  position: absolute;\n",
       "  width: 1px;\n",
       "}\n",
       "\n",
       "#sk-container-id-4 div.sk-dashed-wrapped {\n",
       "  border: 1px dashed var(--sklearn-color-line);\n",
       "  margin: 0 0.4em 0.5em 0.4em;\n",
       "  box-sizing: border-box;\n",
       "  padding-bottom: 0.4em;\n",
       "  background-color: var(--sklearn-color-background);\n",
       "}\n",
       "\n",
       "#sk-container-id-4 div.sk-container {\n",
       "  /* jupyter's `normalize.less` sets `[hidden] { display: none; }`\n",
       "     but bootstrap.min.css set `[hidden] { display: none !important; }`\n",
       "     so we also need the `!important` here to be able to override the\n",
       "     default hidden behavior on the sphinx rendered scikit-learn.org.\n",
       "     See: https://github.com/scikit-learn/scikit-learn/issues/21755 */\n",
       "  display: inline-block !important;\n",
       "  position: relative;\n",
       "}\n",
       "\n",
       "#sk-container-id-4 div.sk-text-repr-fallback {\n",
       "  display: none;\n",
       "}\n",
       "\n",
       "div.sk-parallel-item,\n",
       "div.sk-serial,\n",
       "div.sk-item {\n",
       "  /* draw centered vertical line to link estimators */\n",
       "  background-image: linear-gradient(var(--sklearn-color-text-on-default-background), var(--sklearn-color-text-on-default-background));\n",
       "  background-size: 2px 100%;\n",
       "  background-repeat: no-repeat;\n",
       "  background-position: center center;\n",
       "}\n",
       "\n",
       "/* Parallel-specific style estimator block */\n",
       "\n",
       "#sk-container-id-4 div.sk-parallel-item::after {\n",
       "  content: \"\";\n",
       "  width: 100%;\n",
       "  border-bottom: 2px solid var(--sklearn-color-text-on-default-background);\n",
       "  flex-grow: 1;\n",
       "}\n",
       "\n",
       "#sk-container-id-4 div.sk-parallel {\n",
       "  display: flex;\n",
       "  align-items: stretch;\n",
       "  justify-content: center;\n",
       "  background-color: var(--sklearn-color-background);\n",
       "  position: relative;\n",
       "}\n",
       "\n",
       "#sk-container-id-4 div.sk-parallel-item {\n",
       "  display: flex;\n",
       "  flex-direction: column;\n",
       "}\n",
       "\n",
       "#sk-container-id-4 div.sk-parallel-item:first-child::after {\n",
       "  align-self: flex-end;\n",
       "  width: 50%;\n",
       "}\n",
       "\n",
       "#sk-container-id-4 div.sk-parallel-item:last-child::after {\n",
       "  align-self: flex-start;\n",
       "  width: 50%;\n",
       "}\n",
       "\n",
       "#sk-container-id-4 div.sk-parallel-item:only-child::after {\n",
       "  width: 0;\n",
       "}\n",
       "\n",
       "/* Serial-specific style estimator block */\n",
       "\n",
       "#sk-container-id-4 div.sk-serial {\n",
       "  display: flex;\n",
       "  flex-direction: column;\n",
       "  align-items: center;\n",
       "  background-color: var(--sklearn-color-background);\n",
       "  padding-right: 1em;\n",
       "  padding-left: 1em;\n",
       "}\n",
       "\n",
       "\n",
       "/* Toggleable style: style used for estimator/Pipeline/ColumnTransformer box that is\n",
       "clickable and can be expanded/collapsed.\n",
       "- Pipeline and ColumnTransformer use this feature and define the default style\n",
       "- Estimators will overwrite some part of the style using the `sk-estimator` class\n",
       "*/\n",
       "\n",
       "/* Pipeline and ColumnTransformer style (default) */\n",
       "\n",
       "#sk-container-id-4 div.sk-toggleable {\n",
       "  /* Default theme specific background. It is overwritten whether we have a\n",
       "  specific estimator or a Pipeline/ColumnTransformer */\n",
       "  background-color: var(--sklearn-color-background);\n",
       "}\n",
       "\n",
       "/* Toggleable label */\n",
       "#sk-container-id-4 label.sk-toggleable__label {\n",
       "  cursor: pointer;\n",
       "  display: flex;\n",
       "  width: 100%;\n",
       "  margin-bottom: 0;\n",
       "  padding: 0.5em;\n",
       "  box-sizing: border-box;\n",
       "  text-align: center;\n",
       "  align-items: start;\n",
       "  justify-content: space-between;\n",
       "  gap: 0.5em;\n",
       "}\n",
       "\n",
       "#sk-container-id-4 label.sk-toggleable__label .caption {\n",
       "  font-size: 0.6rem;\n",
       "  font-weight: lighter;\n",
       "  color: var(--sklearn-color-text-muted);\n",
       "}\n",
       "\n",
       "#sk-container-id-4 label.sk-toggleable__label-arrow:before {\n",
       "  /* Arrow on the left of the label */\n",
       "  content: \"▸\";\n",
       "  float: left;\n",
       "  margin-right: 0.25em;\n",
       "  color: var(--sklearn-color-icon);\n",
       "}\n",
       "\n",
       "#sk-container-id-4 label.sk-toggleable__label-arrow:hover:before {\n",
       "  color: var(--sklearn-color-text);\n",
       "}\n",
       "\n",
       "/* Toggleable content - dropdown */\n",
       "\n",
       "#sk-container-id-4 div.sk-toggleable__content {\n",
       "  max-height: 0;\n",
       "  max-width: 0;\n",
       "  overflow: hidden;\n",
       "  text-align: left;\n",
       "  /* unfitted */\n",
       "  background-color: var(--sklearn-color-unfitted-level-0);\n",
       "}\n",
       "\n",
       "#sk-container-id-4 div.sk-toggleable__content.fitted {\n",
       "  /* fitted */\n",
       "  background-color: var(--sklearn-color-fitted-level-0);\n",
       "}\n",
       "\n",
       "#sk-container-id-4 div.sk-toggleable__content pre {\n",
       "  margin: 0.2em;\n",
       "  border-radius: 0.25em;\n",
       "  color: var(--sklearn-color-text);\n",
       "  /* unfitted */\n",
       "  background-color: var(--sklearn-color-unfitted-level-0);\n",
       "}\n",
       "\n",
       "#sk-container-id-4 div.sk-toggleable__content.fitted pre {\n",
       "  /* unfitted */\n",
       "  background-color: var(--sklearn-color-fitted-level-0);\n",
       "}\n",
       "\n",
       "#sk-container-id-4 input.sk-toggleable__control:checked~div.sk-toggleable__content {\n",
       "  /* Expand drop-down */\n",
       "  max-height: 200px;\n",
       "  max-width: 100%;\n",
       "  overflow: auto;\n",
       "}\n",
       "\n",
       "#sk-container-id-4 input.sk-toggleable__control:checked~label.sk-toggleable__label-arrow:before {\n",
       "  content: \"▾\";\n",
       "}\n",
       "\n",
       "/* Pipeline/ColumnTransformer-specific style */\n",
       "\n",
       "#sk-container-id-4 div.sk-label input.sk-toggleable__control:checked~label.sk-toggleable__label {\n",
       "  color: var(--sklearn-color-text);\n",
       "  background-color: var(--sklearn-color-unfitted-level-2);\n",
       "}\n",
       "\n",
       "#sk-container-id-4 div.sk-label.fitted input.sk-toggleable__control:checked~label.sk-toggleable__label {\n",
       "  background-color: var(--sklearn-color-fitted-level-2);\n",
       "}\n",
       "\n",
       "/* Estimator-specific style */\n",
       "\n",
       "/* Colorize estimator box */\n",
       "#sk-container-id-4 div.sk-estimator input.sk-toggleable__control:checked~label.sk-toggleable__label {\n",
       "  /* unfitted */\n",
       "  background-color: var(--sklearn-color-unfitted-level-2);\n",
       "}\n",
       "\n",
       "#sk-container-id-4 div.sk-estimator.fitted input.sk-toggleable__control:checked~label.sk-toggleable__label {\n",
       "  /* fitted */\n",
       "  background-color: var(--sklearn-color-fitted-level-2);\n",
       "}\n",
       "\n",
       "#sk-container-id-4 div.sk-label label.sk-toggleable__label,\n",
       "#sk-container-id-4 div.sk-label label {\n",
       "  /* The background is the default theme color */\n",
       "  color: var(--sklearn-color-text-on-default-background);\n",
       "}\n",
       "\n",
       "/* On hover, darken the color of the background */\n",
       "#sk-container-id-4 div.sk-label:hover label.sk-toggleable__label {\n",
       "  color: var(--sklearn-color-text);\n",
       "  background-color: var(--sklearn-color-unfitted-level-2);\n",
       "}\n",
       "\n",
       "/* Label box, darken color on hover, fitted */\n",
       "#sk-container-id-4 div.sk-label.fitted:hover label.sk-toggleable__label.fitted {\n",
       "  color: var(--sklearn-color-text);\n",
       "  background-color: var(--sklearn-color-fitted-level-2);\n",
       "}\n",
       "\n",
       "/* Estimator label */\n",
       "\n",
       "#sk-container-id-4 div.sk-label label {\n",
       "  font-family: monospace;\n",
       "  font-weight: bold;\n",
       "  display: inline-block;\n",
       "  line-height: 1.2em;\n",
       "}\n",
       "\n",
       "#sk-container-id-4 div.sk-label-container {\n",
       "  text-align: center;\n",
       "}\n",
       "\n",
       "/* Estimator-specific */\n",
       "#sk-container-id-4 div.sk-estimator {\n",
       "  font-family: monospace;\n",
       "  border: 1px dotted var(--sklearn-color-border-box);\n",
       "  border-radius: 0.25em;\n",
       "  box-sizing: border-box;\n",
       "  margin-bottom: 0.5em;\n",
       "  /* unfitted */\n",
       "  background-color: var(--sklearn-color-unfitted-level-0);\n",
       "}\n",
       "\n",
       "#sk-container-id-4 div.sk-estimator.fitted {\n",
       "  /* fitted */\n",
       "  background-color: var(--sklearn-color-fitted-level-0);\n",
       "}\n",
       "\n",
       "/* on hover */\n",
       "#sk-container-id-4 div.sk-estimator:hover {\n",
       "  /* unfitted */\n",
       "  background-color: var(--sklearn-color-unfitted-level-2);\n",
       "}\n",
       "\n",
       "#sk-container-id-4 div.sk-estimator.fitted:hover {\n",
       "  /* fitted */\n",
       "  background-color: var(--sklearn-color-fitted-level-2);\n",
       "}\n",
       "\n",
       "/* Specification for estimator info (e.g. \"i\" and \"?\") */\n",
       "\n",
       "/* Common style for \"i\" and \"?\" */\n",
       "\n",
       ".sk-estimator-doc-link,\n",
       "a:link.sk-estimator-doc-link,\n",
       "a:visited.sk-estimator-doc-link {\n",
       "  float: right;\n",
       "  font-size: smaller;\n",
       "  line-height: 1em;\n",
       "  font-family: monospace;\n",
       "  background-color: var(--sklearn-color-background);\n",
       "  border-radius: 1em;\n",
       "  height: 1em;\n",
       "  width: 1em;\n",
       "  text-decoration: none !important;\n",
       "  margin-left: 0.5em;\n",
       "  text-align: center;\n",
       "  /* unfitted */\n",
       "  border: var(--sklearn-color-unfitted-level-1) 1pt solid;\n",
       "  color: var(--sklearn-color-unfitted-level-1);\n",
       "}\n",
       "\n",
       ".sk-estimator-doc-link.fitted,\n",
       "a:link.sk-estimator-doc-link.fitted,\n",
       "a:visited.sk-estimator-doc-link.fitted {\n",
       "  /* fitted */\n",
       "  border: var(--sklearn-color-fitted-level-1) 1pt solid;\n",
       "  color: var(--sklearn-color-fitted-level-1);\n",
       "}\n",
       "\n",
       "/* On hover */\n",
       "div.sk-estimator:hover .sk-estimator-doc-link:hover,\n",
       ".sk-estimator-doc-link:hover,\n",
       "div.sk-label-container:hover .sk-estimator-doc-link:hover,\n",
       ".sk-estimator-doc-link:hover {\n",
       "  /* unfitted */\n",
       "  background-color: var(--sklearn-color-unfitted-level-3);\n",
       "  color: var(--sklearn-color-background);\n",
       "  text-decoration: none;\n",
       "}\n",
       "\n",
       "div.sk-estimator.fitted:hover .sk-estimator-doc-link.fitted:hover,\n",
       ".sk-estimator-doc-link.fitted:hover,\n",
       "div.sk-label-container:hover .sk-estimator-doc-link.fitted:hover,\n",
       ".sk-estimator-doc-link.fitted:hover {\n",
       "  /* fitted */\n",
       "  background-color: var(--sklearn-color-fitted-level-3);\n",
       "  color: var(--sklearn-color-background);\n",
       "  text-decoration: none;\n",
       "}\n",
       "\n",
       "/* Span, style for the box shown on hovering the info icon */\n",
       ".sk-estimator-doc-link span {\n",
       "  display: none;\n",
       "  z-index: 9999;\n",
       "  position: relative;\n",
       "  font-weight: normal;\n",
       "  right: .2ex;\n",
       "  padding: .5ex;\n",
       "  margin: .5ex;\n",
       "  width: min-content;\n",
       "  min-width: 20ex;\n",
       "  max-width: 50ex;\n",
       "  color: var(--sklearn-color-text);\n",
       "  box-shadow: 2pt 2pt 4pt #999;\n",
       "  /* unfitted */\n",
       "  background: var(--sklearn-color-unfitted-level-0);\n",
       "  border: .5pt solid var(--sklearn-color-unfitted-level-3);\n",
       "}\n",
       "\n",
       ".sk-estimator-doc-link.fitted span {\n",
       "  /* fitted */\n",
       "  background: var(--sklearn-color-fitted-level-0);\n",
       "  border: var(--sklearn-color-fitted-level-3);\n",
       "}\n",
       "\n",
       ".sk-estimator-doc-link:hover span {\n",
       "  display: block;\n",
       "}\n",
       "\n",
       "/* \"?\"-specific style due to the `<a>` HTML tag */\n",
       "\n",
       "#sk-container-id-4 a.estimator_doc_link {\n",
       "  float: right;\n",
       "  font-size: 1rem;\n",
       "  line-height: 1em;\n",
       "  font-family: monospace;\n",
       "  background-color: var(--sklearn-color-background);\n",
       "  border-radius: 1rem;\n",
       "  height: 1rem;\n",
       "  width: 1rem;\n",
       "  text-decoration: none;\n",
       "  /* unfitted */\n",
       "  color: var(--sklearn-color-unfitted-level-1);\n",
       "  border: var(--sklearn-color-unfitted-level-1) 1pt solid;\n",
       "}\n",
       "\n",
       "#sk-container-id-4 a.estimator_doc_link.fitted {\n",
       "  /* fitted */\n",
       "  border: var(--sklearn-color-fitted-level-1) 1pt solid;\n",
       "  color: var(--sklearn-color-fitted-level-1);\n",
       "}\n",
       "\n",
       "/* On hover */\n",
       "#sk-container-id-4 a.estimator_doc_link:hover {\n",
       "  /* unfitted */\n",
       "  background-color: var(--sklearn-color-unfitted-level-3);\n",
       "  color: var(--sklearn-color-background);\n",
       "  text-decoration: none;\n",
       "}\n",
       "\n",
       "#sk-container-id-4 a.estimator_doc_link.fitted:hover {\n",
       "  /* fitted */\n",
       "  background-color: var(--sklearn-color-fitted-level-3);\n",
       "}\n",
       "</style><div id=\"sk-container-id-4\" class=\"sk-top-container\"><div class=\"sk-text-repr-fallback\"><pre>LassoCV(cv=10, max_iter=10000, n_alphas=400)</pre><b>In a Jupyter environment, please rerun this cell to show the HTML representation or trust the notebook. <br />On GitHub, the HTML representation is unable to render, please try loading this page with nbviewer.org.</b></div><div class=\"sk-container\" hidden><div class=\"sk-item\"><div class=\"sk-estimator fitted sk-toggleable\"><input class=\"sk-toggleable__control sk-hidden--visually\" id=\"sk-estimator-id-4\" type=\"checkbox\" checked><label for=\"sk-estimator-id-4\" class=\"sk-toggleable__label fitted sk-toggleable__label-arrow\"><div><div>LassoCV</div></div><div><a class=\"sk-estimator-doc-link fitted\" rel=\"noreferrer\" target=\"_blank\" href=\"https://scikit-learn.org/1.6/modules/generated/sklearn.linear_model.LassoCV.html\">?<span>Documentation for LassoCV</span></a><span class=\"sk-estimator-doc-link fitted\">i<span>Fitted</span></span></div></label><div class=\"sk-toggleable__content fitted\"><pre>LassoCV(cv=10, max_iter=10000, n_alphas=400)</pre></div> </div></div></div></div>"
      ],
      "text/plain": [
       "LassoCV(cv=10, max_iter=10000, n_alphas=400)"
      ]
     },
     "execution_count": 116,
     "metadata": {},
     "output_type": "execute_result"
    }
   ],
   "source": [
    "np.random.seed(5)\n",
    "lassocv2 = LassoCV(n_alphas=400, cv=10, max_iter=10000)\n",
    "\n",
    "lassocv2.fit(scale(X), y2.ravel())"
   ]
  },
  {
   "cell_type": "code",
   "execution_count": 117,
   "id": "a266164f",
   "metadata": {
    "ExecuteTime": {
     "end_time": "2025-07-07T21:13:28.667706Z",
     "start_time": "2025-07-07T21:13:28.613216Z"
    }
   },
   "outputs": [
    {
     "data": {
      "text/plain": [
       "1.2210192922875795"
      ]
     },
     "execution_count": 117,
     "metadata": {},
     "output_type": "execute_result"
    }
   ],
   "source": [
    "# optimal value of alpha\n",
    "lassocv2.alpha_"
   ]
  },
  {
   "cell_type": "code",
   "execution_count": 118,
   "id": "0eab42bb",
   "metadata": {
    "ExecuteTime": {
     "end_time": "2025-07-07T21:13:30.325038Z",
     "start_time": "2025-07-07T21:13:28.891646Z"
    }
   },
   "outputs": [
    {
     "data": {
      "image/png": "[encoded data removed]",
      "text/plain": [
       "<Figure size 1000x500 with 1 Axes>"
      ]
     },
     "metadata": {},
     "output_type": "display_data"
    }
   ],
   "source": [
    "mses = np.mean(lassocv2.mse_path_, axis=1)\n",
    "\n",
    "# Plot CV error vs alpha\n",
    "fig, ax = plt.subplots(figsize=(10,5));\n",
    "ax.plot(lassocv2.alphas_,mses, color='b');\n",
    "ax.plot(lassocv2.alpha_, np.min(mses), marker='o', color='r', markersize=8);\n",
    "ax.set_xlabel('alpha log-scale');\n",
    "ax.set_xscale('log')\n",
    "ax.set_ylabel('CV 5-Fold');"
   ]
  },
  {
   "cell_type": "code",
   "execution_count": 119,
   "id": "9b9d90fb",
   "metadata": {
    "ExecuteTime": {
     "end_time": "2025-07-07T21:13:30.432026Z",
     "start_time": "2025-07-07T21:13:30.419855Z"
    }
   },
   "outputs": [
    {
     "data": {
      "application/vnd.microsoft.datawrangler.viewer.v0+json": {
       "columns": [
        {
         "name": "index",
         "rawType": "object",
         "type": "string"
        },
        {
         "name": "0",
         "rawType": "float64",
         "type": "float"
        }
       ],
       "ref": "6ab0ff9d-146b-4e14-8d8f-ab3f48d2bf60",
       "rows": [
        [
         "x1",
         "-0.0"
        ],
        [
         "x2",
         "0.0"
        ],
        [
         "x3",
         "0.0"
        ],
        [
         "x4",
         "0.0"
        ],
        [
         "x5",
         "59.22295908389747"
        ],
        [
         "x6",
         "0.0"
        ],
        [
         "x7",
         "1069.2196816320636"
        ],
        [
         "x8",
         "-0.0"
        ],
        [
         "x9",
         "93.07363789128826"
        ],
        [
         "x10",
         "-0.0"
        ]
       ],
       "shape": {
        "columns": 1,
        "rows": 10
       }
      },
      "text/plain": [
       "x1       -0.000000\n",
       "x2        0.000000\n",
       "x3        0.000000\n",
       "x4        0.000000\n",
       "x5       59.222959\n",
       "x6        0.000000\n",
       "x7     1069.219682\n",
       "x8       -0.000000\n",
       "x9       93.073638\n",
       "x10      -0.000000\n",
       "dtype: float64"
      ]
     },
     "execution_count": 119,
     "metadata": {},
     "output_type": "execute_result"
    }
   ],
   "source": [
    "# Coefficient estimates of lasso model\n",
    "pd.Series(lassocv2.coef_.flatten(), index=X.columns)"
   ]
  },
  {
   "cell_type": "markdown",
   "id": "98ad3f21",
   "metadata": {},
   "source": [
    "#### As we can observe from the coefficient estimates, the lasso model includes only two noise variables (x5, x7), whereas the best-subset selection model contains more noise variables. Hence, it is evident that the lasso outperforms the best-subset selection in terms of noise reduction and feature selection."
   ]
  },
  {
   "cell_type": "markdown",
   "id": "f71760f2",
   "metadata": {},
   "source": [
    "## Question 9\n",
    "\n",
    "### 9.a"
   ]
  },
  {
   "cell_type": "code",
   "execution_count": 120,
   "id": "cd73f92a",
   "metadata": {
    "ExecuteTime": {
     "end_time": "2025-07-07T21:13:30.676743Z",
     "start_time": "2025-07-07T21:13:30.638605Z"
    }
   },
   "outputs": [
    {
     "data": {
      "application/vnd.microsoft.datawrangler.viewer.v0+json": {
       "columns": [
        {
         "name": "index",
         "rawType": "object",
         "type": "string"
        },
        {
         "name": "Private",
         "rawType": "object",
         "type": "string"
        },
        {
         "name": "Apps",
         "rawType": "int64",
         "type": "integer"
        },
        {
         "name": "Accept",
         "rawType": "int64",
         "type": "integer"
        },
        {
         "name": "Enroll",
         "rawType": "int64",
         "type": "integer"
        },
        {
         "name": "Top10perc",
         "rawType": "int64",
         "type": "integer"
        },
        {
         "name": "Top25perc",
         "rawType": "int64",
         "type": "integer"
        },
        {
         "name": "F.Undergrad",
         "rawType": "int64",
         "type": "integer"
        },
        {
         "name": "P.Undergrad",
         "rawType": "int64",
         "type": "integer"
        },
        {
         "name": "Outstate",
         "rawType": "int64",
         "type": "integer"
        },
        {
         "name": "Room.Board",
         "rawType": "int64",
         "type": "integer"
        },
        {
         "name": "Books",
         "rawType": "int64",
         "type": "integer"
        },
        {
         "name": "Personal",
         "rawType": "int64",
         "type": "integer"
        },
        {
         "name": "PhD",
         "rawType": "int64",
         "type": "integer"
        },
        {
         "name": "Terminal",
         "rawType": "int64",
         "type": "integer"
        },
        {
         "name": "S.F.Ratio",
         "rawType": "float64",
         "type": "float"
        },
        {
         "name": "perc.alumni",
         "rawType": "int64",
         "type": "integer"
        },
        {
         "name": "Expend",
         "rawType": "int64",
         "type": "integer"
        },
        {
         "name": "Grad.Rate",
         "rawType": "int64",
         "type": "integer"
        }
       ],
       "ref": "142bf47c-9194-41b4-9f71-2d19146bd724",
       "rows": [
        [
         "Abilene Christian University",
         "Yes",
         "1660",
         "1232",
         "721",
         "23",
         "52",
         "2885",
         "537",
         "7440",
         "3300",
         "450",
         "2200",
         "70",
         "78",
         "18.1",
         "12",
         "7041",
         "60"
        ],
        [
         "Adelphi University",
         "Yes",
         "2186",
         "1924",
         "512",
         "16",
         "29",
         "2683",
         "1227",
         "12280",
         "6450",
         "750",
         "1500",
         "29",
         "30",
         "12.2",
         "16",
         "10527",
         "56"
        ],
        [
         "Adrian College",
         "Yes",
         "1428",
         "1097",
         "336",
         "22",
         "50",
         "1036",
         "99",
         "11250",
         "3750",
         "400",
         "1165",
         "53",
         "66",
         "12.9",
         "30",
         "8735",
         "54"
        ],
        [
         "Agnes Scott College",
         "Yes",
         "417",
         "349",
         "137",
         "60",
         "89",
         "510",
         "63",
         "12960",
         "5450",
         "450",
         "875",
         "92",
         "97",
         "7.7",
         "37",
         "19016",
         "59"
        ],
        [
         "Alaska Pacific University",
         "Yes",
         "193",
         "146",
         "55",
         "16",
         "44",
         "249",
         "869",
         "7560",
         "4120",
         "800",
         "1500",
         "76",
         "72",
         "11.9",
         "2",
         "10922",
         "15"
        ]
       ],
       "shape": {
        "columns": 18,
        "rows": 5
       }
      },
      "text/html": [
       "<div>\n",
       "<style scoped>\n",
       "    .dataframe tbody tr th:only-of-type {\n",
       "        vertical-align: middle;\n",
       "    }\n",
       "\n",
       "    .dataframe tbody tr th {\n",
       "        vertical-align: top;\n",
       "    }\n",
       "\n",
       "    .dataframe thead th {\n",
       "        text-align: right;\n",
       "    }\n",
       "</style>\n",
       "<table border=\"1\" class=\"dataframe\">\n",
       "  <thead>\n",
       "    <tr style=\"text-align: right;\">\n",
       "      <th></th>\n",
       "      <th>Private</th>\n",
       "      <th>Apps</th>\n",
       "      <th>Accept</th>\n",
       "      <th>Enroll</th>\n",
       "      <th>Top10perc</th>\n",
       "      <th>Top25perc</th>\n",
       "      <th>F.Undergrad</th>\n",
       "      <th>P.Undergrad</th>\n",
       "      <th>Outstate</th>\n",
       "      <th>Room.Board</th>\n",
       "      <th>Books</th>\n",
       "      <th>Personal</th>\n",
       "      <th>PhD</th>\n",
       "      <th>Terminal</th>\n",
       "      <th>S.F.Ratio</th>\n",
       "      <th>perc.alumni</th>\n",
       "      <th>Expend</th>\n",
       "      <th>Grad.Rate</th>\n",
       "    </tr>\n",
       "  </thead>\n",
       "  <tbody>\n",
       "    <tr>\n",
       "      <th>Abilene Christian University</th>\n",
       "      <td>Yes</td>\n",
       "      <td>1660</td>\n",
       "      <td>1232</td>\n",
       "      <td>721</td>\n",
       "      <td>23</td>\n",
       "      <td>52</td>\n",
       "      <td>2885</td>\n",
       "      <td>537</td>\n",
       "      <td>7440</td>\n",
       "      <td>3300</td>\n",
       "      <td>450</td>\n",
       "      <td>2200</td>\n",
       "      <td>70</td>\n",
       "      <td>78</td>\n",
       "      <td>18.1</td>\n",
       "      <td>12</td>\n",
       "      <td>7041</td>\n",
       "      <td>60</td>\n",
       "    </tr>\n",
       "    <tr>\n",
       "      <th>Adelphi University</th>\n",
       "      <td>Yes</td>\n",
       "      <td>2186</td>\n",
       "      <td>1924</td>\n",
       "      <td>512</td>\n",
       "      <td>16</td>\n",
       "      <td>29</td>\n",
       "      <td>2683</td>\n",
       "      <td>1227</td>\n",
       "      <td>12280</td>\n",
       "      <td>6450</td>\n",
       "      <td>750</td>\n",
       "      <td>1500</td>\n",
       "      <td>29</td>\n",
       "      <td>30</td>\n",
       "      <td>12.2</td>\n",
       "      <td>16</td>\n",
       "      <td>10527</td>\n",
       "      <td>56</td>\n",
       "    </tr>\n",
       "    <tr>\n",
       "      <th>Adrian College</th>\n",
       "      <td>Yes</td>\n",
       "      <td>1428</td>\n",
       "      <td>1097</td>\n",
       "      <td>336</td>\n",
       "      <td>22</td>\n",
       "      <td>50</td>\n",
       "      <td>1036</td>\n",
       "      <td>99</td>\n",
       "      <td>11250</td>\n",
       "      <td>3750</td>\n",
       "      <td>400</td>\n",
       "      <td>1165</td>\n",
       "      <td>53</td>\n",
       "      <td>66</td>\n",
       "      <td>12.9</td>\n",
       "      <td>30</td>\n",
       "      <td>8735</td>\n",
       "      <td>54</td>\n",
       "    </tr>\n",
       "    <tr>\n",
       "      <th>Agnes Scott College</th>\n",
       "      <td>Yes</td>\n",
       "      <td>417</td>\n",
       "      <td>349</td>\n",
       "      <td>137</td>\n",
       "      <td>60</td>\n",
       "      <td>89</td>\n",
       "      <td>510</td>\n",
       "      <td>63</td>\n",
       "      <td>12960</td>\n",
       "      <td>5450</td>\n",
       "      <td>450</td>\n",
       "      <td>875</td>\n",
       "      <td>92</td>\n",
       "      <td>97</td>\n",
       "      <td>7.7</td>\n",
       "      <td>37</td>\n",
       "      <td>19016</td>\n",
       "      <td>59</td>\n",
       "    </tr>\n",
       "    <tr>\n",
       "      <th>Alaska Pacific University</th>\n",
       "      <td>Yes</td>\n",
       "      <td>193</td>\n",
       "      <td>146</td>\n",
       "      <td>55</td>\n",
       "      <td>16</td>\n",
       "      <td>44</td>\n",
       "      <td>249</td>\n",
       "      <td>869</td>\n",
       "      <td>7560</td>\n",
       "      <td>4120</td>\n",
       "      <td>800</td>\n",
       "      <td>1500</td>\n",
       "      <td>76</td>\n",
       "      <td>72</td>\n",
       "      <td>11.9</td>\n",
       "      <td>2</td>\n",
       "      <td>10922</td>\n",
       "      <td>15</td>\n",
       "    </tr>\n",
       "  </tbody>\n",
       "</table>\n",
       "</div>"
      ],
      "text/plain": [
       "                             Private  Apps  Accept  Enroll  Top10perc  \\\n",
       "Abilene Christian University     Yes  1660    1232     721         23   \n",
       "Adelphi University               Yes  2186    1924     512         16   \n",
       "Adrian College                   Yes  1428    1097     336         22   \n",
       "Agnes Scott College              Yes   417     349     137         60   \n",
       "Alaska Pacific University        Yes   193     146      55         16   \n",
       "\n",
       "                              Top25perc  F.Undergrad  P.Undergrad  Outstate  \\\n",
       "Abilene Christian University         52         2885          537      7440   \n",
       "Adelphi University                   29         2683         1227     12280   \n",
       "Adrian College                       50         1036           99     11250   \n",
       "Agnes Scott College                  89          510           63     12960   \n",
       "Alaska Pacific University            44          249          869      7560   \n",
       "\n",
       "                              Room.Board  Books  Personal  PhD  Terminal  \\\n",
       "Abilene Christian University        3300    450      2200   70        78   \n",
       "Adelphi University                  6450    750      1500   29        30   \n",
       "Adrian College                      3750    400      1165   53        66   \n",
       "Agnes Scott College                 5450    450       875   92        97   \n",
       "Alaska Pacific University           4120    800      1500   76        72   \n",
       "\n",
       "                              S.F.Ratio  perc.alumni  Expend  Grad.Rate  \n",
       "Abilene Christian University       18.1           12    7041         60  \n",
       "Adelphi University                 12.2           16   10527         56  \n",
       "Adrian College                     12.9           30    8735         54  \n",
       "Agnes Scott College                 7.7           37   19016         59  \n",
       "Alaska Pacific University          11.9            2   10922         15  "
      ]
     },
     "execution_count": 120,
     "metadata": {},
     "output_type": "execute_result"
    }
   ],
   "source": [
    "college = pd.read_csv('../../data/college.csv', index_col=0).dropna()\n",
    "college.head()"
   ]
  },
  {
   "cell_type": "code",
   "execution_count": 121,
   "id": "ec172867",
   "metadata": {
    "ExecuteTime": {
     "end_time": "2025-07-07T21:13:31.178050Z",
     "start_time": "2025-07-07T21:13:31.168740Z"
    }
   },
   "outputs": [],
   "source": [
    "college['Private'] = pd.get_dummies(college['Private']).iloc[:, 0]"
   ]
  },
  {
   "cell_type": "code",
   "execution_count": 122,
   "id": "68e110c0",
   "metadata": {
    "ExecuteTime": {
     "end_time": "2025-07-07T21:13:31.634544Z",
     "start_time": "2025-07-07T21:13:31.621898Z"
    }
   },
   "outputs": [
    {
     "data": {
      "application/vnd.microsoft.datawrangler.viewer.v0+json": {
       "columns": [
        {
         "name": "index",
         "rawType": "object",
         "type": "string"
        },
        {
         "name": "0",
         "rawType": "bool",
         "type": "boolean"
        }
       ],
       "ref": "b98d9d72-cd8b-4a3e-a063-db3113a4c296",
       "rows": [
        [
         "Private",
         "False"
        ],
        [
         "Apps",
         "False"
        ],
        [
         "Accept",
         "False"
        ],
        [
         "Enroll",
         "False"
        ],
        [
         "Top10perc",
         "False"
        ],
        [
         "Top25perc",
         "False"
        ],
        [
         "F.Undergrad",
         "False"
        ],
        [
         "P.Undergrad",
         "False"
        ],
        [
         "Outstate",
         "False"
        ],
        [
         "Room.Board",
         "False"
        ],
        [
         "Books",
         "False"
        ],
        [
         "Personal",
         "False"
        ],
        [
         "PhD",
         "False"
        ],
        [
         "Terminal",
         "False"
        ],
        [
         "S.F.Ratio",
         "False"
        ],
        [
         "perc.alumni",
         "False"
        ],
        [
         "Expend",
         "False"
        ],
        [
         "Grad.Rate",
         "False"
        ]
       ],
       "shape": {
        "columns": 1,
        "rows": 18
       }
      },
      "text/plain": [
       "Private        False\n",
       "Apps           False\n",
       "Accept         False\n",
       "Enroll         False\n",
       "Top10perc      False\n",
       "Top25perc      False\n",
       "F.Undergrad    False\n",
       "P.Undergrad    False\n",
       "Outstate       False\n",
       "Room.Board     False\n",
       "Books          False\n",
       "Personal       False\n",
       "PhD            False\n",
       "Terminal       False\n",
       "S.F.Ratio      False\n",
       "perc.alumni    False\n",
       "Expend         False\n",
       "Grad.Rate      False\n",
       "dtype: bool"
      ]
     },
     "execution_count": 122,
     "metadata": {},
     "output_type": "execute_result"
    }
   ],
   "source": [
    "college.isna().any()"
   ]
  },
  {
   "cell_type": "code",
   "execution_count": 123,
   "id": "bd423b9d",
   "metadata": {
    "ExecuteTime": {
     "end_time": "2025-07-07T21:13:32.196308Z",
     "start_time": "2025-07-07T21:13:32.178681Z"
    }
   },
   "outputs": [],
   "source": [
    "X_train, X_test, y_train, y_test = train_test_split(college.drop(['Apps'], axis=1), college.Apps, test_size=0.5, random_state=1)"
   ]
  },
  {
   "cell_type": "markdown",
   "id": "0b660b9a",
   "metadata": {},
   "source": [
    "### 9.b"
   ]
  },
  {
   "cell_type": "code",
   "execution_count": 124,
   "id": "02b16920",
   "metadata": {
    "ExecuteTime": {
     "end_time": "2025-07-07T21:13:32.729592Z",
     "start_time": "2025-07-07T21:13:32.709349Z"
    }
   },
   "outputs": [
    {
     "data": {
      "text/plain": [
       "1425055.5873112378"
      ]
     },
     "execution_count": 124,
     "metadata": {},
     "output_type": "execute_result"
    }
   ],
   "source": [
    "lr = LinearRegression(fit_intercept=True)\n",
    "\n",
    "lr.fit(X_train, y_train)\n",
    "mean_squared_error(y_test, lr.predict(X_test))"
   ]
  },
  {
   "cell_type": "code",
   "execution_count": 125,
   "id": "b0dad1d0",
   "metadata": {
    "ExecuteTime": {
     "end_time": "2025-07-07T21:13:33.657053Z",
     "start_time": "2025-07-07T21:13:33.133288Z"
    }
   },
   "outputs": [
    {
     "data": {
      "text/plain": [
       "Text(0.5, 1.0, 'Residual Plot')"
      ]
     },
     "execution_count": 125,
     "metadata": {},
     "output_type": "execute_result"
    },
    {
     "data": {
      "image/png": "[encoded data removed]",
      "text/plain": [
       "<Figure size 600x400 with 1 Axes>"
      ]
     },
     "metadata": {},
     "output_type": "display_data"
    }
   ],
   "source": [
    "fitted_values = lr.predict(X_test)\n",
    "residuals = y_test - fitted_values\n",
    "\n",
    "fig, ax = plt.subplots(figsize=(6,4))\n",
    "ax.scatter(fitted_values, residuals, edgecolors='b');\n",
    "ax.set_xlabel('Fitted values');\n",
    "ax.set_ylabel('Residuals');\n",
    "ax.set_title('Residual Plot')"
   ]
  },
  {
   "cell_type": "markdown",
   "id": "c49317b1",
   "metadata": {},
   "source": [
    "#### From the plot above, it is evident that the residual plot has a pattern, which may indicate that the relationship between the response and the predictors is nonlinear."
   ]
  },
  {
   "cell_type": "markdown",
   "id": "6204a8f1",
   "metadata": {},
   "source": [
    "### 9.c"
   ]
  },
  {
   "cell_type": "code",
   "execution_count": 126,
   "id": "f68293fa",
   "metadata": {
    "ExecuteTime": {
     "end_time": "2025-07-07T21:13:33.847564Z",
     "start_time": "2025-07-07T21:13:33.807107Z"
    }
   },
   "outputs": [
    {
     "name": "stdout",
     "output_type": "stream",
     "text": [
      "Optimal value of alpha chosen by cross-valiation: 1.0\n"
     ]
    },
    {
     "name": "stderr",
     "output_type": "stream",
     "text": [
      "C:\\Users\\admin\\AppData\\Roaming\\Python\\Python312\\site-packages\\sklearn\\linear_model\\_ridge.py:2385: FutureWarning: 'store_cv_values' is deprecated in version 1.5 and will be removed in 1.7. Use 'store_cv_results' instead.\n",
      "  warnings.warn(\n"
     ]
    }
   ],
   "source": [
    "alphas = np.logspace(-4, 0, 100)\n",
    "\n",
    "ridgecv = RidgeCV(alphas=alphas, store_cv_values=True)\n",
    "ridgecv.fit(X_train, y_train)\n",
    "\n",
    "print(f'Optimal value of alpha chosen by cross-valiation: {ridgecv.alpha_}')"
   ]
  },
  {
   "cell_type": "code",
   "execution_count": 127,
   "id": "d0effc89",
   "metadata": {
    "ExecuteTime": {
     "end_time": "2025-07-07T21:13:34.210668Z",
     "start_time": "2025-07-07T21:13:34.158482Z"
    }
   },
   "outputs": [
    {
     "data": {
      "text/plain": [
       "1291210.544319996"
      ]
     },
     "execution_count": 127,
     "metadata": {},
     "output_type": "execute_result"
    }
   ],
   "source": [
    "# Min mse value obtained by cross-validation\n",
    "mses = np.mean(ridgecv.cv_results_, axis=0)\n",
    "min_mse = np.min(mses)\n",
    "min_mse"
   ]
  },
  {
   "cell_type": "code",
   "execution_count": 128,
   "id": "f694519a",
   "metadata": {
    "ExecuteTime": {
     "end_time": "2025-07-07T21:13:34.796109Z",
     "start_time": "2025-07-07T21:13:34.743747Z"
    }
   },
   "outputs": [
    {
     "data": {
      "application/vnd.microsoft.datawrangler.viewer.v0+json": {
       "columns": [
        {
         "name": "index",
         "rawType": "object",
         "type": "string"
        },
        {
         "name": "0",
         "rawType": "float64",
         "type": "float"
        }
       ],
       "ref": "299eaf1c-0bcc-4019-a1e7-a237aae1412d",
       "rows": [
        [
         "Private",
         "435.2223057720839"
        ],
        [
         "Accept",
         "1.1420324966311455"
        ],
        [
         "Enroll",
         "0.4875202439725399"
        ],
        [
         "Top10perc",
         "62.79307536280248"
        ],
        [
         "Top25perc",
         "-22.722443875449244"
        ],
        [
         "F.Undergrad",
         "-0.005925029516220093"
        ],
        [
         "P.Undergrad",
         "0.016667604446411133"
        ],
        [
         "Outstate",
         "-0.06738680601119995"
        ],
        [
         "Room.Board",
         "0.24722788482904434"
        ],
        [
         "Books",
         "-0.2070274577708915"
        ],
        [
         "Personal",
         "-0.08562825713306665"
        ],
        [
         "PhD",
         "-6.257674850086914"
        ],
        [
         "Terminal",
         "-3.6014030615915544"
        ],
        [
         "S.F.Ratio",
         "7.825444550413522"
        ],
        [
         "perc.alumni",
         "-10.548036908381619"
        ],
        [
         "Expend",
         "0.05781468749046326"
        ],
        [
         "Grad.Rate",
         "12.040149712294806"
        ]
       ],
       "shape": {
        "columns": 1,
        "rows": 17
       }
      },
      "text/plain": [
       "Private        435.222306\n",
       "Accept           1.142032\n",
       "Enroll           0.487520\n",
       "Top10perc       62.793075\n",
       "Top25perc      -22.722444\n",
       "F.Undergrad     -0.005925\n",
       "P.Undergrad      0.016668\n",
       "Outstate        -0.067387\n",
       "Room.Board       0.247228\n",
       "Books           -0.207027\n",
       "Personal        -0.085628\n",
       "PhD             -6.257675\n",
       "Terminal        -3.601403\n",
       "S.F.Ratio        7.825445\n",
       "perc.alumni    -10.548037\n",
       "Expend           0.057815\n",
       "Grad.Rate       12.040150\n",
       "dtype: float64"
      ]
     },
     "execution_count": 128,
     "metadata": {},
     "output_type": "execute_result"
    }
   ],
   "source": [
    "pd.Series(ridgecv.coef_.flatten(), index=X_train.columns)"
   ]
  },
  {
   "cell_type": "markdown",
   "id": "8d3f41de",
   "metadata": {},
   "source": [
    "### 9.d"
   ]
  },
  {
   "cell_type": "code",
   "execution_count": 129,
   "id": "87431b98",
   "metadata": {
    "ExecuteTime": {
     "end_time": "2025-07-07T21:13:35.894593Z",
     "start_time": "2025-07-07T21:13:35.209439Z"
    }
   },
   "outputs": [
    {
     "name": "stdout",
     "output_type": "stream",
     "text": [
      "Optimal value of alpha chosen by cross-valiation: 1.0\n"
     ]
    }
   ],
   "source": [
    "lassocv = LassoCV(alphas=alphas, cv=10, max_iter=1000)\n",
    "lassocv.fit(X_train, y_train)\n",
    "\n",
    "print(f'Optimal value of alpha chosen by cross-valiation: {lassocv.alpha_}')"
   ]
  },
  {
   "cell_type": "code",
   "execution_count": 130,
   "id": "2b840679",
   "metadata": {
    "ExecuteTime": {
     "end_time": "2025-07-07T21:13:36.370971Z",
     "start_time": "2025-07-07T21:13:36.361002Z"
    }
   },
   "outputs": [
    {
     "data": {
      "text/plain": [
       "1284070.9604433784"
      ]
     },
     "execution_count": 130,
     "metadata": {},
     "output_type": "execute_result"
    }
   ],
   "source": [
    "mses = np.mean(lassocv.mse_path_, axis=1)\n",
    "min_mse = np.min(mses)\n",
    "min_mse"
   ]
  },
  {
   "cell_type": "code",
   "execution_count": 131,
   "id": "2333ddf7",
   "metadata": {
    "ExecuteTime": {
     "end_time": "2025-07-07T21:13:36.720488Z",
     "start_time": "2025-07-07T21:13:36.707588Z"
    }
   },
   "outputs": [
    {
     "data": {
      "application/vnd.microsoft.datawrangler.viewer.v0+json": {
       "columns": [
        {
         "name": "index",
         "rawType": "object",
         "type": "string"
        },
        {
         "name": "0",
         "rawType": "float64",
         "type": "float"
        }
       ],
       "ref": "1b8172c1-e681-4776-9406-d7672ba9227f",
       "rows": [
        [
         "Private",
         "437.15349370670936"
        ],
        [
         "Accept",
         "1.1420314006805665"
        ],
        [
         "Enroll",
         "0.4878272748631864"
        ],
        [
         "Top10perc",
         "62.75520432948988"
        ],
        [
         "Top25perc",
         "-22.697525766888358"
        ],
        [
         "F.Undergrad",
         "-0.006026637173994789"
        ],
        [
         "P.Undergrad",
         "0.01666041330321553"
        ],
        [
         "Outstate",
         "-0.06730654064393975"
        ],
        [
         "Room.Board",
         "0.24724568549858728"
        ],
        [
         "Books",
         "-0.20670175722247935"
        ],
        [
         "Personal",
         "-0.08564331168647954"
        ],
        [
         "PhD",
         "-6.257268223407645"
        ],
        [
         "Terminal",
         "-3.6095938152354474"
        ],
        [
         "S.F.Ratio",
         "7.686706837133201"
        ],
        [
         "perc.alumni",
         "-10.528380257758831"
        ],
        [
         "Expend",
         "0.05779322878027641"
        ],
        [
         "Grad.Rate",
         "12.031905401936566"
        ]
       ],
       "shape": {
        "columns": 1,
        "rows": 17
       }
      },
      "text/plain": [
       "Private        437.153494\n",
       "Accept           1.142031\n",
       "Enroll           0.487827\n",
       "Top10perc       62.755204\n",
       "Top25perc      -22.697526\n",
       "F.Undergrad     -0.006027\n",
       "P.Undergrad      0.016660\n",
       "Outstate        -0.067307\n",
       "Room.Board       0.247246\n",
       "Books           -0.206702\n",
       "Personal        -0.085643\n",
       "PhD             -6.257268\n",
       "Terminal        -3.609594\n",
       "S.F.Ratio        7.686707\n",
       "perc.alumni    -10.528380\n",
       "Expend           0.057793\n",
       "Grad.Rate       12.031905\n",
       "dtype: float64"
      ]
     },
     "execution_count": 131,
     "metadata": {},
     "output_type": "execute_result"
    }
   ],
   "source": [
    "pd.Series(lassocv.coef_.flatten(), index=X_train.columns)"
   ]
  },
  {
   "cell_type": "markdown",
   "id": "018f07be",
   "metadata": {},
   "source": [
    "### 9.e"
   ]
  },
  {
   "cell_type": "code",
   "execution_count": 132,
   "id": "3e8d190b",
   "metadata": {
    "ExecuteTime": {
     "end_time": "2025-07-07T21:13:37.745181Z",
     "start_time": "2025-07-07T21:13:37.041474Z"
    }
   },
   "outputs": [],
   "source": [
    "scores = []\n",
    "\n",
    "# Compute the CV Score for no principal components, Linear Reg. only with intercept\n",
    "scores.append(-np.mean(cross_val_score(LinearRegression(), np.ones((X_train.shape[0], 1)),\n",
    "                                     y_train, cv=5, scoring='neg_mean_squared_error')))\n",
    "\n",
    "for i in np.arange(1, X_train.shape[1]+1):\n",
    "    scaler = StandardScaler()\n",
    "    X_ = scaler.fit_transform(X_train)\n",
    "    \n",
    "    pca = PCA(n_components=i)\n",
    "    X_pcr = pca.fit_transform(X_)\n",
    "    \n",
    "    score = -np.mean(cross_val_score(LinearRegression(), X_pcr[:, :i],\n",
    "                                    y_train, cv=5, scoring='neg_mean_squared_error'))\n",
    "    \n",
    "    scores.append(score)"
   ]
  },
  {
   "cell_type": "code",
   "execution_count": 133,
   "id": "b78cf320",
   "metadata": {
    "ExecuteTime": {
     "end_time": "2025-07-07T21:13:37.960162Z",
     "start_time": "2025-07-07T21:13:37.948655Z"
    }
   },
   "outputs": [
    {
     "name": "stdout",
     "output_type": "stream",
     "text": [
      "16 1312200.0054480806\n"
     ]
    }
   ],
   "source": [
    "print(np.argmin(scores), np.min(scores))"
   ]
  },
  {
   "cell_type": "code",
   "execution_count": 134,
   "id": "0afc8b16",
   "metadata": {
    "ExecuteTime": {
     "end_time": "2025-07-07T21:13:38.653580Z",
     "start_time": "2025-07-07T21:13:38.206513Z"
    }
   },
   "outputs": [
    {
     "data": {
      "image/png": "[encoded data removed]",
      "text/plain": [
       "<Figure size 640x480 with 1 Axes>"
      ]
     },
     "metadata": {},
     "output_type": "display_data"
    }
   ],
   "source": [
    "plt.plot(scores, marker='o')\n",
    "plt.xlabel('Number of Components')\n",
    "plt.ylabel('MSE')\n",
    "plt.xticks(np.arange(0, X_train.shape[1]+1, 1))\n",
    "\n",
    "plt.plot(np.argmin(scores), np.min(scores), 'gx', markersize=20)\n",
    "plt.grid()"
   ]
  },
  {
   "cell_type": "markdown",
   "id": "0d63f547",
   "metadata": {},
   "source": [
    "`M=16` is the optimal number of components chosen by cross-validation"
   ]
  },
  {
   "cell_type": "markdown",
   "id": "0422b1b0",
   "metadata": {},
   "source": [
    "### 9.f"
   ]
  },
  {
   "cell_type": "code",
   "execution_count": 135,
   "id": "3a3d4041",
   "metadata": {
    "ExecuteTime": {
     "end_time": "2025-07-07T21:13:39.919259Z",
     "start_time": "2025-07-07T21:13:38.779518Z"
    }
   },
   "outputs": [],
   "source": [
    "scores_pls = []\n",
    "\n",
    "for i in np.arange(1, X_train.shape[1]+1):\n",
    "    score = -np.mean(cross_val_score(PLSRegression(n_components=i),\n",
    "                                    scale(X_train), y_train,\n",
    "                                    cv=5, scoring='neg_mean_squared_error'))\n",
    "    \n",
    "    scores_pls.append(score)"
   ]
  },
  {
   "cell_type": "code",
   "execution_count": 136,
   "id": "a54e1b3c",
   "metadata": {
    "ExecuteTime": {
     "end_time": "2025-07-07T21:13:44.682627Z",
     "start_time": "2025-07-07T21:13:40.039613Z"
    }
   },
   "outputs": [
    {
     "data": {
      "image/png": "[encoded data removed]",
      "text/plain": [
       "<Figure size 640x480 with 1 Axes>"
      ]
     },
     "metadata": {},
     "output_type": "display_data"
    }
   ],
   "source": [
    "plt.plot(scores_pls, marker='o')\n",
    "plt.xlabel('Number of Components')\n",
    "plt.ylabel('MSE')\n",
    "plt.xticks(np.arange(0, X_train.shape[1], 1))\n",
    "\n",
    "plt.plot(np.argmin(scores_pls), np.min(scores_pls), 'gx', markersize=20)\n",
    "plt.grid()"
   ]
  },
  {
   "cell_type": "markdown",
   "id": "b939dcc9",
   "metadata": {},
   "source": [
    "`M=10` is the optimal number of components chosen by cross-validation"
   ]
  },
  {
   "cell_type": "code",
   "execution_count": 137,
   "id": "9a5c82cc",
   "metadata": {
    "ExecuteTime": {
     "end_time": "2025-07-07T21:13:44.901739Z",
     "start_time": "2025-07-07T21:13:44.867248Z"
    }
   },
   "outputs": [
    {
     "data": {
      "text/plain": [
       "(9, 1312383.0038373969)"
      ]
     },
     "execution_count": 137,
     "metadata": {},
     "output_type": "execute_result"
    }
   ],
   "source": [
    "np.argmin(scores_pls), np.min(scores_pls)"
   ]
  },
  {
   "cell_type": "markdown",
   "id": "39e329ac",
   "metadata": {},
   "source": [
    "### 9.g"
   ]
  },
  {
   "cell_type": "markdown",
   "id": "6dfa15c3",
   "metadata": {},
   "source": [
    "Test error results obtained from different approaches:\n",
    "- Least Squares Method: 1425055.5873112478\n",
    "- Ridge Regression: 1291210.5443199938\n",
    "- Lasso: 1284070.9604433614\n",
    "- Principal Component Regression: 1312200.005448079\n",
    "- Partial Least Squares: 1312383.003837396\n",
    "\n",
    "As we can see from the results above, each method has a similar error rate on the test set. However, the worst-performing model is the least squares method, and the best-performing one is the Lasso. It's important to note that these results may vary depending on the seed used for dataset splitting."
   ]
  },
  {
   "cell_type": "markdown",
   "id": "cccd32a5",
   "metadata": {},
   "source": [
    "## Question 10\n",
    "\n",
    "### 10.a"
   ]
  },
  {
   "cell_type": "code",
   "execution_count": 138,
   "id": "cda69601",
   "metadata": {
    "ExecuteTime": {
     "end_time": "2025-07-07T21:13:45.312077Z",
     "start_time": "2025-07-07T21:13:45.232936Z"
    }
   },
   "outputs": [
    {
     "data": {
      "application/vnd.microsoft.datawrangler.viewer.v0+json": {
       "columns": [
        {
         "name": "index",
         "rawType": "int64",
         "type": "integer"
        },
        {
         "name": "Feature_1",
         "rawType": "float64",
         "type": "float"
        },
        {
         "name": "Feature_2",
         "rawType": "float64",
         "type": "float"
        },
        {
         "name": "Feature_3",
         "rawType": "float64",
         "type": "float"
        },
        {
         "name": "Feature_4",
         "rawType": "float64",
         "type": "float"
        },
        {
         "name": "Feature_5",
         "rawType": "float64",
         "type": "float"
        },
        {
         "name": "Feature_6",
         "rawType": "float64",
         "type": "float"
        },
        {
         "name": "Feature_7",
         "rawType": "float64",
         "type": "float"
        },
        {
         "name": "Feature_8",
         "rawType": "float64",
         "type": "float"
        },
        {
         "name": "Feature_9",
         "rawType": "float64",
         "type": "float"
        },
        {
         "name": "Feature_10",
         "rawType": "float64",
         "type": "float"
        },
        {
         "name": "Feature_11",
         "rawType": "float64",
         "type": "float"
        },
        {
         "name": "Feature_12",
         "rawType": "float64",
         "type": "float"
        },
        {
         "name": "Feature_13",
         "rawType": "float64",
         "type": "float"
        },
        {
         "name": "Feature_14",
         "rawType": "float64",
         "type": "float"
        },
        {
         "name": "Feature_15",
         "rawType": "float64",
         "type": "float"
        },
        {
         "name": "Feature_16",
         "rawType": "float64",
         "type": "float"
        },
        {
         "name": "Feature_17",
         "rawType": "float64",
         "type": "float"
        },
        {
         "name": "Feature_18",
         "rawType": "float64",
         "type": "float"
        },
        {
         "name": "Feature_19",
         "rawType": "float64",
         "type": "float"
        },
        {
         "name": "Feature_20",
         "rawType": "float64",
         "type": "float"
        },
        {
         "name": "Target",
         "rawType": "float64",
         "type": "float"
        }
       ],
       "ref": "94542e4a-fb53-4409-a82f-9c2a1c169021",
       "rows": [
        [
         "0",
         "0.4967141530112327",
         "-0.13826430117118466",
         "0.6476885381006925",
         "1.5230298564080254",
         "-0.23415337472333597",
         "-0.23413695694918055",
         "1.5792128155073915",
         "0.7674347291529088",
         "-0.4694743859349521",
         "0.5425600435859647",
         "-0.46341769281246226",
         "-0.46572975357025687",
         "0.24196227156603412",
         "-1.913280244657798",
         "-1.7249178325130328",
         "-0.5622875292409727",
         "-1.0128311203344238",
         "0.3142473325952739",
         "-0.9080240755212109",
         "-1.4123037013352915",
         "-24.68830599143482"
        ],
        [
         "1",
         "1.465648768921554",
         "-0.22577630048653566",
         "0.06752820468792384",
         "-1.4247481862134568",
         "-0.5443827245251827",
         "0.11092258970986608",
         "-1.1509935774223028",
         "0.37569801834567196",
         "-0.600638689918805",
         "-0.2916937497932768",
         "-0.6017066122293969",
         "1.8522781845089378",
         "-0.013497224737933921",
         "-1.0577109289559004",
         "0.822544912103189",
         "-1.2208436499710222",
         "0.2088635950047554",
         "-1.9596701238797756",
         "-1.3281860488984305",
         "0.19686123586912352",
         "11.230263243439197"
        ],
        [
         "2",
         "0.7384665799954104",
         "0.1713682811899705",
         "-0.11564828238824053",
         "-0.3011036955892888",
         "-1.4785219903674274",
         "-0.7198442083947086",
         "-0.4606387709597875",
         "1.0571222262189157",
         "0.3436182895684614",
         "-1.763040155362734",
         "0.324083969394795",
         "-0.38508228041631654",
         "-0.6769220003059587",
         "0.6116762888408679",
         "1.030999522495951",
         "0.9312801191161986",
         "-0.8392175232226385",
         "-0.3092123758512146",
         "0.33126343140356396",
         "0.9755451271223592",
         "6.614349636161402"
        ],
        [
         "3",
         "-0.47917423784528995",
         "-0.18565897666381712",
         "-1.1063349740060282",
         "-1.1962066240806708",
         "0.812525822394198",
         "1.356240028570823",
         "-0.07201012158033385",
         "1.0035328978920242",
         "0.36163602504763415",
         "-0.6451197546051243",
         "0.36139560550841393",
         "1.5380365664659692",
         "-0.03582603910995154",
         "1.5646436558140062",
         "-2.6197451040897444",
         "0.8219025043752238",
         "0.08704706823817122",
         "-0.29900735046586746",
         "0.0917607765355023",
         "-1.9875689146008928",
         "14.355512198506606"
        ],
        [
         "4",
         "-0.21967188783751193",
         "0.3571125715117464",
         "1.477894044741516",
         "-0.5182702182736474",
         "-0.8084936028931876",
         "-0.5017570435845365",
         "0.9154021177020741",
         "0.32875110965968446",
         "-0.5297602037670388",
         "0.5132674331133561",
         "0.09707754934804039",
         "0.9686449905328892",
         "-0.7020530938773524",
         "-0.3276621465977682",
         "-0.39210815313215763",
         "-1.4635149481321186",
         "0.29612027706457605",
         "0.26105527217988933",
         "0.00511345664246089",
         "-0.23458713337514692",
         "34.428013379763556"
        ]
       ],
       "shape": {
        "columns": 21,
        "rows": 5
       }
      },
      "text/html": [
       "<div>\n",
       "<style scoped>\n",
       "    .dataframe tbody tr th:only-of-type {\n",
       "        vertical-align: middle;\n",
       "    }\n",
       "\n",
       "    .dataframe tbody tr th {\n",
       "        vertical-align: top;\n",
       "    }\n",
       "\n",
       "    .dataframe thead th {\n",
       "        text-align: right;\n",
       "    }\n",
       "</style>\n",
       "<table border=\"1\" class=\"dataframe\">\n",
       "  <thead>\n",
       "    <tr style=\"text-align: right;\">\n",
       "      <th></th>\n",
       "      <th>Feature_1</th>\n",
       "      <th>Feature_2</th>\n",
       "      <th>Feature_3</th>\n",
       "      <th>Feature_4</th>\n",
       "      <th>Feature_5</th>\n",
       "      <th>Feature_6</th>\n",
       "      <th>Feature_7</th>\n",
       "      <th>Feature_8</th>\n",
       "      <th>Feature_9</th>\n",
       "      <th>Feature_10</th>\n",
       "      <th>...</th>\n",
       "      <th>Feature_12</th>\n",
       "      <th>Feature_13</th>\n",
       "      <th>Feature_14</th>\n",
       "      <th>Feature_15</th>\n",
       "      <th>Feature_16</th>\n",
       "      <th>Feature_17</th>\n",
       "      <th>Feature_18</th>\n",
       "      <th>Feature_19</th>\n",
       "      <th>Feature_20</th>\n",
       "      <th>Target</th>\n",
       "    </tr>\n",
       "  </thead>\n",
       "  <tbody>\n",
       "    <tr>\n",
       "      <th>0</th>\n",
       "      <td>0.496714</td>\n",
       "      <td>-0.138264</td>\n",
       "      <td>0.647689</td>\n",
       "      <td>1.523030</td>\n",
       "      <td>-0.234153</td>\n",
       "      <td>-0.234137</td>\n",
       "      <td>1.579213</td>\n",
       "      <td>0.767435</td>\n",
       "      <td>-0.469474</td>\n",
       "      <td>0.542560</td>\n",
       "      <td>...</td>\n",
       "      <td>-0.465730</td>\n",
       "      <td>0.241962</td>\n",
       "      <td>-1.913280</td>\n",
       "      <td>-1.724918</td>\n",
       "      <td>-0.562288</td>\n",
       "      <td>-1.012831</td>\n",
       "      <td>0.314247</td>\n",
       "      <td>-0.908024</td>\n",
       "      <td>-1.412304</td>\n",
       "      <td>-24.688306</td>\n",
       "    </tr>\n",
       "    <tr>\n",
       "      <th>1</th>\n",
       "      <td>1.465649</td>\n",
       "      <td>-0.225776</td>\n",
       "      <td>0.067528</td>\n",
       "      <td>-1.424748</td>\n",
       "      <td>-0.544383</td>\n",
       "      <td>0.110923</td>\n",
       "      <td>-1.150994</td>\n",
       "      <td>0.375698</td>\n",
       "      <td>-0.600639</td>\n",
       "      <td>-0.291694</td>\n",
       "      <td>...</td>\n",
       "      <td>1.852278</td>\n",
       "      <td>-0.013497</td>\n",
       "      <td>-1.057711</td>\n",
       "      <td>0.822545</td>\n",
       "      <td>-1.220844</td>\n",
       "      <td>0.208864</td>\n",
       "      <td>-1.959670</td>\n",
       "      <td>-1.328186</td>\n",
       "      <td>0.196861</td>\n",
       "      <td>11.230263</td>\n",
       "    </tr>\n",
       "    <tr>\n",
       "      <th>2</th>\n",
       "      <td>0.738467</td>\n",
       "      <td>0.171368</td>\n",
       "      <td>-0.115648</td>\n",
       "      <td>-0.301104</td>\n",
       "      <td>-1.478522</td>\n",
       "      <td>-0.719844</td>\n",
       "      <td>-0.460639</td>\n",
       "      <td>1.057122</td>\n",
       "      <td>0.343618</td>\n",
       "      <td>-1.763040</td>\n",
       "      <td>...</td>\n",
       "      <td>-0.385082</td>\n",
       "      <td>-0.676922</td>\n",
       "      <td>0.611676</td>\n",
       "      <td>1.031000</td>\n",
       "      <td>0.931280</td>\n",
       "      <td>-0.839218</td>\n",
       "      <td>-0.309212</td>\n",
       "      <td>0.331263</td>\n",
       "      <td>0.975545</td>\n",
       "      <td>6.614350</td>\n",
       "    </tr>\n",
       "    <tr>\n",
       "      <th>3</th>\n",
       "      <td>-0.479174</td>\n",
       "      <td>-0.185659</td>\n",
       "      <td>-1.106335</td>\n",
       "      <td>-1.196207</td>\n",
       "      <td>0.812526</td>\n",
       "      <td>1.356240</td>\n",
       "      <td>-0.072010</td>\n",
       "      <td>1.003533</td>\n",
       "      <td>0.361636</td>\n",
       "      <td>-0.645120</td>\n",
       "      <td>...</td>\n",
       "      <td>1.538037</td>\n",
       "      <td>-0.035826</td>\n",
       "      <td>1.564644</td>\n",
       "      <td>-2.619745</td>\n",
       "      <td>0.821903</td>\n",
       "      <td>0.087047</td>\n",
       "      <td>-0.299007</td>\n",
       "      <td>0.091761</td>\n",
       "      <td>-1.987569</td>\n",
       "      <td>14.355512</td>\n",
       "    </tr>\n",
       "    <tr>\n",
       "      <th>4</th>\n",
       "      <td>-0.219672</td>\n",
       "      <td>0.357113</td>\n",
       "      <td>1.477894</td>\n",
       "      <td>-0.518270</td>\n",
       "      <td>-0.808494</td>\n",
       "      <td>-0.501757</td>\n",
       "      <td>0.915402</td>\n",
       "      <td>0.328751</td>\n",
       "      <td>-0.529760</td>\n",
       "      <td>0.513267</td>\n",
       "      <td>...</td>\n",
       "      <td>0.968645</td>\n",
       "      <td>-0.702053</td>\n",
       "      <td>-0.327662</td>\n",
       "      <td>-0.392108</td>\n",
       "      <td>-1.463515</td>\n",
       "      <td>0.296120</td>\n",
       "      <td>0.261055</td>\n",
       "      <td>0.005113</td>\n",
       "      <td>-0.234587</td>\n",
       "      <td>34.428013</td>\n",
       "    </tr>\n",
       "  </tbody>\n",
       "</table>\n",
       "<p>5 rows × 21 columns</p>\n",
       "</div>"
      ],
      "text/plain": [
       "   Feature_1  Feature_2  Feature_3  Feature_4  Feature_5  Feature_6  \\\n",
       "0   0.496714  -0.138264   0.647689   1.523030  -0.234153  -0.234137   \n",
       "1   1.465649  -0.225776   0.067528  -1.424748  -0.544383   0.110923   \n",
       "2   0.738467   0.171368  -0.115648  -0.301104  -1.478522  -0.719844   \n",
       "3  -0.479174  -0.185659  -1.106335  -1.196207   0.812526   1.356240   \n",
       "4  -0.219672   0.357113   1.477894  -0.518270  -0.808494  -0.501757   \n",
       "\n",
       "   Feature_7  Feature_8  Feature_9  Feature_10  ...  Feature_12  Feature_13  \\\n",
       "0   1.579213   0.767435  -0.469474    0.542560  ...   -0.465730    0.241962   \n",
       "1  -1.150994   0.375698  -0.600639   -0.291694  ...    1.852278   -0.013497   \n",
       "2  -0.460639   1.057122   0.343618   -1.763040  ...   -0.385082   -0.676922   \n",
       "3  -0.072010   1.003533   0.361636   -0.645120  ...    1.538037   -0.035826   \n",
       "4   0.915402   0.328751  -0.529760    0.513267  ...    0.968645   -0.702053   \n",
       "\n",
       "   Feature_14  Feature_15  Feature_16  Feature_17  Feature_18  Feature_19  \\\n",
       "0   -1.913280   -1.724918   -0.562288   -1.012831    0.314247   -0.908024   \n",
       "1   -1.057711    0.822545   -1.220844    0.208864   -1.959670   -1.328186   \n",
       "2    0.611676    1.031000    0.931280   -0.839218   -0.309212    0.331263   \n",
       "3    1.564644   -2.619745    0.821903    0.087047   -0.299007    0.091761   \n",
       "4   -0.327662   -0.392108   -1.463515    0.296120    0.261055    0.005113   \n",
       "\n",
       "   Feature_20     Target  \n",
       "0   -1.412304 -24.688306  \n",
       "1    0.196861  11.230263  \n",
       "2    0.975545   6.614350  \n",
       "3   -1.987569  14.355512  \n",
       "4   -0.234587  34.428013  \n",
       "\n",
       "[5 rows x 21 columns]"
      ]
     },
     "execution_count": 138,
     "metadata": {},
     "output_type": "execute_result"
    }
   ],
   "source": [
    "np.random.seed(42)\n",
    "\n",
    "# Generate random data\n",
    "X = np.random.normal(size=(1000, 20))\n",
    "betas = np.random.randint(-10, 20, 20)\n",
    "\n",
    "betas[19] = 0\n",
    "betas[4] = 0\n",
    "betas[12] = 0\n",
    "betas[7] = 0\n",
    "betas[10] = 0\n",
    "betas[14] = 0\n",
    "\n",
    "eps = 10**np.random.randn(1000)\n",
    "\n",
    "y = np.dot(X, betas) + eps\n",
    "\n",
    "# Create DataFrame\n",
    "data = pd.DataFrame(X, columns=[f\"Feature_{i}\" for i in range(1, 21)])\n",
    "data['Target'] = y\n",
    "\n",
    "data.head()"
   ]
  },
  {
   "cell_type": "markdown",
   "id": "261cc3be",
   "metadata": {},
   "source": [
    "### 10.b"
   ]
  },
  {
   "cell_type": "code",
   "execution_count": 139,
   "id": "c3a386a6",
   "metadata": {
    "ExecuteTime": {
     "end_time": "2025-07-07T21:13:45.851518Z",
     "start_time": "2025-07-07T21:13:45.829366Z"
    }
   },
   "outputs": [],
   "source": [
    "X_train, X_test, y_train, y_test = train_test_split(data.drop(['Target'], axis=1), data.Target, test_size=0.9, random_state=1)"
   ]
  },
  {
   "cell_type": "markdown",
   "id": "405bc7f5",
   "metadata": {},
   "source": [
    "### 10.c"
   ]
  },
  {
   "cell_type": "code",
   "execution_count": null,
   "id": "0c2da9c4",
   "metadata": {
    "ExecuteTime": {
     "start_time": "2025-07-07T21:13:46.135381Z"
    },
    "jupyter": {
     "is_executing": true
    }
   },
   "outputs": [
    {
     "name": "stderr",
     "output_type": "stream",
     "text": [
      " 40%|████      | 8/20 [08:09<25:14, 126.25s/it]"
     ]
    }
   ],
   "source": [
    "bestsub_result = find_best_subset(X_train, y_train, 20, 'feature_mse_test')"
   ]
  },
  {
   "cell_type": "code",
   "execution_count": null,
   "id": "b044dcae",
   "metadata": {},
   "outputs": [
    {
     "data": {
      "application/vnd.microsoft.datawrangler.viewer.v0+json": {
       "columns": [
        {
         "name": "index",
         "rawType": "int64",
         "type": "integer"
        },
        {
         "name": "sub",
         "rawType": "object",
         "type": "unknown"
        },
        {
         "name": "model",
         "rawType": "object",
         "type": "unknown"
        }
       ],
       "ref": "a3b166b3-dbdf-47d9-86ad-e3c826a3ffb8",
       "rows": [
        [
         "0",
         "['Feature_17']",
         "<statsmodels.regression.linear_model.RegressionResultsWrapper object at 0x00000129F5EF7D10>"
        ],
        [
         "1",
         "['Feature_17', 'Feature_18']",
         "<statsmodels.regression.linear_model.RegressionResultsWrapper object at 0x00000129F87D31A0>"
        ],
        [
         "2",
         "['Feature_3', 'Feature_17', 'Feature_18']",
         "<statsmodels.regression.linear_model.RegressionResultsWrapper object at 0x00000129F87D3F80>"
        ],
        [
         "3",
         "['Feature_3', 'Feature_12', 'Feature_17', 'Feature_18']",
         "<statsmodels.regression.linear_model.RegressionResultsWrapper object at 0x00000129F8810110>"
        ],
        [
         "4",
         "['Feature_3', 'Feature_12', 'Feature_16', 'Feature_17', 'Feature_18']",
         "<statsmodels.regression.linear_model.RegressionResultsWrapper object at 0x00000129F8810440>"
        ],
        [
         "5",
         "['Feature_1', 'Feature_3', 'Feature_12', 'Feature_16', 'Feature_17', 'Feature_18']",
         "<statsmodels.regression.linear_model.RegressionResultsWrapper object at 0x00000129F8810710>"
        ],
        [
         "6",
         "['Feature_1', 'Feature_2', 'Feature_3', 'Feature_12', 'Feature_16', 'Feature_17', 'Feature_18']",
         "<statsmodels.regression.linear_model.RegressionResultsWrapper object at 0x00000129F88109E0>"
        ],
        [
         "7",
         "['Feature_1', 'Feature_2', 'Feature_3', 'Feature_6', 'Feature_12', 'Feature_16', 'Feature_17', 'Feature_18']",
         "<statsmodels.regression.linear_model.RegressionResultsWrapper object at 0x00000129F8810CB0>"
        ],
        [
         "8",
         "['Feature_1', 'Feature_2', 'Feature_3', 'Feature_6', 'Feature_7', 'Feature_12', 'Feature_16', 'Feature_17', 'Feature_18']",
         "<statsmodels.regression.linear_model.RegressionResultsWrapper object at 0x00000129F8810F80>"
        ],
        [
         "9",
         "['Feature_1', 'Feature_2', 'Feature_3', 'Feature_6', 'Feature_7', 'Feature_12', 'Feature_16', 'Feature_17', 'Feature_18', 'Feature_19']",
         "<statsmodels.regression.linear_model.RegressionResultsWrapper object at 0x00000129F8811250>"
        ],
        [
         "10",
         "['Feature_1', 'Feature_2', 'Feature_3', 'Feature_4', 'Feature_6', 'Feature_7', 'Feature_9', 'Feature_12', 'Feature_16', 'Feature_17', 'Feature_18']",
         "<statsmodels.regression.linear_model.RegressionResultsWrapper object at 0x00000129F8811520>"
        ],
        [
         "11",
         "['Feature_1', 'Feature_2', 'Feature_3', 'Feature_4', 'Feature_6', 'Feature_7', 'Feature_9', 'Feature_12', 'Feature_16', 'Feature_17', 'Feature_18', 'Feature_19']",
         "<statsmodels.regression.linear_model.RegressionResultsWrapper object at 0x00000129F88117F0>"
        ],
        [
         "12",
         "['Feature_1', 'Feature_2', 'Feature_3', 'Feature_4', 'Feature_6', 'Feature_7', 'Feature_9', 'Feature_12', 'Feature_14', 'Feature_16', 'Feature_17', 'Feature_18', 'Feature_19']",
         "<statsmodels.regression.linear_model.RegressionResultsWrapper object at 0x00000129F8811AC0>"
        ],
        [
         "13",
         "['Feature_1', 'Feature_2', 'Feature_3', 'Feature_4', 'Feature_5', 'Feature_6', 'Feature_7', 'Feature_9', 'Feature_12', 'Feature_14', 'Feature_16', 'Feature_17', 'Feature_18', 'Feature_19']",
         "<statsmodels.regression.linear_model.RegressionResultsWrapper object at 0x00000129F8811D90>"
        ],
        [
         "14",
         "['Feature_1', 'Feature_2', 'Feature_3', 'Feature_4', 'Feature_5', 'Feature_6', 'Feature_7', 'Feature_9', 'Feature_11', 'Feature_12', 'Feature_14', 'Feature_16', 'Feature_17', 'Feature_18', 'Feature_19']",
         "<statsmodels.regression.linear_model.RegressionResultsWrapper object at 0x00000129F8812060>"
        ],
        [
         "15",
         "['Feature_1', 'Feature_2', 'Feature_3', 'Feature_4', 'Feature_6', 'Feature_7', 'Feature_8', 'Feature_9', 'Feature_10', 'Feature_11', 'Feature_12', 'Feature_14', 'Feature_16', 'Feature_17', 'Feature_18', 'Feature_19']",
         "<statsmodels.regression.linear_model.RegressionResultsWrapper object at 0x00000129F8812330>"
        ],
        [
         "16",
         "['Feature_1', 'Feature_2', 'Feature_3', 'Feature_4', 'Feature_5', 'Feature_6', 'Feature_7', 'Feature_8', 'Feature_9', 'Feature_10', 'Feature_11', 'Feature_12', 'Feature_14', 'Feature_16', 'Feature_17', 'Feature_18', 'Feature_19']",
         "<statsmodels.regression.linear_model.RegressionResultsWrapper object at 0x00000129F8812600>"
        ],
        [
         "17",
         "['Feature_1', 'Feature_2', 'Feature_3', 'Feature_4', 'Feature_5', 'Feature_6', 'Feature_7', 'Feature_8', 'Feature_9', 'Feature_10', 'Feature_11', 'Feature_12', 'Feature_14', 'Feature_15', 'Feature_16', 'Feature_17', 'Feature_18', 'Feature_19']",
         "<statsmodels.regression.linear_model.RegressionResultsWrapper object at 0x00000129F88128D0>"
        ],
        [
         "18",
         "['Feature_1', 'Feature_2', 'Feature_3', 'Feature_4', 'Feature_5', 'Feature_6', 'Feature_7', 'Feature_8', 'Feature_9', 'Feature_10', 'Feature_11', 'Feature_12', 'Feature_13', 'Feature_14', 'Feature_15', 'Feature_16', 'Feature_17', 'Feature_18', 'Feature_19']",
         "<statsmodels.regression.linear_model.RegressionResultsWrapper object at 0x00000129F8812BA0>"
        ],
        [
         "19",
         "['Feature_1', 'Feature_2', 'Feature_3', 'Feature_4', 'Feature_5', 'Feature_6', 'Feature_7', 'Feature_8', 'Feature_9', 'Feature_10', 'Feature_11', 'Feature_12', 'Feature_13', 'Feature_14', 'Feature_15', 'Feature_16', 'Feature_17', 'Feature_18', 'Feature_19', 'Feature_20']",
         "<statsmodels.regression.linear_model.RegressionResultsWrapper object at 0x00000129F8812E70>"
        ]
       ],
       "shape": {
        "columns": 2,
        "rows": 20
       }
      },
      "text/html": [
       "<div>\n",
       "<style scoped>\n",
       "    .dataframe tbody tr th:only-of-type {\n",
       "        vertical-align: middle;\n",
       "    }\n",
       "\n",
       "    .dataframe tbody tr th {\n",
       "        vertical-align: top;\n",
       "    }\n",
       "\n",
       "    .dataframe thead th {\n",
       "        text-align: right;\n",
       "    }\n",
       "</style>\n",
       "<table border=\"1\" class=\"dataframe\">\n",
       "  <thead>\n",
       "    <tr style=\"text-align: right;\">\n",
       "      <th></th>\n",
       "      <th>sub</th>\n",
       "      <th>model</th>\n",
       "    </tr>\n",
       "  </thead>\n",
       "  <tbody>\n",
       "    <tr>\n",
       "      <th>0</th>\n",
       "      <td>[Feature_17]</td>\n",
       "      <td>&lt;statsmodels.regression.linear_model.Regressio...</td>\n",
       "    </tr>\n",
       "    <tr>\n",
       "      <th>1</th>\n",
       "      <td>[Feature_17, Feature_18]</td>\n",
       "      <td>&lt;statsmodels.regression.linear_model.Regressio...</td>\n",
       "    </tr>\n",
       "    <tr>\n",
       "      <th>2</th>\n",
       "      <td>[Feature_3, Feature_17, Feature_18]</td>\n",
       "      <td>&lt;statsmodels.regression.linear_model.Regressio...</td>\n",
       "    </tr>\n",
       "    <tr>\n",
       "      <th>3</th>\n",
       "      <td>[Feature_3, Feature_12, Feature_17, Feature_18]</td>\n",
       "      <td>&lt;statsmodels.regression.linear_model.Regressio...</td>\n",
       "    </tr>\n",
       "    <tr>\n",
       "      <th>4</th>\n",
       "      <td>[Feature_3, Feature_12, Feature_16, Feature_17...</td>\n",
       "      <td>&lt;statsmodels.regression.linear_model.Regressio...</td>\n",
       "    </tr>\n",
       "    <tr>\n",
       "      <th>5</th>\n",
       "      <td>[Feature_1, Feature_3, Feature_12, Feature_16,...</td>\n",
       "      <td>&lt;statsmodels.regression.linear_model.Regressio...</td>\n",
       "    </tr>\n",
       "    <tr>\n",
       "      <th>6</th>\n",
       "      <td>[Feature_1, Feature_2, Feature_3, Feature_12, ...</td>\n",
       "      <td>&lt;statsmodels.regression.linear_model.Regressio...</td>\n",
       "    </tr>\n",
       "    <tr>\n",
       "      <th>7</th>\n",
       "      <td>[Feature_1, Feature_2, Feature_3, Feature_6, F...</td>\n",
       "      <td>&lt;statsmodels.regression.linear_model.Regressio...</td>\n",
       "    </tr>\n",
       "    <tr>\n",
       "      <th>8</th>\n",
       "      <td>[Feature_1, Feature_2, Feature_3, Feature_6, F...</td>\n",
       "      <td>&lt;statsmodels.regression.linear_model.Regressio...</td>\n",
       "    </tr>\n",
       "    <tr>\n",
       "      <th>9</th>\n",
       "      <td>[Feature_1, Feature_2, Feature_3, Feature_6, F...</td>\n",
       "      <td>&lt;statsmodels.regression.linear_model.Regressio...</td>\n",
       "    </tr>\n",
       "    <tr>\n",
       "      <th>10</th>\n",
       "      <td>[Feature_1, Feature_2, Feature_3, Feature_4, F...</td>\n",
       "      <td>&lt;statsmodels.regression.linear_model.Regressio...</td>\n",
       "    </tr>\n",
       "    <tr>\n",
       "      <th>11</th>\n",
       "      <td>[Feature_1, Feature_2, Feature_3, Feature_4, F...</td>\n",
       "      <td>&lt;statsmodels.regression.linear_model.Regressio...</td>\n",
       "    </tr>\n",
       "    <tr>\n",
       "      <th>12</th>\n",
       "      <td>[Feature_1, Feature_2, Feature_3, Feature_4, F...</td>\n",
       "      <td>&lt;statsmodels.regression.linear_model.Regressio...</td>\n",
       "    </tr>\n",
       "    <tr>\n",
       "      <th>13</th>\n",
       "      <td>[Feature_1, Feature_2, Feature_3, Feature_4, F...</td>\n",
       "      <td>&lt;statsmodels.regression.linear_model.Regressio...</td>\n",
       "    </tr>\n",
       "    <tr>\n",
       "      <th>14</th>\n",
       "      <td>[Feature_1, Feature_2, Feature_3, Feature_4, F...</td>\n",
       "      <td>&lt;statsmodels.regression.linear_model.Regressio...</td>\n",
       "    </tr>\n",
       "    <tr>\n",
       "      <th>15</th>\n",
       "      <td>[Feature_1, Feature_2, Feature_3, Feature_4, F...</td>\n",
       "      <td>&lt;statsmodels.regression.linear_model.Regressio...</td>\n",
       "    </tr>\n",
       "    <tr>\n",
       "      <th>16</th>\n",
       "      <td>[Feature_1, Feature_2, Feature_3, Feature_4, F...</td>\n",
       "      <td>&lt;statsmodels.regression.linear_model.Regressio...</td>\n",
       "    </tr>\n",
       "    <tr>\n",
       "      <th>17</th>\n",
       "      <td>[Feature_1, Feature_2, Feature_3, Feature_4, F...</td>\n",
       "      <td>&lt;statsmodels.regression.linear_model.Regressio...</td>\n",
       "    </tr>\n",
       "    <tr>\n",
       "      <th>18</th>\n",
       "      <td>[Feature_1, Feature_2, Feature_3, Feature_4, F...</td>\n",
       "      <td>&lt;statsmodels.regression.linear_model.Regressio...</td>\n",
       "    </tr>\n",
       "    <tr>\n",
       "      <th>19</th>\n",
       "      <td>[Feature_1, Feature_2, Feature_3, Feature_4, F...</td>\n",
       "      <td>&lt;statsmodels.regression.linear_model.Regressio...</td>\n",
       "    </tr>\n",
       "  </tbody>\n",
       "</table>\n",
       "</div>"
      ],
      "text/plain": [
       "                                                  sub  \\\n",
       "0                                        [Feature_17]   \n",
       "1                            [Feature_17, Feature_18]   \n",
       "2                 [Feature_3, Feature_17, Feature_18]   \n",
       "3     [Feature_3, Feature_12, Feature_17, Feature_18]   \n",
       "4   [Feature_3, Feature_12, Feature_16, Feature_17...   \n",
       "5   [Feature_1, Feature_3, Feature_12, Feature_16,...   \n",
       "6   [Feature_1, Feature_2, Feature_3, Feature_12, ...   \n",
       "7   [Feature_1, Feature_2, Feature_3, Feature_6, F...   \n",
       "8   [Feature_1, Feature_2, Feature_3, Feature_6, F...   \n",
       "9   [Feature_1, Feature_2, Feature_3, Feature_6, F...   \n",
       "10  [Feature_1, Feature_2, Feature_3, Feature_4, F...   \n",
       "11  [Feature_1, Feature_2, Feature_3, Feature_4, F...   \n",
       "12  [Feature_1, Feature_2, Feature_3, Feature_4, F...   \n",
       "13  [Feature_1, Feature_2, Feature_3, Feature_4, F...   \n",
       "14  [Feature_1, Feature_2, Feature_3, Feature_4, F...   \n",
       "15  [Feature_1, Feature_2, Feature_3, Feature_4, F...   \n",
       "16  [Feature_1, Feature_2, Feature_3, Feature_4, F...   \n",
       "17  [Feature_1, Feature_2, Feature_3, Feature_4, F...   \n",
       "18  [Feature_1, Feature_2, Feature_3, Feature_4, F...   \n",
       "19  [Feature_1, Feature_2, Feature_3, Feature_4, F...   \n",
       "\n",
       "                                                model  \n",
       "0   <statsmodels.regression.linear_model.Regressio...  \n",
       "1   <statsmodels.regression.linear_model.Regressio...  \n",
       "2   <statsmodels.regression.linear_model.Regressio...  \n",
       "3   <statsmodels.regression.linear_model.Regressio...  \n",
       "4   <statsmodels.regression.linear_model.Regressio...  \n",
       "5   <statsmodels.regression.linear_model.Regressio...  \n",
       "6   <statsmodels.regression.linear_model.Regressio...  \n",
       "7   <statsmodels.regression.linear_model.Regressio...  \n",
       "8   <statsmodels.regression.linear_model.Regressio...  \n",
       "9   <statsmodels.regression.linear_model.Regressio...  \n",
       "10  <statsmodels.regression.linear_model.Regressio...  \n",
       "11  <statsmodels.regression.linear_model.Regressio...  \n",
       "12  <statsmodels.regression.linear_model.Regressio...  \n",
       "13  <statsmodels.regression.linear_model.Regressio...  \n",
       "14  <statsmodels.regression.linear_model.Regressio...  \n",
       "15  <statsmodels.regression.linear_model.Regressio...  \n",
       "16  <statsmodels.regression.linear_model.Regressio...  \n",
       "17  <statsmodels.regression.linear_model.Regressio...  \n",
       "18  <statsmodels.regression.linear_model.Regressio...  \n",
       "19  <statsmodels.regression.linear_model.Regressio...  "
      ]
     },
     "execution_count": 55,
     "metadata": {},
     "output_type": "execute_result"
    }
   ],
   "source": [
    "bestsub_results = pd.read_pickle('../../data/feature_mse_test.pkl')\n",
    "bestsub_results"
   ]
  },
  {
   "cell_type": "code",
   "execution_count": null,
   "id": "8813db5e",
   "metadata": {
    "scrolled": true
   },
   "outputs": [
    {
     "name": "stderr",
     "output_type": "stream",
     "text": [
      "C:\\Users\\admin\\AppData\\Local\\Temp\\ipykernel_10384\\440207555.py:3: FutureWarning: Series.__getitem__ treating keys as positions is deprecated. In a future version, integer keys will always be treated as labels (consistent with DataFrame behavior). To access a value by position, use `ser.iloc[pos]`\n",
      "  model = row[1]\n",
      "C:\\Users\\admin\\AppData\\Local\\Temp\\ipykernel_10384\\440207555.py:4: FutureWarning: Series.__getitem__ treating keys as positions is deprecated. In a future version, integer keys will always be treated as labels (consistent with DataFrame behavior). To access a value by position, use `ser.iloc[pos]`\n",
      "  pred = model.predict(sm.add_constant(X_train[row[0]]))\n",
      "C:\\Users\\admin\\AppData\\Local\\Temp\\ipykernel_10384\\440207555.py:3: FutureWarning: Series.__getitem__ treating keys as positions is deprecated. In a future version, integer keys will always be treated as labels (consistent with DataFrame behavior). To access a value by position, use `ser.iloc[pos]`\n",
      "  model = row[1]\n",
      "C:\\Users\\admin\\AppData\\Local\\Temp\\ipykernel_10384\\440207555.py:4: FutureWarning: Series.__getitem__ treating keys as positions is deprecated. In a future version, integer keys will always be treated as labels (consistent with DataFrame behavior). To access a value by position, use `ser.iloc[pos]`\n",
      "  pred = model.predict(sm.add_constant(X_train[row[0]]))\n",
      "C:\\Users\\admin\\AppData\\Local\\Temp\\ipykernel_10384\\440207555.py:3: FutureWarning: Series.__getitem__ treating keys as positions is deprecated. In a future version, integer keys will always be treated as labels (consistent with DataFrame behavior). To access a value by position, use `ser.iloc[pos]`\n",
      "  model = row[1]\n",
      "C:\\Users\\admin\\AppData\\Local\\Temp\\ipykernel_10384\\440207555.py:4: FutureWarning: Series.__getitem__ treating keys as positions is deprecated. In a future version, integer keys will always be treated as labels (consistent with DataFrame behavior). To access a value by position, use `ser.iloc[pos]`\n",
      "  pred = model.predict(sm.add_constant(X_train[row[0]]))\n",
      "C:\\Users\\admin\\AppData\\Local\\Temp\\ipykernel_10384\\440207555.py:3: FutureWarning: Series.__getitem__ treating keys as positions is deprecated. In a future version, integer keys will always be treated as labels (consistent with DataFrame behavior). To access a value by position, use `ser.iloc[pos]`\n",
      "  model = row[1]\n",
      "C:\\Users\\admin\\AppData\\Local\\Temp\\ipykernel_10384\\440207555.py:4: FutureWarning: Series.__getitem__ treating keys as positions is deprecated. In a future version, integer keys will always be treated as labels (consistent with DataFrame behavior). To access a value by position, use `ser.iloc[pos]`\n",
      "  pred = model.predict(sm.add_constant(X_train[row[0]]))\n",
      "C:\\Users\\admin\\AppData\\Local\\Temp\\ipykernel_10384\\440207555.py:3: FutureWarning: Series.__getitem__ treating keys as positions is deprecated. In a future version, integer keys will always be treated as labels (consistent with DataFrame behavior). To access a value by position, use `ser.iloc[pos]`\n",
      "  model = row[1]\n",
      "C:\\Users\\admin\\AppData\\Local\\Temp\\ipykernel_10384\\440207555.py:4: FutureWarning: Series.__getitem__ treating keys as positions is deprecated. In a future version, integer keys will always be treated as labels (consistent with DataFrame behavior). To access a value by position, use `ser.iloc[pos]`\n",
      "  pred = model.predict(sm.add_constant(X_train[row[0]]))\n",
      "C:\\Users\\admin\\AppData\\Local\\Temp\\ipykernel_10384\\440207555.py:3: FutureWarning: Series.__getitem__ treating keys as positions is deprecated. In a future version, integer keys will always be treated as labels (consistent with DataFrame behavior). To access a value by position, use `ser.iloc[pos]`\n",
      "  model = row[1]\n",
      "C:\\Users\\admin\\AppData\\Local\\Temp\\ipykernel_10384\\440207555.py:4: FutureWarning: Series.__getitem__ treating keys as positions is deprecated. In a future version, integer keys will always be treated as labels (consistent with DataFrame behavior). To access a value by position, use `ser.iloc[pos]`\n",
      "  pred = model.predict(sm.add_constant(X_train[row[0]]))\n",
      "C:\\Users\\admin\\AppData\\Local\\Temp\\ipykernel_10384\\440207555.py:3: FutureWarning: Series.__getitem__ treating keys as positions is deprecated. In a future version, integer keys will always be treated as labels (consistent with DataFrame behavior). To access a value by position, use `ser.iloc[pos]`\n",
      "  model = row[1]\n",
      "C:\\Users\\admin\\AppData\\Local\\Temp\\ipykernel_10384\\440207555.py:4: FutureWarning: Series.__getitem__ treating keys as positions is deprecated. In a future version, integer keys will always be treated as labels (consistent with DataFrame behavior). To access a value by position, use `ser.iloc[pos]`\n",
      "  pred = model.predict(sm.add_constant(X_train[row[0]]))\n",
      "C:\\Users\\admin\\AppData\\Local\\Temp\\ipykernel_10384\\440207555.py:3: FutureWarning: Series.__getitem__ treating keys as positions is deprecated. In a future version, integer keys will always be treated as labels (consistent with DataFrame behavior). To access a value by position, use `ser.iloc[pos]`\n",
      "  model = row[1]\n",
      "C:\\Users\\admin\\AppData\\Local\\Temp\\ipykernel_10384\\440207555.py:4: FutureWarning: Series.__getitem__ treating keys as positions is deprecated. In a future version, integer keys will always be treated as labels (consistent with DataFrame behavior). To access a value by position, use `ser.iloc[pos]`\n",
      "  pred = model.predict(sm.add_constant(X_train[row[0]]))\n",
      "C:\\Users\\admin\\AppData\\Local\\Temp\\ipykernel_10384\\440207555.py:3: FutureWarning: Series.__getitem__ treating keys as positions is deprecated. In a future version, integer keys will always be treated as labels (consistent with DataFrame behavior). To access a value by position, use `ser.iloc[pos]`\n",
      "  model = row[1]\n",
      "C:\\Users\\admin\\AppData\\Local\\Temp\\ipykernel_10384\\440207555.py:4: FutureWarning: Series.__getitem__ treating keys as positions is deprecated. In a future version, integer keys will always be treated as labels (consistent with DataFrame behavior). To access a value by position, use `ser.iloc[pos]`\n",
      "  pred = model.predict(sm.add_constant(X_train[row[0]]))\n",
      "C:\\Users\\admin\\AppData\\Local\\Temp\\ipykernel_10384\\440207555.py:3: FutureWarning: Series.__getitem__ treating keys as positions is deprecated. In a future version, integer keys will always be treated as labels (consistent with DataFrame behavior). To access a value by position, use `ser.iloc[pos]`\n",
      "  model = row[1]\n",
      "C:\\Users\\admin\\AppData\\Local\\Temp\\ipykernel_10384\\440207555.py:4: FutureWarning: Series.__getitem__ treating keys as positions is deprecated. In a future version, integer keys will always be treated as labels (consistent with DataFrame behavior). To access a value by position, use `ser.iloc[pos]`\n",
      "  pred = model.predict(sm.add_constant(X_train[row[0]]))\n",
      "C:\\Users\\admin\\AppData\\Local\\Temp\\ipykernel_10384\\440207555.py:3: FutureWarning: Series.__getitem__ treating keys as positions is deprecated. In a future version, integer keys will always be treated as labels (consistent with DataFrame behavior). To access a value by position, use `ser.iloc[pos]`\n",
      "  model = row[1]\n",
      "C:\\Users\\admin\\AppData\\Local\\Temp\\ipykernel_10384\\440207555.py:4: FutureWarning: Series.__getitem__ treating keys as positions is deprecated. In a future version, integer keys will always be treated as labels (consistent with DataFrame behavior). To access a value by position, use `ser.iloc[pos]`\n",
      "  pred = model.predict(sm.add_constant(X_train[row[0]]))\n",
      "C:\\Users\\admin\\AppData\\Local\\Temp\\ipykernel_10384\\440207555.py:3: FutureWarning: Series.__getitem__ treating keys as positions is deprecated. In a future version, integer keys will always be treated as labels (consistent with DataFrame behavior). To access a value by position, use `ser.iloc[pos]`\n",
      "  model = row[1]\n",
      "C:\\Users\\admin\\AppData\\Local\\Temp\\ipykernel_10384\\440207555.py:4: FutureWarning: Series.__getitem__ treating keys as positions is deprecated. In a future version, integer keys will always be treated as labels (consistent with DataFrame behavior). To access a value by position, use `ser.iloc[pos]`\n",
      "  pred = model.predict(sm.add_constant(X_train[row[0]]))\n",
      "C:\\Users\\admin\\AppData\\Local\\Temp\\ipykernel_10384\\440207555.py:3: FutureWarning: Series.__getitem__ treating keys as positions is deprecated. In a future version, integer keys will always be treated as labels (consistent with DataFrame behavior). To access a value by position, use `ser.iloc[pos]`\n",
      "  model = row[1]\n",
      "C:\\Users\\admin\\AppData\\Local\\Temp\\ipykernel_10384\\440207555.py:4: FutureWarning: Series.__getitem__ treating keys as positions is deprecated. In a future version, integer keys will always be treated as labels (consistent with DataFrame behavior). To access a value by position, use `ser.iloc[pos]`\n",
      "  pred = model.predict(sm.add_constant(X_train[row[0]]))\n",
      "C:\\Users\\admin\\AppData\\Local\\Temp\\ipykernel_10384\\440207555.py:3: FutureWarning: Series.__getitem__ treating keys as positions is deprecated. In a future version, integer keys will always be treated as labels (consistent with DataFrame behavior). To access a value by position, use `ser.iloc[pos]`\n",
      "  model = row[1]\n",
      "C:\\Users\\admin\\AppData\\Local\\Temp\\ipykernel_10384\\440207555.py:4: FutureWarning: Series.__getitem__ treating keys as positions is deprecated. In a future version, integer keys will always be treated as labels (consistent with DataFrame behavior). To access a value by position, use `ser.iloc[pos]`\n",
      "  pred = model.predict(sm.add_constant(X_train[row[0]]))\n",
      "C:\\Users\\admin\\AppData\\Local\\Temp\\ipykernel_10384\\440207555.py:3: FutureWarning: Series.__getitem__ treating keys as positions is deprecated. In a future version, integer keys will always be treated as labels (consistent with DataFrame behavior). To access a value by position, use `ser.iloc[pos]`\n",
      "  model = row[1]\n",
      "C:\\Users\\admin\\AppData\\Local\\Temp\\ipykernel_10384\\440207555.py:4: FutureWarning: Series.__getitem__ treating keys as positions is deprecated. In a future version, integer keys will always be treated as labels (consistent with DataFrame behavior). To access a value by position, use `ser.iloc[pos]`\n",
      "  pred = model.predict(sm.add_constant(X_train[row[0]]))\n",
      "C:\\Users\\admin\\AppData\\Local\\Temp\\ipykernel_10384\\440207555.py:3: FutureWarning: Series.__getitem__ treating keys as positions is deprecated. In a future version, integer keys will always be treated as labels (consistent with DataFrame behavior). To access a value by position, use `ser.iloc[pos]`\n",
      "  model = row[1]\n",
      "C:\\Users\\admin\\AppData\\Local\\Temp\\ipykernel_10384\\440207555.py:4: FutureWarning: Series.__getitem__ treating keys as positions is deprecated. In a future version, integer keys will always be treated as labels (consistent with DataFrame behavior). To access a value by position, use `ser.iloc[pos]`\n",
      "  pred = model.predict(sm.add_constant(X_train[row[0]]))\n",
      "C:\\Users\\admin\\AppData\\Local\\Temp\\ipykernel_10384\\440207555.py:3: FutureWarning: Series.__getitem__ treating keys as positions is deprecated. In a future version, integer keys will always be treated as labels (consistent with DataFrame behavior). To access a value by position, use `ser.iloc[pos]`\n",
      "  model = row[1]\n",
      "C:\\Users\\admin\\AppData\\Local\\Temp\\ipykernel_10384\\440207555.py:4: FutureWarning: Series.__getitem__ treating keys as positions is deprecated. In a future version, integer keys will always be treated as labels (consistent with DataFrame behavior). To access a value by position, use `ser.iloc[pos]`\n",
      "  pred = model.predict(sm.add_constant(X_train[row[0]]))\n",
      "C:\\Users\\admin\\AppData\\Local\\Temp\\ipykernel_10384\\440207555.py:3: FutureWarning: Series.__getitem__ treating keys as positions is deprecated. In a future version, integer keys will always be treated as labels (consistent with DataFrame behavior). To access a value by position, use `ser.iloc[pos]`\n",
      "  model = row[1]\n",
      "C:\\Users\\admin\\AppData\\Local\\Temp\\ipykernel_10384\\440207555.py:4: FutureWarning: Series.__getitem__ treating keys as positions is deprecated. In a future version, integer keys will always be treated as labels (consistent with DataFrame behavior). To access a value by position, use `ser.iloc[pos]`\n",
      "  pred = model.predict(sm.add_constant(X_train[row[0]]))\n",
      "C:\\Users\\admin\\AppData\\Local\\Temp\\ipykernel_10384\\440207555.py:3: FutureWarning: Series.__getitem__ treating keys as positions is deprecated. In a future version, integer keys will always be treated as labels (consistent with DataFrame behavior). To access a value by position, use `ser.iloc[pos]`\n",
      "  model = row[1]\n",
      "C:\\Users\\admin\\AppData\\Local\\Temp\\ipykernel_10384\\440207555.py:4: FutureWarning: Series.__getitem__ treating keys as positions is deprecated. In a future version, integer keys will always be treated as labels (consistent with DataFrame behavior). To access a value by position, use `ser.iloc[pos]`\n",
      "  pred = model.predict(sm.add_constant(X_train[row[0]]))\n",
      "C:\\Users\\admin\\AppData\\Local\\Temp\\ipykernel_10384\\440207555.py:3: FutureWarning: Series.__getitem__ treating keys as positions is deprecated. In a future version, integer keys will always be treated as labels (consistent with DataFrame behavior). To access a value by position, use `ser.iloc[pos]`\n",
      "  model = row[1]\n",
      "C:\\Users\\admin\\AppData\\Local\\Temp\\ipykernel_10384\\440207555.py:4: FutureWarning: Series.__getitem__ treating keys as positions is deprecated. In a future version, integer keys will always be treated as labels (consistent with DataFrame behavior). To access a value by position, use `ser.iloc[pos]`\n",
      "  pred = model.predict(sm.add_constant(X_train[row[0]]))\n"
     ]
    }
   ],
   "source": [
    "training_MSEs = []\n",
    "for idx, row in bestsub_results.iterrows():\n",
    "    model = row.iloc[1]  # Use iloc for positional indexing\n",
    "    pred = model.predict(sm.add_constant(X_train[row.iloc[0]]))  # Use iloc for positional indexing\n",
    "    mse = mean_squared_error(y_train, pred)\n",
    "    training_MSEs.append(mse)"
   ]
  },
  {
   "cell_type": "code",
   "execution_count": null,
   "id": "2f11a707",
   "metadata": {},
   "outputs": [
    {
     "data": {
      "image/png": "[encoded data removed]",
      "text/plain": [
       "<Figure size 640x480 with 1 Axes>"
      ]
     },
     "metadata": {},
     "output_type": "display_data"
    }
   ],
   "source": [
    "plt.plot(training_MSEs, marker='o')\n",
    "plt.xlabel('Number of features')\n",
    "plt.ylabel('Training MSE')\n",
    "plt.xticks(np.arange(0, X_train.shape[1], 1))\n",
    "\n",
    "plt.plot(np.argmin(training_MSEs), np.min(training_MSEs), 'gx', markersize=20)\n",
    "plt.grid()"
   ]
  },
  {
   "cell_type": "markdown",
   "id": "8c553f17",
   "metadata": {},
   "source": [
    "### 10.d"
   ]
  },
  {
   "cell_type": "code",
   "execution_count": null,
   "id": "42e5ee91",
   "metadata": {},
   "outputs": [
    {
     "name": "stderr",
     "output_type": "stream",
     "text": [
      "C:\\Users\\admin\\AppData\\Local\\Temp\\ipykernel_10384\\1523619692.py:3: FutureWarning: Series.__getitem__ treating keys as positions is deprecated. In a future version, integer keys will always be treated as labels (consistent with DataFrame behavior). To access a value by position, use `ser.iloc[pos]`\n",
      "  model = row[1]\n",
      "C:\\Users\\admin\\AppData\\Local\\Temp\\ipykernel_10384\\1523619692.py:4: FutureWarning: Series.__getitem__ treating keys as positions is deprecated. In a future version, integer keys will always be treated as labels (consistent with DataFrame behavior). To access a value by position, use `ser.iloc[pos]`\n",
      "  pred = model.predict(sm.add_constant(X_test[row[0]]))\n",
      "C:\\Users\\admin\\AppData\\Local\\Temp\\ipykernel_10384\\1523619692.py:3: FutureWarning: Series.__getitem__ treating keys as positions is deprecated. In a future version, integer keys will always be treated as labels (consistent with DataFrame behavior). To access a value by position, use `ser.iloc[pos]`\n",
      "  model = row[1]\n",
      "C:\\Users\\admin\\AppData\\Local\\Temp\\ipykernel_10384\\1523619692.py:4: FutureWarning: Series.__getitem__ treating keys as positions is deprecated. In a future version, integer keys will always be treated as labels (consistent with DataFrame behavior). To access a value by position, use `ser.iloc[pos]`\n",
      "  pred = model.predict(sm.add_constant(X_test[row[0]]))\n",
      "C:\\Users\\admin\\AppData\\Local\\Temp\\ipykernel_10384\\1523619692.py:3: FutureWarning: Series.__getitem__ treating keys as positions is deprecated. In a future version, integer keys will always be treated as labels (consistent with DataFrame behavior). To access a value by position, use `ser.iloc[pos]`\n",
      "  model = row[1]\n",
      "C:\\Users\\admin\\AppData\\Local\\Temp\\ipykernel_10384\\1523619692.py:4: FutureWarning: Series.__getitem__ treating keys as positions is deprecated. In a future version, integer keys will always be treated as labels (consistent with DataFrame behavior). To access a value by position, use `ser.iloc[pos]`\n",
      "  pred = model.predict(sm.add_constant(X_test[row[0]]))\n",
      "C:\\Users\\admin\\AppData\\Local\\Temp\\ipykernel_10384\\1523619692.py:3: FutureWarning: Series.__getitem__ treating keys as positions is deprecated. In a future version, integer keys will always be treated as labels (consistent with DataFrame behavior). To access a value by position, use `ser.iloc[pos]`\n",
      "  model = row[1]\n",
      "C:\\Users\\admin\\AppData\\Local\\Temp\\ipykernel_10384\\1523619692.py:4: FutureWarning: Series.__getitem__ treating keys as positions is deprecated. In a future version, integer keys will always be treated as labels (consistent with DataFrame behavior). To access a value by position, use `ser.iloc[pos]`\n",
      "  pred = model.predict(sm.add_constant(X_test[row[0]]))\n",
      "C:\\Users\\admin\\AppData\\Local\\Temp\\ipykernel_10384\\1523619692.py:3: FutureWarning: Series.__getitem__ treating keys as positions is deprecated. In a future version, integer keys will always be treated as labels (consistent with DataFrame behavior). To access a value by position, use `ser.iloc[pos]`\n",
      "  model = row[1]\n",
      "C:\\Users\\admin\\AppData\\Local\\Temp\\ipykernel_10384\\1523619692.py:4: FutureWarning: Series.__getitem__ treating keys as positions is deprecated. In a future version, integer keys will always be treated as labels (consistent with DataFrame behavior). To access a value by position, use `ser.iloc[pos]`\n",
      "  pred = model.predict(sm.add_constant(X_test[row[0]]))\n",
      "C:\\Users\\admin\\AppData\\Local\\Temp\\ipykernel_10384\\1523619692.py:3: FutureWarning: Series.__getitem__ treating keys as positions is deprecated. In a future version, integer keys will always be treated as labels (consistent with DataFrame behavior). To access a value by position, use `ser.iloc[pos]`\n",
      "  model = row[1]\n",
      "C:\\Users\\admin\\AppData\\Local\\Temp\\ipykernel_10384\\1523619692.py:4: FutureWarning: Series.__getitem__ treating keys as positions is deprecated. In a future version, integer keys will always be treated as labels (consistent with DataFrame behavior). To access a value by position, use `ser.iloc[pos]`\n",
      "  pred = model.predict(sm.add_constant(X_test[row[0]]))\n",
      "C:\\Users\\admin\\AppData\\Local\\Temp\\ipykernel_10384\\1523619692.py:3: FutureWarning: Series.__getitem__ treating keys as positions is deprecated. In a future version, integer keys will always be treated as labels (consistent with DataFrame behavior). To access a value by position, use `ser.iloc[pos]`\n",
      "  model = row[1]\n",
      "C:\\Users\\admin\\AppData\\Local\\Temp\\ipykernel_10384\\1523619692.py:4: FutureWarning: Series.__getitem__ treating keys as positions is deprecated. In a future version, integer keys will always be treated as labels (consistent with DataFrame behavior). To access a value by position, use `ser.iloc[pos]`\n",
      "  pred = model.predict(sm.add_constant(X_test[row[0]]))\n",
      "C:\\Users\\admin\\AppData\\Local\\Temp\\ipykernel_10384\\1523619692.py:3: FutureWarning: Series.__getitem__ treating keys as positions is deprecated. In a future version, integer keys will always be treated as labels (consistent with DataFrame behavior). To access a value by position, use `ser.iloc[pos]`\n",
      "  model = row[1]\n",
      "C:\\Users\\admin\\AppData\\Local\\Temp\\ipykernel_10384\\1523619692.py:4: FutureWarning: Series.__getitem__ treating keys as positions is deprecated. In a future version, integer keys will always be treated as labels (consistent with DataFrame behavior). To access a value by position, use `ser.iloc[pos]`\n",
      "  pred = model.predict(sm.add_constant(X_test[row[0]]))\n",
      "C:\\Users\\admin\\AppData\\Local\\Temp\\ipykernel_10384\\1523619692.py:3: FutureWarning: Series.__getitem__ treating keys as positions is deprecated. In a future version, integer keys will always be treated as labels (consistent with DataFrame behavior). To access a value by position, use `ser.iloc[pos]`\n",
      "  model = row[1]\n",
      "C:\\Users\\admin\\AppData\\Local\\Temp\\ipykernel_10384\\1523619692.py:4: FutureWarning: Series.__getitem__ treating keys as positions is deprecated. In a future version, integer keys will always be treated as labels (consistent with DataFrame behavior). To access a value by position, use `ser.iloc[pos]`\n",
      "  pred = model.predict(sm.add_constant(X_test[row[0]]))\n",
      "C:\\Users\\admin\\AppData\\Local\\Temp\\ipykernel_10384\\1523619692.py:3: FutureWarning: Series.__getitem__ treating keys as positions is deprecated. In a future version, integer keys will always be treated as labels (consistent with DataFrame behavior). To access a value by position, use `ser.iloc[pos]`\n",
      "  model = row[1]\n",
      "C:\\Users\\admin\\AppData\\Local\\Temp\\ipykernel_10384\\1523619692.py:4: FutureWarning: Series.__getitem__ treating keys as positions is deprecated. In a future version, integer keys will always be treated as labels (consistent with DataFrame behavior). To access a value by position, use `ser.iloc[pos]`\n",
      "  pred = model.predict(sm.add_constant(X_test[row[0]]))\n",
      "C:\\Users\\admin\\AppData\\Local\\Temp\\ipykernel_10384\\1523619692.py:3: FutureWarning: Series.__getitem__ treating keys as positions is deprecated. In a future version, integer keys will always be treated as labels (consistent with DataFrame behavior). To access a value by position, use `ser.iloc[pos]`\n",
      "  model = row[1]\n",
      "C:\\Users\\admin\\AppData\\Local\\Temp\\ipykernel_10384\\1523619692.py:4: FutureWarning: Series.__getitem__ treating keys as positions is deprecated. In a future version, integer keys will always be treated as labels (consistent with DataFrame behavior). To access a value by position, use `ser.iloc[pos]`\n",
      "  pred = model.predict(sm.add_constant(X_test[row[0]]))\n",
      "C:\\Users\\admin\\AppData\\Local\\Temp\\ipykernel_10384\\1523619692.py:3: FutureWarning: Series.__getitem__ treating keys as positions is deprecated. In a future version, integer keys will always be treated as labels (consistent with DataFrame behavior). To access a value by position, use `ser.iloc[pos]`\n",
      "  model = row[1]\n",
      "C:\\Users\\admin\\AppData\\Local\\Temp\\ipykernel_10384\\1523619692.py:4: FutureWarning: Series.__getitem__ treating keys as positions is deprecated. In a future version, integer keys will always be treated as labels (consistent with DataFrame behavior). To access a value by position, use `ser.iloc[pos]`\n",
      "  pred = model.predict(sm.add_constant(X_test[row[0]]))\n",
      "C:\\Users\\admin\\AppData\\Local\\Temp\\ipykernel_10384\\1523619692.py:3: FutureWarning: Series.__getitem__ treating keys as positions is deprecated. In a future version, integer keys will always be treated as labels (consistent with DataFrame behavior). To access a value by position, use `ser.iloc[pos]`\n",
      "  model = row[1]\n",
      "C:\\Users\\admin\\AppData\\Local\\Temp\\ipykernel_10384\\1523619692.py:4: FutureWarning: Series.__getitem__ treating keys as positions is deprecated. In a future version, integer keys will always be treated as labels (consistent with DataFrame behavior). To access a value by position, use `ser.iloc[pos]`\n",
      "  pred = model.predict(sm.add_constant(X_test[row[0]]))\n",
      "C:\\Users\\admin\\AppData\\Local\\Temp\\ipykernel_10384\\1523619692.py:3: FutureWarning: Series.__getitem__ treating keys as positions is deprecated. In a future version, integer keys will always be treated as labels (consistent with DataFrame behavior). To access a value by position, use `ser.iloc[pos]`\n",
      "  model = row[1]\n",
      "C:\\Users\\admin\\AppData\\Local\\Temp\\ipykernel_10384\\1523619692.py:4: FutureWarning: Series.__getitem__ treating keys as positions is deprecated. In a future version, integer keys will always be treated as labels (consistent with DataFrame behavior). To access a value by position, use `ser.iloc[pos]`\n",
      "  pred = model.predict(sm.add_constant(X_test[row[0]]))\n",
      "C:\\Users\\admin\\AppData\\Local\\Temp\\ipykernel_10384\\1523619692.py:3: FutureWarning: Series.__getitem__ treating keys as positions is deprecated. In a future version, integer keys will always be treated as labels (consistent with DataFrame behavior). To access a value by position, use `ser.iloc[pos]`\n",
      "  model = row[1]\n",
      "C:\\Users\\admin\\AppData\\Local\\Temp\\ipykernel_10384\\1523619692.py:4: FutureWarning: Series.__getitem__ treating keys as positions is deprecated. In a future version, integer keys will always be treated as labels (consistent with DataFrame behavior). To access a value by position, use `ser.iloc[pos]`\n",
      "  pred = model.predict(sm.add_constant(X_test[row[0]]))\n",
      "C:\\Users\\admin\\AppData\\Local\\Temp\\ipykernel_10384\\1523619692.py:3: FutureWarning: Series.__getitem__ treating keys as positions is deprecated. In a future version, integer keys will always be treated as labels (consistent with DataFrame behavior). To access a value by position, use `ser.iloc[pos]`\n",
      "  model = row[1]\n",
      "C:\\Users\\admin\\AppData\\Local\\Temp\\ipykernel_10384\\1523619692.py:4: FutureWarning: Series.__getitem__ treating keys as positions is deprecated. In a future version, integer keys will always be treated as labels (consistent with DataFrame behavior). To access a value by position, use `ser.iloc[pos]`\n",
      "  pred = model.predict(sm.add_constant(X_test[row[0]]))\n",
      "C:\\Users\\admin\\AppData\\Local\\Temp\\ipykernel_10384\\1523619692.py:3: FutureWarning: Series.__getitem__ treating keys as positions is deprecated. In a future version, integer keys will always be treated as labels (consistent with DataFrame behavior). To access a value by position, use `ser.iloc[pos]`\n",
      "  model = row[1]\n",
      "C:\\Users\\admin\\AppData\\Local\\Temp\\ipykernel_10384\\1523619692.py:4: FutureWarning: Series.__getitem__ treating keys as positions is deprecated. In a future version, integer keys will always be treated as labels (consistent with DataFrame behavior). To access a value by position, use `ser.iloc[pos]`\n",
      "  pred = model.predict(sm.add_constant(X_test[row[0]]))\n",
      "C:\\Users\\admin\\AppData\\Local\\Temp\\ipykernel_10384\\1523619692.py:3: FutureWarning: Series.__getitem__ treating keys as positions is deprecated. In a future version, integer keys will always be treated as labels (consistent with DataFrame behavior). To access a value by position, use `ser.iloc[pos]`\n",
      "  model = row[1]\n",
      "C:\\Users\\admin\\AppData\\Local\\Temp\\ipykernel_10384\\1523619692.py:4: FutureWarning: Series.__getitem__ treating keys as positions is deprecated. In a future version, integer keys will always be treated as labels (consistent with DataFrame behavior). To access a value by position, use `ser.iloc[pos]`\n",
      "  pred = model.predict(sm.add_constant(X_test[row[0]]))\n",
      "C:\\Users\\admin\\AppData\\Local\\Temp\\ipykernel_10384\\1523619692.py:3: FutureWarning: Series.__getitem__ treating keys as positions is deprecated. In a future version, integer keys will always be treated as labels (consistent with DataFrame behavior). To access a value by position, use `ser.iloc[pos]`\n",
      "  model = row[1]\n",
      "C:\\Users\\admin\\AppData\\Local\\Temp\\ipykernel_10384\\1523619692.py:4: FutureWarning: Series.__getitem__ treating keys as positions is deprecated. In a future version, integer keys will always be treated as labels (consistent with DataFrame behavior). To access a value by position, use `ser.iloc[pos]`\n",
      "  pred = model.predict(sm.add_constant(X_test[row[0]]))\n",
      "C:\\Users\\admin\\AppData\\Local\\Temp\\ipykernel_10384\\1523619692.py:3: FutureWarning: Series.__getitem__ treating keys as positions is deprecated. In a future version, integer keys will always be treated as labels (consistent with DataFrame behavior). To access a value by position, use `ser.iloc[pos]`\n",
      "  model = row[1]\n",
      "C:\\Users\\admin\\AppData\\Local\\Temp\\ipykernel_10384\\1523619692.py:4: FutureWarning: Series.__getitem__ treating keys as positions is deprecated. In a future version, integer keys will always be treated as labels (consistent with DataFrame behavior). To access a value by position, use `ser.iloc[pos]`\n",
      "  pred = model.predict(sm.add_constant(X_test[row[0]]))\n"
     ]
    }
   ],
   "source": [
    "test_MSEs = []\n",
    "for idx, row in bestsub_results.iterrows():\n",
    "    model = row.iloc[1]\n",
    "    pred = model.predict(sm.add_constant(X_test[row.iloc[0]]))\n",
    "    mse = mean_squared_error(y_test, pred)\n",
    "    test_MSEs.append(mse)    "
   ]
  },
  {
   "cell_type": "code",
   "execution_count": null,
   "id": "751f541e",
   "metadata": {},
   "outputs": [
    {
     "data": {
      "image/png": "[encoded data removed]",
      "text/plain": [
       "<Figure size 640x480 with 1 Axes>"
      ]
     },
     "metadata": {},
     "output_type": "display_data"
    }
   ],
   "source": [
    "plt.plot(test_MSEs, marker='o')\n",
    "plt.xlabel('Number of features')\n",
    "plt.ylabel('Test MSE')\n",
    "plt.xticks(np.arange(0, X_train.shape[1], 1))\n",
    "\n",
    "plt.plot(np.argmin(test_MSEs), np.min(test_MSEs), 'gx', markersize=20)\n",
    "plt.grid()"
   ]
  },
  {
   "cell_type": "markdown",
   "id": "9c065bc8",
   "metadata": {},
   "source": [
    "### 10.e\n",
    "\n",
    "Based on the results obtained, it is clear that the test MSE reaches its minimum value when `M=16`. When only considering the training MSE values, it is expected that the resulting model would contain all the features. However, when examining the test MSE values of the best subset selection results, it is important to note that training MSE is not a reliable estimator of test MSE. Thus, the best subset selection algorithm has identified a model containing only 16 features that achieves the lowest test MSE.\n"
   ]
  },
  {
   "cell_type": "markdown",
   "id": "5529fbf7",
   "metadata": {},
   "source": [
    "### 10.f"
   ]
  },
  {
   "cell_type": "code",
   "execution_count": null,
   "id": "553c24aa",
   "metadata": {},
   "outputs": [
    {
     "data": {
      "application/vnd.microsoft.datawrangler.viewer.v0+json": {
       "columns": [
        {
         "name": "index",
         "rawType": "object",
         "type": "string"
        },
        {
         "name": "0",
         "rawType": "float64",
         "type": "float"
        }
       ],
       "ref": "143d0ee9-dc13-4690-9a0b-fa7c32c57ce7",
       "rows": [
        [
         "const",
         "5.008684441634838"
        ],
        [
         "Feature_1",
         "8.436100322469695"
        ],
        [
         "Feature_2",
         "8.420017508103511"
        ],
        [
         "Feature_3",
         "9.989319740847664"
        ],
        [
         "Feature_4",
         "-6.039840975676598"
        ],
        [
         "Feature_6",
         "-6.820919118478695"
        ],
        [
         "Feature_7",
         "-6.832603531411014"
        ],
        [
         "Feature_8",
         "2.307929109418344"
        ],
        [
         "Feature_9",
         "4.835346439974258"
        ],
        [
         "Feature_10",
         "3.043207254694393"
        ],
        [
         "Feature_11",
         "-2.7043480214517595"
        ],
        [
         "Feature_12",
         "18.236243895441547"
        ],
        [
         "Feature_14",
         "-3.6870125525251245"
        ],
        [
         "Feature_16",
         "14.593598721385181"
        ],
        [
         "Feature_17",
         "11.68596866282764"
        ],
        [
         "Feature_18",
         "18.943362593361236"
        ],
        [
         "Feature_19",
         "4.5215529625416755"
        ]
       ],
       "shape": {
        "columns": 1,
        "rows": 17
       }
      },
      "text/plain": [
       "const          5.008684\n",
       "Feature_1      8.436100\n",
       "Feature_2      8.420018\n",
       "Feature_3      9.989320\n",
       "Feature_4     -6.039841\n",
       "Feature_6     -6.820919\n",
       "Feature_7     -6.832604\n",
       "Feature_8      2.307929\n",
       "Feature_9      4.835346\n",
       "Feature_10     3.043207\n",
       "Feature_11    -2.704348\n",
       "Feature_12    18.236244\n",
       "Feature_14    -3.687013\n",
       "Feature_16    14.593599\n",
       "Feature_17    11.685969\n",
       "Feature_18    18.943363\n",
       "Feature_19     4.521553\n",
       "dtype: float64"
      ]
     },
     "execution_count": 60,
     "metadata": {},
     "output_type": "execute_result"
    }
   ],
   "source": [
    "# Coefficient Estimates\n",
    "bestsub_results.model[15].params"
   ]
  },
  {
   "cell_type": "code",
   "execution_count": null,
   "id": "85b70c06",
   "metadata": {},
   "outputs": [
    {
     "data": {
      "application/vnd.microsoft.datawrangler.viewer.v0+json": {
       "columns": [
        {
         "name": "index",
         "rawType": "object",
         "type": "string"
        },
        {
         "name": "0",
         "rawType": "int32",
         "type": "integer"
        }
       ],
       "ref": "d5ff51c3-d65e-4812-ac32-cb1c3c5163be",
       "rows": [
        [
         "Feature_1",
         "6"
        ],
        [
         "Feature_2",
         "7"
        ],
        [
         "Feature_3",
         "14"
        ],
        [
         "Feature_4",
         "-7"
        ],
        [
         "Feature_5",
         "0"
        ],
        [
         "Feature_6",
         "-3"
        ],
        [
         "Feature_7",
         "-7"
        ],
        [
         "Feature_8",
         "0"
        ],
        [
         "Feature_9",
         "4"
        ],
        [
         "Feature_10",
         "2"
        ],
        [
         "Feature_11",
         "0"
        ],
        [
         "Feature_12",
         "19"
        ],
        [
         "Feature_13",
         "0"
        ],
        [
         "Feature_14",
         "-6"
        ],
        [
         "Feature_15",
         "0"
        ],
        [
         "Feature_16",
         "16"
        ],
        [
         "Feature_17",
         "11"
        ],
        [
         "Feature_18",
         "17"
        ],
        [
         "Feature_19",
         "2"
        ],
        [
         "Feature_20",
         "0"
        ]
       ],
       "shape": {
        "columns": 1,
        "rows": 20
       }
      },
      "text/plain": [
       "Feature_1      6\n",
       "Feature_2      7\n",
       "Feature_3     14\n",
       "Feature_4     -7\n",
       "Feature_5      0\n",
       "Feature_6     -3\n",
       "Feature_7     -7\n",
       "Feature_8      0\n",
       "Feature_9      4\n",
       "Feature_10     2\n",
       "Feature_11     0\n",
       "Feature_12    19\n",
       "Feature_13     0\n",
       "Feature_14    -6\n",
       "Feature_15     0\n",
       "Feature_16    16\n",
       "Feature_17    11\n",
       "Feature_18    17\n",
       "Feature_19     2\n",
       "Feature_20     0\n",
       "dtype: int32"
      ]
     },
     "execution_count": 61,
     "metadata": {},
     "output_type": "execute_result"
    }
   ],
   "source": [
    "# Actual Parameters\n",
    "pd.Series(betas, index=X_train.columns)"
   ]
  },
  {
   "cell_type": "markdown",
   "id": "de26d37e",
   "metadata": {},
   "source": [
    "### 10.g"
   ]
  },
  {
   "cell_type": "code",
   "execution_count": null,
   "id": "64fa44d7",
   "metadata": {},
   "outputs": [],
   "source": [
    "# TODO"
   ]
  },
  {
   "cell_type": "markdown",
   "id": "b28b69c1",
   "metadata": {},
   "source": [
    "## Question 11\n",
    "### 11.a"
   ]
  },
  {
   "cell_type": "code",
   "execution_count": null,
   "id": "e963c26a",
   "metadata": {},
   "outputs": [
    {
     "data": {
      "application/vnd.microsoft.datawrangler.viewer.v0+json": {
       "columns": [
        {
         "name": "index",
         "rawType": "int64",
         "type": "integer"
        },
        {
         "name": "crim",
         "rawType": "float64",
         "type": "float"
        },
        {
         "name": "zn",
         "rawType": "float64",
         "type": "float"
        },
        {
         "name": "indus",
         "rawType": "float64",
         "type": "float"
        },
        {
         "name": "chas",
         "rawType": "int64",
         "type": "integer"
        },
        {
         "name": "nox",
         "rawType": "float64",
         "type": "float"
        },
        {
         "name": "rm",
         "rawType": "float64",
         "type": "float"
        },
        {
         "name": "age",
         "rawType": "float64",
         "type": "float"
        },
        {
         "name": "dis",
         "rawType": "float64",
         "type": "float"
        },
        {
         "name": "rad",
         "rawType": "int64",
         "type": "integer"
        },
        {
         "name": "tax",
         "rawType": "int64",
         "type": "integer"
        },
        {
         "name": "ptratio",
         "rawType": "float64",
         "type": "float"
        },
        {
         "name": "lstat",
         "rawType": "float64",
         "type": "float"
        },
        {
         "name": "medv",
         "rawType": "float64",
         "type": "float"
        }
       ],
       "ref": "23300fe3-b430-453a-9f8e-14e3f01c2e3b",
       "rows": [
        [
         "1",
         "0.00632",
         "18.0",
         "2.31",
         "0",
         "0.538",
         "6.575",
         "65.2",
         "4.09",
         "1",
         "296",
         "15.3",
         "4.98",
         "24.0"
        ],
        [
         "2",
         "0.02731",
         "0.0",
         "7.07",
         "0",
         "0.469",
         "6.421",
         "78.9",
         "4.9671",
         "2",
         "242",
         "17.8",
         "9.14",
         "21.6"
        ],
        [
         "3",
         "0.02729",
         "0.0",
         "7.07",
         "0",
         "0.469",
         "7.185",
         "61.1",
         "4.9671",
         "2",
         "242",
         "17.8",
         "4.03",
         "34.7"
        ],
        [
         "4",
         "0.03237",
         "0.0",
         "2.18",
         "0",
         "0.458",
         "6.998",
         "45.8",
         "6.0622",
         "3",
         "222",
         "18.7",
         "2.94",
         "33.4"
        ],
        [
         "5",
         "0.06905",
         "0.0",
         "2.18",
         "0",
         "0.458",
         "7.147",
         "54.2",
         "6.0622",
         "3",
         "222",
         "18.7",
         "5.33",
         "36.2"
        ]
       ],
       "shape": {
        "columns": 13,
        "rows": 5
       }
      },
      "text/html": [
       "<div>\n",
       "<style scoped>\n",
       "    .dataframe tbody tr th:only-of-type {\n",
       "        vertical-align: middle;\n",
       "    }\n",
       "\n",
       "    .dataframe tbody tr th {\n",
       "        vertical-align: top;\n",
       "    }\n",
       "\n",
       "    .dataframe thead th {\n",
       "        text-align: right;\n",
       "    }\n",
       "</style>\n",
       "<table border=\"1\" class=\"dataframe\">\n",
       "  <thead>\n",
       "    <tr style=\"text-align: right;\">\n",
       "      <th></th>\n",
       "      <th>crim</th>\n",
       "      <th>zn</th>\n",
       "      <th>indus</th>\n",
       "      <th>chas</th>\n",
       "      <th>nox</th>\n",
       "      <th>rm</th>\n",
       "      <th>age</th>\n",
       "      <th>dis</th>\n",
       "      <th>rad</th>\n",
       "      <th>tax</th>\n",
       "      <th>ptratio</th>\n",
       "      <th>lstat</th>\n",
       "      <th>medv</th>\n",
       "    </tr>\n",
       "  </thead>\n",
       "  <tbody>\n",
       "    <tr>\n",
       "      <th>1</th>\n",
       "      <td>0.00632</td>\n",
       "      <td>18.0</td>\n",
       "      <td>2.31</td>\n",
       "      <td>0</td>\n",
       "      <td>0.538</td>\n",
       "      <td>6.575</td>\n",
       "      <td>65.2</td>\n",
       "      <td>4.0900</td>\n",
       "      <td>1</td>\n",
       "      <td>296</td>\n",
       "      <td>15.3</td>\n",
       "      <td>4.98</td>\n",
       "      <td>24.0</td>\n",
       "    </tr>\n",
       "    <tr>\n",
       "      <th>2</th>\n",
       "      <td>0.02731</td>\n",
       "      <td>0.0</td>\n",
       "      <td>7.07</td>\n",
       "      <td>0</td>\n",
       "      <td>0.469</td>\n",
       "      <td>6.421</td>\n",
       "      <td>78.9</td>\n",
       "      <td>4.9671</td>\n",
       "      <td>2</td>\n",
       "      <td>242</td>\n",
       "      <td>17.8</td>\n",
       "      <td>9.14</td>\n",
       "      <td>21.6</td>\n",
       "    </tr>\n",
       "    <tr>\n",
       "      <th>3</th>\n",
       "      <td>0.02729</td>\n",
       "      <td>0.0</td>\n",
       "      <td>7.07</td>\n",
       "      <td>0</td>\n",
       "      <td>0.469</td>\n",
       "      <td>7.185</td>\n",
       "      <td>61.1</td>\n",
       "      <td>4.9671</td>\n",
       "      <td>2</td>\n",
       "      <td>242</td>\n",
       "      <td>17.8</td>\n",
       "      <td>4.03</td>\n",
       "      <td>34.7</td>\n",
       "    </tr>\n",
       "    <tr>\n",
       "      <th>4</th>\n",
       "      <td>0.03237</td>\n",
       "      <td>0.0</td>\n",
       "      <td>2.18</td>\n",
       "      <td>0</td>\n",
       "      <td>0.458</td>\n",
       "      <td>6.998</td>\n",
       "      <td>45.8</td>\n",
       "      <td>6.0622</td>\n",
       "      <td>3</td>\n",
       "      <td>222</td>\n",
       "      <td>18.7</td>\n",
       "      <td>2.94</td>\n",
       "      <td>33.4</td>\n",
       "    </tr>\n",
       "    <tr>\n",
       "      <th>5</th>\n",
       "      <td>0.06905</td>\n",
       "      <td>0.0</td>\n",
       "      <td>2.18</td>\n",
       "      <td>0</td>\n",
       "      <td>0.458</td>\n",
       "      <td>7.147</td>\n",
       "      <td>54.2</td>\n",
       "      <td>6.0622</td>\n",
       "      <td>3</td>\n",
       "      <td>222</td>\n",
       "      <td>18.7</td>\n",
       "      <td>5.33</td>\n",
       "      <td>36.2</td>\n",
       "    </tr>\n",
       "  </tbody>\n",
       "</table>\n",
       "</div>"
      ],
      "text/plain": [
       "      crim    zn  indus  chas    nox     rm   age     dis  rad  tax  ptratio  \\\n",
       "1  0.00632  18.0   2.31     0  0.538  6.575  65.2  4.0900    1  296     15.3   \n",
       "2  0.02731   0.0   7.07     0  0.469  6.421  78.9  4.9671    2  242     17.8   \n",
       "3  0.02729   0.0   7.07     0  0.469  7.185  61.1  4.9671    2  242     17.8   \n",
       "4  0.03237   0.0   2.18     0  0.458  6.998  45.8  6.0622    3  222     18.7   \n",
       "5  0.06905   0.0   2.18     0  0.458  7.147  54.2  6.0622    3  222     18.7   \n",
       "\n",
       "   lstat  medv  \n",
       "1   4.98  24.0  \n",
       "2   9.14  21.6  \n",
       "3   4.03  34.7  \n",
       "4   2.94  33.4  \n",
       "5   5.33  36.2  "
      ]
     },
     "execution_count": 63,
     "metadata": {},
     "output_type": "execute_result"
    }
   ],
   "source": [
    "boston = pd.read_csv('../../data/boston.csv', index_col=0)\n",
    "boston.head()"
   ]
  },
  {
   "cell_type": "code",
   "execution_count": null,
   "id": "69f62a84",
   "metadata": {},
   "outputs": [],
   "source": [
    "X = boston.drop(['crim'], axis=1)\n",
    "y = boston.crim"
   ]
  },
  {
   "cell_type": "code",
   "execution_count": null,
   "id": "be86d986",
   "metadata": {},
   "outputs": [],
   "source": [
    "X_train, X_test, y_train, y_test = train_test_split(X, y, test_size=0.4, random_state=1)"
   ]
  },
  {
   "cell_type": "markdown",
   "id": "affc3eca",
   "metadata": {},
   "source": [
    "### 11.a Best subset selection"
   ]
  },
  {
   "cell_type": "code",
   "execution_count": null,
   "id": "eb0ab8f6",
   "metadata": {},
   "outputs": [
    {
     "name": "stderr",
     "output_type": "stream",
     "text": [
      "100%|██████████| 12/12 [00:06<00:00,  1.74it/s]\n"
     ]
    },
    {
     "data": {
      "application/vnd.microsoft.datawrangler.viewer.v0+json": {
       "columns": [
        {
         "name": "index",
         "rawType": "int64",
         "type": "integer"
        },
        {
         "name": "sub",
         "rawType": "object",
         "type": "unknown"
        },
        {
         "name": "model",
         "rawType": "object",
         "type": "unknown"
        }
       ],
       "ref": "1bd89f28-d363-4ce1-a749-0037a1a7bd45",
       "rows": [
        [
         "0",
         "['rad']",
         "<statsmodels.regression.linear_model.RegressionResultsWrapper object at 0x00000129F610C9B0>"
        ],
        [
         "1",
         "['rad', 'lstat']",
         "<statsmodels.regression.linear_model.RegressionResultsWrapper object at 0x00000129F66BD0A0>"
        ],
        [
         "2",
         "['zn', 'rad', 'lstat']",
         "<statsmodels.regression.linear_model.RegressionResultsWrapper object at 0x00000129F6090E60>"
        ],
        [
         "3",
         "['zn', 'dis', 'rad', 'medv']",
         "<statsmodels.regression.linear_model.RegressionResultsWrapper object at 0x00000129F66BC9E0>"
        ],
        [
         "4",
         "['zn', 'dis', 'rad', 'tax', 'medv']",
         "<statsmodels.regression.linear_model.RegressionResultsWrapper object at 0x00000129F5B83440>"
        ],
        [
         "5",
         "['zn', 'indus', 'dis', 'rad', 'lstat', 'medv']",
         "<statsmodels.regression.linear_model.RegressionResultsWrapper object at 0x00000129F60CE4B0>"
        ],
        [
         "6",
         "['zn', 'nox', 'dis', 'rad', 'ptratio', 'lstat', 'medv']",
         "<statsmodels.regression.linear_model.RegressionResultsWrapper object at 0x00000129F6093DA0>"
        ],
        [
         "7",
         "['zn', 'nox', 'dis', 'rad', 'tax', 'ptratio', 'lstat', 'medv']",
         "<statsmodels.regression.linear_model.RegressionResultsWrapper object at 0x00000129F5E90B30>"
        ],
        [
         "8",
         "['zn', 'indus', 'nox', 'dis', 'rad', 'tax', 'ptratio', 'lstat', 'medv']",
         "<statsmodels.regression.linear_model.RegressionResultsWrapper object at 0x00000129F5E6E450>"
        ],
        [
         "9",
         "['zn', 'indus', 'chas', 'nox', 'dis', 'rad', 'tax', 'ptratio', 'lstat', 'medv']",
         "<statsmodels.regression.linear_model.RegressionResultsWrapper object at 0x00000129F5E6F110>"
        ],
        [
         "10",
         "['zn', 'indus', 'chas', 'nox', 'rm', 'dis', 'rad', 'tax', 'ptratio', 'lstat', 'medv']",
         "<statsmodels.regression.linear_model.RegressionResultsWrapper object at 0x00000129F8728710>"
        ],
        [
         "11",
         "['zn', 'indus', 'chas', 'nox', 'rm', 'age', 'dis', 'rad', 'tax', 'ptratio', 'lstat', 'medv']",
         "<statsmodels.regression.linear_model.RegressionResultsWrapper object at 0x00000129F87D2AB0>"
        ]
       ],
       "shape": {
        "columns": 2,
        "rows": 12
       }
      },
      "text/html": [
       "<div>\n",
       "<style scoped>\n",
       "    .dataframe tbody tr th:only-of-type {\n",
       "        vertical-align: middle;\n",
       "    }\n",
       "\n",
       "    .dataframe tbody tr th {\n",
       "        vertical-align: top;\n",
       "    }\n",
       "\n",
       "    .dataframe thead th {\n",
       "        text-align: right;\n",
       "    }\n",
       "</style>\n",
       "<table border=\"1\" class=\"dataframe\">\n",
       "  <thead>\n",
       "    <tr style=\"text-align: right;\">\n",
       "      <th></th>\n",
       "      <th>sub</th>\n",
       "      <th>model</th>\n",
       "    </tr>\n",
       "  </thead>\n",
       "  <tbody>\n",
       "    <tr>\n",
       "      <th>0</th>\n",
       "      <td>[rad]</td>\n",
       "      <td>&lt;statsmodels.regression.linear_model.Regressio...</td>\n",
       "    </tr>\n",
       "    <tr>\n",
       "      <th>1</th>\n",
       "      <td>[rad, lstat]</td>\n",
       "      <td>&lt;statsmodels.regression.linear_model.Regressio...</td>\n",
       "    </tr>\n",
       "    <tr>\n",
       "      <th>2</th>\n",
       "      <td>[zn, rad, lstat]</td>\n",
       "      <td>&lt;statsmodels.regression.linear_model.Regressio...</td>\n",
       "    </tr>\n",
       "    <tr>\n",
       "      <th>3</th>\n",
       "      <td>[zn, dis, rad, medv]</td>\n",
       "      <td>&lt;statsmodels.regression.linear_model.Regressio...</td>\n",
       "    </tr>\n",
       "    <tr>\n",
       "      <th>4</th>\n",
       "      <td>[zn, dis, rad, tax, medv]</td>\n",
       "      <td>&lt;statsmodels.regression.linear_model.Regressio...</td>\n",
       "    </tr>\n",
       "    <tr>\n",
       "      <th>5</th>\n",
       "      <td>[zn, indus, dis, rad, lstat, medv]</td>\n",
       "      <td>&lt;statsmodels.regression.linear_model.Regressio...</td>\n",
       "    </tr>\n",
       "    <tr>\n",
       "      <th>6</th>\n",
       "      <td>[zn, nox, dis, rad, ptratio, lstat, medv]</td>\n",
       "      <td>&lt;statsmodels.regression.linear_model.Regressio...</td>\n",
       "    </tr>\n",
       "    <tr>\n",
       "      <th>7</th>\n",
       "      <td>[zn, nox, dis, rad, tax, ptratio, lstat, medv]</td>\n",
       "      <td>&lt;statsmodels.regression.linear_model.Regressio...</td>\n",
       "    </tr>\n",
       "    <tr>\n",
       "      <th>8</th>\n",
       "      <td>[zn, indus, nox, dis, rad, tax, ptratio, lstat...</td>\n",
       "      <td>&lt;statsmodels.regression.linear_model.Regressio...</td>\n",
       "    </tr>\n",
       "    <tr>\n",
       "      <th>9</th>\n",
       "      <td>[zn, indus, chas, nox, dis, rad, tax, ptratio,...</td>\n",
       "      <td>&lt;statsmodels.regression.linear_model.Regressio...</td>\n",
       "    </tr>\n",
       "    <tr>\n",
       "      <th>10</th>\n",
       "      <td>[zn, indus, chas, nox, rm, dis, rad, tax, ptra...</td>\n",
       "      <td>&lt;statsmodels.regression.linear_model.Regressio...</td>\n",
       "    </tr>\n",
       "    <tr>\n",
       "      <th>11</th>\n",
       "      <td>[zn, indus, chas, nox, rm, age, dis, rad, tax,...</td>\n",
       "      <td>&lt;statsmodels.regression.linear_model.Regressio...</td>\n",
       "    </tr>\n",
       "  </tbody>\n",
       "</table>\n",
       "</div>"
      ],
      "text/plain": [
       "                                                  sub  \\\n",
       "0                                               [rad]   \n",
       "1                                        [rad, lstat]   \n",
       "2                                    [zn, rad, lstat]   \n",
       "3                                [zn, dis, rad, medv]   \n",
       "4                           [zn, dis, rad, tax, medv]   \n",
       "5                  [zn, indus, dis, rad, lstat, medv]   \n",
       "6           [zn, nox, dis, rad, ptratio, lstat, medv]   \n",
       "7      [zn, nox, dis, rad, tax, ptratio, lstat, medv]   \n",
       "8   [zn, indus, nox, dis, rad, tax, ptratio, lstat...   \n",
       "9   [zn, indus, chas, nox, dis, rad, tax, ptratio,...   \n",
       "10  [zn, indus, chas, nox, rm, dis, rad, tax, ptra...   \n",
       "11  [zn, indus, chas, nox, rm, age, dis, rad, tax,...   \n",
       "\n",
       "                                                model  \n",
       "0   <statsmodels.regression.linear_model.Regressio...  \n",
       "1   <statsmodels.regression.linear_model.Regressio...  \n",
       "2   <statsmodels.regression.linear_model.Regressio...  \n",
       "3   <statsmodels.regression.linear_model.Regressio...  \n",
       "4   <statsmodels.regression.linear_model.Regressio...  \n",
       "5   <statsmodels.regression.linear_model.Regressio...  \n",
       "6   <statsmodels.regression.linear_model.Regressio...  \n",
       "7   <statsmodels.regression.linear_model.Regressio...  \n",
       "8   <statsmodels.regression.linear_model.Regressio...  \n",
       "9   <statsmodels.regression.linear_model.Regressio...  \n",
       "10  <statsmodels.regression.linear_model.Regressio...  \n",
       "11  <statsmodels.regression.linear_model.Regressio...  "
      ]
     },
     "execution_count": 66,
     "metadata": {},
     "output_type": "execute_result"
    }
   ],
   "source": [
    "bestsub_boston = find_best_subset(X_train, y_train, 12, 'boston_bestsub')\n",
    "bestsub_boston"
   ]
  },
  {
   "cell_type": "code",
   "execution_count": null,
   "id": "f1e67cb2",
   "metadata": {},
   "outputs": [
    {
     "name": "stderr",
     "output_type": "stream",
     "text": [
      "C:\\Users\\admin\\AppData\\Local\\Temp\\ipykernel_10384\\1301422458.py:3: FutureWarning: Series.__getitem__ treating keys as positions is deprecated. In a future version, integer keys will always be treated as labels (consistent with DataFrame behavior). To access a value by position, use `ser.iloc[pos]`\n",
      "  model = row[1]\n",
      "C:\\Users\\admin\\AppData\\Local\\Temp\\ipykernel_10384\\1301422458.py:4: FutureWarning: Series.__getitem__ treating keys as positions is deprecated. In a future version, integer keys will always be treated as labels (consistent with DataFrame behavior). To access a value by position, use `ser.iloc[pos]`\n",
      "  pred = model.predict(sm.add_constant(X_test[row[0]]))\n",
      "C:\\Users\\admin\\AppData\\Local\\Temp\\ipykernel_10384\\1301422458.py:3: FutureWarning: Series.__getitem__ treating keys as positions is deprecated. In a future version, integer keys will always be treated as labels (consistent with DataFrame behavior). To access a value by position, use `ser.iloc[pos]`\n",
      "  model = row[1]\n",
      "C:\\Users\\admin\\AppData\\Local\\Temp\\ipykernel_10384\\1301422458.py:4: FutureWarning: Series.__getitem__ treating keys as positions is deprecated. In a future version, integer keys will always be treated as labels (consistent with DataFrame behavior). To access a value by position, use `ser.iloc[pos]`\n",
      "  pred = model.predict(sm.add_constant(X_test[row[0]]))\n",
      "C:\\Users\\admin\\AppData\\Local\\Temp\\ipykernel_10384\\1301422458.py:3: FutureWarning: Series.__getitem__ treating keys as positions is deprecated. In a future version, integer keys will always be treated as labels (consistent with DataFrame behavior). To access a value by position, use `ser.iloc[pos]`\n",
      "  model = row[1]\n",
      "C:\\Users\\admin\\AppData\\Local\\Temp\\ipykernel_10384\\1301422458.py:4: FutureWarning: Series.__getitem__ treating keys as positions is deprecated. In a future version, integer keys will always be treated as labels (consistent with DataFrame behavior). To access a value by position, use `ser.iloc[pos]`\n",
      "  pred = model.predict(sm.add_constant(X_test[row[0]]))\n",
      "C:\\Users\\admin\\AppData\\Local\\Temp\\ipykernel_10384\\1301422458.py:3: FutureWarning: Series.__getitem__ treating keys as positions is deprecated. In a future version, integer keys will always be treated as labels (consistent with DataFrame behavior). To access a value by position, use `ser.iloc[pos]`\n",
      "  model = row[1]\n",
      "C:\\Users\\admin\\AppData\\Local\\Temp\\ipykernel_10384\\1301422458.py:4: FutureWarning: Series.__getitem__ treating keys as positions is deprecated. In a future version, integer keys will always be treated as labels (consistent with DataFrame behavior). To access a value by position, use `ser.iloc[pos]`\n",
      "  pred = model.predict(sm.add_constant(X_test[row[0]]))\n",
      "C:\\Users\\admin\\AppData\\Local\\Temp\\ipykernel_10384\\1301422458.py:3: FutureWarning: Series.__getitem__ treating keys as positions is deprecated. In a future version, integer keys will always be treated as labels (consistent with DataFrame behavior). To access a value by position, use `ser.iloc[pos]`\n",
      "  model = row[1]\n",
      "C:\\Users\\admin\\AppData\\Local\\Temp\\ipykernel_10384\\1301422458.py:4: FutureWarning: Series.__getitem__ treating keys as positions is deprecated. In a future version, integer keys will always be treated as labels (consistent with DataFrame behavior). To access a value by position, use `ser.iloc[pos]`\n",
      "  pred = model.predict(sm.add_constant(X_test[row[0]]))\n",
      "C:\\Users\\admin\\AppData\\Local\\Temp\\ipykernel_10384\\1301422458.py:3: FutureWarning: Series.__getitem__ treating keys as positions is deprecated. In a future version, integer keys will always be treated as labels (consistent with DataFrame behavior). To access a value by position, use `ser.iloc[pos]`\n",
      "  model = row[1]\n",
      "C:\\Users\\admin\\AppData\\Local\\Temp\\ipykernel_10384\\1301422458.py:4: FutureWarning: Series.__getitem__ treating keys as positions is deprecated. In a future version, integer keys will always be treated as labels (consistent with DataFrame behavior). To access a value by position, use `ser.iloc[pos]`\n",
      "  pred = model.predict(sm.add_constant(X_test[row[0]]))\n",
      "C:\\Users\\admin\\AppData\\Local\\Temp\\ipykernel_10384\\1301422458.py:3: FutureWarning: Series.__getitem__ treating keys as positions is deprecated. In a future version, integer keys will always be treated as labels (consistent with DataFrame behavior). To access a value by position, use `ser.iloc[pos]`\n",
      "  model = row[1]\n",
      "C:\\Users\\admin\\AppData\\Local\\Temp\\ipykernel_10384\\1301422458.py:4: FutureWarning: Series.__getitem__ treating keys as positions is deprecated. In a future version, integer keys will always be treated as labels (consistent with DataFrame behavior). To access a value by position, use `ser.iloc[pos]`\n",
      "  pred = model.predict(sm.add_constant(X_test[row[0]]))\n",
      "C:\\Users\\admin\\AppData\\Local\\Temp\\ipykernel_10384\\1301422458.py:3: FutureWarning: Series.__getitem__ treating keys as positions is deprecated. In a future version, integer keys will always be treated as labels (consistent with DataFrame behavior). To access a value by position, use `ser.iloc[pos]`\n",
      "  model = row[1]\n",
      "C:\\Users\\admin\\AppData\\Local\\Temp\\ipykernel_10384\\1301422458.py:4: FutureWarning: Series.__getitem__ treating keys as positions is deprecated. In a future version, integer keys will always be treated as labels (consistent with DataFrame behavior). To access a value by position, use `ser.iloc[pos]`\n",
      "  pred = model.predict(sm.add_constant(X_test[row[0]]))\n",
      "C:\\Users\\admin\\AppData\\Local\\Temp\\ipykernel_10384\\1301422458.py:3: FutureWarning: Series.__getitem__ treating keys as positions is deprecated. In a future version, integer keys will always be treated as labels (consistent with DataFrame behavior). To access a value by position, use `ser.iloc[pos]`\n",
      "  model = row[1]\n",
      "C:\\Users\\admin\\AppData\\Local\\Temp\\ipykernel_10384\\1301422458.py:4: FutureWarning: Series.__getitem__ treating keys as positions is deprecated. In a future version, integer keys will always be treated as labels (consistent with DataFrame behavior). To access a value by position, use `ser.iloc[pos]`\n",
      "  pred = model.predict(sm.add_constant(X_test[row[0]]))\n",
      "C:\\Users\\admin\\AppData\\Local\\Temp\\ipykernel_10384\\1301422458.py:3: FutureWarning: Series.__getitem__ treating keys as positions is deprecated. In a future version, integer keys will always be treated as labels (consistent with DataFrame behavior). To access a value by position, use `ser.iloc[pos]`\n",
      "  model = row[1]\n",
      "C:\\Users\\admin\\AppData\\Local\\Temp\\ipykernel_10384\\1301422458.py:4: FutureWarning: Series.__getitem__ treating keys as positions is deprecated. In a future version, integer keys will always be treated as labels (consistent with DataFrame behavior). To access a value by position, use `ser.iloc[pos]`\n",
      "  pred = model.predict(sm.add_constant(X_test[row[0]]))\n",
      "C:\\Users\\admin\\AppData\\Local\\Temp\\ipykernel_10384\\1301422458.py:3: FutureWarning: Series.__getitem__ treating keys as positions is deprecated. In a future version, integer keys will always be treated as labels (consistent with DataFrame behavior). To access a value by position, use `ser.iloc[pos]`\n",
      "  model = row[1]\n",
      "C:\\Users\\admin\\AppData\\Local\\Temp\\ipykernel_10384\\1301422458.py:4: FutureWarning: Series.__getitem__ treating keys as positions is deprecated. In a future version, integer keys will always be treated as labels (consistent with DataFrame behavior). To access a value by position, use `ser.iloc[pos]`\n",
      "  pred = model.predict(sm.add_constant(X_test[row[0]]))\n",
      "C:\\Users\\admin\\AppData\\Local\\Temp\\ipykernel_10384\\1301422458.py:3: FutureWarning: Series.__getitem__ treating keys as positions is deprecated. In a future version, integer keys will always be treated as labels (consistent with DataFrame behavior). To access a value by position, use `ser.iloc[pos]`\n",
      "  model = row[1]\n",
      "C:\\Users\\admin\\AppData\\Local\\Temp\\ipykernel_10384\\1301422458.py:4: FutureWarning: Series.__getitem__ treating keys as positions is deprecated. In a future version, integer keys will always be treated as labels (consistent with DataFrame behavior). To access a value by position, use `ser.iloc[pos]`\n",
      "  pred = model.predict(sm.add_constant(X_test[row[0]]))\n"
     ]
    }
   ],
   "source": [
    "test_MSEs = []\n",
    "for idx, row in bestsub_boston.iterrows():\n",
    "    model = row.iloc[1]\n",
    "    pred = model.predict(sm.add_constant(X_test[row.iloc[0]]))\n",
    "    mse = mean_squared_error(y_test, pred)\n",
    "    test_MSEs.append(mse)"
   ]
  },
  {
   "cell_type": "code",
   "execution_count": null,
   "id": "78838f65",
   "metadata": {},
   "outputs": [
    {
     "data": {
      "image/png": "[encoded data removed]",
      "text/plain": [
       "<Figure size 640x480 with 1 Axes>"
      ]
     },
     "metadata": {},
     "output_type": "display_data"
    }
   ],
   "source": [
    "plt.plot(test_MSEs, marker='o')\n",
    "plt.xlabel('Number of features')\n",
    "plt.ylabel('Test MSE')\n",
    "plt.xticks(np.arange(0, X_train.shape[1], 1))\n",
    "\n",
    "plt.plot(np.argmin(test_MSEs), np.min(test_MSEs), 'gx', markersize=20)\n",
    "plt.grid()"
   ]
  },
  {
   "cell_type": "code",
   "execution_count": null,
   "id": "628d5ef8",
   "metadata": {},
   "outputs": [
    {
     "data": {
      "text/plain": [
       "41.18668634182557"
      ]
     },
     "execution_count": 69,
     "metadata": {},
     "output_type": "execute_result"
    }
   ],
   "source": [
    "test_MSEs[9]"
   ]
  },
  {
   "cell_type": "markdown",
   "id": "b0e22032",
   "metadata": {},
   "source": [
    "### 11.a Ridge"
   ]
  },
  {
   "cell_type": "code",
   "execution_count": null,
   "id": "abc376e3",
   "metadata": {},
   "outputs": [
    {
     "name": "stderr",
     "output_type": "stream",
     "text": [
      "C:\\Users\\admin\\AppData\\Roaming\\Python\\Python312\\site-packages\\sklearn\\linear_model\\_ridge.py:2385: FutureWarning: 'store_cv_values' is deprecated in version 1.5 and will be removed in 1.7. Use 'store_cv_results' instead.\n",
      "  warnings.warn(\n"
     ]
    },
    {
     "name": "stdout",
     "output_type": "stream",
     "text": [
      "Optimal value of alpha chosen by cross-valiation: 0.394420605943766\n"
     ]
    }
   ],
   "source": [
    "alphas = np.logspace(-4, 0, 100)\n",
    "\n",
    "ridgecv = RidgeCV(alphas=alphas, store_cv_results=True)\n",
    "ridgecv.fit(X_train, y_train)\n",
    "\n",
    "print(f'Optimal value of alpha chosen by cross-valiation: {ridgecv.alpha_}')"
   ]
  },
  {
   "cell_type": "code",
   "execution_count": null,
   "id": "3dfb08c8",
   "metadata": {},
   "outputs": [
    {
     "name": "stderr",
     "output_type": "stream",
     "text": [
      "C:\\Users\\admin\\AppData\\Roaming\\Python\\Python312\\site-packages\\sklearn\\utils\\deprecation.py:110: FutureWarning: Attribute `cv_values_` is deprecated in version 1.5 and will be removed in 1.7. Use `cv_results_` instead.\n",
      "  warnings.warn(msg, category=FutureWarning)\n"
     ]
    },
    {
     "data": {
      "text/plain": [
       "43.94836307966232"
      ]
     },
     "execution_count": 71,
     "metadata": {},
     "output_type": "execute_result"
    }
   ],
   "source": [
    "# Min mse value obtained by cross-validation\n",
    "mses = np.mean(ridgecv.cv_results_, axis=0)\n",
    "min_mse = np.min(mses)\n",
    "min_mse"
   ]
  },
  {
   "cell_type": "code",
   "execution_count": null,
   "id": "85094d21",
   "metadata": {},
   "outputs": [
    {
     "data": {
      "application/vnd.microsoft.datawrangler.viewer.v0+json": {
       "columns": [
        {
         "name": "index",
         "rawType": "object",
         "type": "string"
        },
        {
         "name": "0",
         "rawType": "float64",
         "type": "float"
        }
       ],
       "ref": "19bbec8c-9825-41e2-8d5c-178f5627cee2",
       "rows": [
        [
         "zn",
         "0.07027213525338993"
        ],
        [
         "indus",
         "-0.09154496246617327"
        ],
        [
         "chas",
         "-0.9757648913418366"
        ],
        [
         "nox",
         "-8.31655916641575"
        ],
        [
         "rm",
         "-0.48136733147688915"
        ],
        [
         "age",
         "0.0033283048776411306"
        ],
        [
         "dis",
         "-1.0515658888668327"
        ],
        [
         "rad",
         "0.6821431380940339"
        ],
        [
         "tax",
         "-0.006094918287999462"
        ],
        [
         "ptratio",
         "-0.2891924069737115"
        ],
        [
         "lstat",
         "0.13729374511513015"
        ],
        [
         "medv",
         "-0.2149600379752883"
        ]
       ],
       "shape": {
        "columns": 1,
        "rows": 12
       }
      },
      "text/plain": [
       "zn         0.070272\n",
       "indus     -0.091545\n",
       "chas      -0.975765\n",
       "nox       -8.316559\n",
       "rm        -0.481367\n",
       "age        0.003328\n",
       "dis       -1.051566\n",
       "rad        0.682143\n",
       "tax       -0.006095\n",
       "ptratio   -0.289192\n",
       "lstat      0.137294\n",
       "medv      -0.214960\n",
       "dtype: float64"
      ]
     },
     "execution_count": 72,
     "metadata": {},
     "output_type": "execute_result"
    }
   ],
   "source": [
    "pd.Series(ridgecv.coef_.flatten(), index=X_train.columns)"
   ]
  },
  {
   "cell_type": "markdown",
   "id": "ad015fed",
   "metadata": {},
   "source": [
    "### 11.a Lasso"
   ]
  },
  {
   "cell_type": "code",
   "execution_count": null,
   "id": "8ef995a8",
   "metadata": {},
   "outputs": [
    {
     "name": "stdout",
     "output_type": "stream",
     "text": [
      "Optimal value of alpha chosen by cross-valiation: 0.0031257158496882354\n"
     ]
    }
   ],
   "source": [
    "lassocv = LassoCV(alphas=alphas, cv=10, max_iter=1000)\n",
    "lassocv.fit(X_train, y_train)\n",
    "\n",
    "print(f'Optimal value of alpha chosen by cross-valiation: {lassocv.alpha_}')"
   ]
  },
  {
   "cell_type": "code",
   "execution_count": null,
   "id": "1083235f",
   "metadata": {},
   "outputs": [
    {
     "data": {
      "text/plain": [
       "44.11314039601287"
      ]
     },
     "execution_count": 74,
     "metadata": {},
     "output_type": "execute_result"
    }
   ],
   "source": [
    "mses = np.mean(lassocv.mse_path_, axis=1)\n",
    "min_mse = np.min(mses)\n",
    "min_mse"
   ]
  },
  {
   "cell_type": "code",
   "execution_count": null,
   "id": "01484315",
   "metadata": {},
   "outputs": [
    {
     "data": {
      "application/vnd.microsoft.datawrangler.viewer.v0+json": {
       "columns": [
        {
         "name": "index",
         "rawType": "object",
         "type": "string"
        },
        {
         "name": "0",
         "rawType": "float64",
         "type": "float"
        }
       ],
       "ref": "db62f4ed-431f-4d12-b227-e76d7d102b41",
       "rows": [
        [
         "zn",
         "0.07019642191984095"
        ],
        [
         "indus",
         "-0.07969399442923296"
        ],
        [
         "chas",
         "-0.8977162562677314"
        ],
        [
         "nox",
         "-10.717985992255088"
        ],
        [
         "rm",
         "-0.47475500901475"
        ],
        [
         "age",
         "0.005179151979334752"
        ],
        [
         "dis",
         "-1.0902102786541972"
        ],
        [
         "rad",
         "0.6877501758105787"
        ],
        [
         "tax",
         "-0.005931590296195293"
        ],
        [
         "ptratio",
         "-0.32544961868172817"
        ],
        [
         "lstat",
         "0.1369677984824037"
        ],
        [
         "medv",
         "-0.22177480796788665"
        ]
       ],
       "shape": {
        "columns": 1,
        "rows": 12
       }
      },
      "text/plain": [
       "zn          0.070196\n",
       "indus      -0.079694\n",
       "chas       -0.897716\n",
       "nox       -10.717986\n",
       "rm         -0.474755\n",
       "age         0.005179\n",
       "dis        -1.090210\n",
       "rad         0.687750\n",
       "tax        -0.005932\n",
       "ptratio    -0.325450\n",
       "lstat       0.136968\n",
       "medv       -0.221775\n",
       "dtype: float64"
      ]
     },
     "execution_count": 75,
     "metadata": {},
     "output_type": "execute_result"
    }
   ],
   "source": [
    "pd.Series(lassocv.coef_.flatten(), index=X_train.columns)"
   ]
  },
  {
   "cell_type": "markdown",
   "id": "8199461f",
   "metadata": {},
   "source": [
    "### 11.a PCR"
   ]
  },
  {
   "cell_type": "code",
   "execution_count": null,
   "id": "5c5dffae",
   "metadata": {},
   "outputs": [],
   "source": [
    "scores = []\n",
    "\n",
    "# Compute the CV Score for no principal components, Linear Reg. only with intercept\n",
    "scores.append(-np.mean(cross_val_score(LinearRegression(), np.ones((X.shape[0], 1)),\n",
    "                                     y, cv=5, scoring='neg_mean_squared_error')))\n",
    "\n",
    "for i in np.arange(1, X.shape[1]+1):\n",
    "    scaler = StandardScaler()\n",
    "    X_ = scaler.fit_transform(X)\n",
    "    \n",
    "    pca = PCA(n_components=i)\n",
    "    X_pcr = pca.fit_transform(X_)\n",
    "    \n",
    "    score = -np.mean(cross_val_score(LinearRegression(), X_pcr[:, :i],\n",
    "                                    y, cv=5, scoring='neg_mean_squared_error'))\n",
    "    \n",
    "    scores.append(score)"
   ]
  },
  {
   "cell_type": "code",
   "execution_count": null,
   "id": "e553f453",
   "metadata": {},
   "outputs": [
    {
     "name": "stdout",
     "output_type": "stream",
     "text": [
      "7 - 45.978192718366515\n"
     ]
    }
   ],
   "source": [
    "print(np.argmin(scores), '-', np.min(scores))"
   ]
  },
  {
   "cell_type": "code",
   "execution_count": null,
   "id": "83ad48bc",
   "metadata": {},
   "outputs": [
    {
     "data": {
      "image/png": "[encoded data removed]",
      "text/plain": [
       "<Figure size 640x480 with 1 Axes>"
      ]
     },
     "metadata": {},
     "output_type": "display_data"
    }
   ],
   "source": [
    "plt.plot(scores, marker='o')\n",
    "plt.xlabel('Number of Components')\n",
    "plt.ylabel('Test MSE')\n",
    "plt.xticks(np.arange(0, X_train.shape[1]+1, 1))\n",
    "\n",
    "plt.plot(np.argmin(scores), np.min(scores), 'gx', markersize=20)\n",
    "plt.grid()"
   ]
  },
  {
   "cell_type": "markdown",
   "id": "127d3d95",
   "metadata": {},
   "source": [
    "### 11.b\n",
    "\n",
    "#### Despite each method producing similar test errors, the best subset selection method yields the best result in this scenario. But since this option is computationally expensive than others, we can try to use a non-linear model for the `Boston` dataset."
   ]
  },
  {
   "cell_type": "code",
   "execution_count": null,
   "id": "fe48e3d0",
   "metadata": {},
   "outputs": [
    {
     "data": {
      "text/plain": [
       "Text(0, 0.5, 'Residuals')"
      ]
     },
     "execution_count": 79,
     "metadata": {},
     "output_type": "execute_result"
    },
    {
     "data": {
      "image/png": "[encoded data removed]",
      "text/plain": [
       "<Figure size 640x480 with 1 Axes>"
      ]
     },
     "metadata": {},
     "output_type": "display_data"
    }
   ],
   "source": [
    "lm_boston = LinearRegression(fit_intercept=True)\n",
    "lm_boston.fit(X_train, y_train)\n",
    "\n",
    "# residuals\n",
    "resids = y_train - lm_boston.predict(X_train)\n",
    "fitted_values = lm_boston.predict(X_train)\n",
    "\n",
    "plt.scatter(fitted_values, resids, marker='o')\n",
    "plt.xlabel('Fitted Values')\n",
    "plt.ylabel('Residuals')"
   ]
  },
  {
   "cell_type": "markdown",
   "id": "e805d16e",
   "metadata": {},
   "source": [
    "It appears from the scatter plot that there is some non-linearity in the relationship between the response variable and the predictors, which is reflected in the pattern of the residuals. The residuals are not randomly scattered around the horizontal line at zero, but instead follow a curved pattern. This suggests that a linear regression model may not be the best fit for the data, and a more flexible model such as polynomial regression or a generalized additive model may be more appropriate."
   ]
  },
  {
   "cell_type": "code",
   "execution_count": null,
   "id": "6ec06e25",
   "metadata": {},
   "outputs": [
    {
     "data": {
      "text/plain": [
       "<Axes: xlabel='medv', ylabel='crim'>"
      ]
     },
     "execution_count": 80,
     "metadata": {},
     "output_type": "execute_result"
    },
    {
     "data": {
      "image/png": "[encoded data removed]",
      "text/plain": [
       "<Figure size 640x480 with 1 Axes>"
      ]
     },
     "metadata": {},
     "output_type": "display_data"
    }
   ],
   "source": [
    "# We can add quadratic and cubic terms of medv\n",
    "sns.regplot(x='medv', y='crim', data=boston)"
   ]
  },
  {
   "cell_type": "code",
   "execution_count": null,
   "id": "6917d06d",
   "metadata": {},
   "outputs": [],
   "source": [
    "X['medv2'] = np.power(X['medv'], 2)\n",
    "X['medv3'] = np.power(X['medv'], 3)\n",
    "X_train, X_test, y_train, y_test = train_test_split(X, y, test_size=0.4, random_state=1)"
   ]
  },
  {
   "cell_type": "code",
   "execution_count": null,
   "id": "30af16e7",
   "metadata": {},
   "outputs": [
    {
     "name": "stderr",
     "output_type": "stream",
     "text": [
      "100%|██████████| 14/14 [00:33<00:00,  2.41s/it]\n"
     ]
    },
    {
     "data": {
      "application/vnd.microsoft.datawrangler.viewer.v0+json": {
       "columns": [
        {
         "name": "index",
         "rawType": "int64",
         "type": "integer"
        },
        {
         "name": "sub",
         "rawType": "object",
         "type": "unknown"
        },
        {
         "name": "model",
         "rawType": "object",
         "type": "unknown"
        }
       ],
       "ref": "da9fd105-a967-455b-8aed-503281e60562",
       "rows": [
        [
         "0",
         "['rad']",
         "<statsmodels.regression.linear_model.RegressionResultsWrapper object at 0x00000129F610C3E0>"
        ],
        [
         "1",
         "['rad', 'lstat']",
         "<statsmodels.regression.linear_model.RegressionResultsWrapper object at 0x00000129F3E9BB00>"
        ],
        [
         "2",
         "['rad', 'medv', 'medv2']",
         "<statsmodels.regression.linear_model.RegressionResultsWrapper object at 0x00000129F4663170>"
        ],
        [
         "3",
         "['rad', 'medv', 'medv2', 'medv3']",
         "<statsmodels.regression.linear_model.RegressionResultsWrapper object at 0x00000129F6093B60>"
        ],
        [
         "4",
         "['rm', 'rad', 'medv', 'medv2', 'medv3']",
         "<statsmodels.regression.linear_model.RegressionResultsWrapper object at 0x00000129F5C349B0>"
        ],
        [
         "5",
         "['rm', 'rad', 'lstat', 'medv', 'medv2', 'medv3']",
         "<statsmodels.regression.linear_model.RegressionResultsWrapper object at 0x00000129F4630AD0>"
        ],
        [
         "6",
         "['rm', 'rad', 'tax', 'lstat', 'medv', 'medv2', 'medv3']",
         "<statsmodels.regression.linear_model.RegressionResultsWrapper object at 0x00000129F3E98560>"
        ],
        [
         "7",
         "['nox', 'rm', 'age', 'rad', 'lstat', 'medv', 'medv2', 'medv3']",
         "<statsmodels.regression.linear_model.RegressionResultsWrapper object at 0x00000129F462AA20>"
        ],
        [
         "8",
         "['nox', 'rm', 'age', 'rad', 'ptratio', 'lstat', 'medv', 'medv2', 'medv3']",
         "<statsmodels.regression.linear_model.RegressionResultsWrapper object at 0x00000129F4490BF0>"
        ],
        [
         "9",
         "['nox', 'rm', 'age', 'dis', 'rad', 'ptratio', 'lstat', 'medv', 'medv2', 'medv3']",
         "<statsmodels.regression.linear_model.RegressionResultsWrapper object at 0x00000129F44AD610>"
        ],
        [
         "10",
         "['nox', 'rm', 'age', 'dis', 'rad', 'tax', 'ptratio', 'lstat', 'medv', 'medv2', 'medv3']",
         "<statsmodels.regression.linear_model.RegressionResultsWrapper object at 0x00000129F46403E0>"
        ],
        [
         "11",
         "['zn', 'nox', 'rm', 'age', 'dis', 'rad', 'tax', 'ptratio', 'lstat', 'medv', 'medv2', 'medv3']",
         "<statsmodels.regression.linear_model.RegressionResultsWrapper object at 0x00000129F87A1310>"
        ],
        [
         "12",
         "['zn', 'indus', 'nox', 'rm', 'age', 'dis', 'rad', 'tax', 'ptratio', 'lstat', 'medv', 'medv2', 'medv3']",
         "<statsmodels.regression.linear_model.RegressionResultsWrapper object at 0x00000129F6079A90>"
        ],
        [
         "13",
         "['zn', 'indus', 'chas', 'nox', 'rm', 'age', 'dis', 'rad', 'tax', 'ptratio', 'lstat', 'medv', 'medv2', 'medv3']",
         "<statsmodels.regression.linear_model.RegressionResultsWrapper object at 0x00000129F87A0D10>"
        ]
       ],
       "shape": {
        "columns": 2,
        "rows": 14
       }
      },
      "text/html": [
       "<div>\n",
       "<style scoped>\n",
       "    .dataframe tbody tr th:only-of-type {\n",
       "        vertical-align: middle;\n",
       "    }\n",
       "\n",
       "    .dataframe tbody tr th {\n",
       "        vertical-align: top;\n",
       "    }\n",
       "\n",
       "    .dataframe thead th {\n",
       "        text-align: right;\n",
       "    }\n",
       "</style>\n",
       "<table border=\"1\" class=\"dataframe\">\n",
       "  <thead>\n",
       "    <tr style=\"text-align: right;\">\n",
       "      <th></th>\n",
       "      <th>sub</th>\n",
       "      <th>model</th>\n",
       "    </tr>\n",
       "  </thead>\n",
       "  <tbody>\n",
       "    <tr>\n",
       "      <th>0</th>\n",
       "      <td>[rad]</td>\n",
       "      <td>&lt;statsmodels.regression.linear_model.Regressio...</td>\n",
       "    </tr>\n",
       "    <tr>\n",
       "      <th>1</th>\n",
       "      <td>[rad, lstat]</td>\n",
       "      <td>&lt;statsmodels.regression.linear_model.Regressio...</td>\n",
       "    </tr>\n",
       "    <tr>\n",
       "      <th>2</th>\n",
       "      <td>[rad, medv, medv2]</td>\n",
       "      <td>&lt;statsmodels.regression.linear_model.Regressio...</td>\n",
       "    </tr>\n",
       "    <tr>\n",
       "      <th>3</th>\n",
       "      <td>[rad, medv, medv2, medv3]</td>\n",
       "      <td>&lt;statsmodels.regression.linear_model.Regressio...</td>\n",
       "    </tr>\n",
       "    <tr>\n",
       "      <th>4</th>\n",
       "      <td>[rm, rad, medv, medv2, medv3]</td>\n",
       "      <td>&lt;statsmodels.regression.linear_model.Regressio...</td>\n",
       "    </tr>\n",
       "    <tr>\n",
       "      <th>5</th>\n",
       "      <td>[rm, rad, lstat, medv, medv2, medv3]</td>\n",
       "      <td>&lt;statsmodels.regression.linear_model.Regressio...</td>\n",
       "    </tr>\n",
       "    <tr>\n",
       "      <th>6</th>\n",
       "      <td>[rm, rad, tax, lstat, medv, medv2, medv3]</td>\n",
       "      <td>&lt;statsmodels.regression.linear_model.Regressio...</td>\n",
       "    </tr>\n",
       "    <tr>\n",
       "      <th>7</th>\n",
       "      <td>[nox, rm, age, rad, lstat, medv, medv2, medv3]</td>\n",
       "      <td>&lt;statsmodels.regression.linear_model.Regressio...</td>\n",
       "    </tr>\n",
       "    <tr>\n",
       "      <th>8</th>\n",
       "      <td>[nox, rm, age, rad, ptratio, lstat, medv, medv...</td>\n",
       "      <td>&lt;statsmodels.regression.linear_model.Regressio...</td>\n",
       "    </tr>\n",
       "    <tr>\n",
       "      <th>9</th>\n",
       "      <td>[nox, rm, age, dis, rad, ptratio, lstat, medv,...</td>\n",
       "      <td>&lt;statsmodels.regression.linear_model.Regressio...</td>\n",
       "    </tr>\n",
       "    <tr>\n",
       "      <th>10</th>\n",
       "      <td>[nox, rm, age, dis, rad, tax, ptratio, lstat, ...</td>\n",
       "      <td>&lt;statsmodels.regression.linear_model.Regressio...</td>\n",
       "    </tr>\n",
       "    <tr>\n",
       "      <th>11</th>\n",
       "      <td>[zn, nox, rm, age, dis, rad, tax, ptratio, lst...</td>\n",
       "      <td>&lt;statsmodels.regression.linear_model.Regressio...</td>\n",
       "    </tr>\n",
       "    <tr>\n",
       "      <th>12</th>\n",
       "      <td>[zn, indus, nox, rm, age, dis, rad, tax, ptrat...</td>\n",
       "      <td>&lt;statsmodels.regression.linear_model.Regressio...</td>\n",
       "    </tr>\n",
       "    <tr>\n",
       "      <th>13</th>\n",
       "      <td>[zn, indus, chas, nox, rm, age, dis, rad, tax,...</td>\n",
       "      <td>&lt;statsmodels.regression.linear_model.Regressio...</td>\n",
       "    </tr>\n",
       "  </tbody>\n",
       "</table>\n",
       "</div>"
      ],
      "text/plain": [
       "                                                  sub  \\\n",
       "0                                               [rad]   \n",
       "1                                        [rad, lstat]   \n",
       "2                                  [rad, medv, medv2]   \n",
       "3                           [rad, medv, medv2, medv3]   \n",
       "4                       [rm, rad, medv, medv2, medv3]   \n",
       "5                [rm, rad, lstat, medv, medv2, medv3]   \n",
       "6           [rm, rad, tax, lstat, medv, medv2, medv3]   \n",
       "7      [nox, rm, age, rad, lstat, medv, medv2, medv3]   \n",
       "8   [nox, rm, age, rad, ptratio, lstat, medv, medv...   \n",
       "9   [nox, rm, age, dis, rad, ptratio, lstat, medv,...   \n",
       "10  [nox, rm, age, dis, rad, tax, ptratio, lstat, ...   \n",
       "11  [zn, nox, rm, age, dis, rad, tax, ptratio, lst...   \n",
       "12  [zn, indus, nox, rm, age, dis, rad, tax, ptrat...   \n",
       "13  [zn, indus, chas, nox, rm, age, dis, rad, tax,...   \n",
       "\n",
       "                                                model  \n",
       "0   <statsmodels.regression.linear_model.Regressio...  \n",
       "1   <statsmodels.regression.linear_model.Regressio...  \n",
       "2   <statsmodels.regression.linear_model.Regressio...  \n",
       "3   <statsmodels.regression.linear_model.Regressio...  \n",
       "4   <statsmodels.regression.linear_model.Regressio...  \n",
       "5   <statsmodels.regression.linear_model.Regressio...  \n",
       "6   <statsmodels.regression.linear_model.Regressio...  \n",
       "7   <statsmodels.regression.linear_model.Regressio...  \n",
       "8   <statsmodels.regression.linear_model.Regressio...  \n",
       "9   <statsmodels.regression.linear_model.Regressio...  \n",
       "10  <statsmodels.regression.linear_model.Regressio...  \n",
       "11  <statsmodels.regression.linear_model.Regressio...  \n",
       "12  <statsmodels.regression.linear_model.Regressio...  \n",
       "13  <statsmodels.regression.linear_model.Regressio...  "
      ]
     },
     "execution_count": 82,
     "metadata": {},
     "output_type": "execute_result"
    }
   ],
   "source": [
    "bestsub_boston2 = find_best_subset(X_train, y_train, 14, 'boston_bestsub2')\n",
    "bestsub_boston2"
   ]
  },
  {
   "cell_type": "code",
   "execution_count": null,
   "id": "5e355f0c",
   "metadata": {},
   "outputs": [
    {
     "name": "stderr",
     "output_type": "stream",
     "text": [
      "C:\\Users\\admin\\AppData\\Local\\Temp\\ipykernel_10384\\1363971802.py:3: FutureWarning: Series.__getitem__ treating keys as positions is deprecated. In a future version, integer keys will always be treated as labels (consistent with DataFrame behavior). To access a value by position, use `ser.iloc[pos]`\n",
      "  model = row[1]\n",
      "C:\\Users\\admin\\AppData\\Local\\Temp\\ipykernel_10384\\1363971802.py:4: FutureWarning: Series.__getitem__ treating keys as positions is deprecated. In a future version, integer keys will always be treated as labels (consistent with DataFrame behavior). To access a value by position, use `ser.iloc[pos]`\n",
      "  pred = model.predict(sm.add_constant(X_test[row[0]]))\n",
      "C:\\Users\\admin\\AppData\\Local\\Temp\\ipykernel_10384\\1363971802.py:3: FutureWarning: Series.__getitem__ treating keys as positions is deprecated. In a future version, integer keys will always be treated as labels (consistent with DataFrame behavior). To access a value by position, use `ser.iloc[pos]`\n",
      "  model = row[1]\n",
      "C:\\Users\\admin\\AppData\\Local\\Temp\\ipykernel_10384\\1363971802.py:4: FutureWarning: Series.__getitem__ treating keys as positions is deprecated. In a future version, integer keys will always be treated as labels (consistent with DataFrame behavior). To access a value by position, use `ser.iloc[pos]`\n",
      "  pred = model.predict(sm.add_constant(X_test[row[0]]))\n",
      "C:\\Users\\admin\\AppData\\Local\\Temp\\ipykernel_10384\\1363971802.py:3: FutureWarning: Series.__getitem__ treating keys as positions is deprecated. In a future version, integer keys will always be treated as labels (consistent with DataFrame behavior). To access a value by position, use `ser.iloc[pos]`\n",
      "  model = row[1]\n",
      "C:\\Users\\admin\\AppData\\Local\\Temp\\ipykernel_10384\\1363971802.py:4: FutureWarning: Series.__getitem__ treating keys as positions is deprecated. In a future version, integer keys will always be treated as labels (consistent with DataFrame behavior). To access a value by position, use `ser.iloc[pos]`\n",
      "  pred = model.predict(sm.add_constant(X_test[row[0]]))\n",
      "C:\\Users\\admin\\AppData\\Local\\Temp\\ipykernel_10384\\1363971802.py:3: FutureWarning: Series.__getitem__ treating keys as positions is deprecated. In a future version, integer keys will always be treated as labels (consistent with DataFrame behavior). To access a value by position, use `ser.iloc[pos]`\n",
      "  model = row[1]\n",
      "C:\\Users\\admin\\AppData\\Local\\Temp\\ipykernel_10384\\1363971802.py:4: FutureWarning: Series.__getitem__ treating keys as positions is deprecated. In a future version, integer keys will always be treated as labels (consistent with DataFrame behavior). To access a value by position, use `ser.iloc[pos]`\n",
      "  pred = model.predict(sm.add_constant(X_test[row[0]]))\n",
      "C:\\Users\\admin\\AppData\\Local\\Temp\\ipykernel_10384\\1363971802.py:3: FutureWarning: Series.__getitem__ treating keys as positions is deprecated. In a future version, integer keys will always be treated as labels (consistent with DataFrame behavior). To access a value by position, use `ser.iloc[pos]`\n",
      "  model = row[1]\n",
      "C:\\Users\\admin\\AppData\\Local\\Temp\\ipykernel_10384\\1363971802.py:4: FutureWarning: Series.__getitem__ treating keys as positions is deprecated. In a future version, integer keys will always be treated as labels (consistent with DataFrame behavior). To access a value by position, use `ser.iloc[pos]`\n",
      "  pred = model.predict(sm.add_constant(X_test[row[0]]))\n",
      "C:\\Users\\admin\\AppData\\Local\\Temp\\ipykernel_10384\\1363971802.py:3: FutureWarning: Series.__getitem__ treating keys as positions is deprecated. In a future version, integer keys will always be treated as labels (consistent with DataFrame behavior). To access a value by position, use `ser.iloc[pos]`\n",
      "  model = row[1]\n",
      "C:\\Users\\admin\\AppData\\Local\\Temp\\ipykernel_10384\\1363971802.py:4: FutureWarning: Series.__getitem__ treating keys as positions is deprecated. In a future version, integer keys will always be treated as labels (consistent with DataFrame behavior). To access a value by position, use `ser.iloc[pos]`\n",
      "  pred = model.predict(sm.add_constant(X_test[row[0]]))\n",
      "C:\\Users\\admin\\AppData\\Local\\Temp\\ipykernel_10384\\1363971802.py:3: FutureWarning: Series.__getitem__ treating keys as positions is deprecated. In a future version, integer keys will always be treated as labels (consistent with DataFrame behavior). To access a value by position, use `ser.iloc[pos]`\n",
      "  model = row[1]\n",
      "C:\\Users\\admin\\AppData\\Local\\Temp\\ipykernel_10384\\1363971802.py:4: FutureWarning: Series.__getitem__ treating keys as positions is deprecated. In a future version, integer keys will always be treated as labels (consistent with DataFrame behavior). To access a value by position, use `ser.iloc[pos]`\n",
      "  pred = model.predict(sm.add_constant(X_test[row[0]]))\n",
      "C:\\Users\\admin\\AppData\\Local\\Temp\\ipykernel_10384\\1363971802.py:3: FutureWarning: Series.__getitem__ treating keys as positions is deprecated. In a future version, integer keys will always be treated as labels (consistent with DataFrame behavior). To access a value by position, use `ser.iloc[pos]`\n",
      "  model = row[1]\n",
      "C:\\Users\\admin\\AppData\\Local\\Temp\\ipykernel_10384\\1363971802.py:4: FutureWarning: Series.__getitem__ treating keys as positions is deprecated. In a future version, integer keys will always be treated as labels (consistent with DataFrame behavior). To access a value by position, use `ser.iloc[pos]`\n",
      "  pred = model.predict(sm.add_constant(X_test[row[0]]))\n",
      "C:\\Users\\admin\\AppData\\Local\\Temp\\ipykernel_10384\\1363971802.py:3: FutureWarning: Series.__getitem__ treating keys as positions is deprecated. In a future version, integer keys will always be treated as labels (consistent with DataFrame behavior). To access a value by position, use `ser.iloc[pos]`\n",
      "  model = row[1]\n",
      "C:\\Users\\admin\\AppData\\Local\\Temp\\ipykernel_10384\\1363971802.py:4: FutureWarning: Series.__getitem__ treating keys as positions is deprecated. In a future version, integer keys will always be treated as labels (consistent with DataFrame behavior). To access a value by position, use `ser.iloc[pos]`\n",
      "  pred = model.predict(sm.add_constant(X_test[row[0]]))\n",
      "C:\\Users\\admin\\AppData\\Local\\Temp\\ipykernel_10384\\1363971802.py:3: FutureWarning: Series.__getitem__ treating keys as positions is deprecated. In a future version, integer keys will always be treated as labels (consistent with DataFrame behavior). To access a value by position, use `ser.iloc[pos]`\n",
      "  model = row[1]\n",
      "C:\\Users\\admin\\AppData\\Local\\Temp\\ipykernel_10384\\1363971802.py:4: FutureWarning: Series.__getitem__ treating keys as positions is deprecated. In a future version, integer keys will always be treated as labels (consistent with DataFrame behavior). To access a value by position, use `ser.iloc[pos]`\n",
      "  pred = model.predict(sm.add_constant(X_test[row[0]]))\n",
      "C:\\Users\\admin\\AppData\\Local\\Temp\\ipykernel_10384\\1363971802.py:3: FutureWarning: Series.__getitem__ treating keys as positions is deprecated. In a future version, integer keys will always be treated as labels (consistent with DataFrame behavior). To access a value by position, use `ser.iloc[pos]`\n",
      "  model = row[1]\n",
      "C:\\Users\\admin\\AppData\\Local\\Temp\\ipykernel_10384\\1363971802.py:4: FutureWarning: Series.__getitem__ treating keys as positions is deprecated. In a future version, integer keys will always be treated as labels (consistent with DataFrame behavior). To access a value by position, use `ser.iloc[pos]`\n",
      "  pred = model.predict(sm.add_constant(X_test[row[0]]))\n",
      "C:\\Users\\admin\\AppData\\Local\\Temp\\ipykernel_10384\\1363971802.py:3: FutureWarning: Series.__getitem__ treating keys as positions is deprecated. In a future version, integer keys will always be treated as labels (consistent with DataFrame behavior). To access a value by position, use `ser.iloc[pos]`\n",
      "  model = row[1]\n",
      "C:\\Users\\admin\\AppData\\Local\\Temp\\ipykernel_10384\\1363971802.py:4: FutureWarning: Series.__getitem__ treating keys as positions is deprecated. In a future version, integer keys will always be treated as labels (consistent with DataFrame behavior). To access a value by position, use `ser.iloc[pos]`\n",
      "  pred = model.predict(sm.add_constant(X_test[row[0]]))\n",
      "C:\\Users\\admin\\AppData\\Local\\Temp\\ipykernel_10384\\1363971802.py:3: FutureWarning: Series.__getitem__ treating keys as positions is deprecated. In a future version, integer keys will always be treated as labels (consistent with DataFrame behavior). To access a value by position, use `ser.iloc[pos]`\n",
      "  model = row[1]\n",
      "C:\\Users\\admin\\AppData\\Local\\Temp\\ipykernel_10384\\1363971802.py:4: FutureWarning: Series.__getitem__ treating keys as positions is deprecated. In a future version, integer keys will always be treated as labels (consistent with DataFrame behavior). To access a value by position, use `ser.iloc[pos]`\n",
      "  pred = model.predict(sm.add_constant(X_test[row[0]]))\n",
      "C:\\Users\\admin\\AppData\\Local\\Temp\\ipykernel_10384\\1363971802.py:3: FutureWarning: Series.__getitem__ treating keys as positions is deprecated. In a future version, integer keys will always be treated as labels (consistent with DataFrame behavior). To access a value by position, use `ser.iloc[pos]`\n",
      "  model = row[1]\n",
      "C:\\Users\\admin\\AppData\\Local\\Temp\\ipykernel_10384\\1363971802.py:4: FutureWarning: Series.__getitem__ treating keys as positions is deprecated. In a future version, integer keys will always be treated as labels (consistent with DataFrame behavior). To access a value by position, use `ser.iloc[pos]`\n",
      "  pred = model.predict(sm.add_constant(X_test[row[0]]))\n"
     ]
    }
   ],
   "source": [
    "test_MSEs = []\n",
    "for idx, row in bestsub_boston2.iterrows():\n",
    "    model = row.iloc[1]\n",
    "    pred = model.predict(sm.add_constant(X_test[row.iloc[0]]))\n",
    "    mse = mean_squared_error(y_test, pred)\n",
    "    test_MSEs.append(mse)"
   ]
  },
  {
   "cell_type": "code",
   "execution_count": null,
   "id": "bb5fb2b3",
   "metadata": {},
   "outputs": [
    {
     "data": {
      "image/png": "[encoded data removed]",
      "text/plain": [
       "<Figure size 640x480 with 1 Axes>"
      ]
     },
     "metadata": {},
     "output_type": "display_data"
    }
   ],
   "source": [
    "plt.plot(test_MSEs, marker='o')\n",
    "plt.xlabel('Number of features')\n",
    "plt.ylabel('Test MSE')\n",
    "plt.xticks(np.arange(0, X_train.shape[1], 1))\n",
    "\n",
    "plt.plot(np.argmin(test_MSEs), np.min(test_MSEs), 'gx', markersize=20)\n",
    "plt.grid()"
   ]
  },
  {
   "cell_type": "code",
   "execution_count": null,
   "id": "4d24dde0",
   "metadata": {},
   "outputs": [
    {
     "data": {
      "application/vnd.microsoft.datawrangler.viewer.v0+json": {
       "columns": [
        {
         "name": "index",
         "rawType": "object",
         "type": "string"
        },
        {
         "name": "0",
         "rawType": "float64",
         "type": "float"
        }
       ],
       "ref": "0c588a77-0668-4e47-ad4b-b62d9a98e13c",
       "rows": [
        [
         "const",
         "20.22002989723752"
        ],
        [
         "rad",
         "0.4129053388225714"
        ],
        [
         "medv",
         "-1.5295188978400929"
        ],
        [
         "medv2",
         "0.023629322484422306"
        ]
       ],
       "shape": {
        "columns": 1,
        "rows": 4
       }
      },
      "text/plain": [
       "const    20.220030\n",
       "rad       0.412905\n",
       "medv     -1.529519\n",
       "medv2     0.023629\n",
       "dtype: float64"
      ]
     },
     "execution_count": 85,
     "metadata": {},
     "output_type": "execute_result"
    }
   ],
   "source": [
    "bestsub_boston2.model[2].params"
   ]
  },
  {
   "cell_type": "code",
   "execution_count": null,
   "id": "d2423400",
   "metadata": {},
   "outputs": [
    {
     "data": {
      "text/plain": [
       "40.40265936487221"
      ]
     },
     "execution_count": 86,
     "metadata": {},
     "output_type": "execute_result"
    }
   ],
   "source": [
    "test_MSEs[2]"
   ]
  },
  {
   "cell_type": "markdown",
   "id": "101d5612",
   "metadata": {},
   "source": [
    "### 11.c\n",
    "\n",
    "#### Proposed model does not involve all of the features in the data."
   ]
  }
 ],
 "metadata": {
  "kernelspec": {
   "display_name": "Python 3",
   "language": "python",
   "name": "python3"
  },
  "language_info": {
   "codemirror_mode": {
    "name": "ipython",
    "version": 3
   },
   "file_extension": ".py",
   "mimetype": "text/x-python",
   "name": "python",
   "nbconvert_exporter": "python",
   "pygments_lexer": "ipython3",
   "version": "3.12.10"
  }
 },
 "nbformat": 4,
 "nbformat_minor": 5
}
