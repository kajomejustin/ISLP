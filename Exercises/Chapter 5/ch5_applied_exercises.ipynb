{
 "cells": [
  {
   "cell_type": "code",
   "execution_count": 34,
   "id": "79f879a6",
   "metadata": {
    "ExecuteTime": {
     "end_time": "2025-07-07T21:15:28.939413Z",
     "start_time": "2025-07-07T21:15:28.410981Z"
    }
   },
   "outputs": [],
   "source": [
    "import warnings\n",
    "warnings.filterwarnings('ignore')\n",
    "import pandas as pd\n",
    "import numpy as np\n",
    "import statsmodels.api as sm\n",
    "from sklearn.linear_model import LogisticRegression, LinearRegression\n",
    "from sklearn.preprocessing import PolynomialFeatures\n",
    "from sklearn.metrics import accuracy_score\n",
    "import scipy\n",
    "import seaborn as sns\n",
    "import matplotlib.pyplot as plt"
   ]
  },
  {
   "cell_type": "markdown",
   "id": "b0e210dc",
   "metadata": {},
   "source": [
    "## Question 5"
   ]
  },
  {
   "cell_type": "code",
   "execution_count": 35,
   "id": "3cfc1c85",
   "metadata": {
    "ExecuteTime": {
     "end_time": "2025-07-07T21:15:29.140824Z",
     "start_time": "2025-07-07T21:15:29.111906Z"
    }
   },
   "outputs": [
    {
     "data": {
      "application/vnd.microsoft.datawrangler.viewer.v0+json": {
       "columns": [
        {
         "name": "index",
         "rawType": "int64",
         "type": "integer"
        },
        {
         "name": "default",
         "rawType": "object",
         "type": "string"
        },
        {
         "name": "student",
         "rawType": "object",
         "type": "string"
        },
        {
         "name": "balance",
         "rawType": "float64",
         "type": "float"
        },
        {
         "name": "income",
         "rawType": "float64",
         "type": "float"
        }
       ],
       "ref": "b313172b-64e7-4017-822c-424259b45b8f",
       "rows": [
        [
         "0",
         "No",
         "No",
         "729.526495207286",
         "44361.6250742669"
        ],
        [
         "1",
         "No",
         "Yes",
         "817.180406555498",
         "12106.1347003149"
        ],
        [
         "2",
         "No",
         "No",
         "1073.54916401173",
         "31767.1389473999"
        ],
        [
         "3",
         "No",
         "No",
         "529.250604745278",
         "35704.4939350781"
        ],
        [
         "4",
         "No",
         "No",
         "785.655882930501",
         "38463.4958787229"
        ]
       ],
       "shape": {
        "columns": 4,
        "rows": 5
       }
      },
      "text/html": [
       "<div>\n",
       "<style scoped>\n",
       "    .dataframe tbody tr th:only-of-type {\n",
       "        vertical-align: middle;\n",
       "    }\n",
       "\n",
       "    .dataframe tbody tr th {\n",
       "        vertical-align: top;\n",
       "    }\n",
       "\n",
       "    .dataframe thead th {\n",
       "        text-align: right;\n",
       "    }\n",
       "</style>\n",
       "<table border=\"1\" class=\"dataframe\">\n",
       "  <thead>\n",
       "    <tr style=\"text-align: right;\">\n",
       "      <th></th>\n",
       "      <th>default</th>\n",
       "      <th>student</th>\n",
       "      <th>balance</th>\n",
       "      <th>income</th>\n",
       "    </tr>\n",
       "  </thead>\n",
       "  <tbody>\n",
       "    <tr>\n",
       "      <th>0</th>\n",
       "      <td>No</td>\n",
       "      <td>No</td>\n",
       "      <td>729.526495</td>\n",
       "      <td>44361.625074</td>\n",
       "    </tr>\n",
       "    <tr>\n",
       "      <th>1</th>\n",
       "      <td>No</td>\n",
       "      <td>Yes</td>\n",
       "      <td>817.180407</td>\n",
       "      <td>12106.134700</td>\n",
       "    </tr>\n",
       "    <tr>\n",
       "      <th>2</th>\n",
       "      <td>No</td>\n",
       "      <td>No</td>\n",
       "      <td>1073.549164</td>\n",
       "      <td>31767.138947</td>\n",
       "    </tr>\n",
       "    <tr>\n",
       "      <th>3</th>\n",
       "      <td>No</td>\n",
       "      <td>No</td>\n",
       "      <td>529.250605</td>\n",
       "      <td>35704.493935</td>\n",
       "    </tr>\n",
       "    <tr>\n",
       "      <th>4</th>\n",
       "      <td>No</td>\n",
       "      <td>No</td>\n",
       "      <td>785.655883</td>\n",
       "      <td>38463.495879</td>\n",
       "    </tr>\n",
       "  </tbody>\n",
       "</table>\n",
       "</div>"
      ],
      "text/plain": [
       "  default student      balance        income\n",
       "0      No      No   729.526495  44361.625074\n",
       "1      No     Yes   817.180407  12106.134700\n",
       "2      No      No  1073.549164  31767.138947\n",
       "3      No      No   529.250605  35704.493935\n",
       "4      No      No   785.655883  38463.495879"
      ]
     },
     "execution_count": 35,
     "metadata": {},
     "output_type": "execute_result"
    }
   ],
   "source": [
    "default = pd.read_csv('../../data/default.csv', na_values=['?'])\n",
    "default.dropna(axis=0, inplace=True)\n",
    "default.head()"
   ]
  },
  {
   "cell_type": "markdown",
   "id": "4ffc29af",
   "metadata": {},
   "source": [
    "### 15.a"
   ]
  },
  {
   "cell_type": "code",
   "execution_count": 36,
   "id": "23ba1bc9",
   "metadata": {
    "ExecuteTime": {
     "end_time": "2025-07-07T21:15:29.369362Z",
     "start_time": "2025-07-07T21:15:29.287550Z"
    }
   },
   "outputs": [
    {
     "data": {
      "text/plain": [
       "(array([-11.54046792]), array([[2.08089741e-05, 5.64710265e-03]]))"
      ]
     },
     "execution_count": 36,
     "metadata": {},
     "output_type": "execute_result"
    }
   ],
   "source": [
    "X = default.loc[:, ['income', 'balance']]\n",
    "y = pd.get_dummies(default['default'])['Yes']\n",
    "\n",
    "default_logit = LogisticRegression(fit_intercept=True)\n",
    "default_logit.fit(X, y)\n",
    "\n",
    "default_logit.intercept_, default_logit.coef_"
   ]
  },
  {
   "cell_type": "markdown",
   "id": "ab21f3bd",
   "metadata": {},
   "source": [
    "### 15.b"
   ]
  },
  {
   "cell_type": "code",
   "execution_count": 37,
   "id": "50b4aa14",
   "metadata": {
    "ExecuteTime": {
     "end_time": "2025-07-07T21:15:29.405490Z",
     "start_time": "2025-07-07T21:15:29.397320Z"
    }
   },
   "outputs": [],
   "source": [
    "from sklearn.model_selection import train_test_split\n",
    "\n",
    "X_train, X_test, y_train, y_test = train_test_split(sm.add_constant(X), y, test_size=0.3, random_state=1)"
   ]
  },
  {
   "cell_type": "code",
   "execution_count": 38,
   "id": "8b887883",
   "metadata": {
    "ExecuteTime": {
     "end_time": "2025-07-07T21:15:29.534119Z",
     "start_time": "2025-07-07T21:15:29.482408Z"
    }
   },
   "outputs": [
    {
     "name": "stdout",
     "output_type": "stream",
     "text": [
      "Optimization terminated successfully.\n",
      "         Current function value: 0.078788\n",
      "         Iterations 10\n"
     ]
    },
    {
     "data": {
      "text/html": [
       "<table class=\"simpletable\">\n",
       "<caption>Logit Regression Results</caption>\n",
       "<tr>\n",
       "  <th>Dep. Variable:</th>          <td>Yes</td>       <th>  No. Observations:  </th>   <td>  7000</td>  \n",
       "</tr>\n",
       "<tr>\n",
       "  <th>Model:</th>                 <td>Logit</td>      <th>  Df Residuals:      </th>   <td>  6997</td>  \n",
       "</tr>\n",
       "<tr>\n",
       "  <th>Method:</th>                 <td>MLE</td>       <th>  Df Model:          </th>   <td>     2</td>  \n",
       "</tr>\n",
       "<tr>\n",
       "  <th>Date:</th>            <td>Wed, 09 Jul 2025</td> <th>  Pseudo R-squ.:     </th>   <td>0.4758</td>  \n",
       "</tr>\n",
       "<tr>\n",
       "  <th>Time:</th>                <td>13:44:11</td>     <th>  Log-Likelihood:    </th>  <td> -551.52</td> \n",
       "</tr>\n",
       "<tr>\n",
       "  <th>converged:</th>             <td>True</td>       <th>  LL-Null:           </th>  <td> -1052.0</td> \n",
       "</tr>\n",
       "<tr>\n",
       "  <th>Covariance Type:</th>     <td>nonrobust</td>    <th>  LLR p-value:       </th> <td>4.249e-218</td>\n",
       "</tr>\n",
       "</table>\n",
       "<table class=\"simpletable\">\n",
       "<tr>\n",
       "     <td></td>        <th>coef</th>     <th>std err</th>      <th>z</th>      <th>P>|z|</th>  <th>[0.025</th>    <th>0.975]</th>  \n",
       "</tr>\n",
       "<tr>\n",
       "  <th>const</th>   <td>  -11.8581</td> <td>    0.528</td> <td>  -22.477</td> <td> 0.000</td> <td>  -12.892</td> <td>  -10.824</td>\n",
       "</tr>\n",
       "<tr>\n",
       "  <th>income</th>  <td> 2.223e-05</td> <td>    6e-06</td> <td>    3.707</td> <td> 0.000</td> <td> 1.05e-05</td> <td>  3.4e-05</td>\n",
       "</tr>\n",
       "<tr>\n",
       "  <th>balance</th> <td>    0.0059</td> <td>    0.000</td> <td>   21.078</td> <td> 0.000</td> <td>    0.005</td> <td>    0.006</td>\n",
       "</tr>\n",
       "</table><br/><br/>Possibly complete quasi-separation: A fraction 0.16 of observations can be<br/>perfectly predicted. This might indicate that there is complete<br/>quasi-separation. In this case some parameters will not be identified."
      ],
      "text/latex": [
       "\\begin{center}\n",
       "\\begin{tabular}{lclc}\n",
       "\\toprule\n",
       "\\textbf{Dep. Variable:}   &       Yes        & \\textbf{  No. Observations:  } &     7000    \\\\\n",
       "\\textbf{Model:}           &      Logit       & \\textbf{  Df Residuals:      } &     6997    \\\\\n",
       "\\textbf{Method:}          &       MLE        & \\textbf{  Df Model:          } &        2    \\\\\n",
       "\\textbf{Date:}            & Wed, 09 Jul 2025 & \\textbf{  Pseudo R-squ.:     } &   0.4758    \\\\\n",
       "\\textbf{Time:}            &     13:44:11     & \\textbf{  Log-Likelihood:    } &   -551.52   \\\\\n",
       "\\textbf{converged:}       &       True       & \\textbf{  LL-Null:           } &   -1052.0   \\\\\n",
       "\\textbf{Covariance Type:} &    nonrobust     & \\textbf{  LLR p-value:       } & 4.249e-218  \\\\\n",
       "\\bottomrule\n",
       "\\end{tabular}\n",
       "\\begin{tabular}{lcccccc}\n",
       "                 & \\textbf{coef} & \\textbf{std err} & \\textbf{z} & \\textbf{P$> |$z$|$} & \\textbf{[0.025} & \\textbf{0.975]}  \\\\\n",
       "\\midrule\n",
       "\\textbf{const}   &     -11.8581  &        0.528     &   -22.477  &         0.000        &      -12.892    &      -10.824     \\\\\n",
       "\\textbf{income}  &    2.223e-05  &        6e-06     &     3.707  &         0.000        &     1.05e-05    &      3.4e-05     \\\\\n",
       "\\textbf{balance} &       0.0059  &        0.000     &    21.078  &         0.000        &        0.005    &        0.006     \\\\\n",
       "\\bottomrule\n",
       "\\end{tabular}\n",
       "%\\caption{Logit Regression Results}\n",
       "\\end{center}\n",
       "\n",
       "Possibly complete quasi-separation: A fraction 0.16 of observations can be \\newline\n",
       " perfectly predicted. This might indicate that there is complete \\newline\n",
       " quasi-separation. In this case some parameters will not be identified."
      ],
      "text/plain": [
       "<class 'statsmodels.iolib.summary.Summary'>\n",
       "\"\"\"\n",
       "                           Logit Regression Results                           \n",
       "==============================================================================\n",
       "Dep. Variable:                    Yes   No. Observations:                 7000\n",
       "Model:                          Logit   Df Residuals:                     6997\n",
       "Method:                           MLE   Df Model:                            2\n",
       "Date:                Wed, 09 Jul 2025   Pseudo R-squ.:                  0.4758\n",
       "Time:                        13:44:11   Log-Likelihood:                -551.52\n",
       "converged:                       True   LL-Null:                       -1052.0\n",
       "Covariance Type:            nonrobust   LLR p-value:                4.249e-218\n",
       "==============================================================================\n",
       "                 coef    std err          z      P>|z|      [0.025      0.975]\n",
       "------------------------------------------------------------------------------\n",
       "const        -11.8581      0.528    -22.477      0.000     -12.892     -10.824\n",
       "income      2.223e-05      6e-06      3.707      0.000    1.05e-05     3.4e-05\n",
       "balance        0.0059      0.000     21.078      0.000       0.005       0.006\n",
       "==============================================================================\n",
       "\n",
       "Possibly complete quasi-separation: A fraction 0.16 of observations can be\n",
       "perfectly predicted. This might indicate that there is complete\n",
       "quasi-separation. In this case some parameters will not be identified.\n",
       "\"\"\""
      ]
     },
     "execution_count": 38,
     "metadata": {},
     "output_type": "execute_result"
    }
   ],
   "source": [
    "def_logit = sm.Logit(y_train, X_train).fit()\n",
    "def_logit.summary()"
   ]
  },
  {
   "cell_type": "code",
   "execution_count": 39,
   "id": "ee687247",
   "metadata": {
    "ExecuteTime": {
     "end_time": "2025-07-07T21:15:29.620520Z",
     "start_time": "2025-07-07T21:15:29.613513Z"
    }
   },
   "outputs": [],
   "source": [
    "predictions = def_logit.predict(X_test)\n",
    "predictions[predictions >= 0.5] = 1\n",
    "predictions[predictions < 0.5] = 0"
   ]
  },
  {
   "cell_type": "code",
   "execution_count": 40,
   "id": "1832c2e0",
   "metadata": {
    "ExecuteTime": {
     "end_time": "2025-07-07T21:15:29.660514Z",
     "start_time": "2025-07-07T21:15:29.654515Z"
    }
   },
   "outputs": [
    {
     "name": "stdout",
     "output_type": "stream",
     "text": [
      "Misclassification Error: 0.024666666666666615\n"
     ]
    }
   ],
   "source": [
    "from sklearn.metrics import accuracy_score\n",
    "\n",
    "print(f'Misclassification Error: {1 - accuracy_score(y_test, predictions)}')"
   ]
  },
  {
   "cell_type": "markdown",
   "id": "ff10decb",
   "metadata": {},
   "source": [
    "### 15.c"
   ]
  },
  {
   "cell_type": "code",
   "execution_count": 41,
   "id": "f0dad5a4",
   "metadata": {
    "ExecuteTime": {
     "end_time": "2025-07-07T21:15:29.814042Z",
     "start_time": "2025-07-07T21:15:29.746634Z"
    }
   },
   "outputs": [
    {
     "name": "stdout",
     "output_type": "stream",
     "text": [
      "Misclassification Error - 1: 0.026428571428571468\n",
      "Misclassification Error - 2: 0.028857142857142803\n",
      "Misclassification Error - 3: 0.0268571428571428\n"
     ]
    }
   ],
   "source": [
    "miss_class_err = []\n",
    "for i in range(3):\n",
    "    X_train, X_test, y_train, y_test = train_test_split(sm.add_constant(X), y, test_size=0.7)\n",
    "    def_logit = LogisticRegression(fit_intercept=True).fit(X_train, y_train)\n",
    "    \n",
    "    predictions = def_logit.predict(X_test)\n",
    "    predictions[predictions >= 0.5] = 1\n",
    "    predictions[predictions < 0.5] = 0\n",
    "    \n",
    "    error_rate = 1 - accuracy_score(y_test, predictions)\n",
    "    miss_class_err.append(error_rate)\n",
    "    print(f'Misclassification Error - {i+1}: {error_rate}')"
   ]
  },
  {
   "cell_type": "code",
   "execution_count": 42,
   "id": "cb87662f",
   "metadata": {
    "ExecuteTime": {
     "end_time": "2025-07-07T21:15:29.836471Z",
     "start_time": "2025-07-07T21:15:29.831100Z"
    }
   },
   "outputs": [
    {
     "data": {
      "text/plain": [
       "0.027380952380952357"
      ]
     },
     "execution_count": 42,
     "metadata": {},
     "output_type": "execute_result"
    }
   ],
   "source": [
    "np.array(miss_class_err).mean()"
   ]
  },
  {
   "cell_type": "markdown",
   "id": "d995ba6a",
   "metadata": {},
   "source": [
    "### 15.d"
   ]
  },
  {
   "cell_type": "code",
   "execution_count": 43,
   "id": "29491694",
   "metadata": {
    "ExecuteTime": {
     "end_time": "2025-07-07T21:15:29.909525Z",
     "start_time": "2025-07-07T21:15:29.900059Z"
    }
   },
   "outputs": [],
   "source": [
    "X = default.loc[:, ['income', 'balance', 'student']]\n",
    "X = pd.get_dummies(X, columns=['student'])[['income', 'balance', 'student_Yes']]\n",
    "y = pd.get_dummies(default['default'])['Yes']"
   ]
  },
  {
   "cell_type": "code",
   "execution_count": 44,
   "id": "62b72418",
   "metadata": {
    "ExecuteTime": {
     "end_time": "2025-07-07T21:15:29.960506Z",
     "start_time": "2025-07-07T21:15:29.953690Z"
    }
   },
   "outputs": [],
   "source": [
    "# Including a dummy variable for student\n",
    "X_train, X_test, y_train, y_test = train_test_split(X, y, test_size=0.3, random_state=1)"
   ]
  },
  {
   "cell_type": "code",
   "execution_count": 45,
   "id": "506244ce",
   "metadata": {
    "ExecuteTime": {
     "end_time": "2025-07-07T21:15:30.084426Z",
     "start_time": "2025-07-07T21:15:29.992516Z"
    }
   },
   "outputs": [],
   "source": [
    "def_logit2 = LogisticRegression(fit_intercept=True).fit(X_train, y_train)\n",
    "\n",
    "predictions = def_logit2.predict(X_test)\n",
    "predictions[predictions >= 0.5] = 1\n",
    "predictions[predictions < 0.5] = 0"
   ]
  },
  {
   "cell_type": "code",
   "execution_count": 46,
   "id": "ec5a1486",
   "metadata": {
    "ExecuteTime": {
     "end_time": "2025-07-07T21:15:30.115882Z",
     "start_time": "2025-07-07T21:15:30.109682Z"
    }
   },
   "outputs": [
    {
     "name": "stdout",
     "output_type": "stream",
     "text": [
      "Model with student dummy var. : 0.024333333333333318\n"
     ]
    }
   ],
   "source": [
    "error_rate = 1 - accuracy_score(y_test, predictions)\n",
    "print(f'Model with student dummy var. : {error_rate}')"
   ]
  },
  {
   "cell_type": "code",
   "execution_count": 47,
   "id": "c6bcefa1",
   "metadata": {
    "ExecuteTime": {
     "end_time": "2025-07-07T21:15:30.252856Z",
     "start_time": "2025-07-07T21:15:30.175513Z"
    }
   },
   "outputs": [
    {
     "name": "stdout",
     "output_type": "stream",
     "text": [
      "Model with student dummy var. : 0.024666666666666615\n"
     ]
    }
   ],
   "source": [
    "# Not including a dummy variable for student\n",
    "X_train, X_test, y_train, y_test = train_test_split(X.drop(['student_Yes'], axis=1), \n",
    "                                                    y, test_size=0.3, random_state=1)\n",
    "\n",
    "def_logit3 = LogisticRegression(fit_intercept=True).fit(X_train, y_train)\n",
    "predictions = def_logit3.predict(X_test)\n",
    "predictions[predictions >= 0.5] = 1\n",
    "predictions[predictions < 0.5] = 0\n",
    "\n",
    "error_rate = 1 - accuracy_score(y_test, predictions)\n",
    "print(f'Model with student dummy var. : {error_rate}')"
   ]
  },
  {
   "cell_type": "markdown",
   "id": "480ae015",
   "metadata": {},
   "source": [
    "## Question 6"
   ]
  },
  {
   "cell_type": "markdown",
   "id": "d3e440bd",
   "metadata": {},
   "source": [
    "### 6.a"
   ]
  },
  {
   "cell_type": "code",
   "execution_count": 48,
   "id": "90043400",
   "metadata": {
    "ExecuteTime": {
     "end_time": "2025-07-07T21:15:30.331853Z",
     "start_time": "2025-07-07T21:15:30.278294Z"
    }
   },
   "outputs": [
    {
     "data": {
      "text/html": [
       "<table class=\"simpletable\">\n",
       "<tr>\n",
       "     <td></td>        <th>coef</th>     <th>std err</th>      <th>z</th>      <th>P>|z|</th>  <th>[0.025</th>    <th>0.975]</th>  \n",
       "</tr>\n",
       "<tr>\n",
       "  <th>const</th>   <td>  -11.5405</td> <td>    0.435</td> <td>  -26.544</td> <td> 0.000</td> <td>  -12.393</td> <td>  -10.688</td>\n",
       "</tr>\n",
       "<tr>\n",
       "  <th>income</th>  <td> 2.081e-05</td> <td> 4.99e-06</td> <td>    4.174</td> <td> 0.000</td> <td>  1.1e-05</td> <td> 3.06e-05</td>\n",
       "</tr>\n",
       "<tr>\n",
       "  <th>balance</th> <td>    0.0056</td> <td>    0.000</td> <td>   24.835</td> <td> 0.000</td> <td>    0.005</td> <td>    0.006</td>\n",
       "</tr>\n",
       "</table>"
      ],
      "text/latex": [
       "\\begin{center}\n",
       "\\begin{tabular}{lcccccc}\n",
       "\\toprule\n",
       "                 & \\textbf{coef} & \\textbf{std err} & \\textbf{z} & \\textbf{P$> |$z$|$} & \\textbf{[0.025} & \\textbf{0.975]}  \\\\\n",
       "\\midrule\n",
       "\\textbf{const}   &     -11.5405  &        0.435     &   -26.544  &         0.000        &      -12.393    &      -10.688     \\\\\n",
       "\\textbf{income}  &    2.081e-05  &     4.99e-06     &     4.174  &         0.000        &      1.1e-05    &     3.06e-05     \\\\\n",
       "\\textbf{balance} &       0.0056  &        0.000     &    24.835  &         0.000        &        0.005    &        0.006     \\\\\n",
       "\\bottomrule\n",
       "\\end{tabular}\n",
       "\\end{center}"
      ],
      "text/plain": [
       "<class 'statsmodels.iolib.table.SimpleTable'>"
      ]
     },
     "execution_count": 48,
     "metadata": {},
     "output_type": "execute_result"
    }
   ],
   "source": [
    "X = default.loc[:, ['income', 'balance']]\n",
    "y = pd.get_dummies(default['default'])['Yes']\n",
    "\n",
    "logit = sm.Logit(y, sm.add_constant(X)).fit(disp=False)\n",
    "logit.summary().tables[1]"
   ]
  },
  {
   "cell_type": "markdown",
   "id": "8993e14d",
   "metadata": {},
   "source": [
    "### 6.b"
   ]
  },
  {
   "cell_type": "code",
   "execution_count": 49,
   "id": "d399fd3c",
   "metadata": {
    "ExecuteTime": {
     "end_time": "2025-07-07T21:15:30.362601Z",
     "start_time": "2025-07-07T21:15:30.358207Z"
    }
   },
   "outputs": [],
   "source": [
    "def boot_fn(data, indices):\n",
    "    X = sm.add_constant(data[['balance', 'income']].loc[indices])\n",
    "    y = pd.get_dummies(data['default'].loc[indices])['Yes']\n",
    "    \n",
    "    logit = sm.Logit(y, X).fit(disp=False)\n",
    "    return [logit.params['balance'], logit.params['income']]"
   ]
  },
  {
   "cell_type": "code",
   "execution_count": 50,
   "id": "e6a9140b",
   "metadata": {
    "ExecuteTime": {
     "end_time": "2025-07-07T21:15:30.457925Z",
     "start_time": "2025-07-07T21:15:30.417661Z"
    }
   },
   "outputs": [
    {
     "data": {
      "text/plain": [
       "[0.005799490373833469, 2.172836514900737e-05]"
      ]
     },
     "execution_count": 50,
     "metadata": {},
     "output_type": "execute_result"
    }
   ],
   "source": [
    "np.random.seed(0)\n",
    "indices = np.random.choice(default.index, size=len(default), replace=True)\n",
    "boot_fn(default, indices)"
   ]
  },
  {
   "cell_type": "markdown",
   "id": "836d226a",
   "metadata": {},
   "source": [
    "### 6.c"
   ]
  },
  {
   "cell_type": "code",
   "execution_count": 51,
   "id": "4e9e38c7",
   "metadata": {
    "ExecuteTime": {
     "end_time": "2025-07-07T21:16:09.580043Z",
     "start_time": "2025-07-07T21:15:30.562489Z"
    }
   },
   "outputs": [
    {
     "data": {
      "text/plain": [
       "(4.713197793939106e-06, 0.00023616384027116337)"
      ]
     },
     "execution_count": 51,
     "metadata": {},
     "output_type": "execute_result"
    }
   ],
   "source": [
    "def boot(data, func, num_samples=1000):\n",
    "    coef_income = []\n",
    "    coef_balance = []\n",
    "    for i in range(num_samples):\n",
    "        indices = np.random.choice(default.index, size=len(default), replace=True)\n",
    "        results = func(data, indices)\n",
    "        coef_income.append(results[0])\n",
    "        coef_balance.append(results[1])\n",
    "    \n",
    "    return np.array(coef_balance).std(), np.array(coef_income).std()\n",
    "\n",
    "np.random.seed(0)\n",
    "boot(default, boot_fn, 1000)"
   ]
  },
  {
   "cell_type": "markdown",
   "id": "ee65c3a1",
   "metadata": {},
   "source": [
    "### 6.d"
   ]
  },
  {
   "cell_type": "markdown",
   "id": "56efa934",
   "metadata": {},
   "source": [
    "Estimated bootstrap standard errors are comparable to those obtained in section 6.b."
   ]
  },
  {
   "cell_type": "markdown",
   "id": "23e6f61d",
   "metadata": {},
   "source": [
    "## Question 7"
   ]
  },
  {
   "cell_type": "code",
   "execution_count": 52,
   "id": "a679ab19",
   "metadata": {
    "ExecuteTime": {
     "end_time": "2025-07-07T21:16:09.689925Z",
     "start_time": "2025-07-07T21:16:09.652546Z"
    }
   },
   "outputs": [
    {
     "data": {
      "application/vnd.microsoft.datawrangler.viewer.v0+json": {
       "columns": [
        {
         "name": "index",
         "rawType": "int64",
         "type": "integer"
        },
        {
         "name": "Year",
         "rawType": "int64",
         "type": "integer"
        },
        {
         "name": "Lag1",
         "rawType": "float64",
         "type": "float"
        },
        {
         "name": "Lag2",
         "rawType": "float64",
         "type": "float"
        },
        {
         "name": "Lag3",
         "rawType": "float64",
         "type": "float"
        },
        {
         "name": "Lag4",
         "rawType": "float64",
         "type": "float"
        },
        {
         "name": "Lag5",
         "rawType": "float64",
         "type": "float"
        },
        {
         "name": "Volume",
         "rawType": "float64",
         "type": "float"
        },
        {
         "name": "Today",
         "rawType": "float64",
         "type": "float"
        },
        {
         "name": "Direction",
         "rawType": "object",
         "type": "string"
        }
       ],
       "ref": "4f3c5d5c-bb23-4c3b-bef5-2e895e7b4e19",
       "rows": [
        [
         "0",
         "1990",
         "0.816",
         "1.572",
         "-3.936",
         "-0.229",
         "-3.484",
         "0.154976",
         "-0.27",
         "Down"
        ],
        [
         "1",
         "1990",
         "-0.27",
         "0.816",
         "1.572",
         "-3.936",
         "-0.229",
         "0.148574",
         "-2.576",
         "Down"
        ],
        [
         "2",
         "1990",
         "-2.576",
         "-0.27",
         "0.816",
         "1.572",
         "-3.936",
         "0.1598375",
         "3.514",
         "Up"
        ],
        [
         "3",
         "1990",
         "3.514",
         "-2.576",
         "-0.27",
         "0.816",
         "1.572",
         "0.16163",
         "0.712",
         "Up"
        ],
        [
         "4",
         "1990",
         "0.712",
         "3.514",
         "-2.576",
         "-0.27",
         "0.816",
         "0.153728",
         "1.178",
         "Up"
        ]
       ],
       "shape": {
        "columns": 9,
        "rows": 5
       }
      },
      "text/html": [
       "<div>\n",
       "<style scoped>\n",
       "    .dataframe tbody tr th:only-of-type {\n",
       "        vertical-align: middle;\n",
       "    }\n",
       "\n",
       "    .dataframe tbody tr th {\n",
       "        vertical-align: top;\n",
       "    }\n",
       "\n",
       "    .dataframe thead th {\n",
       "        text-align: right;\n",
       "    }\n",
       "</style>\n",
       "<table border=\"1\" class=\"dataframe\">\n",
       "  <thead>\n",
       "    <tr style=\"text-align: right;\">\n",
       "      <th></th>\n",
       "      <th>Year</th>\n",
       "      <th>Lag1</th>\n",
       "      <th>Lag2</th>\n",
       "      <th>Lag3</th>\n",
       "      <th>Lag4</th>\n",
       "      <th>Lag5</th>\n",
       "      <th>Volume</th>\n",
       "      <th>Today</th>\n",
       "      <th>Direction</th>\n",
       "    </tr>\n",
       "  </thead>\n",
       "  <tbody>\n",
       "    <tr>\n",
       "      <th>0</th>\n",
       "      <td>1990</td>\n",
       "      <td>0.816</td>\n",
       "      <td>1.572</td>\n",
       "      <td>-3.936</td>\n",
       "      <td>-0.229</td>\n",
       "      <td>-3.484</td>\n",
       "      <td>0.154976</td>\n",
       "      <td>-0.270</td>\n",
       "      <td>Down</td>\n",
       "    </tr>\n",
       "    <tr>\n",
       "      <th>1</th>\n",
       "      <td>1990</td>\n",
       "      <td>-0.270</td>\n",
       "      <td>0.816</td>\n",
       "      <td>1.572</td>\n",
       "      <td>-3.936</td>\n",
       "      <td>-0.229</td>\n",
       "      <td>0.148574</td>\n",
       "      <td>-2.576</td>\n",
       "      <td>Down</td>\n",
       "    </tr>\n",
       "    <tr>\n",
       "      <th>2</th>\n",
       "      <td>1990</td>\n",
       "      <td>-2.576</td>\n",
       "      <td>-0.270</td>\n",
       "      <td>0.816</td>\n",
       "      <td>1.572</td>\n",
       "      <td>-3.936</td>\n",
       "      <td>0.159837</td>\n",
       "      <td>3.514</td>\n",
       "      <td>Up</td>\n",
       "    </tr>\n",
       "    <tr>\n",
       "      <th>3</th>\n",
       "      <td>1990</td>\n",
       "      <td>3.514</td>\n",
       "      <td>-2.576</td>\n",
       "      <td>-0.270</td>\n",
       "      <td>0.816</td>\n",
       "      <td>1.572</td>\n",
       "      <td>0.161630</td>\n",
       "      <td>0.712</td>\n",
       "      <td>Up</td>\n",
       "    </tr>\n",
       "    <tr>\n",
       "      <th>4</th>\n",
       "      <td>1990</td>\n",
       "      <td>0.712</td>\n",
       "      <td>3.514</td>\n",
       "      <td>-2.576</td>\n",
       "      <td>-0.270</td>\n",
       "      <td>0.816</td>\n",
       "      <td>0.153728</td>\n",
       "      <td>1.178</td>\n",
       "      <td>Up</td>\n",
       "    </tr>\n",
       "  </tbody>\n",
       "</table>\n",
       "</div>"
      ],
      "text/plain": [
       "   Year   Lag1   Lag2   Lag3   Lag4   Lag5    Volume  Today Direction\n",
       "0  1990  0.816  1.572 -3.936 -0.229 -3.484  0.154976 -0.270      Down\n",
       "1  1990 -0.270  0.816  1.572 -3.936 -0.229  0.148574 -2.576      Down\n",
       "2  1990 -2.576 -0.270  0.816  1.572 -3.936  0.159837  3.514        Up\n",
       "3  1990  3.514 -2.576 -0.270  0.816  1.572  0.161630  0.712        Up\n",
       "4  1990  0.712  3.514 -2.576 -0.270  0.816  0.153728  1.178        Up"
      ]
     },
     "execution_count": 52,
     "metadata": {},
     "output_type": "execute_result"
    }
   ],
   "source": [
    "weekly = pd.read_csv('../../data/weekly.csv')\n",
    "weekly.head()"
   ]
  },
  {
   "cell_type": "markdown",
   "id": "0d178414",
   "metadata": {},
   "source": [
    "### 7.a"
   ]
  },
  {
   "cell_type": "code",
   "execution_count": 53,
   "id": "3715d644",
   "metadata": {
    "ExecuteTime": {
     "end_time": "2025-07-07T21:16:10.075710Z",
     "start_time": "2025-07-07T21:16:09.978896Z"
    }
   },
   "outputs": [],
   "source": [
    "X = sm.add_constant(weekly.loc[:, ['Lag1', 'Lag2']])\n",
    "y = pd.get_dummies(weekly['Direction'])['Up']"
   ]
  },
  {
   "cell_type": "code",
   "execution_count": 54,
   "id": "8e231fd0",
   "metadata": {
    "ExecuteTime": {
     "end_time": "2025-07-07T21:16:10.416633Z",
     "start_time": "2025-07-07T21:16:10.352636Z"
    }
   },
   "outputs": [
    {
     "data": {
      "text/html": [
       "<table class=\"simpletable\">\n",
       "<caption>Logit Regression Results</caption>\n",
       "<tr>\n",
       "  <th>Dep. Variable:</th>          <td>Up</td>        <th>  No. Observations:  </th>  <td>  1089</td> \n",
       "</tr>\n",
       "<tr>\n",
       "  <th>Model:</th>                 <td>Logit</td>      <th>  Df Residuals:      </th>  <td>  1086</td> \n",
       "</tr>\n",
       "<tr>\n",
       "  <th>Method:</th>                 <td>MLE</td>       <th>  Df Model:          </th>  <td>     2</td> \n",
       "</tr>\n",
       "<tr>\n",
       "  <th>Date:</th>            <td>Wed, 09 Jul 2025</td> <th>  Pseudo R-squ.:     </th> <td>0.005335</td>\n",
       "</tr>\n",
       "<tr>\n",
       "  <th>Time:</th>                <td>13:44:27</td>     <th>  Log-Likelihood:    </th> <td> -744.11</td>\n",
       "</tr>\n",
       "<tr>\n",
       "  <th>converged:</th>             <td>True</td>       <th>  LL-Null:           </th> <td> -748.10</td>\n",
       "</tr>\n",
       "<tr>\n",
       "  <th>Covariance Type:</th>     <td>nonrobust</td>    <th>  LLR p-value:       </th>  <td>0.01848</td>\n",
       "</tr>\n",
       "</table>\n",
       "<table class=\"simpletable\">\n",
       "<tr>\n",
       "    <td></td>       <th>coef</th>     <th>std err</th>      <th>z</th>      <th>P>|z|</th>  <th>[0.025</th>    <th>0.975]</th>  \n",
       "</tr>\n",
       "<tr>\n",
       "  <th>const</th> <td>    0.2212</td> <td>    0.061</td> <td>    3.599</td> <td> 0.000</td> <td>    0.101</td> <td>    0.342</td>\n",
       "</tr>\n",
       "<tr>\n",
       "  <th>Lag1</th>  <td>   -0.0387</td> <td>    0.026</td> <td>   -1.477</td> <td> 0.140</td> <td>   -0.090</td> <td>    0.013</td>\n",
       "</tr>\n",
       "<tr>\n",
       "  <th>Lag2</th>  <td>    0.0602</td> <td>    0.027</td> <td>    2.270</td> <td> 0.023</td> <td>    0.008</td> <td>    0.112</td>\n",
       "</tr>\n",
       "</table>"
      ],
      "text/latex": [
       "\\begin{center}\n",
       "\\begin{tabular}{lclc}\n",
       "\\toprule\n",
       "\\textbf{Dep. Variable:}   &        Up        & \\textbf{  No. Observations:  } &     1089    \\\\\n",
       "\\textbf{Model:}           &      Logit       & \\textbf{  Df Residuals:      } &     1086    \\\\\n",
       "\\textbf{Method:}          &       MLE        & \\textbf{  Df Model:          } &        2    \\\\\n",
       "\\textbf{Date:}            & Wed, 09 Jul 2025 & \\textbf{  Pseudo R-squ.:     } &  0.005335   \\\\\n",
       "\\textbf{Time:}            &     13:44:27     & \\textbf{  Log-Likelihood:    } &   -744.11   \\\\\n",
       "\\textbf{converged:}       &       True       & \\textbf{  LL-Null:           } &   -748.10   \\\\\n",
       "\\textbf{Covariance Type:} &    nonrobust     & \\textbf{  LLR p-value:       } &  0.01848    \\\\\n",
       "\\bottomrule\n",
       "\\end{tabular}\n",
       "\\begin{tabular}{lcccccc}\n",
       "               & \\textbf{coef} & \\textbf{std err} & \\textbf{z} & \\textbf{P$> |$z$|$} & \\textbf{[0.025} & \\textbf{0.975]}  \\\\\n",
       "\\midrule\n",
       "\\textbf{const} &       0.2212  &        0.061     &     3.599  &         0.000        &        0.101    &        0.342     \\\\\n",
       "\\textbf{Lag1}  &      -0.0387  &        0.026     &    -1.477  &         0.140        &       -0.090    &        0.013     \\\\\n",
       "\\textbf{Lag2}  &       0.0602  &        0.027     &     2.270  &         0.023        &        0.008    &        0.112     \\\\\n",
       "\\bottomrule\n",
       "\\end{tabular}\n",
       "%\\caption{Logit Regression Results}\n",
       "\\end{center}"
      ],
      "text/plain": [
       "<class 'statsmodels.iolib.summary.Summary'>\n",
       "\"\"\"\n",
       "                           Logit Regression Results                           \n",
       "==============================================================================\n",
       "Dep. Variable:                     Up   No. Observations:                 1089\n",
       "Model:                          Logit   Df Residuals:                     1086\n",
       "Method:                           MLE   Df Model:                            2\n",
       "Date:                Wed, 09 Jul 2025   Pseudo R-squ.:                0.005335\n",
       "Time:                        13:44:27   Log-Likelihood:                -744.11\n",
       "converged:                       True   LL-Null:                       -748.10\n",
       "Covariance Type:            nonrobust   LLR p-value:                   0.01848\n",
       "==============================================================================\n",
       "                 coef    std err          z      P>|z|      [0.025      0.975]\n",
       "------------------------------------------------------------------------------\n",
       "const          0.2212      0.061      3.599      0.000       0.101       0.342\n",
       "Lag1          -0.0387      0.026     -1.477      0.140      -0.090       0.013\n",
       "Lag2           0.0602      0.027      2.270      0.023       0.008       0.112\n",
       "==============================================================================\n",
       "\"\"\""
      ]
     },
     "execution_count": 54,
     "metadata": {},
     "output_type": "execute_result"
    }
   ],
   "source": [
    "logit = sm.Logit(y, X).fit(disp=False)\n",
    "logit.summary()"
   ]
  },
  {
   "cell_type": "markdown",
   "id": "a8c67cf9",
   "metadata": {},
   "source": [
    "### 7.b"
   ]
  },
  {
   "cell_type": "code",
   "execution_count": 55,
   "id": "3555c09e",
   "metadata": {
    "ExecuteTime": {
     "end_time": "2025-07-07T21:16:10.848446Z",
     "start_time": "2025-07-07T21:16:10.745562Z"
    }
   },
   "outputs": [
    {
     "data": {
      "text/html": [
       "<table class=\"simpletable\">\n",
       "<caption>Logit Regression Results</caption>\n",
       "<tr>\n",
       "  <th>Dep. Variable:</th>          <td>Up</td>        <th>  No. Observations:  </th>  <td>  1088</td> \n",
       "</tr>\n",
       "<tr>\n",
       "  <th>Model:</th>                 <td>Logit</td>      <th>  Df Residuals:      </th>  <td>  1085</td> \n",
       "</tr>\n",
       "<tr>\n",
       "  <th>Method:</th>                 <td>MLE</td>       <th>  Df Model:          </th>  <td>     2</td> \n",
       "</tr>\n",
       "<tr>\n",
       "  <th>Date:</th>            <td>Wed, 09 Jul 2025</td> <th>  Pseudo R-squ.:     </th> <td>0.005387</td>\n",
       "</tr>\n",
       "<tr>\n",
       "  <th>Time:</th>                <td>13:44:27</td>     <th>  Log-Likelihood:    </th> <td> -743.26</td>\n",
       "</tr>\n",
       "<tr>\n",
       "  <th>converged:</th>             <td>True</td>       <th>  LL-Null:           </th> <td> -747.29</td>\n",
       "</tr>\n",
       "<tr>\n",
       "  <th>Covariance Type:</th>     <td>nonrobust</td>    <th>  LLR p-value:       </th>  <td>0.01785</td>\n",
       "</tr>\n",
       "</table>\n",
       "<table class=\"simpletable\">\n",
       "<tr>\n",
       "    <td></td>       <th>coef</th>     <th>std err</th>      <th>z</th>      <th>P>|z|</th>  <th>[0.025</th>    <th>0.975]</th>  \n",
       "</tr>\n",
       "<tr>\n",
       "  <th>const</th> <td>    0.2232</td> <td>    0.061</td> <td>    3.630</td> <td> 0.000</td> <td>    0.103</td> <td>    0.344</td>\n",
       "</tr>\n",
       "<tr>\n",
       "  <th>Lag1</th>  <td>   -0.0384</td> <td>    0.026</td> <td>   -1.466</td> <td> 0.143</td> <td>   -0.090</td> <td>    0.013</td>\n",
       "</tr>\n",
       "<tr>\n",
       "  <th>Lag2</th>  <td>    0.0608</td> <td>    0.027</td> <td>    2.291</td> <td> 0.022</td> <td>    0.009</td> <td>    0.113</td>\n",
       "</tr>\n",
       "</table>"
      ],
      "text/latex": [
       "\\begin{center}\n",
       "\\begin{tabular}{lclc}\n",
       "\\toprule\n",
       "\\textbf{Dep. Variable:}   &        Up        & \\textbf{  No. Observations:  } &     1088    \\\\\n",
       "\\textbf{Model:}           &      Logit       & \\textbf{  Df Residuals:      } &     1085    \\\\\n",
       "\\textbf{Method:}          &       MLE        & \\textbf{  Df Model:          } &        2    \\\\\n",
       "\\textbf{Date:}            & Wed, 09 Jul 2025 & \\textbf{  Pseudo R-squ.:     } &  0.005387   \\\\\n",
       "\\textbf{Time:}            &     13:44:27     & \\textbf{  Log-Likelihood:    } &   -743.26   \\\\\n",
       "\\textbf{converged:}       &       True       & \\textbf{  LL-Null:           } &   -747.29   \\\\\n",
       "\\textbf{Covariance Type:} &    nonrobust     & \\textbf{  LLR p-value:       } &  0.01785    \\\\\n",
       "\\bottomrule\n",
       "\\end{tabular}\n",
       "\\begin{tabular}{lcccccc}\n",
       "               & \\textbf{coef} & \\textbf{std err} & \\textbf{z} & \\textbf{P$> |$z$|$} & \\textbf{[0.025} & \\textbf{0.975]}  \\\\\n",
       "\\midrule\n",
       "\\textbf{const} &       0.2232  &        0.061     &     3.630  &         0.000        &        0.103    &        0.344     \\\\\n",
       "\\textbf{Lag1}  &      -0.0384  &        0.026     &    -1.466  &         0.143        &       -0.090    &        0.013     \\\\\n",
       "\\textbf{Lag2}  &       0.0608  &        0.027     &     2.291  &         0.022        &        0.009    &        0.113     \\\\\n",
       "\\bottomrule\n",
       "\\end{tabular}\n",
       "%\\caption{Logit Regression Results}\n",
       "\\end{center}"
      ],
      "text/plain": [
       "<class 'statsmodels.iolib.summary.Summary'>\n",
       "\"\"\"\n",
       "                           Logit Regression Results                           \n",
       "==============================================================================\n",
       "Dep. Variable:                     Up   No. Observations:                 1088\n",
       "Model:                          Logit   Df Residuals:                     1085\n",
       "Method:                           MLE   Df Model:                            2\n",
       "Date:                Wed, 09 Jul 2025   Pseudo R-squ.:                0.005387\n",
       "Time:                        13:44:27   Log-Likelihood:                -743.26\n",
       "converged:                       True   LL-Null:                       -747.29\n",
       "Covariance Type:            nonrobust   LLR p-value:                   0.01785\n",
       "==============================================================================\n",
       "                 coef    std err          z      P>|z|      [0.025      0.975]\n",
       "------------------------------------------------------------------------------\n",
       "const          0.2232      0.061      3.630      0.000       0.103       0.344\n",
       "Lag1          -0.0384      0.026     -1.466      0.143      -0.090       0.013\n",
       "Lag2           0.0608      0.027      2.291      0.022       0.009       0.113\n",
       "==============================================================================\n",
       "\"\"\""
      ]
     },
     "execution_count": 55,
     "metadata": {},
     "output_type": "execute_result"
    }
   ],
   "source": [
    "logit2 = sm.Logit(y.loc[1:], X.loc[1:]).fit(disp=False)\n",
    "logit2.summary()"
   ]
  },
  {
   "cell_type": "markdown",
   "id": "5d939e5b",
   "metadata": {},
   "source": [
    "### 7.c"
   ]
  },
  {
   "cell_type": "code",
   "execution_count": 56,
   "id": "2c0788ee",
   "metadata": {
    "ExecuteTime": {
     "end_time": "2025-07-07T21:16:10.998246Z",
     "start_time": "2025-07-07T21:16:10.979701Z"
    }
   },
   "outputs": [
    {
     "data": {
      "text/plain": [
       "True"
      ]
     },
     "execution_count": 56,
     "metadata": {},
     "output_type": "execute_result"
    }
   ],
   "source": [
    "prob = logit2.predict(X.loc[0])\n",
    "prob[0] > 0.5"
   ]
  },
  {
   "cell_type": "code",
   "execution_count": 57,
   "id": "983c6043",
   "metadata": {
    "ExecuteTime": {
     "end_time": "2025-07-07T21:16:11.235541Z",
     "start_time": "2025-07-07T21:16:11.196699Z"
    }
   },
   "outputs": [
    {
     "data": {
      "text/plain": [
       "False"
      ]
     },
     "execution_count": 57,
     "metadata": {},
     "output_type": "execute_result"
    }
   ],
   "source": [
    "y.loc[0]"
   ]
  },
  {
   "cell_type": "markdown",
   "id": "5ae9cb1e",
   "metadata": {},
   "source": [
    "The model predicted that the direction of the first observation would be `Up`, but in reality, it was `Down`. Therefore, the model misclassified the first observation."
   ]
  },
  {
   "cell_type": "markdown",
   "id": "f960df0e",
   "metadata": {},
   "source": [
    "### 7.d"
   ]
  },
  {
   "cell_type": "code",
   "execution_count": 58,
   "id": "08eac411",
   "metadata": {
    "ExecuteTime": {
     "end_time": "2025-07-07T21:16:18.161115Z",
     "start_time": "2025-07-07T21:16:11.406722Z"
    }
   },
   "outputs": [],
   "source": [
    "loocv_predict = np.array([])\n",
    "for i in range(0, len(weekly)):\n",
    "    X_new = X.drop(i, axis=0)\n",
    "    y_new = y.drop(i, axis=0)\n",
    "    \n",
    "    logit = sm.Logit(y_new, X_new).fit(disp=False)\n",
    "    prob = logit.predict(X.loc[i, :], y.loc[i])\n",
    "\n",
    "    loocv_predict = np.append(loocv_predict, prob)"
   ]
  },
  {
   "cell_type": "markdown",
   "id": "f6c99b73",
   "metadata": {},
   "source": [
    "### 7.e"
   ]
  },
  {
   "cell_type": "code",
   "execution_count": 59,
   "id": "f32ad6ca",
   "metadata": {
    "ExecuteTime": {
     "end_time": "2025-07-07T21:16:18.222030Z",
     "start_time": "2025-07-07T21:16:18.212408Z"
    }
   },
   "outputs": [
    {
     "data": {
      "text/plain": [
       "0.44995408631772266"
      ]
     },
     "execution_count": 59,
     "metadata": {},
     "output_type": "execute_result"
    }
   ],
   "source": [
    "loocv_predict = (loocv_predict > 0.5)\n",
    "np.mean(loocv_predict != y)"
   ]
  },
  {
   "cell_type": "code",
   "execution_count": 60,
   "id": "a9511632",
   "metadata": {
    "ExecuteTime": {
     "end_time": "2025-07-07T21:16:18.415798Z",
     "start_time": "2025-07-07T21:16:18.401061Z"
    }
   },
   "outputs": [
    {
     "data": {
      "application/vnd.microsoft.datawrangler.viewer.v0+json": {
       "columns": [
        {
         "name": "Direction",
         "rawType": "object",
         "type": "string"
        },
        {
         "name": "count",
         "rawType": "float64",
         "type": "float"
        }
       ],
       "ref": "00848e1a-72ee-46b1-a73e-6a60007af1eb",
       "rows": [
        [
         "Up",
         "0.5555555555555556"
        ],
        [
         "Down",
         "0.4444444444444444"
        ]
       ],
       "shape": {
        "columns": 1,
        "rows": 2
       }
      },
      "text/plain": [
       "Direction\n",
       "Up      0.555556\n",
       "Down    0.444444\n",
       "Name: count, dtype: float64"
      ]
     },
     "execution_count": 60,
     "metadata": {},
     "output_type": "execute_result"
    }
   ],
   "source": [
    "weekly['Direction'].value_counts() / len(weekly['Direction'])"
   ]
  },
  {
   "cell_type": "markdown",
   "id": "d9282b22",
   "metadata": {},
   "source": [
    "If we developed a model that always predicts the `direction` as `Down`, the test error would be approximately 0.44. This indicates that the model we have developed is not effective."
   ]
  },
  {
   "cell_type": "markdown",
   "id": "09def30d",
   "metadata": {},
   "source": [
    "## Question 8"
   ]
  },
  {
   "cell_type": "code",
   "execution_count": 61,
   "id": "c8ce0dc9",
   "metadata": {
    "ExecuteTime": {
     "end_time": "2025-07-07T21:16:18.610208Z",
     "start_time": "2025-07-07T21:16:18.599875Z"
    }
   },
   "outputs": [],
   "source": [
    "np.random.seed(1)\n",
    "X = np.sort(np.random.randn(100))\n",
    "y = X - 2 * X**2 + np.random.randn(100)"
   ]
  },
  {
   "cell_type": "markdown",
   "id": "6b9c5ba6",
   "metadata": {},
   "source": [
    "### 8.a\n",
    "\n",
    "$$ y = X - 2X^2 + \\epsilon $$\n",
    "\n",
    "- n = 100\n",
    "- p = 2"
   ]
  },
  {
   "cell_type": "markdown",
   "id": "920dfcbb",
   "metadata": {},
   "source": [
    "### 8.b"
   ]
  },
  {
   "cell_type": "code",
   "execution_count": 62,
   "id": "f3bfc72a",
   "metadata": {
    "ExecuteTime": {
     "end_time": "2025-07-07T21:16:19.312770Z",
     "start_time": "2025-07-07T21:16:18.842702Z"
    }
   },
   "outputs": [
    {
     "data": {
      "text/plain": [
       "<matplotlib.legend.Legend at 0x24bf2e34cb0>"
      ]
     },
     "execution_count": 62,
     "metadata": {},
     "output_type": "execute_result"
    },
    {
     "data": {
      "image/png": "[encoded data removed]",
      "text/plain": [
       "<Figure size 640x480 with 1 Axes>"
      ]
     },
     "metadata": {},
     "output_type": "display_data"
    }
   ],
   "source": [
    "ax = sns.scatterplot(x=X, y=y)\n",
    "ax.plot(X, X-2*X**2, color='r', label='Population Regression Line')\n",
    "ax.set_xlabel('X')\n",
    "ax.set_ylabel('y')\n",
    "ax.grid()\n",
    "ax.legend()"
   ]
  },
  {
   "cell_type": "markdown",
   "id": "e8d46d4a",
   "metadata": {},
   "source": [
    "$$ f(X) = X - 2X^2 $$\n",
    "$$ \\implies X(1 - 2X) $$\n",
    "$$ \\implies f(X) = 0 \\iff X \\in {0, 0.5} $$\n",
    "\n",
    "---\n",
    "\n",
    "$$ f(X) = X - 2X^2 $$\n",
    "$$ \\implies f'(X) = 1 - 4X $$\n",
    "$$ \\implies f'(X) = 0 \\iff X = 0.25 $$\n",
    "\n",
    "--- \n",
    "\n",
    "We have $ f''(0.25) = -4 \\lt 0 $, so 0.25 is a maximum."
   ]
  },
  {
   "cell_type": "markdown",
   "id": "2e62e59b",
   "metadata": {},
   "source": [
    "### 8.c"
   ]
  },
  {
   "cell_type": "code",
   "execution_count": 63,
   "id": "a438e50a",
   "metadata": {
    "ExecuteTime": {
     "end_time": "2025-07-07T21:16:19.397411Z",
     "start_time": "2025-07-07T21:16:19.386901Z"
    }
   },
   "outputs": [],
   "source": [
    "from sklearn.model_selection import cross_val_score\n",
    "\n",
    "def poly_loocv(data, degree):\n",
    "    \n",
    "    poly = PolynomialFeatures(degree=degree, include_bias=False)\n",
    "    lm = LinearRegression()\n",
    "    \n",
    "    cv_score = cross_val_score(lm, poly.fit_transform(data['x'][:, np.newaxis]), data['y'],\n",
    "                                     scoring='neg_mean_squared_error', cv=len(data['x']))\n",
    "    \n",
    "    return -np.mean(cv_score)"
   ]
  },
  {
   "cell_type": "code",
   "execution_count": 64,
   "id": "e0937ca0",
   "metadata": {
    "ExecuteTime": {
     "end_time": "2025-07-07T21:16:19.546079Z",
     "start_time": "2025-07-07T21:16:19.538069Z"
    }
   },
   "outputs": [],
   "source": [
    "df = pd.DataFrame({ 'y': y, 'x': X })"
   ]
  },
  {
   "cell_type": "code",
   "execution_count": 65,
   "id": "8d1ca270",
   "metadata": {
    "ExecuteTime": {
     "end_time": "2025-07-07T21:16:21.421679Z",
     "start_time": "2025-07-07T21:16:19.689701Z"
    }
   },
   "outputs": [
    {
     "data": {
      "text/plain": [
       "[5.90663789467059, 0.8889974749237376, 0.9078496663524078, 0.933425454661212]"
      ]
     },
     "execution_count": 65,
     "metadata": {},
     "output_type": "execute_result"
    }
   ],
   "source": [
    "# Set random seed for reproducibility\n",
    "np.random.seed(10)\n",
    "\n",
    "# Define the poly_loocv function\n",
    "def poly_loocv(data, degree):\n",
    "    poly = PolynomialFeatures(degree=degree, include_bias=False)\n",
    "    lm = LinearRegression()\n",
    "    # Convert Series to NumPy array and reshape to 2D\n",
    "    X = data['x'].to_numpy()[:, np.newaxis]\n",
    "    cv_score = cross_val_score(lm, poly.fit_transform(X), data['y'],\n",
    "                              scoring='neg_mean_squared_error', cv=len(data['x']))\n",
    "    return -np.mean(cv_score)\n",
    "\n",
    "# Run LOOCV for polynomial degrees 1 to 4\n",
    "loocv_results = [poly_loocv(df, deg) for deg in range(1, 5)]\n",
    "loocv_results"
   ]
  },
  {
   "cell_type": "code",
   "execution_count": 66,
   "id": "375e6305",
   "metadata": {},
   "outputs": [
    {
     "data": {
      "text/plain": [
       "Text(0.5, 0, 'Polynomial Order')"
      ]
     },
     "execution_count": 66,
     "metadata": {},
     "output_type": "execute_result"
    },
    {
     "data": {
      "image/png": "[encoded data removed]",
      "text/plain": [
       "<Figure size 640x480 with 1 Axes>"
      ]
     },
     "metadata": {},
     "output_type": "display_data"
    }
   ],
   "source": [
    "plt.plot(range(1,5), loocv_results)\n",
    "plt.ylabel('LOOCV Error')\n",
    "plt.xlabel('Polynomial Order')"
   ]
  },
  {
   "cell_type": "markdown",
   "id": "fab5b209",
   "metadata": {},
   "source": [
    "### 8.d"
   ]
  },
  {
   "cell_type": "code",
   "execution_count": 67,
   "id": "111bdd26",
   "metadata": {},
   "outputs": [
    {
     "data": {
      "text/plain": [
       "[5.90663789467059, 0.8889974749237376, 0.9078496663524078, 0.933425454661212]"
      ]
     },
     "execution_count": 67,
     "metadata": {},
     "output_type": "execute_result"
    }
   ],
   "source": [
    "np.random.seed(405)\n",
    "loocv_results = [poly_loocv(df, deg) for deg in range(1, 5)]\n",
    "loocv_results"
   ]
  },
  {
   "cell_type": "code",
   "execution_count": 68,
   "id": "469eb7c5",
   "metadata": {},
   "outputs": [
    {
     "data": {
      "text/plain": [
       "Text(0.5, 0, 'Polynomial Order')"
      ]
     },
     "execution_count": 68,
     "metadata": {},
     "output_type": "execute_result"
    },
    {
     "data": {
      "image/png": "[encoded data removed]",
      "text/plain": [
       "<Figure size 640x480 with 1 Axes>"
      ]
     },
     "metadata": {},
     "output_type": "display_data"
    }
   ],
   "source": [
    "plt.plot(range(1,5), loocv_results)\n",
    "plt.ylabel('LOOCV Error')\n",
    "plt.xlabel('Polynomial Order')"
   ]
  },
  {
   "cell_type": "markdown",
   "id": "bee0499f",
   "metadata": {},
   "source": [
    "We get the same results. This is because LOOCV does not involve any randomness. Unlike other cross-validation methods, there is only one way to calculate the LOOCV error: \n",
    "\n",
    "- Leave one observation out as the test set\n",
    "- Train the model on the remaining set (the training set)\n",
    "- Evaluate the model on the test set\n",
    "- Repeat this process n times, until each observation has been used as a test set once\n",
    "- Average these n errors to obtain the test error estimate."
   ]
  },
  {
   "cell_type": "markdown",
   "id": "db2ce524",
   "metadata": {},
   "source": [
    "### 8.e\n",
    "\n",
    "The LOOCV analysis reveals that the second order polynomial has the smallest error. This finding is consistent with our previous observations in section (a), where we identified that the model has 2 roots and one maximum point at 0.25. Therefore, we would expect a quadratic relationship between X and y, which is confirmed by the LOOCV analysis."
   ]
  },
  {
   "cell_type": "markdown",
   "id": "ebd11441",
   "metadata": {},
   "source": [
    "### 8.f"
   ]
  },
  {
   "cell_type": "code",
   "execution_count": 69,
   "id": "00e93245",
   "metadata": {},
   "outputs": [
    {
     "data": {
      "application/vnd.microsoft.datawrangler.viewer.v0+json": {
       "columns": [
        {
         "name": "index",
         "rawType": "int64",
         "type": "integer"
        },
        {
         "name": "y",
         "rawType": "float64",
         "type": "float"
        },
        {
         "name": "x",
         "rawType": "float64",
         "type": "float"
        },
        {
         "name": "x_2",
         "rawType": "float64",
         "type": "float"
        },
        {
         "name": "x_3",
         "rawType": "float64",
         "type": "float"
        },
        {
         "name": "x_4",
         "rawType": "float64",
         "type": "float"
        }
       ],
       "ref": "700b8db4-511d-4697-b99c-022edc27695f",
       "rows": [
        [
         "0",
         "-13.34282800814106",
         "-2.3015386968802827",
         "5.29708037323739",
         "-12.191435459490902",
         "28.059060480536765"
        ],
        [
         "1",
         "-9.32399249055115",
         "-2.060140709497654",
         "4.244179742929497",
         "-8.743607466834346",
         "18.013061690293096"
        ],
        [
         "2",
         "-9.797305088593355",
         "-2.022201215824003",
         "4.089297757280076",
         "-8.269382896638138",
         "16.72235614769586"
        ],
        [
         "3",
         "-5.021464648257183",
         "-1.4441138054295894",
         "2.0854646830323302",
         "-3.011648339502831",
         "4.349162944175137"
        ],
        [
         "4",
         "-6.391812211292773",
         "-1.3964963354881377",
         "1.9502020150317971",
         "-2.7234499674534867",
         "3.803287899434082"
        ]
       ],
       "shape": {
        "columns": 5,
        "rows": 5
       }
      },
      "text/html": [
       "<div>\n",
       "<style scoped>\n",
       "    .dataframe tbody tr th:only-of-type {\n",
       "        vertical-align: middle;\n",
       "    }\n",
       "\n",
       "    .dataframe tbody tr th {\n",
       "        vertical-align: top;\n",
       "    }\n",
       "\n",
       "    .dataframe thead th {\n",
       "        text-align: right;\n",
       "    }\n",
       "</style>\n",
       "<table border=\"1\" class=\"dataframe\">\n",
       "  <thead>\n",
       "    <tr style=\"text-align: right;\">\n",
       "      <th></th>\n",
       "      <th>y</th>\n",
       "      <th>x</th>\n",
       "      <th>x_2</th>\n",
       "      <th>x_3</th>\n",
       "      <th>x_4</th>\n",
       "    </tr>\n",
       "  </thead>\n",
       "  <tbody>\n",
       "    <tr>\n",
       "      <th>0</th>\n",
       "      <td>-13.342828</td>\n",
       "      <td>-2.301539</td>\n",
       "      <td>5.297080</td>\n",
       "      <td>-12.191435</td>\n",
       "      <td>28.059060</td>\n",
       "    </tr>\n",
       "    <tr>\n",
       "      <th>1</th>\n",
       "      <td>-9.323992</td>\n",
       "      <td>-2.060141</td>\n",
       "      <td>4.244180</td>\n",
       "      <td>-8.743607</td>\n",
       "      <td>18.013062</td>\n",
       "    </tr>\n",
       "    <tr>\n",
       "      <th>2</th>\n",
       "      <td>-9.797305</td>\n",
       "      <td>-2.022201</td>\n",
       "      <td>4.089298</td>\n",
       "      <td>-8.269383</td>\n",
       "      <td>16.722356</td>\n",
       "    </tr>\n",
       "    <tr>\n",
       "      <th>3</th>\n",
       "      <td>-5.021465</td>\n",
       "      <td>-1.444114</td>\n",
       "      <td>2.085465</td>\n",
       "      <td>-3.011648</td>\n",
       "      <td>4.349163</td>\n",
       "    </tr>\n",
       "    <tr>\n",
       "      <th>4</th>\n",
       "      <td>-6.391812</td>\n",
       "      <td>-1.396496</td>\n",
       "      <td>1.950202</td>\n",
       "      <td>-2.723450</td>\n",
       "      <td>3.803288</td>\n",
       "    </tr>\n",
       "  </tbody>\n",
       "</table>\n",
       "</div>"
      ],
      "text/plain": [
       "           y         x       x_2        x_3        x_4\n",
       "0 -13.342828 -2.301539  5.297080 -12.191435  28.059060\n",
       "1  -9.323992 -2.060141  4.244180  -8.743607  18.013062\n",
       "2  -9.797305 -2.022201  4.089298  -8.269383  16.722356\n",
       "3  -5.021465 -1.444114  2.085465  -3.011648   4.349163\n",
       "4  -6.391812 -1.396496  1.950202  -2.723450   3.803288"
      ]
     },
     "execution_count": 69,
     "metadata": {},
     "output_type": "execute_result"
    }
   ],
   "source": [
    "df['x_2'] = X**2\n",
    "df['x_3'] = X**3\n",
    "df['x_4'] = X**4\n",
    "df.head()"
   ]
  },
  {
   "cell_type": "code",
   "execution_count": 70,
   "id": "a836ec6e",
   "metadata": {},
   "outputs": [],
   "source": [
    "def stat_significance(df, degree):\n",
    "    X = sm.add_constant(df.loc[:, ['x', 'x_2', 'x_3', 'x_4']])\n",
    "    y = df['y']\n",
    "    \n",
    "    lm = sm.OLS(y, X.loc[:, 'const':f'x_{degree}']).fit()\n",
    "    print(f'Degree: {degree}')\n",
    "    print(lm.summary().tables[1])\n",
    "    print('')"
   ]
  },
  {
   "cell_type": "code",
   "execution_count": 71,
   "id": "141062de",
   "metadata": {},
   "outputs": [
    {
     "name": "stdout",
     "output_type": "stream",
     "text": [
      "Degree: 1\n",
      "==============================================================================\n",
      "                 coef    std err          t      P>|t|      [0.025      0.975]\n",
      "------------------------------------------------------------------------------\n",
      "const         -1.4165      0.234     -6.048      0.000      -1.881      -0.952\n",
      "x              0.9171      0.264      3.474      0.001       0.393       1.441\n",
      "==============================================================================\n",
      "\n",
      "Degree: 2\n",
      "==============================================================================\n",
      "                 coef    std err          t      P>|t|      [0.025      0.975]\n",
      "------------------------------------------------------------------------------\n",
      "const          0.0787      0.114      0.689      0.492      -0.148       0.305\n",
      "x              1.1417      0.106     10.799      0.000       0.932       1.352\n",
      "x_2           -1.9167      0.084    -22.787      0.000      -2.084      -1.750\n",
      "==============================================================================\n",
      "\n",
      "Degree: 3\n",
      "==============================================================================\n",
      "                 coef    std err          t      P>|t|      [0.025      0.975]\n",
      "------------------------------------------------------------------------------\n",
      "const          0.0792      0.115      0.689      0.492      -0.149       0.307\n",
      "x              1.1549      0.187      6.191      0.000       0.785       1.525\n",
      "x_2           -1.9174      0.085    -22.587      0.000      -2.086      -1.749\n",
      "x_3           -0.0056      0.065     -0.086      0.931      -0.134       0.123\n",
      "==============================================================================\n",
      "\n",
      "Degree: 4\n",
      "==============================================================================\n",
      "                 coef    std err          t      P>|t|      [0.025      0.975]\n",
      "------------------------------------------------------------------------------\n",
      "const          0.0958      0.140      0.687      0.494      -0.181       0.373\n",
      "x              1.1555      0.187      6.163      0.000       0.783       1.528\n",
      "x_2           -1.9685      0.255     -7.733      0.000      -2.474      -1.463\n",
      "x_3           -0.0037      0.065     -0.057      0.954      -0.134       0.126\n",
      "x_4            0.0125      0.059      0.213      0.832      -0.104       0.129\n",
      "==============================================================================\n",
      "\n"
     ]
    }
   ],
   "source": [
    "for i in range(1, 5):\n",
    "    stat_significance(df, i)"
   ]
  },
  {
   "cell_type": "markdown",
   "id": "17c1e96f",
   "metadata": {},
   "source": [
    "## Question 9"
   ]
  },
  {
   "cell_type": "code",
   "execution_count": 72,
   "id": "21238e8d",
   "metadata": {},
   "outputs": [
    {
     "data": {
      "application/vnd.microsoft.datawrangler.viewer.v0+json": {
       "columns": [
        {
         "name": "index",
         "rawType": "int64",
         "type": "integer"
        },
        {
         "name": "crim",
         "rawType": "float64",
         "type": "float"
        },
        {
         "name": "zn",
         "rawType": "float64",
         "type": "float"
        },
        {
         "name": "indus",
         "rawType": "float64",
         "type": "float"
        },
        {
         "name": "chas",
         "rawType": "int64",
         "type": "integer"
        },
        {
         "name": "nox",
         "rawType": "float64",
         "type": "float"
        },
        {
         "name": "rm",
         "rawType": "float64",
         "type": "float"
        },
        {
         "name": "age",
         "rawType": "float64",
         "type": "float"
        },
        {
         "name": "dis",
         "rawType": "float64",
         "type": "float"
        },
        {
         "name": "rad",
         "rawType": "int64",
         "type": "integer"
        },
        {
         "name": "tax",
         "rawType": "int64",
         "type": "integer"
        },
        {
         "name": "ptratio",
         "rawType": "float64",
         "type": "float"
        },
        {
         "name": "lstat",
         "rawType": "float64",
         "type": "float"
        },
        {
         "name": "medv",
         "rawType": "float64",
         "type": "float"
        }
       ],
       "ref": "3d87a6ff-b488-4d5e-835d-650340f74981",
       "rows": [
        [
         "1",
         "0.00632",
         "18.0",
         "2.31",
         "0",
         "0.538",
         "6.575",
         "65.2",
         "4.09",
         "1",
         "296",
         "15.3",
         "4.98",
         "24.0"
        ],
        [
         "2",
         "0.02731",
         "0.0",
         "7.07",
         "0",
         "0.469",
         "6.421",
         "78.9",
         "4.9671",
         "2",
         "242",
         "17.8",
         "9.14",
         "21.6"
        ],
        [
         "3",
         "0.02729",
         "0.0",
         "7.07",
         "0",
         "0.469",
         "7.185",
         "61.1",
         "4.9671",
         "2",
         "242",
         "17.8",
         "4.03",
         "34.7"
        ],
        [
         "4",
         "0.03237",
         "0.0",
         "2.18",
         "0",
         "0.458",
         "6.998",
         "45.8",
         "6.0622",
         "3",
         "222",
         "18.7",
         "2.94",
         "33.4"
        ],
        [
         "5",
         "0.06905",
         "0.0",
         "2.18",
         "0",
         "0.458",
         "7.147",
         "54.2",
         "6.0622",
         "3",
         "222",
         "18.7",
         "5.33",
         "36.2"
        ]
       ],
       "shape": {
        "columns": 13,
        "rows": 5
       }
      },
      "text/html": [
       "<div>\n",
       "<style scoped>\n",
       "    .dataframe tbody tr th:only-of-type {\n",
       "        vertical-align: middle;\n",
       "    }\n",
       "\n",
       "    .dataframe tbody tr th {\n",
       "        vertical-align: top;\n",
       "    }\n",
       "\n",
       "    .dataframe thead th {\n",
       "        text-align: right;\n",
       "    }\n",
       "</style>\n",
       "<table border=\"1\" class=\"dataframe\">\n",
       "  <thead>\n",
       "    <tr style=\"text-align: right;\">\n",
       "      <th></th>\n",
       "      <th>crim</th>\n",
       "      <th>zn</th>\n",
       "      <th>indus</th>\n",
       "      <th>chas</th>\n",
       "      <th>nox</th>\n",
       "      <th>rm</th>\n",
       "      <th>age</th>\n",
       "      <th>dis</th>\n",
       "      <th>rad</th>\n",
       "      <th>tax</th>\n",
       "      <th>ptratio</th>\n",
       "      <th>lstat</th>\n",
       "      <th>medv</th>\n",
       "    </tr>\n",
       "  </thead>\n",
       "  <tbody>\n",
       "    <tr>\n",
       "      <th>1</th>\n",
       "      <td>0.00632</td>\n",
       "      <td>18.0</td>\n",
       "      <td>2.31</td>\n",
       "      <td>0</td>\n",
       "      <td>0.538</td>\n",
       "      <td>6.575</td>\n",
       "      <td>65.2</td>\n",
       "      <td>4.0900</td>\n",
       "      <td>1</td>\n",
       "      <td>296</td>\n",
       "      <td>15.3</td>\n",
       "      <td>4.98</td>\n",
       "      <td>24.0</td>\n",
       "    </tr>\n",
       "    <tr>\n",
       "      <th>2</th>\n",
       "      <td>0.02731</td>\n",
       "      <td>0.0</td>\n",
       "      <td>7.07</td>\n",
       "      <td>0</td>\n",
       "      <td>0.469</td>\n",
       "      <td>6.421</td>\n",
       "      <td>78.9</td>\n",
       "      <td>4.9671</td>\n",
       "      <td>2</td>\n",
       "      <td>242</td>\n",
       "      <td>17.8</td>\n",
       "      <td>9.14</td>\n",
       "      <td>21.6</td>\n",
       "    </tr>\n",
       "    <tr>\n",
       "      <th>3</th>\n",
       "      <td>0.02729</td>\n",
       "      <td>0.0</td>\n",
       "      <td>7.07</td>\n",
       "      <td>0</td>\n",
       "      <td>0.469</td>\n",
       "      <td>7.185</td>\n",
       "      <td>61.1</td>\n",
       "      <td>4.9671</td>\n",
       "      <td>2</td>\n",
       "      <td>242</td>\n",
       "      <td>17.8</td>\n",
       "      <td>4.03</td>\n",
       "      <td>34.7</td>\n",
       "    </tr>\n",
       "    <tr>\n",
       "      <th>4</th>\n",
       "      <td>0.03237</td>\n",
       "      <td>0.0</td>\n",
       "      <td>2.18</td>\n",
       "      <td>0</td>\n",
       "      <td>0.458</td>\n",
       "      <td>6.998</td>\n",
       "      <td>45.8</td>\n",
       "      <td>6.0622</td>\n",
       "      <td>3</td>\n",
       "      <td>222</td>\n",
       "      <td>18.7</td>\n",
       "      <td>2.94</td>\n",
       "      <td>33.4</td>\n",
       "    </tr>\n",
       "    <tr>\n",
       "      <th>5</th>\n",
       "      <td>0.06905</td>\n",
       "      <td>0.0</td>\n",
       "      <td>2.18</td>\n",
       "      <td>0</td>\n",
       "      <td>0.458</td>\n",
       "      <td>7.147</td>\n",
       "      <td>54.2</td>\n",
       "      <td>6.0622</td>\n",
       "      <td>3</td>\n",
       "      <td>222</td>\n",
       "      <td>18.7</td>\n",
       "      <td>5.33</td>\n",
       "      <td>36.2</td>\n",
       "    </tr>\n",
       "  </tbody>\n",
       "</table>\n",
       "</div>"
      ],
      "text/plain": [
       "      crim    zn  indus  chas    nox     rm   age     dis  rad  tax  ptratio  \\\n",
       "1  0.00632  18.0   2.31     0  0.538  6.575  65.2  4.0900    1  296     15.3   \n",
       "2  0.02731   0.0   7.07     0  0.469  6.421  78.9  4.9671    2  242     17.8   \n",
       "3  0.02729   0.0   7.07     0  0.469  7.185  61.1  4.9671    2  242     17.8   \n",
       "4  0.03237   0.0   2.18     0  0.458  6.998  45.8  6.0622    3  222     18.7   \n",
       "5  0.06905   0.0   2.18     0  0.458  7.147  54.2  6.0622    3  222     18.7   \n",
       "\n",
       "   lstat  medv  \n",
       "1   4.98  24.0  \n",
       "2   9.14  21.6  \n",
       "3   4.03  34.7  \n",
       "4   2.94  33.4  \n",
       "5   5.33  36.2  "
      ]
     },
     "execution_count": 72,
     "metadata": {},
     "output_type": "execute_result"
    }
   ],
   "source": [
    "boston = pd.read_csv('../../data/boston.csv', index_col=0)\n",
    "boston.head()"
   ]
  },
  {
   "cell_type": "markdown",
   "id": "d306acb9",
   "metadata": {},
   "source": [
    "### 9.a-b"
   ]
  },
  {
   "cell_type": "code",
   "execution_count": 73,
   "id": "7320dca0",
   "metadata": {},
   "outputs": [
    {
     "data": {
      "text/plain": [
       "(22.532806324110677, 0.4084569346972866)"
      ]
     },
     "execution_count": 73,
     "metadata": {},
     "output_type": "execute_result"
    }
   ],
   "source": [
    "# sample mean = total x / sample size\n",
    "# standard error = sample std / sqrt(sample size)\n",
    "\n",
    "medv = boston.medv\n",
    "mean = np.mean(medv)\n",
    "se = np.std(medv) / len(medv)**0.5\n",
    "\n",
    "mean, se"
   ]
  },
  {
   "cell_type": "markdown",
   "id": "45c731c3",
   "metadata": {},
   "source": [
    "### 9.c"
   ]
  },
  {
   "cell_type": "code",
   "execution_count": 74,
   "id": "12f1fdcf",
   "metadata": {},
   "outputs": [
    {
     "data": {
      "text/plain": [
       "0.4132684430065484"
      ]
     },
     "execution_count": 74,
     "metadata": {},
     "output_type": "execute_result"
    }
   ],
   "source": [
    "def boot_sample(df, col, func):\n",
    "    indices = np.random.choice(df.index, size=len(df), replace=True)\n",
    "    return func(df[col].loc[indices])\n",
    "\n",
    "def boot(df, col, func, num_samples=1000):\n",
    "    boot_results = []\n",
    "    for i in range(num_samples):\n",
    "        boot_results.append(boot_sample(df, col, func))\n",
    "    return scipy.std(boot_results, axis=0)\n",
    "\n",
    "boot_se = boot(boston, 'medv', np.mean)\n",
    "boot_se"
   ]
  },
  {
   "cell_type": "markdown",
   "id": "f8a9727f",
   "metadata": {},
   "source": [
    "The standard error value estimated by bootstrap method is really close to our previous estimation."
   ]
  },
  {
   "cell_type": "markdown",
   "id": "0823d6c5",
   "metadata": {},
   "source": [
    "### 9.d"
   ]
  },
  {
   "cell_type": "code",
   "execution_count": 75,
   "id": "9d6a66be",
   "metadata": {},
   "outputs": [
    {
     "data": {
      "text/plain": [
       "[21.70626943809758, 23.359343210123775]"
      ]
     },
     "execution_count": 75,
     "metadata": {},
     "output_type": "execute_result"
    }
   ],
   "source": [
    "lower_bound = mean - 2*boot_se\n",
    "upper_bound = mean + 2*boot_se\n",
    "[lower_bound, upper_bound]"
   ]
  },
  {
   "cell_type": "code",
   "execution_count": 76,
   "id": "a8e704b8",
   "metadata": {},
   "outputs": [
    {
     "data": {
      "text/plain": [
       "ConfidenceInterval(low=21.729528014578595, high=23.33608463364276)"
      ]
     },
     "execution_count": 76,
     "metadata": {},
     "output_type": "execute_result"
    }
   ],
   "source": [
    "results = scipy.stats.ttest_1samp(medv, popmean=np.mean(medv))\n",
    "results.confidence_interval()"
   ]
  },
  {
   "cell_type": "markdown",
   "id": "e2110c26",
   "metadata": {},
   "source": [
    "The confidence interval estimates are almost the same."
   ]
  },
  {
   "cell_type": "markdown",
   "id": "f1c851de",
   "metadata": {},
   "source": [
    "### 9.e"
   ]
  },
  {
   "cell_type": "code",
   "execution_count": 77,
   "id": "33fa230f",
   "metadata": {},
   "outputs": [
    {
     "data": {
      "text/plain": [
       "21.2"
      ]
     },
     "execution_count": 77,
     "metadata": {},
     "output_type": "execute_result"
    }
   ],
   "source": [
    "median = np.median(medv)\n",
    "median"
   ]
  },
  {
   "cell_type": "markdown",
   "id": "870df279",
   "metadata": {},
   "source": [
    "### 9.f"
   ]
  },
  {
   "cell_type": "code",
   "execution_count": 78,
   "id": "bc26bec8",
   "metadata": {},
   "outputs": [
    {
     "data": {
      "text/plain": [
       "0.3787876845938893"
      ]
     },
     "execution_count": 78,
     "metadata": {},
     "output_type": "execute_result"
    }
   ],
   "source": [
    "boot_median_se = boot(boston, 'medv', np.median)\n",
    "boot_median_se"
   ]
  },
  {
   "cell_type": "markdown",
   "id": "bfa8b8f0",
   "metadata": {},
   "source": [
    "### 9.g"
   ]
  },
  {
   "cell_type": "code",
   "execution_count": 79,
   "id": "9056c1e4",
   "metadata": {},
   "outputs": [
    {
     "data": {
      "text/plain": [
       "12.75"
      ]
     },
     "execution_count": 79,
     "metadata": {},
     "output_type": "execute_result"
    }
   ],
   "source": [
    "mu_10_quantile = np.quantile(medv, q=0.1)\n",
    "mu_10_quantile"
   ]
  },
  {
   "cell_type": "markdown",
   "id": "8aa29746",
   "metadata": {},
   "source": [
    "### 9.h"
   ]
  },
  {
   "cell_type": "code",
   "execution_count": 80,
   "id": "0d35ba35",
   "metadata": {},
   "outputs": [
    {
     "data": {
      "text/plain": [
       "0.5025877013019717"
      ]
     },
     "execution_count": 80,
     "metadata": {},
     "output_type": "execute_result"
    }
   ],
   "source": [
    "from functools import partial\n",
    "mu_01q_se = boot(boston, 'medv', partial(np.quantile, q=0.1))\n",
    "mu_01q_se"
   ]
  },
  {
   "cell_type": "markdown",
   "id": "f864dafc",
   "metadata": {},
   "source": [
    "The mean of the tenth percentile is more variable compared to the mean of the median, as there are much fewer values in this small segment of the population."
   ]
  },
  {
   "cell_type": "code",
   "execution_count": 81,
   "id": "01dc73e2",
   "metadata": {},
   "outputs": [
    {
     "data": {
      "text/plain": [
       "<Axes: xlabel='medv', ylabel='Count'>"
      ]
     },
     "execution_count": 81,
     "metadata": {},
     "output_type": "execute_result"
    },
    {
     "data": {
      "image/png": "[encoded data removed]",
      "text/plain": [
       "<Figure size 640x480 with 1 Axes>"
      ]
     },
     "metadata": {},
     "output_type": "display_data"
    }
   ],
   "source": [
    "sns.histplot(x='medv', data=boston, bins=10)"
   ]
  }
 ],
 "metadata": {
  "kernelspec": {
   "display_name": "Python 3",
   "language": "python",
   "name": "python3"
  },
  "language_info": {
   "codemirror_mode": {
    "name": "ipython",
    "version": 3
   },
   "file_extension": ".py",
   "mimetype": "text/x-python",
   "name": "python",
   "nbconvert_exporter": "python",
   "pygments_lexer": "ipython3",
   "version": "3.12.10"
  }
 },
 "nbformat": 4,
 "nbformat_minor": 5
}
