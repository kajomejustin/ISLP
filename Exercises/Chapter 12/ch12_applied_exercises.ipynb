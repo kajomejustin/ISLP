{
 "cells": [
  {
   "cell_type": "code",
   "id": "a826d0a2",
   "metadata": {
    "ExecuteTime": {
     "end_time": "2025-07-07T20:46:07.252285Z",
     "start_time": "2025-07-07T20:46:06.279424Z"
    }
   },
   "source": [
    "import random\n",
    "import numpy as np\n",
    "import pandas as pd\n",
    "import seaborn as sns\n",
    "import matplotlib.pyplot as plt\n",
    "from sklearn.metrics import pairwise_distances\n",
    "from sklearn.preprocessing import StandardScaler\n",
    "from sklearn.decomposition import PCA\n",
    "from sklearn.cluster import AgglomerativeClustering, KMeans\n",
    "from scipy.cluster.hierarchy import linkage, fcluster, dendrogram\n",
    "from scipy.spatial.distance import squareform\n",
    "\n",
    "import warnings\n",
    "warnings.filterwarnings('ignore')\n",
    "\n",
    "# Set visualization style\n",
    "plt.style.use('seaborn-v0_8')\n",
    "sns.set_palette('husl')"
   ],
   "outputs": [],
   "execution_count": 1
  },
  {
   "cell_type": "markdown",
   "id": "bbe4a78d",
   "metadata": {},
   "source": [
    "## Question 7"
   ]
  },
  {
   "cell_type": "code",
   "id": "16c06267",
   "metadata": {
    "ExecuteTime": {
     "end_time": "2025-07-07T20:46:08.271875Z",
     "start_time": "2025-07-07T20:46:08.237956Z"
    }
   },
   "source": [
    "USArrests = pd.read_csv('../../data/USArrests.csv', index_col=0)\n",
    "USArrests.head()"
   ],
   "outputs": [
    {
     "data": {
      "text/plain": [
       "            Murder  Assault  UrbanPop  Rape\n",
       "Alabama       13.2      236        58  21.2\n",
       "Alaska        10.0      263        48  44.5\n",
       "Arizona        8.1      294        80  31.0\n",
       "Arkansas       8.8      190        50  19.5\n",
       "California     9.0      276        91  40.6"
      ],
      "text/html": [
       "<div>\n",
       "<style scoped>\n",
       "    .dataframe tbody tr th:only-of-type {\n",
       "        vertical-align: middle;\n",
       "    }\n",
       "\n",
       "    .dataframe tbody tr th {\n",
       "        vertical-align: top;\n",
       "    }\n",
       "\n",
       "    .dataframe thead th {\n",
       "        text-align: right;\n",
       "    }\n",
       "</style>\n",
       "<table border=\"1\" class=\"dataframe\">\n",
       "  <thead>\n",
       "    <tr style=\"text-align: right;\">\n",
       "      <th></th>\n",
       "      <th>Murder</th>\n",
       "      <th>Assault</th>\n",
       "      <th>UrbanPop</th>\n",
       "      <th>Rape</th>\n",
       "    </tr>\n",
       "  </thead>\n",
       "  <tbody>\n",
       "    <tr>\n",
       "      <th>Alabama</th>\n",
       "      <td>13.2</td>\n",
       "      <td>236</td>\n",
       "      <td>58</td>\n",
       "      <td>21.2</td>\n",
       "    </tr>\n",
       "    <tr>\n",
       "      <th>Alaska</th>\n",
       "      <td>10.0</td>\n",
       "      <td>263</td>\n",
       "      <td>48</td>\n",
       "      <td>44.5</td>\n",
       "    </tr>\n",
       "    <tr>\n",
       "      <th>Arizona</th>\n",
       "      <td>8.1</td>\n",
       "      <td>294</td>\n",
       "      <td>80</td>\n",
       "      <td>31.0</td>\n",
       "    </tr>\n",
       "    <tr>\n",
       "      <th>Arkansas</th>\n",
       "      <td>8.8</td>\n",
       "      <td>190</td>\n",
       "      <td>50</td>\n",
       "      <td>19.5</td>\n",
       "    </tr>\n",
       "    <tr>\n",
       "      <th>California</th>\n",
       "      <td>9.0</td>\n",
       "      <td>276</td>\n",
       "      <td>91</td>\n",
       "      <td>40.6</td>\n",
       "    </tr>\n",
       "  </tbody>\n",
       "</table>\n",
       "</div>"
      ]
     },
     "execution_count": 2,
     "metadata": {},
     "output_type": "execute_result"
    }
   ],
   "execution_count": 2
  },
  {
   "cell_type": "code",
   "id": "532048ad",
   "metadata": {
    "ExecuteTime": {
     "end_time": "2025-07-07T20:46:08.758329Z",
     "start_time": "2025-07-07T20:46:08.752346Z"
    }
   },
   "source": [
    "# Scale the data to have mean zero and standard deviation one\n",
    "scaler = StandardScaler()\n",
    "USArrests_scaled = scaler.fit_transform(USArrests)"
   ],
   "outputs": [],
   "execution_count": 3
  },
  {
   "cell_type": "code",
   "id": "63b423b0",
   "metadata": {
    "ExecuteTime": {
     "end_time": "2025-07-07T20:46:08.969863Z",
     "start_time": "2025-07-07T20:46:08.957864Z"
    }
   },
   "source": [
    "# Squared euclidean distances\n",
    "euc_distances = pairwise_distances(USArrests_scaled, metric='sqeuclidean')\n",
    "euc_distances"
   ],
   "outputs": [
    {
     "data": {
      "text/plain": [
       "array([[ 0.        ,  7.4594756 ,  5.36758447, ...,  9.96075989,\n",
       "        12.53383017,  3.41389473],\n",
       "       [ 7.4594756 ,  0.        ,  7.44231842, ..., 20.66745116,\n",
       "        24.21239223, 12.4953264 ],\n",
       "       [ 5.36758447,  7.44231842,  0.        , ..., 20.63956869,\n",
       "        15.86121383,  7.39642265],\n",
       "       ...,\n",
       "       [ 9.96075989, 20.66745116, 20.63956869, ...,  0.        ,\n",
       "         4.20868377,  3.61482254],\n",
       "       [12.53383017, 24.21239223, 15.86121383, ...,  4.20868377,\n",
       "         0.        ,  3.10587433],\n",
       "       [ 3.41389473, 12.4953264 ,  7.39642265, ...,  3.61482254,\n",
       "         3.10587433,  0.        ]])"
      ]
     },
     "execution_count": 4,
     "metadata": {},
     "output_type": "execute_result"
    }
   ],
   "execution_count": 4
  },
  {
   "cell_type": "code",
   "id": "b24e2d3f",
   "metadata": {
    "ExecuteTime": {
     "end_time": "2025-07-07T20:46:09.419465Z",
     "start_time": "2025-07-07T20:46:09.404982Z"
    }
   },
   "source": [
    "# Correlation based distance\n",
    "corr_distances = np.corrcoef(USArrests_scaled)\n",
    "corr_distances"
   ],
   "outputs": [
    {
     "data": {
      "text/plain": [
       "array([[ 1.        ,  0.28616922, -0.44659478, ...,  0.96159634,\n",
       "        -0.79306752,  0.65671471],\n",
       "       [ 0.28616922,  1.        ,  0.16927541, ...,  0.38475333,\n",
       "        -0.7768919 , -0.32770869],\n",
       "       [-0.44659478,  0.16927541,  1.        , ..., -0.6034021 ,\n",
       "         0.00497995, -0.01671234],\n",
       "       ...,\n",
       "       [ 0.96159634,  0.38475333, -0.6034021 , ...,  1.        ,\n",
       "        -0.77733457,  0.43813239],\n",
       "       [-0.79306752, -0.7768919 ,  0.00497995, ..., -0.77733457,\n",
       "         1.        , -0.3197538 ],\n",
       "       [ 0.65671471, -0.32770869, -0.01671234, ...,  0.43813239,\n",
       "        -0.3197538 ,  1.        ]])"
      ]
     },
     "execution_count": 5,
     "metadata": {},
     "output_type": "execute_result"
    }
   ],
   "execution_count": 5
  },
  {
   "cell_type": "code",
   "id": "9696c28f",
   "metadata": {
    "ExecuteTime": {
     "end_time": "2025-07-07T20:46:10.024688Z",
     "start_time": "2025-07-07T20:46:10.012473Z"
    }
   },
   "source": [
    "## TODO"
   ],
   "outputs": [],
   "execution_count": 6
  },
  {
   "cell_type": "markdown",
   "id": "b584830b",
   "metadata": {},
   "source": [
    "## Question 8\n",
    "\n",
    "### 8.a"
   ]
  },
  {
   "cell_type": "code",
   "id": "897a2cdd",
   "metadata": {
    "ExecuteTime": {
     "end_time": "2025-07-07T20:46:10.700855Z",
     "start_time": "2025-07-07T20:46:10.640270Z"
    }
   },
   "source": [
    "# Using the PCA estimator\n",
    "pca = PCA()\n",
    "pca.fit(USArrests_scaled)\n",
    "pves = pca.explained_variance_ratio_\n",
    "pves"
   ],
   "outputs": [
    {
     "data": {
      "text/plain": [
       "array([0.62006039, 0.24744129, 0.0891408 , 0.04335752])"
      ]
     },
     "execution_count": 7,
     "metadata": {},
     "output_type": "execute_result"
    }
   ],
   "execution_count": 7
  },
  {
   "cell_type": "markdown",
   "id": "fbdb6e4c",
   "metadata": {},
   "source": [
    "### 8.b"
   ]
  },
  {
   "cell_type": "code",
   "id": "ede24949",
   "metadata": {
    "ExecuteTime": {
     "end_time": "2025-07-07T20:46:11.114837Z",
     "start_time": "2025-07-07T20:46:11.088695Z"
    }
   },
   "source": [
    "# Using the formula (12.10) directly\n",
    "n, p = USArrests.shape\n",
    "\n",
    "loadings = pca.components_\n",
    "loadings = loadings.T\n",
    "\n",
    "variance_explained = 0\n",
    "for i in range(n):\n",
    "    total = 0\n",
    "    for j in range(p):\n",
    "        total += loadings[j] * USArrests_scaled[i,j]\n",
    "    variance_explained += total**2\n",
    "\n",
    "total_variance = 0\n",
    "for j in range(p):\n",
    "    for i in range(n):\n",
    "        total_variance += USArrests_scaled[i, j]**2\n",
    "        \n",
    "variance_explained/total_variance"
   ],
   "outputs": [
    {
     "data": {
      "text/plain": [
       "array([0.62006039, 0.24744129, 0.0891408 , 0.04335752])"
      ]
     },
     "execution_count": 8,
     "metadata": {},
     "output_type": "execute_result"
    }
   ],
   "execution_count": 8
  },
  {
   "cell_type": "markdown",
   "id": "86a9e12f",
   "metadata": {},
   "source": [
    "## Question 9\n",
    "\n",
    "### 9.a"
   ]
  },
  {
   "cell_type": "code",
   "id": "46a6fe4c",
   "metadata": {
    "ExecuteTime": {
     "end_time": "2025-07-07T20:46:12.189119Z",
     "start_time": "2025-07-07T20:46:11.368852Z"
    }
   },
   "source": [
    "hc_complete = linkage(USArrests, method='complete', \n",
    "                      metric='euclidean')\n",
    "\n",
    "fig = plt.figure(figsize=(15, 8))\n",
    "dendrogram(hc_complete, labels=USArrests.index, leaf_font_size=14)\n",
    "plt.show()"
   ],
   "outputs": [
    {
     "data": {
      "text/plain": [
       "<Figure size 1500x800 with 1 Axes>"
      ],
      "image/png": "[encoded data removed]"
     },
     "metadata": {},
     "output_type": "display_data"
    }
   ],
   "execution_count": 9
  },
  {
   "cell_type": "markdown",
   "id": "06a97652",
   "metadata": {},
   "source": [
    "### 9.b"
   ]
  },
  {
   "cell_type": "code",
   "id": "1b363a42",
   "metadata": {
    "ExecuteTime": {
     "end_time": "2025-07-07T20:46:12.958062Z",
     "start_time": "2025-07-07T20:46:12.234784Z"
    }
   },
   "source": [
    "fig = plt.figure(figsize=(15, 8))\n",
    "dendrogram(hc_complete, leaf_font_size=14, p=3)\n",
    "plt.axhline(y=110, color=\"red\", lw=2)\n",
    "plt.xlabel('States')\n",
    "plt.ylabel('Distance')\n",
    "plt.title('Hierarchical Clustering Dendrogram with 3 Clusters')\n",
    "plt.show()"
   ],
   "outputs": [
    {
     "data": {
      "text/plain": [
       "<Figure size 1500x800 with 1 Axes>"
      ],
      "image/png": "[encoded data removed]"
     },
     "metadata": {},
     "output_type": "display_data"
    }
   ],
   "execution_count": 10
  },
  {
   "cell_type": "code",
   "id": "b2b12ad0",
   "metadata": {
    "ExecuteTime": {
     "end_time": "2025-07-07T20:46:13.175083Z",
     "start_time": "2025-07-07T20:46:13.029828Z"
    }
   },
   "source": [
    "clusters = fcluster(hc_complete, t=3, criterion='maxclust')\n",
    "pd.DataFrame({'States':USArrests.index, 'Cluster':clusters})"
   ],
   "outputs": [
    {
     "data": {
      "text/plain": [
       "            States  Cluster\n",
       "0          Alabama        1\n",
       "1           Alaska        1\n",
       "2          Arizona        1\n",
       "3         Arkansas        2\n",
       "4       California        1\n",
       "5         Colorado        2\n",
       "6      Connecticut        3\n",
       "7         Delaware        1\n",
       "8          Florida        1\n",
       "9          Georgia        2\n",
       "10          Hawaii        3\n",
       "11           Idaho        3\n",
       "12        Illinois        1\n",
       "13         Indiana        3\n",
       "14            Iowa        3\n",
       "15          Kansas        3\n",
       "16        Kentucky        3\n",
       "17       Louisiana        1\n",
       "18           Maine        3\n",
       "19        Maryland        1\n",
       "20   Massachusetts        2\n",
       "21        Michigan        1\n",
       "22       Minnesota        3\n",
       "23     Mississippi        1\n",
       "24        Missouri        2\n",
       "25         Montana        3\n",
       "26        Nebraska        3\n",
       "27          Nevada        1\n",
       "28   New Hampshire        3\n",
       "29      New Jersey        2\n",
       "30      New Mexico        1\n",
       "31        New York        1\n",
       "32  North Carolina        1\n",
       "33    North Dakota        3\n",
       "34            Ohio        3\n",
       "35        Oklahoma        2\n",
       "36          Oregon        2\n",
       "37    Pennsylvania        3\n",
       "38    Rhode Island        2\n",
       "39  South Carolina        1\n",
       "40    South Dakota        3\n",
       "41       Tennessee        2\n",
       "42           Texas        2\n",
       "43            Utah        3\n",
       "44         Vermont        3\n",
       "45        Virginia        2\n",
       "46      Washington        2\n",
       "47   West Virginia        3\n",
       "48       Wisconsin        3\n",
       "49         Wyoming        2"
      ],
      "text/html": [
       "<div>\n",
       "<style scoped>\n",
       "    .dataframe tbody tr th:only-of-type {\n",
       "        vertical-align: middle;\n",
       "    }\n",
       "\n",
       "    .dataframe tbody tr th {\n",
       "        vertical-align: top;\n",
       "    }\n",
       "\n",
       "    .dataframe thead th {\n",
       "        text-align: right;\n",
       "    }\n",
       "</style>\n",
       "<table border=\"1\" class=\"dataframe\">\n",
       "  <thead>\n",
       "    <tr style=\"text-align: right;\">\n",
       "      <th></th>\n",
       "      <th>States</th>\n",
       "      <th>Cluster</th>\n",
       "    </tr>\n",
       "  </thead>\n",
       "  <tbody>\n",
       "    <tr>\n",
       "      <th>0</th>\n",
       "      <td>Alabama</td>\n",
       "      <td>1</td>\n",
       "    </tr>\n",
       "    <tr>\n",
       "      <th>1</th>\n",
       "      <td>Alaska</td>\n",
       "      <td>1</td>\n",
       "    </tr>\n",
       "    <tr>\n",
       "      <th>2</th>\n",
       "      <td>Arizona</td>\n",
       "      <td>1</td>\n",
       "    </tr>\n",
       "    <tr>\n",
       "      <th>3</th>\n",
       "      <td>Arkansas</td>\n",
       "      <td>2</td>\n",
       "    </tr>\n",
       "    <tr>\n",
       "      <th>4</th>\n",
       "      <td>California</td>\n",
       "      <td>1</td>\n",
       "    </tr>\n",
       "    <tr>\n",
       "      <th>5</th>\n",
       "      <td>Colorado</td>\n",
       "      <td>2</td>\n",
       "    </tr>\n",
       "    <tr>\n",
       "      <th>6</th>\n",
       "      <td>Connecticut</td>\n",
       "      <td>3</td>\n",
       "    </tr>\n",
       "    <tr>\n",
       "      <th>7</th>\n",
       "      <td>Delaware</td>\n",
       "      <td>1</td>\n",
       "    </tr>\n",
       "    <tr>\n",
       "      <th>8</th>\n",
       "      <td>Florida</td>\n",
       "      <td>1</td>\n",
       "    </tr>\n",
       "    <tr>\n",
       "      <th>9</th>\n",
       "      <td>Georgia</td>\n",
       "      <td>2</td>\n",
       "    </tr>\n",
       "    <tr>\n",
       "      <th>10</th>\n",
       "      <td>Hawaii</td>\n",
       "      <td>3</td>\n",
       "    </tr>\n",
       "    <tr>\n",
       "      <th>11</th>\n",
       "      <td>Idaho</td>\n",
       "      <td>3</td>\n",
       "    </tr>\n",
       "    <tr>\n",
       "      <th>12</th>\n",
       "      <td>Illinois</td>\n",
       "      <td>1</td>\n",
       "    </tr>\n",
       "    <tr>\n",
       "      <th>13</th>\n",
       "      <td>Indiana</td>\n",
       "      <td>3</td>\n",
       "    </tr>\n",
       "    <tr>\n",
       "      <th>14</th>\n",
       "      <td>Iowa</td>\n",
       "      <td>3</td>\n",
       "    </tr>\n",
       "    <tr>\n",
       "      <th>15</th>\n",
       "      <td>Kansas</td>\n",
       "      <td>3</td>\n",
       "    </tr>\n",
       "    <tr>\n",
       "      <th>16</th>\n",
       "      <td>Kentucky</td>\n",
       "      <td>3</td>\n",
       "    </tr>\n",
       "    <tr>\n",
       "      <th>17</th>\n",
       "      <td>Louisiana</td>\n",
       "      <td>1</td>\n",
       "    </tr>\n",
       "    <tr>\n",
       "      <th>18</th>\n",
       "      <td>Maine</td>\n",
       "      <td>3</td>\n",
       "    </tr>\n",
       "    <tr>\n",
       "      <th>19</th>\n",
       "      <td>Maryland</td>\n",
       "      <td>1</td>\n",
       "    </tr>\n",
       "    <tr>\n",
       "      <th>20</th>\n",
       "      <td>Massachusetts</td>\n",
       "      <td>2</td>\n",
       "    </tr>\n",
       "    <tr>\n",
       "      <th>21</th>\n",
       "      <td>Michigan</td>\n",
       "      <td>1</td>\n",
       "    </tr>\n",
       "    <tr>\n",
       "      <th>22</th>\n",
       "      <td>Minnesota</td>\n",
       "      <td>3</td>\n",
       "    </tr>\n",
       "    <tr>\n",
       "      <th>23</th>\n",
       "      <td>Mississippi</td>\n",
       "      <td>1</td>\n",
       "    </tr>\n",
       "    <tr>\n",
       "      <th>24</th>\n",
       "      <td>Missouri</td>\n",
       "      <td>2</td>\n",
       "    </tr>\n",
       "    <tr>\n",
       "      <th>25</th>\n",
       "      <td>Montana</td>\n",
       "      <td>3</td>\n",
       "    </tr>\n",
       "    <tr>\n",
       "      <th>26</th>\n",
       "      <td>Nebraska</td>\n",
       "      <td>3</td>\n",
       "    </tr>\n",
       "    <tr>\n",
       "      <th>27</th>\n",
       "      <td>Nevada</td>\n",
       "      <td>1</td>\n",
       "    </tr>\n",
       "    <tr>\n",
       "      <th>28</th>\n",
       "      <td>New Hampshire</td>\n",
       "      <td>3</td>\n",
       "    </tr>\n",
       "    <tr>\n",
       "      <th>29</th>\n",
       "      <td>New Jersey</td>\n",
       "      <td>2</td>\n",
       "    </tr>\n",
       "    <tr>\n",
       "      <th>30</th>\n",
       "      <td>New Mexico</td>\n",
       "      <td>1</td>\n",
       "    </tr>\n",
       "    <tr>\n",
       "      <th>31</th>\n",
       "      <td>New York</td>\n",
       "      <td>1</td>\n",
       "    </tr>\n",
       "    <tr>\n",
       "      <th>32</th>\n",
       "      <td>North Carolina</td>\n",
       "      <td>1</td>\n",
       "    </tr>\n",
       "    <tr>\n",
       "      <th>33</th>\n",
       "      <td>North Dakota</td>\n",
       "      <td>3</td>\n",
       "    </tr>\n",
       "    <tr>\n",
       "      <th>34</th>\n",
       "      <td>Ohio</td>\n",
       "      <td>3</td>\n",
       "    </tr>\n",
       "    <tr>\n",
       "      <th>35</th>\n",
       "      <td>Oklahoma</td>\n",
       "      <td>2</td>\n",
       "    </tr>\n",
       "    <tr>\n",
       "      <th>36</th>\n",
       "      <td>Oregon</td>\n",
       "      <td>2</td>\n",
       "    </tr>\n",
       "    <tr>\n",
       "      <th>37</th>\n",
       "      <td>Pennsylvania</td>\n",
       "      <td>3</td>\n",
       "    </tr>\n",
       "    <tr>\n",
       "      <th>38</th>\n",
       "      <td>Rhode Island</td>\n",
       "      <td>2</td>\n",
       "    </tr>\n",
       "    <tr>\n",
       "      <th>39</th>\n",
       "      <td>South Carolina</td>\n",
       "      <td>1</td>\n",
       "    </tr>\n",
       "    <tr>\n",
       "      <th>40</th>\n",
       "      <td>South Dakota</td>\n",
       "      <td>3</td>\n",
       "    </tr>\n",
       "    <tr>\n",
       "      <th>41</th>\n",
       "      <td>Tennessee</td>\n",
       "      <td>2</td>\n",
       "    </tr>\n",
       "    <tr>\n",
       "      <th>42</th>\n",
       "      <td>Texas</td>\n",
       "      <td>2</td>\n",
       "    </tr>\n",
       "    <tr>\n",
       "      <th>43</th>\n",
       "      <td>Utah</td>\n",
       "      <td>3</td>\n",
       "    </tr>\n",
       "    <tr>\n",
       "      <th>44</th>\n",
       "      <td>Vermont</td>\n",
       "      <td>3</td>\n",
       "    </tr>\n",
       "    <tr>\n",
       "      <th>45</th>\n",
       "      <td>Virginia</td>\n",
       "      <td>2</td>\n",
       "    </tr>\n",
       "    <tr>\n",
       "      <th>46</th>\n",
       "      <td>Washington</td>\n",
       "      <td>2</td>\n",
       "    </tr>\n",
       "    <tr>\n",
       "      <th>47</th>\n",
       "      <td>West Virginia</td>\n",
       "      <td>3</td>\n",
       "    </tr>\n",
       "    <tr>\n",
       "      <th>48</th>\n",
       "      <td>Wisconsin</td>\n",
       "      <td>3</td>\n",
       "    </tr>\n",
       "    <tr>\n",
       "      <th>49</th>\n",
       "      <td>Wyoming</td>\n",
       "      <td>2</td>\n",
       "    </tr>\n",
       "  </tbody>\n",
       "</table>\n",
       "</div>"
      ]
     },
     "execution_count": 11,
     "metadata": {},
     "output_type": "execute_result"
    }
   ],
   "execution_count": 11
  },
  {
   "cell_type": "markdown",
   "id": "ca565f17",
   "metadata": {},
   "source": [
    "### 9.c"
   ]
  },
  {
   "cell_type": "code",
   "id": "8e741739",
   "metadata": {
    "scrolled": true,
    "ExecuteTime": {
     "end_time": "2025-07-07T20:46:14.026910Z",
     "start_time": "2025-07-07T20:46:13.995269Z"
    }
   },
   "source": [
    "scaler = StandardScaler()\n",
    "USA_scaled = scaler.fit_transform(USArrests)"
   ],
   "outputs": [],
   "execution_count": 12
  },
  {
   "cell_type": "code",
   "id": "6aa3057a",
   "metadata": {
    "ExecuteTime": {
     "end_time": "2025-07-07T20:46:15.258866Z",
     "start_time": "2025-07-07T20:46:14.308835Z"
    }
   },
   "source": [
    "hc_complete = linkage(USA_scaled, method='complete', \n",
    "                      metric='euclidean')\n",
    "\n",
    "fig = plt.figure(figsize=(15, 8))\n",
    "dendrogram(hc_complete, labels=USArrests.index, leaf_font_size=14)\n",
    "plt.show()"
   ],
   "outputs": [
    {
     "data": {
      "text/plain": [
       "<Figure size 1500x800 with 1 Axes>"
      ],
      "image/png": "[encoded data removed]"
     },
     "metadata": {},
     "output_type": "display_data"
    }
   ],
   "execution_count": 13
  },
  {
   "cell_type": "markdown",
   "id": "2e0bae4c",
   "metadata": {},
   "source": [
    "### 9.d"
   ]
  },
  {
   "cell_type": "markdown",
   "id": "953e0ad8",
   "metadata": {},
   "source": [
    "Due to the differences in units between the features, modeling a clustering model without scaling the data to have a mean of zero and a standard deviation of one would introduce bias towards features with larger units compared to others. This is because features with larger units can have a larger influence on the clustering algorithm, leading to an unfair weighting of those features in the clustering process. Scaling the data helps to remove this bias and ensure that each feature contributes equally to the clustering results."
   ]
  },
  {
   "cell_type": "markdown",
   "id": "4d510b63",
   "metadata": {},
   "source": [
    "## Question 10\n",
    "\n",
    "### 10.a"
   ]
  },
  {
   "cell_type": "code",
   "id": "41a516b8",
   "metadata": {
    "ExecuteTime": {
     "end_time": "2025-07-07T20:46:15.322998Z",
     "start_time": "2025-07-07T20:46:15.308068Z"
    }
   },
   "source": [
    "np.random.seed(0)\n",
    "data = np.random.normal(size=(60,50))\n",
    "data[:20, :] = data[:20, :] + 1\n",
    "data[40:, :] = data[40:, :] - 1"
   ],
   "outputs": [],
   "execution_count": 14
  },
  {
   "cell_type": "code",
   "id": "667e0aff",
   "metadata": {
    "ExecuteTime": {
     "end_time": "2025-07-07T20:46:15.459821Z",
     "start_time": "2025-07-07T20:46:15.445809Z"
    }
   },
   "source": [
    "real_cluster = np.zeros((60, ))\n",
    "real_cluster[20:40] = real_cluster[20:40] + 1\n",
    "real_cluster[40:] = real_cluster[40:] + 2"
   ],
   "outputs": [],
   "execution_count": 15
  },
  {
   "cell_type": "markdown",
   "id": "f46b668f",
   "metadata": {},
   "source": [
    "### 10.b"
   ]
  },
  {
   "cell_type": "code",
   "id": "4986f80c",
   "metadata": {
    "ExecuteTime": {
     "end_time": "2025-07-07T20:46:15.960472Z",
     "start_time": "2025-07-07T20:46:15.564185Z"
    }
   },
   "source": [
    "pca = PCA()\n",
    "pca.fit(data)\n",
    "\n",
    "scores = pca.transform(data)[:, :2]\n",
    "plt.figure(figsize=(6,6))\n",
    "plt.scatter(scores[:20, 0], scores[:20, 1])\n",
    "plt.scatter(scores[20:40, 0], scores[20:40, 1])\n",
    "plt.scatter(scores[40:, 0], scores[40:, 1])\n",
    "plt.xlabel('First Principal Component')\n",
    "plt.ylabel('Second Principal Component')"
   ],
   "outputs": [
    {
     "data": {
      "text/plain": [
       "Text(0, 0.5, 'Second Principal Component')"
      ]
     },
     "execution_count": 16,
     "metadata": {},
     "output_type": "execute_result"
    },
    {
     "data": {
      "text/plain": [
       "<Figure size 600x600 with 1 Axes>"
      ],
      "image/png": "[encoded data removed]"
     },
     "metadata": {},
     "output_type": "display_data"
    }
   ],
   "execution_count": 16
  },
  {
   "cell_type": "markdown",
   "id": "27154da1",
   "metadata": {},
   "source": [
    "### 10.c"
   ]
  },
  {
   "cell_type": "code",
   "id": "889867c1",
   "metadata": {
    "ExecuteTime": {
     "end_time": "2025-07-07T20:46:21.467460Z",
     "start_time": "2025-07-07T20:46:15.987198Z"
    }
   },
   "source": [
    "kmeans = KMeans(n_clusters=3, n_init=20)\n",
    "kmeans.fit(data)"
   ],
   "outputs": [
    {
     "data": {
      "text/plain": [
       "KMeans(n_clusters=3, n_init=20)"
      ],
      "text/html": [
       "<style>#sk-container-id-1 {\n",
       "  /* Definition of color scheme common for light and dark mode */\n",
       "  --sklearn-color-text: #000;\n",
       "  --sklearn-color-text-muted: #666;\n",
       "  --sklearn-color-line: gray;\n",
       "  /* Definition of color scheme for unfitted estimators */\n",
       "  --sklearn-color-unfitted-level-0: #fff5e6;\n",
       "  --sklearn-color-unfitted-level-1: #f6e4d2;\n",
       "  --sklearn-color-unfitted-level-2: #ffe0b3;\n",
       "  --sklearn-color-unfitted-level-3: chocolate;\n",
       "  /* Definition of color scheme for fitted estimators */\n",
       "  --sklearn-color-fitted-level-0: #f0f8ff;\n",
       "  --sklearn-color-fitted-level-1: #d4ebff;\n",
       "  --sklearn-color-fitted-level-2: #b3dbfd;\n",
       "  --sklearn-color-fitted-level-3: cornflowerblue;\n",
       "\n",
       "  /* Specific color for light theme */\n",
       "  --sklearn-color-text-on-default-background: var(--sg-text-color, var(--theme-code-foreground, var(--jp-content-font-color1, black)));\n",
       "  --sklearn-color-background: var(--sg-background-color, var(--theme-background, var(--jp-layout-color0, white)));\n",
       "  --sklearn-color-border-box: var(--sg-text-color, var(--theme-code-foreground, var(--jp-content-font-color1, black)));\n",
       "  --sklearn-color-icon: #696969;\n",
       "\n",
       "  @media (prefers-color-scheme: dark) {\n",
       "    /* Redefinition of color scheme for dark theme */\n",
       "    --sklearn-color-text-on-default-background: var(--sg-text-color, var(--theme-code-foreground, var(--jp-content-font-color1, white)));\n",
       "    --sklearn-color-background: var(--sg-background-color, var(--theme-background, var(--jp-layout-color0, #111)));\n",
       "    --sklearn-color-border-box: var(--sg-text-color, var(--theme-code-foreground, var(--jp-content-font-color1, white)));\n",
       "    --sklearn-color-icon: #878787;\n",
       "  }\n",
       "}\n",
       "\n",
       "#sk-container-id-1 {\n",
       "  color: var(--sklearn-color-text);\n",
       "}\n",
       "\n",
       "#sk-container-id-1 pre {\n",
       "  padding: 0;\n",
       "}\n",
       "\n",
       "#sk-container-id-1 input.sk-hidden--visually {\n",
       "  border: 0;\n",
       "  clip: rect(1px 1px 1px 1px);\n",
       "  clip: rect(1px, 1px, 1px, 1px);\n",
       "  height: 1px;\n",
       "  margin: -1px;\n",
       "  overflow: hidden;\n",
       "  padding: 0;\n",
       "  position: absolute;\n",
       "  width: 1px;\n",
       "}\n",
       "\n",
       "#sk-container-id-1 div.sk-dashed-wrapped {\n",
       "  border: 1px dashed var(--sklearn-color-line);\n",
       "  margin: 0 0.4em 0.5em 0.4em;\n",
       "  box-sizing: border-box;\n",
       "  padding-bottom: 0.4em;\n",
       "  background-color: var(--sklearn-color-background);\n",
       "}\n",
       "\n",
       "#sk-container-id-1 div.sk-container {\n",
       "  /* jupyter's `normalize.less` sets `[hidden] { display: none; }`\n",
       "     but bootstrap.min.css set `[hidden] { display: none !important; }`\n",
       "     so we also need the `!important` here to be able to override the\n",
       "     default hidden behavior on the sphinx rendered scikit-learn.org.\n",
       "     See: https://github.com/scikit-learn/scikit-learn/issues/21755 */\n",
       "  display: inline-block !important;\n",
       "  position: relative;\n",
       "}\n",
       "\n",
       "#sk-container-id-1 div.sk-text-repr-fallback {\n",
       "  display: none;\n",
       "}\n",
       "\n",
       "div.sk-parallel-item,\n",
       "div.sk-serial,\n",
       "div.sk-item {\n",
       "  /* draw centered vertical line to link estimators */\n",
       "  background-image: linear-gradient(var(--sklearn-color-text-on-default-background), var(--sklearn-color-text-on-default-background));\n",
       "  background-size: 2px 100%;\n",
       "  background-repeat: no-repeat;\n",
       "  background-position: center center;\n",
       "}\n",
       "\n",
       "/* Parallel-specific style estimator block */\n",
       "\n",
       "#sk-container-id-1 div.sk-parallel-item::after {\n",
       "  content: \"\";\n",
       "  width: 100%;\n",
       "  border-bottom: 2px solid var(--sklearn-color-text-on-default-background);\n",
       "  flex-grow: 1;\n",
       "}\n",
       "\n",
       "#sk-container-id-1 div.sk-parallel {\n",
       "  display: flex;\n",
       "  align-items: stretch;\n",
       "  justify-content: center;\n",
       "  background-color: var(--sklearn-color-background);\n",
       "  position: relative;\n",
       "}\n",
       "\n",
       "#sk-container-id-1 div.sk-parallel-item {\n",
       "  display: flex;\n",
       "  flex-direction: column;\n",
       "}\n",
       "\n",
       "#sk-container-id-1 div.sk-parallel-item:first-child::after {\n",
       "  align-self: flex-end;\n",
       "  width: 50%;\n",
       "}\n",
       "\n",
       "#sk-container-id-1 div.sk-parallel-item:last-child::after {\n",
       "  align-self: flex-start;\n",
       "  width: 50%;\n",
       "}\n",
       "\n",
       "#sk-container-id-1 div.sk-parallel-item:only-child::after {\n",
       "  width: 0;\n",
       "}\n",
       "\n",
       "/* Serial-specific style estimator block */\n",
       "\n",
       "#sk-container-id-1 div.sk-serial {\n",
       "  display: flex;\n",
       "  flex-direction: column;\n",
       "  align-items: center;\n",
       "  background-color: var(--sklearn-color-background);\n",
       "  padding-right: 1em;\n",
       "  padding-left: 1em;\n",
       "}\n",
       "\n",
       "\n",
       "/* Toggleable style: style used for estimator/Pipeline/ColumnTransformer box that is\n",
       "clickable and can be expanded/collapsed.\n",
       "- Pipeline and ColumnTransformer use this feature and define the default style\n",
       "- Estimators will overwrite some part of the style using the `sk-estimator` class\n",
       "*/\n",
       "\n",
       "/* Pipeline and ColumnTransformer style (default) */\n",
       "\n",
       "#sk-container-id-1 div.sk-toggleable {\n",
       "  /* Default theme specific background. It is overwritten whether we have a\n",
       "  specific estimator or a Pipeline/ColumnTransformer */\n",
       "  background-color: var(--sklearn-color-background);\n",
       "}\n",
       "\n",
       "/* Toggleable label */\n",
       "#sk-container-id-1 label.sk-toggleable__label {\n",
       "  cursor: pointer;\n",
       "  display: flex;\n",
       "  width: 100%;\n",
       "  margin-bottom: 0;\n",
       "  padding: 0.5em;\n",
       "  box-sizing: border-box;\n",
       "  text-align: center;\n",
       "  align-items: start;\n",
       "  justify-content: space-between;\n",
       "  gap: 0.5em;\n",
       "}\n",
       "\n",
       "#sk-container-id-1 label.sk-toggleable__label .caption {\n",
       "  font-size: 0.6rem;\n",
       "  font-weight: lighter;\n",
       "  color: var(--sklearn-color-text-muted);\n",
       "}\n",
       "\n",
       "#sk-container-id-1 label.sk-toggleable__label-arrow:before {\n",
       "  /* Arrow on the left of the label */\n",
       "  content: \"▸\";\n",
       "  float: left;\n",
       "  margin-right: 0.25em;\n",
       "  color: var(--sklearn-color-icon);\n",
       "}\n",
       "\n",
       "#sk-container-id-1 label.sk-toggleable__label-arrow:hover:before {\n",
       "  color: var(--sklearn-color-text);\n",
       "}\n",
       "\n",
       "/* Toggleable content - dropdown */\n",
       "\n",
       "#sk-container-id-1 div.sk-toggleable__content {\n",
       "  max-height: 0;\n",
       "  max-width: 0;\n",
       "  overflow: hidden;\n",
       "  text-align: left;\n",
       "  /* unfitted */\n",
       "  background-color: var(--sklearn-color-unfitted-level-0);\n",
       "}\n",
       "\n",
       "#sk-container-id-1 div.sk-toggleable__content.fitted {\n",
       "  /* fitted */\n",
       "  background-color: var(--sklearn-color-fitted-level-0);\n",
       "}\n",
       "\n",
       "#sk-container-id-1 div.sk-toggleable__content pre {\n",
       "  margin: 0.2em;\n",
       "  border-radius: 0.25em;\n",
       "  color: var(--sklearn-color-text);\n",
       "  /* unfitted */\n",
       "  background-color: var(--sklearn-color-unfitted-level-0);\n",
       "}\n",
       "\n",
       "#sk-container-id-1 div.sk-toggleable__content.fitted pre {\n",
       "  /* unfitted */\n",
       "  background-color: var(--sklearn-color-fitted-level-0);\n",
       "}\n",
       "\n",
       "#sk-container-id-1 input.sk-toggleable__control:checked~div.sk-toggleable__content {\n",
       "  /* Expand drop-down */\n",
       "  max-height: 200px;\n",
       "  max-width: 100%;\n",
       "  overflow: auto;\n",
       "}\n",
       "\n",
       "#sk-container-id-1 input.sk-toggleable__control:checked~label.sk-toggleable__label-arrow:before {\n",
       "  content: \"▾\";\n",
       "}\n",
       "\n",
       "/* Pipeline/ColumnTransformer-specific style */\n",
       "\n",
       "#sk-container-id-1 div.sk-label input.sk-toggleable__control:checked~label.sk-toggleable__label {\n",
       "  color: var(--sklearn-color-text);\n",
       "  background-color: var(--sklearn-color-unfitted-level-2);\n",
       "}\n",
       "\n",
       "#sk-container-id-1 div.sk-label.fitted input.sk-toggleable__control:checked~label.sk-toggleable__label {\n",
       "  background-color: var(--sklearn-color-fitted-level-2);\n",
       "}\n",
       "\n",
       "/* Estimator-specific style */\n",
       "\n",
       "/* Colorize estimator box */\n",
       "#sk-container-id-1 div.sk-estimator input.sk-toggleable__control:checked~label.sk-toggleable__label {\n",
       "  /* unfitted */\n",
       "  background-color: var(--sklearn-color-unfitted-level-2);\n",
       "}\n",
       "\n",
       "#sk-container-id-1 div.sk-estimator.fitted input.sk-toggleable__control:checked~label.sk-toggleable__label {\n",
       "  /* fitted */\n",
       "  background-color: var(--sklearn-color-fitted-level-2);\n",
       "}\n",
       "\n",
       "#sk-container-id-1 div.sk-label label.sk-toggleable__label,\n",
       "#sk-container-id-1 div.sk-label label {\n",
       "  /* The background is the default theme color */\n",
       "  color: var(--sklearn-color-text-on-default-background);\n",
       "}\n",
       "\n",
       "/* On hover, darken the color of the background */\n",
       "#sk-container-id-1 div.sk-label:hover label.sk-toggleable__label {\n",
       "  color: var(--sklearn-color-text);\n",
       "  background-color: var(--sklearn-color-unfitted-level-2);\n",
       "}\n",
       "\n",
       "/* Label box, darken color on hover, fitted */\n",
       "#sk-container-id-1 div.sk-label.fitted:hover label.sk-toggleable__label.fitted {\n",
       "  color: var(--sklearn-color-text);\n",
       "  background-color: var(--sklearn-color-fitted-level-2);\n",
       "}\n",
       "\n",
       "/* Estimator label */\n",
       "\n",
       "#sk-container-id-1 div.sk-label label {\n",
       "  font-family: monospace;\n",
       "  font-weight: bold;\n",
       "  display: inline-block;\n",
       "  line-height: 1.2em;\n",
       "}\n",
       "\n",
       "#sk-container-id-1 div.sk-label-container {\n",
       "  text-align: center;\n",
       "}\n",
       "\n",
       "/* Estimator-specific */\n",
       "#sk-container-id-1 div.sk-estimator {\n",
       "  font-family: monospace;\n",
       "  border: 1px dotted var(--sklearn-color-border-box);\n",
       "  border-radius: 0.25em;\n",
       "  box-sizing: border-box;\n",
       "  margin-bottom: 0.5em;\n",
       "  /* unfitted */\n",
       "  background-color: var(--sklearn-color-unfitted-level-0);\n",
       "}\n",
       "\n",
       "#sk-container-id-1 div.sk-estimator.fitted {\n",
       "  /* fitted */\n",
       "  background-color: var(--sklearn-color-fitted-level-0);\n",
       "}\n",
       "\n",
       "/* on hover */\n",
       "#sk-container-id-1 div.sk-estimator:hover {\n",
       "  /* unfitted */\n",
       "  background-color: var(--sklearn-color-unfitted-level-2);\n",
       "}\n",
       "\n",
       "#sk-container-id-1 div.sk-estimator.fitted:hover {\n",
       "  /* fitted */\n",
       "  background-color: var(--sklearn-color-fitted-level-2);\n",
       "}\n",
       "\n",
       "/* Specification for estimator info (e.g. \"i\" and \"?\") */\n",
       "\n",
       "/* Common style for \"i\" and \"?\" */\n",
       "\n",
       ".sk-estimator-doc-link,\n",
       "a:link.sk-estimator-doc-link,\n",
       "a:visited.sk-estimator-doc-link {\n",
       "  float: right;\n",
       "  font-size: smaller;\n",
       "  line-height: 1em;\n",
       "  font-family: monospace;\n",
       "  background-color: var(--sklearn-color-background);\n",
       "  border-radius: 1em;\n",
       "  height: 1em;\n",
       "  width: 1em;\n",
       "  text-decoration: none !important;\n",
       "  margin-left: 0.5em;\n",
       "  text-align: center;\n",
       "  /* unfitted */\n",
       "  border: var(--sklearn-color-unfitted-level-1) 1pt solid;\n",
       "  color: var(--sklearn-color-unfitted-level-1);\n",
       "}\n",
       "\n",
       ".sk-estimator-doc-link.fitted,\n",
       "a:link.sk-estimator-doc-link.fitted,\n",
       "a:visited.sk-estimator-doc-link.fitted {\n",
       "  /* fitted */\n",
       "  border: var(--sklearn-color-fitted-level-1) 1pt solid;\n",
       "  color: var(--sklearn-color-fitted-level-1);\n",
       "}\n",
       "\n",
       "/* On hover */\n",
       "div.sk-estimator:hover .sk-estimator-doc-link:hover,\n",
       ".sk-estimator-doc-link:hover,\n",
       "div.sk-label-container:hover .sk-estimator-doc-link:hover,\n",
       ".sk-estimator-doc-link:hover {\n",
       "  /* unfitted */\n",
       "  background-color: var(--sklearn-color-unfitted-level-3);\n",
       "  color: var(--sklearn-color-background);\n",
       "  text-decoration: none;\n",
       "}\n",
       "\n",
       "div.sk-estimator.fitted:hover .sk-estimator-doc-link.fitted:hover,\n",
       ".sk-estimator-doc-link.fitted:hover,\n",
       "div.sk-label-container:hover .sk-estimator-doc-link.fitted:hover,\n",
       ".sk-estimator-doc-link.fitted:hover {\n",
       "  /* fitted */\n",
       "  background-color: var(--sklearn-color-fitted-level-3);\n",
       "  color: var(--sklearn-color-background);\n",
       "  text-decoration: none;\n",
       "}\n",
       "\n",
       "/* Span, style for the box shown on hovering the info icon */\n",
       ".sk-estimator-doc-link span {\n",
       "  display: none;\n",
       "  z-index: 9999;\n",
       "  position: relative;\n",
       "  font-weight: normal;\n",
       "  right: .2ex;\n",
       "  padding: .5ex;\n",
       "  margin: .5ex;\n",
       "  width: min-content;\n",
       "  min-width: 20ex;\n",
       "  max-width: 50ex;\n",
       "  color: var(--sklearn-color-text);\n",
       "  box-shadow: 2pt 2pt 4pt #999;\n",
       "  /* unfitted */\n",
       "  background: var(--sklearn-color-unfitted-level-0);\n",
       "  border: .5pt solid var(--sklearn-color-unfitted-level-3);\n",
       "}\n",
       "\n",
       ".sk-estimator-doc-link.fitted span {\n",
       "  /* fitted */\n",
       "  background: var(--sklearn-color-fitted-level-0);\n",
       "  border: var(--sklearn-color-fitted-level-3);\n",
       "}\n",
       "\n",
       ".sk-estimator-doc-link:hover span {\n",
       "  display: block;\n",
       "}\n",
       "\n",
       "/* \"?\"-specific style due to the `<a>` HTML tag */\n",
       "\n",
       "#sk-container-id-1 a.estimator_doc_link {\n",
       "  float: right;\n",
       "  font-size: 1rem;\n",
       "  line-height: 1em;\n",
       "  font-family: monospace;\n",
       "  background-color: var(--sklearn-color-background);\n",
       "  border-radius: 1rem;\n",
       "  height: 1rem;\n",
       "  width: 1rem;\n",
       "  text-decoration: none;\n",
       "  /* unfitted */\n",
       "  color: var(--sklearn-color-unfitted-level-1);\n",
       "  border: var(--sklearn-color-unfitted-level-1) 1pt solid;\n",
       "}\n",
       "\n",
       "#sk-container-id-1 a.estimator_doc_link.fitted {\n",
       "  /* fitted */\n",
       "  border: var(--sklearn-color-fitted-level-1) 1pt solid;\n",
       "  color: var(--sklearn-color-fitted-level-1);\n",
       "}\n",
       "\n",
       "/* On hover */\n",
       "#sk-container-id-1 a.estimator_doc_link:hover {\n",
       "  /* unfitted */\n",
       "  background-color: var(--sklearn-color-unfitted-level-3);\n",
       "  color: var(--sklearn-color-background);\n",
       "  text-decoration: none;\n",
       "}\n",
       "\n",
       "#sk-container-id-1 a.estimator_doc_link.fitted:hover {\n",
       "  /* fitted */\n",
       "  background-color: var(--sklearn-color-fitted-level-3);\n",
       "}\n",
       "</style><div id=\"sk-container-id-1\" class=\"sk-top-container\"><div class=\"sk-text-repr-fallback\"><pre>KMeans(n_clusters=3, n_init=20)</pre><b>In a Jupyter environment, please rerun this cell to show the HTML representation or trust the notebook. <br />On GitHub, the HTML representation is unable to render, please try loading this page with nbviewer.org.</b></div><div class=\"sk-container\" hidden><div class=\"sk-item\"><div class=\"sk-estimator fitted sk-toggleable\"><input class=\"sk-toggleable__control sk-hidden--visually\" id=\"sk-estimator-id-1\" type=\"checkbox\" checked><label for=\"sk-estimator-id-1\" class=\"sk-toggleable__label fitted sk-toggleable__label-arrow\"><div><div>KMeans</div></div><div><a class=\"sk-estimator-doc-link fitted\" rel=\"noreferrer\" target=\"_blank\" href=\"https://scikit-learn.org/1.6/modules/generated/sklearn.cluster.KMeans.html\">?<span>Documentation for KMeans</span></a><span class=\"sk-estimator-doc-link fitted\">i<span>Fitted</span></span></div></label><div class=\"sk-toggleable__content fitted\"><pre>KMeans(n_clusters=3, n_init=20)</pre></div> </div></div></div></div>"
      ]
     },
     "execution_count": 17,
     "metadata": {},
     "output_type": "execute_result"
    }
   ],
   "execution_count": 17
  },
  {
   "cell_type": "code",
   "id": "d5aca9a8",
   "metadata": {
    "ExecuteTime": {
     "end_time": "2025-07-07T20:46:21.588809Z",
     "start_time": "2025-07-07T20:46:21.556093Z"
    }
   },
   "source": [
    "pd.crosstab(kmeans.labels_, real_cluster)"
   ],
   "outputs": [
    {
     "data": {
      "text/plain": [
       "col_0  0.0  1.0  2.0\n",
       "row_0               \n",
       "0        0   20    0\n",
       "1       20    0    0\n",
       "2        0    0   20"
      ],
      "text/html": [
       "<div>\n",
       "<style scoped>\n",
       "    .dataframe tbody tr th:only-of-type {\n",
       "        vertical-align: middle;\n",
       "    }\n",
       "\n",
       "    .dataframe tbody tr th {\n",
       "        vertical-align: top;\n",
       "    }\n",
       "\n",
       "    .dataframe thead th {\n",
       "        text-align: right;\n",
       "    }\n",
       "</style>\n",
       "<table border=\"1\" class=\"dataframe\">\n",
       "  <thead>\n",
       "    <tr style=\"text-align: right;\">\n",
       "      <th>col_0</th>\n",
       "      <th>0.0</th>\n",
       "      <th>1.0</th>\n",
       "      <th>2.0</th>\n",
       "    </tr>\n",
       "    <tr>\n",
       "      <th>row_0</th>\n",
       "      <th></th>\n",
       "      <th></th>\n",
       "      <th></th>\n",
       "    </tr>\n",
       "  </thead>\n",
       "  <tbody>\n",
       "    <tr>\n",
       "      <th>0</th>\n",
       "      <td>0</td>\n",
       "      <td>20</td>\n",
       "      <td>0</td>\n",
       "    </tr>\n",
       "    <tr>\n",
       "      <th>1</th>\n",
       "      <td>20</td>\n",
       "      <td>0</td>\n",
       "      <td>0</td>\n",
       "    </tr>\n",
       "    <tr>\n",
       "      <th>2</th>\n",
       "      <td>0</td>\n",
       "      <td>0</td>\n",
       "      <td>20</td>\n",
       "    </tr>\n",
       "  </tbody>\n",
       "</table>\n",
       "</div>"
      ]
     },
     "execution_count": 18,
     "metadata": {},
     "output_type": "execute_result"
    }
   ],
   "execution_count": 18
  },
  {
   "cell_type": "markdown",
   "id": "5df35af8",
   "metadata": {},
   "source": [
    "### 10.d"
   ]
  },
  {
   "cell_type": "code",
   "id": "2925e216",
   "metadata": {
    "ExecuteTime": {
     "end_time": "2025-07-07T20:46:21.938442Z",
     "start_time": "2025-07-07T20:46:21.695225Z"
    }
   },
   "source": [
    "kmeans2 = KMeans(n_clusters=2, n_init=20)\n",
    "kmeans2.fit(data)\n",
    "pd.crosstab(kmeans2.labels_, real_cluster)"
   ],
   "outputs": [
    {
     "data": {
      "text/plain": [
       "col_0  0.0  1.0  2.0\n",
       "row_0               \n",
       "0        0    0   20\n",
       "1       20   20    0"
      ],
      "text/html": [
       "<div>\n",
       "<style scoped>\n",
       "    .dataframe tbody tr th:only-of-type {\n",
       "        vertical-align: middle;\n",
       "    }\n",
       "\n",
       "    .dataframe tbody tr th {\n",
       "        vertical-align: top;\n",
       "    }\n",
       "\n",
       "    .dataframe thead th {\n",
       "        text-align: right;\n",
       "    }\n",
       "</style>\n",
       "<table border=\"1\" class=\"dataframe\">\n",
       "  <thead>\n",
       "    <tr style=\"text-align: right;\">\n",
       "      <th>col_0</th>\n",
       "      <th>0.0</th>\n",
       "      <th>1.0</th>\n",
       "      <th>2.0</th>\n",
       "    </tr>\n",
       "    <tr>\n",
       "      <th>row_0</th>\n",
       "      <th></th>\n",
       "      <th></th>\n",
       "      <th></th>\n",
       "    </tr>\n",
       "  </thead>\n",
       "  <tbody>\n",
       "    <tr>\n",
       "      <th>0</th>\n",
       "      <td>0</td>\n",
       "      <td>0</td>\n",
       "      <td>20</td>\n",
       "    </tr>\n",
       "    <tr>\n",
       "      <th>1</th>\n",
       "      <td>20</td>\n",
       "      <td>20</td>\n",
       "      <td>0</td>\n",
       "    </tr>\n",
       "  </tbody>\n",
       "</table>\n",
       "</div>"
      ]
     },
     "execution_count": 19,
     "metadata": {},
     "output_type": "execute_result"
    }
   ],
   "execution_count": 19
  },
  {
   "cell_type": "markdown",
   "id": "487ef244",
   "metadata": {},
   "source": [
    "The algorithm clusters the first 40 observations together and the last 20 observations separately."
   ]
  },
  {
   "cell_type": "markdown",
   "id": "a7b8b0b9",
   "metadata": {},
   "source": [
    "### 10.e"
   ]
  },
  {
   "cell_type": "code",
   "id": "bf34278a",
   "metadata": {
    "ExecuteTime": {
     "end_time": "2025-07-07T20:46:22.400273Z",
     "start_time": "2025-07-07T20:46:22.126656Z"
    }
   },
   "source": [
    "kmeans3 = KMeans(n_clusters=4, n_init=20)\n",
    "kmeans3.fit(data)\n",
    "pd.crosstab(kmeans3.labels_, real_cluster)"
   ],
   "outputs": [
    {
     "data": {
      "text/plain": [
       "col_0  0.0  1.0  2.0\n",
       "row_0               \n",
       "0        0    0   11\n",
       "1       20    0    0\n",
       "2        0    0    9\n",
       "3        0   20    0"
      ],
      "text/html": [
       "<div>\n",
       "<style scoped>\n",
       "    .dataframe tbody tr th:only-of-type {\n",
       "        vertical-align: middle;\n",
       "    }\n",
       "\n",
       "    .dataframe tbody tr th {\n",
       "        vertical-align: top;\n",
       "    }\n",
       "\n",
       "    .dataframe thead th {\n",
       "        text-align: right;\n",
       "    }\n",
       "</style>\n",
       "<table border=\"1\" class=\"dataframe\">\n",
       "  <thead>\n",
       "    <tr style=\"text-align: right;\">\n",
       "      <th>col_0</th>\n",
       "      <th>0.0</th>\n",
       "      <th>1.0</th>\n",
       "      <th>2.0</th>\n",
       "    </tr>\n",
       "    <tr>\n",
       "      <th>row_0</th>\n",
       "      <th></th>\n",
       "      <th></th>\n",
       "      <th></th>\n",
       "    </tr>\n",
       "  </thead>\n",
       "  <tbody>\n",
       "    <tr>\n",
       "      <th>0</th>\n",
       "      <td>0</td>\n",
       "      <td>0</td>\n",
       "      <td>11</td>\n",
       "    </tr>\n",
       "    <tr>\n",
       "      <th>1</th>\n",
       "      <td>20</td>\n",
       "      <td>0</td>\n",
       "      <td>0</td>\n",
       "    </tr>\n",
       "    <tr>\n",
       "      <th>2</th>\n",
       "      <td>0</td>\n",
       "      <td>0</td>\n",
       "      <td>9</td>\n",
       "    </tr>\n",
       "    <tr>\n",
       "      <th>3</th>\n",
       "      <td>0</td>\n",
       "      <td>20</td>\n",
       "      <td>0</td>\n",
       "    </tr>\n",
       "  </tbody>\n",
       "</table>\n",
       "</div>"
      ]
     },
     "execution_count": 20,
     "metadata": {},
     "output_type": "execute_result"
    }
   ],
   "execution_count": 20
  },
  {
   "cell_type": "markdown",
   "id": "8d678d3d",
   "metadata": {},
   "source": [
    "The algorithm clusters the last two classes very well, but it fails to cluster the observations from the first class correctly."
   ]
  },
  {
   "cell_type": "markdown",
   "id": "03415ffd",
   "metadata": {},
   "source": [
    "### 10.f"
   ]
  },
  {
   "cell_type": "code",
   "id": "5b9cd8f0",
   "metadata": {
    "ExecuteTime": {
     "end_time": "2025-07-07T20:46:22.860910Z",
     "start_time": "2025-07-07T20:46:22.614509Z"
    }
   },
   "source": [
    "kmeans4 = KMeans(n_clusters=3, n_init=20)\n",
    "kmeans4.fit(scores)\n",
    "pd.crosstab(kmeans4.labels_, real_cluster)"
   ],
   "outputs": [
    {
     "data": {
      "text/plain": [
       "col_0  0.0  1.0  2.0\n",
       "row_0               \n",
       "0        0    0   20\n",
       "1       20    0    0\n",
       "2        0   20    0"
      ],
      "text/html": [
       "<div>\n",
       "<style scoped>\n",
       "    .dataframe tbody tr th:only-of-type {\n",
       "        vertical-align: middle;\n",
       "    }\n",
       "\n",
       "    .dataframe tbody tr th {\n",
       "        vertical-align: top;\n",
       "    }\n",
       "\n",
       "    .dataframe thead th {\n",
       "        text-align: right;\n",
       "    }\n",
       "</style>\n",
       "<table border=\"1\" class=\"dataframe\">\n",
       "  <thead>\n",
       "    <tr style=\"text-align: right;\">\n",
       "      <th>col_0</th>\n",
       "      <th>0.0</th>\n",
       "      <th>1.0</th>\n",
       "      <th>2.0</th>\n",
       "    </tr>\n",
       "    <tr>\n",
       "      <th>row_0</th>\n",
       "      <th></th>\n",
       "      <th></th>\n",
       "      <th></th>\n",
       "    </tr>\n",
       "  </thead>\n",
       "  <tbody>\n",
       "    <tr>\n",
       "      <th>0</th>\n",
       "      <td>0</td>\n",
       "      <td>0</td>\n",
       "      <td>20</td>\n",
       "    </tr>\n",
       "    <tr>\n",
       "      <th>1</th>\n",
       "      <td>20</td>\n",
       "      <td>0</td>\n",
       "      <td>0</td>\n",
       "    </tr>\n",
       "    <tr>\n",
       "      <th>2</th>\n",
       "      <td>0</td>\n",
       "      <td>20</td>\n",
       "      <td>0</td>\n",
       "    </tr>\n",
       "  </tbody>\n",
       "</table>\n",
       "</div>"
      ]
     },
     "execution_count": 21,
     "metadata": {},
     "output_type": "execute_result"
    }
   ],
   "execution_count": 21
  },
  {
   "cell_type": "markdown",
   "id": "d7bfcfd3",
   "metadata": {},
   "source": [
    "The algorithm successfully separates the observations using the information from the principal component scores obtained from the PCA algorithm."
   ]
  },
  {
   "cell_type": "markdown",
   "id": "53d41096",
   "metadata": {},
   "source": [
    "### 10.g"
   ]
  },
  {
   "cell_type": "code",
   "id": "4024f6eb",
   "metadata": {
    "ExecuteTime": {
     "end_time": "2025-07-07T20:46:23.075525Z",
     "start_time": "2025-07-07T20:46:23.066641Z"
    }
   },
   "source": [
    "scaler = StandardScaler()\n",
    "data_scaled = scaler.fit_transform(data)"
   ],
   "outputs": [],
   "execution_count": 22
  },
  {
   "cell_type": "code",
   "id": "1da4728f",
   "metadata": {
    "ExecuteTime": {
     "end_time": "2025-07-07T20:46:23.510237Z",
     "start_time": "2025-07-07T20:46:23.236790Z"
    }
   },
   "source": [
    "kmeans5 = KMeans(n_clusters=3, n_init=20)\n",
    "kmeans5.fit(data_scaled)\n",
    "pd.crosstab(kmeans5.labels_, real_cluster)"
   ],
   "outputs": [
    {
     "data": {
      "text/plain": [
       "col_0  0.0  1.0  2.0\n",
       "row_0               \n",
       "0        0   20    0\n",
       "1        0    0   20\n",
       "2       20    0    0"
      ],
      "text/html": [
       "<div>\n",
       "<style scoped>\n",
       "    .dataframe tbody tr th:only-of-type {\n",
       "        vertical-align: middle;\n",
       "    }\n",
       "\n",
       "    .dataframe tbody tr th {\n",
       "        vertical-align: top;\n",
       "    }\n",
       "\n",
       "    .dataframe thead th {\n",
       "        text-align: right;\n",
       "    }\n",
       "</style>\n",
       "<table border=\"1\" class=\"dataframe\">\n",
       "  <thead>\n",
       "    <tr style=\"text-align: right;\">\n",
       "      <th>col_0</th>\n",
       "      <th>0.0</th>\n",
       "      <th>1.0</th>\n",
       "      <th>2.0</th>\n",
       "    </tr>\n",
       "    <tr>\n",
       "      <th>row_0</th>\n",
       "      <th></th>\n",
       "      <th></th>\n",
       "      <th></th>\n",
       "    </tr>\n",
       "  </thead>\n",
       "  <tbody>\n",
       "    <tr>\n",
       "      <th>0</th>\n",
       "      <td>0</td>\n",
       "      <td>20</td>\n",
       "      <td>0</td>\n",
       "    </tr>\n",
       "    <tr>\n",
       "      <th>1</th>\n",
       "      <td>0</td>\n",
       "      <td>0</td>\n",
       "      <td>20</td>\n",
       "    </tr>\n",
       "    <tr>\n",
       "      <th>2</th>\n",
       "      <td>20</td>\n",
       "      <td>0</td>\n",
       "      <td>0</td>\n",
       "    </tr>\n",
       "  </tbody>\n",
       "</table>\n",
       "</div>"
      ]
     },
     "execution_count": 23,
     "metadata": {},
     "output_type": "execute_result"
    }
   ],
   "execution_count": 23
  },
  {
   "cell_type": "markdown",
   "id": "85f0e4e9",
   "metadata": {},
   "source": [
    "The algorithm successfully separated the data; however, it assigned different labels to the first and second classes compared to your initial clustering."
   ]
  },
  {
   "cell_type": "markdown",
   "id": "34be5f0e",
   "metadata": {},
   "source": [
    "## Question 11"
   ]
  },
  {
   "cell_type": "code",
   "id": "9dba2a3e",
   "metadata": {
    "ExecuteTime": {
     "end_time": "2025-07-07T20:46:23.663338Z",
     "start_time": "2025-07-07T20:46:23.653055Z"
    }
   },
   "source": [
    "def matrix_completion(matrix, M=1, max_iter=1000, print_progress=False):\n",
    "    Xhat = matrix.copy()\n",
    "    ismiss = np.isnan(Xhat)\n",
    "    Xbar = np.nanmean(Xhat, axis=0)\n",
    "    Xhat[ismiss] = np.take(Xbar, np.where(ismiss)[1])  \n",
    "    \n",
    "    thresh = 1e-7\n",
    "    rel_err = 1\n",
    "    count = 0\n",
    "    mssold = np.mean(Xhat[~ismiss]**2)\n",
    "    mss0 = np.mean(matrix[~ismiss]**2)\n",
    "    \n",
    "    def low_rank(X, M=M):                   \n",
    "        U, D, V = np.linalg.svd(X, full_matrices=False)\n",
    "        L = U[:,:M] * D[None,:M]\n",
    "        return L.dot(V[:M]) \n",
    "    \n",
    "    while rel_err > thresh:\n",
    "        count += 1\n",
    "        \n",
    "        Xapp = low_rank(Xhat, M=M)\n",
    "        Xhat[ismiss] = Xapp[ismiss]\n",
    "        mss = np.mean(((matrix - Xapp)[~ismiss])**2)\n",
    "        rel_err = (mssold - mss) / mss0\n",
    "        mssold = mss\n",
    "        \n",
    "        if print_progress:\n",
    "            print(\"Iteration: {0}, MSS:{1:.3f}, Rel.Err {2:.2e}\"\n",
    "                  .format(count, mss, rel_err))\n",
    "        \n",
    "        if count == max_iter:\n",
    "            break\n",
    "        \n",
    "    return Xapp"
   ],
   "outputs": [],
   "execution_count": 24
  },
  {
   "cell_type": "code",
   "id": "df898417",
   "metadata": {
    "scrolled": true,
    "ExecuteTime": {
     "end_time": "2025-07-07T20:46:23.906902Z",
     "start_time": "2025-07-07T20:46:23.886657Z"
    }
   },
   "source": [
    "boston = pd.read_csv('../../data/boston.csv')\n",
    "\n",
    "scaler = StandardScaler()\n",
    "boston_ = scaler.fit_transform(boston)"
   ],
   "outputs": [],
   "execution_count": 25
  },
  {
   "cell_type": "code",
   "id": "d4548751",
   "metadata": {
    "ExecuteTime": {
     "end_time": "2025-07-07T20:46:26.708335Z",
     "start_time": "2025-07-07T20:46:24.016960Z"
    }
   },
   "source": [
    "## TODOOOO\n",
    "\n",
    "percentage = 5\n",
    "\n",
    "while percentage <= 30:\n",
    "    print(f'Percentage - {percentage}')\n",
    "    dataset = boston_.copy()\n",
    "    num_observations = int(dataset.shape[0] * percentage / 100)\n",
    "    random_indices = random.sample(range(dataset.shape[0]), num_observations)\n",
    "    \n",
    "    num_columns = int(dataset.shape[1] * percentage / 100) + 1\n",
    "    selected_columns = random.sample(range(dataset.shape[1]), num_columns)\n",
    "\n",
    "    ismiss = np.zeros_like(dataset, dtype=bool)\n",
    "    ismiss[np.ix_(random_indices, selected_columns)] = True\n",
    "    \n",
    "    for i in random_indices:\n",
    "        for j in selected_columns:\n",
    "            dataset[i, j] = np.nan\n",
    "    \n",
    "    for m in range(1, 9):\n",
    "        print('\\nM: ', m)\n",
    "        Xapp = matrix_completion(dataset, M=m)\n",
    "        correlation_matrix = np.corrcoef(Xapp[ismiss], boston_[ismiss])\n",
    "        print('Correlation - ', correlation_matrix[0, 0])\n",
    "    print('--'*30)\n",
    "    percentage += 5"
   ],
   "outputs": [
    {
     "name": "stdout",
     "output_type": "stream",
     "text": [
      "Percentage - 5\n",
      "\n",
      "M:  1\n",
      "Correlation -  1.0\n",
      "\n",
      "M:  2\n",
      "Correlation -  1.0\n",
      "\n",
      "M:  3\n",
      "Correlation -  1.0\n",
      "\n",
      "M:  4\n",
      "Correlation -  1.0\n",
      "\n",
      "M:  5\n",
      "Correlation -  1.0\n",
      "\n",
      "M:  6\n",
      "Correlation -  1.0\n",
      "\n",
      "M:  7\n",
      "Correlation -  1.0\n",
      "\n",
      "M:  8\n",
      "Correlation -  1.0\n",
      "------------------------------------------------------------\n",
      "Percentage - 10\n",
      "\n",
      "M:  1\n",
      "Correlation -  1.0\n",
      "\n",
      "M:  2\n",
      "Correlation -  1.0\n",
      "\n",
      "M:  3\n",
      "Correlation -  0.9999999999999999\n",
      "\n",
      "M:  4\n",
      "Correlation -  1.0\n",
      "\n",
      "M:  5\n",
      "Correlation -  1.0\n",
      "\n",
      "M:  6\n",
      "Correlation -  1.0\n",
      "\n",
      "M:  7\n",
      "Correlation -  1.0\n",
      "\n",
      "M:  8\n",
      "Correlation -  1.0\n",
      "------------------------------------------------------------\n",
      "Percentage - 15\n",
      "\n",
      "M:  1\n",
      "Correlation -  1.0\n",
      "\n",
      "M:  2\n",
      "Correlation -  1.0\n",
      "\n",
      "M:  3\n",
      "Correlation -  1.0\n",
      "\n",
      "M:  4\n",
      "Correlation -  0.9999999999999999\n",
      "\n",
      "M:  5\n",
      "Correlation -  1.0\n",
      "\n",
      "M:  6\n",
      "Correlation -  1.0\n",
      "\n",
      "M:  7\n",
      "Correlation -  1.0\n",
      "\n",
      "M:  8\n",
      "Correlation -  0.9999999999999999\n",
      "------------------------------------------------------------\n",
      "Percentage - 20\n",
      "\n",
      "M:  1\n",
      "Correlation -  1.0\n",
      "\n",
      "M:  2\n",
      "Correlation -  1.0\n",
      "\n",
      "M:  3\n",
      "Correlation -  0.9999999999999999\n",
      "\n",
      "M:  4\n",
      "Correlation -  0.9999999999999999\n",
      "\n",
      "M:  5\n",
      "Correlation -  0.9999999999999999\n",
      "\n",
      "M:  6\n",
      "Correlation -  1.0\n",
      "\n",
      "M:  7\n",
      "Correlation -  1.0\n",
      "\n",
      "M:  8\n",
      "Correlation -  1.0\n",
      "------------------------------------------------------------\n",
      "Percentage - 25\n",
      "\n",
      "M:  1\n",
      "Correlation -  1.0\n",
      "\n",
      "M:  2\n",
      "Correlation -  1.0\n",
      "\n",
      "M:  3\n",
      "Correlation -  1.0\n",
      "\n",
      "M:  4\n",
      "Correlation -  1.0\n",
      "\n",
      "M:  5\n",
      "Correlation -  0.9999999999999999\n",
      "\n",
      "M:  6\n",
      "Correlation -  0.9999999999999999\n",
      "\n",
      "M:  7\n",
      "Correlation -  0.9999999999999999\n",
      "\n",
      "M:  8\n",
      "Correlation -  1.0\n",
      "------------------------------------------------------------\n",
      "Percentage - 30\n",
      "\n",
      "M:  1\n",
      "Correlation -  0.9999999999999999\n",
      "\n",
      "M:  2\n",
      "Correlation -  1.0\n",
      "\n",
      "M:  3\n",
      "Correlation -  1.0\n",
      "\n",
      "M:  4\n",
      "Correlation -  1.0\n",
      "\n",
      "M:  5\n",
      "Correlation -  1.0\n",
      "\n",
      "M:  6\n",
      "Correlation -  1.0\n",
      "\n",
      "M:  7\n",
      "Correlation -  1.0\n",
      "\n",
      "M:  8\n",
      "Correlation -  1.0\n",
      "------------------------------------------------------------\n"
     ]
    }
   ],
   "execution_count": 26
  },
  {
   "cell_type": "markdown",
   "id": "e7b1d18f",
   "metadata": {},
   "source": [
    "## Question 12"
   ]
  },
  {
   "cell_type": "code",
   "id": "3d943d65",
   "metadata": {
    "ExecuteTime": {
     "end_time": "2025-07-07T20:46:26.745562Z",
     "start_time": "2025-07-07T20:46:26.733934Z"
    }
   },
   "source": [
    "def matrix_completion2(matrix, M=1, max_iter=1000, print_progress=False):\n",
    "    Xhat = matrix.copy()\n",
    "    ismiss = np.isnan(Xhat)\n",
    "    Xbar = np.nanmean(Xhat, axis=0)\n",
    "    Xhat[ismiss] = np.take(Xbar, np.where(ismiss)[1])  \n",
    "    \n",
    "    thresh = 1e-7\n",
    "    rel_err = 1\n",
    "    count = 0\n",
    "    mssold = np.mean(Xhat[~ismiss]**2)\n",
    "    mss0 = np.mean(matrix[~ismiss]**2)\n",
    "    \n",
    "    def low_rank(X, M=M):                   \n",
    "        pca = PCA(n_components=M)\n",
    "        pca.fit(Xhat)\n",
    "        scores = pca.transform(Xhat)\n",
    "        loadings = pca.components_\n",
    "        return np.matmul(scores, loadings)\n",
    "    \n",
    "    while rel_err > thresh:\n",
    "        count += 1\n",
    "        \n",
    "        Xapp = low_rank(Xhat, M=M)\n",
    "        Xhat[ismiss] = Xapp[ismiss]\n",
    "        mss = np.mean(((matrix - Xapp)[~ismiss])**2)\n",
    "        rel_err = (mssold - mss) / mss0\n",
    "        mssold = mss\n",
    "        \n",
    "        if print_progress:\n",
    "            print(\"Iteration: {0}, MSS:{1:.3f}, Rel.Err {2:.2e}\"\n",
    "                  .format(count, mss, rel_err))\n",
    "        \n",
    "        if count == max_iter:\n",
    "            break\n",
    "        \n",
    "    return Xapp"
   ],
   "outputs": [],
   "execution_count": 27
  },
  {
   "cell_type": "code",
   "id": "2d409590",
   "metadata": {
    "ExecuteTime": {
     "end_time": "2025-07-07T20:46:36.635614Z",
     "start_time": "2025-07-07T20:46:26.781940Z"
    }
   },
   "source": [
    "## TODO\n",
    "\n",
    "percentage = 5\n",
    "\n",
    "while percentage <= 30:\n",
    "    print(f'Percentage - {percentage}')\n",
    "    dataset = boston_.copy()\n",
    "    num_observations = int(dataset.shape[0] * percentage / 100)\n",
    "    random_indices = random.sample(range(dataset.shape[0]), num_observations)\n",
    "    \n",
    "    num_columns = int(dataset.shape[1] * percentage / 100) + 1\n",
    "    selected_columns = random.sample(range(dataset.shape[1]), num_columns)\n",
    "\n",
    "    ismiss = np.zeros_like(dataset, dtype=bool)\n",
    "    ismiss[np.ix_(random_indices, selected_columns)] = True\n",
    "    \n",
    "    for i in random_indices:\n",
    "        for j in selected_columns:\n",
    "            dataset[i, j] = np.nan\n",
    "    \n",
    "    for m in range(1, 9):\n",
    "        print('\\nM: ', m)\n",
    "        Xapp = matrix_completion2(dataset, M=m)\n",
    "        correlation_matrix = np.corrcoef(Xapp[ismiss], boston_[ismiss])\n",
    "        print('Correlation - ', correlation_matrix[0, 0])\n",
    "    print('--'*30)\n",
    "    percentage += 5"
   ],
   "outputs": [
    {
     "name": "stdout",
     "output_type": "stream",
     "text": [
      "Percentage - 5\n",
      "\n",
      "M:  1\n",
      "Correlation -  0.9999999999999999\n",
      "\n",
      "M:  2\n",
      "Correlation -  1.0\n",
      "\n",
      "M:  3\n",
      "Correlation -  1.0\n",
      "\n",
      "M:  4\n",
      "Correlation -  1.0\n",
      "\n",
      "M:  5\n",
      "Correlation -  0.9999999999999999\n",
      "\n",
      "M:  6\n",
      "Correlation -  0.9999999999999999\n",
      "\n",
      "M:  7\n",
      "Correlation -  1.0\n",
      "\n",
      "M:  8\n",
      "Correlation -  0.9999999999999998\n",
      "------------------------------------------------------------\n",
      "Percentage - 10\n",
      "\n",
      "M:  1\n",
      "Correlation -  1.0\n",
      "\n",
      "M:  2\n",
      "Correlation -  1.0\n",
      "\n",
      "M:  3\n",
      "Correlation -  1.0\n",
      "\n",
      "M:  4\n",
      "Correlation -  1.0\n",
      "\n",
      "M:  5\n",
      "Correlation -  1.0\n",
      "\n",
      "M:  6\n",
      "Correlation -  1.0\n",
      "\n",
      "M:  7\n",
      "Correlation -  1.0\n",
      "\n",
      "M:  8\n",
      "Correlation -  1.0\n",
      "------------------------------------------------------------\n",
      "Percentage - 15\n",
      "\n",
      "M:  1\n",
      "Correlation -  1.0\n",
      "\n",
      "M:  2\n",
      "Correlation -  0.9999999999999999\n",
      "\n",
      "M:  3\n",
      "Correlation -  1.0\n",
      "\n",
      "M:  4\n",
      "Correlation -  0.9999999999999999\n",
      "\n",
      "M:  5\n",
      "Correlation -  1.0\n",
      "\n",
      "M:  6\n",
      "Correlation -  1.0\n",
      "\n",
      "M:  7\n",
      "Correlation -  0.9999999999999998\n",
      "\n",
      "M:  8\n",
      "Correlation -  1.0\n",
      "------------------------------------------------------------\n",
      "Percentage - 20\n",
      "\n",
      "M:  1\n",
      "Correlation -  0.9999999999999998\n",
      "\n",
      "M:  2\n",
      "Correlation -  1.0\n",
      "\n",
      "M:  3\n",
      "Correlation -  1.0\n",
      "\n",
      "M:  4\n",
      "Correlation -  1.0\n",
      "\n",
      "M:  5\n",
      "Correlation -  1.0\n",
      "\n",
      "M:  6\n",
      "Correlation -  1.0\n",
      "\n",
      "M:  7\n",
      "Correlation -  0.9999999999999999\n",
      "\n",
      "M:  8\n",
      "Correlation -  0.9999999999999999\n",
      "------------------------------------------------------------\n",
      "Percentage - 25\n",
      "\n",
      "M:  1\n",
      "Correlation -  1.0\n",
      "\n",
      "M:  2\n",
      "Correlation -  1.0\n",
      "\n",
      "M:  3\n",
      "Correlation -  1.0\n",
      "\n",
      "M:  4\n",
      "Correlation -  0.9999999999999999\n",
      "\n",
      "M:  5\n",
      "Correlation -  1.0\n",
      "\n",
      "M:  6\n",
      "Correlation -  0.9999999999999999\n",
      "\n",
      "M:  7\n",
      "Correlation -  0.9999999999999999\n",
      "\n",
      "M:  8\n",
      "Correlation -  1.0\n",
      "------------------------------------------------------------\n",
      "Percentage - 30\n",
      "\n",
      "M:  1\n",
      "Correlation -  1.0\n",
      "\n",
      "M:  2\n",
      "Correlation -  1.0\n",
      "\n",
      "M:  3\n",
      "Correlation -  1.0\n",
      "\n",
      "M:  4\n",
      "Correlation -  0.9999999999999999\n",
      "\n",
      "M:  5\n",
      "Correlation -  1.0\n",
      "\n",
      "M:  6\n",
      "Correlation -  1.0\n",
      "\n",
      "M:  7\n",
      "Correlation -  1.0\n",
      "\n",
      "M:  8\n",
      "Correlation -  1.0\n",
      "------------------------------------------------------------\n"
     ]
    }
   ],
   "execution_count": 28
  },
  {
   "cell_type": "markdown",
   "id": "82d9676b",
   "metadata": {},
   "source": [
    "## Question 13\n",
    "\n",
    "### 13.a"
   ]
  },
  {
   "cell_type": "code",
   "id": "aa785ba8",
   "metadata": {
    "ExecuteTime": {
     "end_time": "2025-07-07T20:46:36.775635Z",
     "start_time": "2025-07-07T20:46:36.703486Z"
    }
   },
   "source": [
    "data = pd.read_csv('../../data/Ch12Ex13.csv', header=None)\n",
    "data = data.T\n",
    "data.head()"
   ],
   "outputs": [
    {
     "data": {
      "text/plain": [
       "        0         1         2         3         4         5         6    \\\n",
       "0 -0.961933 -0.292526  0.258788 -1.152132  0.195783  0.030124  0.085418   \n",
       "1  0.441803 -1.139267 -0.972845 -2.213168  0.593306 -0.691014 -1.113054   \n",
       "2 -0.975005  0.195837  0.588486 -0.861525  0.282992 -0.403426 -0.677969   \n",
       "3  1.417504 -1.281121 -0.800258  0.630925  0.247147 -0.729859 -0.562929   \n",
       "4  0.818815 -0.251439 -1.820398  0.951772  1.978668 -0.364099  0.938194   \n",
       "\n",
       "        7         8         9    ...       990       991       992       993  \\\n",
       "0  1.116610 -1.218857  1.267369  ...  1.325041 -0.116171 -1.470146 -0.379272   \n",
       "1  1.341700 -1.277279 -0.918349  ...  0.740838 -0.162392 -0.633375 -0.895521   \n",
       "2  0.103278 -0.558925 -1.253500  ... -0.435533 -0.235912  1.446660 -1.127459   \n",
       "3  0.390963 -1.344493 -1.067114  ... -3.065529  1.597294  0.737478 -0.631248   \n",
       "4 -1.927491  1.159115 -0.240638  ... -2.378938 -0.086946 -0.122342  1.418029   \n",
       "\n",
       "        994       995       996       997       998       999  \n",
       "0 -1.465006  1.075148 -1.226125 -3.056328  1.450658  0.717977  \n",
       "1  2.034465  3.003267 -0.501702  0.449889  1.310348  0.763482  \n",
       "2  0.440849 -0.123441 -0.717430  1.880362  0.383837  0.313576  \n",
       "3 -0.530442 -1.036740 -0.169113 -0.742841 -0.408860 -0.326473  \n",
       "4  1.075337 -1.270604  0.599530  2.238346 -0.471111 -0.158700  \n",
       "\n",
       "[5 rows x 1000 columns]"
      ],
      "text/html": [
       "<div>\n",
       "<style scoped>\n",
       "    .dataframe tbody tr th:only-of-type {\n",
       "        vertical-align: middle;\n",
       "    }\n",
       "\n",
       "    .dataframe tbody tr th {\n",
       "        vertical-align: top;\n",
       "    }\n",
       "\n",
       "    .dataframe thead th {\n",
       "        text-align: right;\n",
       "    }\n",
       "</style>\n",
       "<table border=\"1\" class=\"dataframe\">\n",
       "  <thead>\n",
       "    <tr style=\"text-align: right;\">\n",
       "      <th></th>\n",
       "      <th>0</th>\n",
       "      <th>1</th>\n",
       "      <th>2</th>\n",
       "      <th>3</th>\n",
       "      <th>4</th>\n",
       "      <th>5</th>\n",
       "      <th>6</th>\n",
       "      <th>7</th>\n",
       "      <th>8</th>\n",
       "      <th>9</th>\n",
       "      <th>...</th>\n",
       "      <th>990</th>\n",
       "      <th>991</th>\n",
       "      <th>992</th>\n",
       "      <th>993</th>\n",
       "      <th>994</th>\n",
       "      <th>995</th>\n",
       "      <th>996</th>\n",
       "      <th>997</th>\n",
       "      <th>998</th>\n",
       "      <th>999</th>\n",
       "    </tr>\n",
       "  </thead>\n",
       "  <tbody>\n",
       "    <tr>\n",
       "      <th>0</th>\n",
       "      <td>-0.961933</td>\n",
       "      <td>-0.292526</td>\n",
       "      <td>0.258788</td>\n",
       "      <td>-1.152132</td>\n",
       "      <td>0.195783</td>\n",
       "      <td>0.030124</td>\n",
       "      <td>0.085418</td>\n",
       "      <td>1.116610</td>\n",
       "      <td>-1.218857</td>\n",
       "      <td>1.267369</td>\n",
       "      <td>...</td>\n",
       "      <td>1.325041</td>\n",
       "      <td>-0.116171</td>\n",
       "      <td>-1.470146</td>\n",
       "      <td>-0.379272</td>\n",
       "      <td>-1.465006</td>\n",
       "      <td>1.075148</td>\n",
       "      <td>-1.226125</td>\n",
       "      <td>-3.056328</td>\n",
       "      <td>1.450658</td>\n",
       "      <td>0.717977</td>\n",
       "    </tr>\n",
       "    <tr>\n",
       "      <th>1</th>\n",
       "      <td>0.441803</td>\n",
       "      <td>-1.139267</td>\n",
       "      <td>-0.972845</td>\n",
       "      <td>-2.213168</td>\n",
       "      <td>0.593306</td>\n",
       "      <td>-0.691014</td>\n",
       "      <td>-1.113054</td>\n",
       "      <td>1.341700</td>\n",
       "      <td>-1.277279</td>\n",
       "      <td>-0.918349</td>\n",
       "      <td>...</td>\n",
       "      <td>0.740838</td>\n",
       "      <td>-0.162392</td>\n",
       "      <td>-0.633375</td>\n",
       "      <td>-0.895521</td>\n",
       "      <td>2.034465</td>\n",
       "      <td>3.003267</td>\n",
       "      <td>-0.501702</td>\n",
       "      <td>0.449889</td>\n",
       "      <td>1.310348</td>\n",
       "      <td>0.763482</td>\n",
       "    </tr>\n",
       "    <tr>\n",
       "      <th>2</th>\n",
       "      <td>-0.975005</td>\n",
       "      <td>0.195837</td>\n",
       "      <td>0.588486</td>\n",
       "      <td>-0.861525</td>\n",
       "      <td>0.282992</td>\n",
       "      <td>-0.403426</td>\n",
       "      <td>-0.677969</td>\n",
       "      <td>0.103278</td>\n",
       "      <td>-0.558925</td>\n",
       "      <td>-1.253500</td>\n",
       "      <td>...</td>\n",
       "      <td>-0.435533</td>\n",
       "      <td>-0.235912</td>\n",
       "      <td>1.446660</td>\n",
       "      <td>-1.127459</td>\n",
       "      <td>0.440849</td>\n",
       "      <td>-0.123441</td>\n",
       "      <td>-0.717430</td>\n",
       "      <td>1.880362</td>\n",
       "      <td>0.383837</td>\n",
       "      <td>0.313576</td>\n",
       "    </tr>\n",
       "    <tr>\n",
       "      <th>3</th>\n",
       "      <td>1.417504</td>\n",
       "      <td>-1.281121</td>\n",
       "      <td>-0.800258</td>\n",
       "      <td>0.630925</td>\n",
       "      <td>0.247147</td>\n",
       "      <td>-0.729859</td>\n",
       "      <td>-0.562929</td>\n",
       "      <td>0.390963</td>\n",
       "      <td>-1.344493</td>\n",
       "      <td>-1.067114</td>\n",
       "      <td>...</td>\n",
       "      <td>-3.065529</td>\n",
       "      <td>1.597294</td>\n",
       "      <td>0.737478</td>\n",
       "      <td>-0.631248</td>\n",
       "      <td>-0.530442</td>\n",
       "      <td>-1.036740</td>\n",
       "      <td>-0.169113</td>\n",
       "      <td>-0.742841</td>\n",
       "      <td>-0.408860</td>\n",
       "      <td>-0.326473</td>\n",
       "    </tr>\n",
       "    <tr>\n",
       "      <th>4</th>\n",
       "      <td>0.818815</td>\n",
       "      <td>-0.251439</td>\n",
       "      <td>-1.820398</td>\n",
       "      <td>0.951772</td>\n",
       "      <td>1.978668</td>\n",
       "      <td>-0.364099</td>\n",
       "      <td>0.938194</td>\n",
       "      <td>-1.927491</td>\n",
       "      <td>1.159115</td>\n",
       "      <td>-0.240638</td>\n",
       "      <td>...</td>\n",
       "      <td>-2.378938</td>\n",
       "      <td>-0.086946</td>\n",
       "      <td>-0.122342</td>\n",
       "      <td>1.418029</td>\n",
       "      <td>1.075337</td>\n",
       "      <td>-1.270604</td>\n",
       "      <td>0.599530</td>\n",
       "      <td>2.238346</td>\n",
       "      <td>-0.471111</td>\n",
       "      <td>-0.158700</td>\n",
       "    </tr>\n",
       "  </tbody>\n",
       "</table>\n",
       "<p>5 rows × 1000 columns</p>\n",
       "</div>"
      ]
     },
     "execution_count": 29,
     "metadata": {},
     "output_type": "execute_result"
    }
   ],
   "execution_count": 29
  },
  {
   "cell_type": "markdown",
   "id": "db69166e",
   "metadata": {},
   "source": [
    "### 13.b"
   ]
  },
  {
   "cell_type": "code",
   "id": "4d3ccc0e",
   "metadata": {
    "ExecuteTime": {
     "end_time": "2025-07-07T20:46:37.497757Z",
     "start_time": "2025-07-07T20:46:37.458012Z"
    }
   },
   "source": [
    "scaler = StandardScaler()\n",
    "data_ = scaler.fit_transform(data)"
   ],
   "outputs": [],
   "execution_count": 30
  },
  {
   "cell_type": "code",
   "id": "675e296f",
   "metadata": {
    "ExecuteTime": {
     "end_time": "2025-07-07T20:46:38.369772Z",
     "start_time": "2025-07-07T20:46:38.355399Z"
    }
   },
   "source": [
    "corr_matrix = np.corrcoef(data_)\n",
    "corD = 1 - corr_matrix"
   ],
   "outputs": [],
   "execution_count": 31
  },
  {
   "cell_type": "code",
   "id": "f143b6ba",
   "metadata": {
    "ExecuteTime": {
     "end_time": "2025-07-07T20:46:39.229061Z",
     "start_time": "2025-07-07T20:46:38.438280Z"
    }
   },
   "source": [
    "# Complete linkage method\n",
    "hc_cor = linkage(corD, method='complete', metric='correlation')\n",
    "\n",
    "plt.figure(figsize=(15, 10))\n",
    "dendrogram(hc_cor, color_threshold=1.2)\n",
    "plt.title(\"Complete Linkage with Correlation-Based Dissimilarity\")"
   ],
   "outputs": [
    {
     "data": {
      "text/plain": [
       "Text(0.5, 1.0, 'Complete Linkage with Correlation-Based Dissimilarity')"
      ]
     },
     "execution_count": 32,
     "metadata": {},
     "output_type": "execute_result"
    },
    {
     "data": {
      "text/plain": [
       "<Figure size 1500x1000 with 1 Axes>"
      ],
      "image/png": "[encoded data removed]"
     },
     "metadata": {},
     "output_type": "display_data"
    }
   ],
   "execution_count": 32
  },
  {
   "cell_type": "code",
   "id": "3920e3ea",
   "metadata": {
    "scrolled": true,
    "ExecuteTime": {
     "end_time": "2025-07-07T20:46:43.099388Z",
     "start_time": "2025-07-07T20:46:43.082274Z"
    }
   },
   "source": [
    "fcluster(hc_cor, t=2, criterion='maxclust')"
   ],
   "outputs": [
    {
     "data": {
      "text/plain": [
       "array([1, 1, 1, 1, 1, 1, 1, 1, 1, 1, 1, 1, 1, 1, 1, 1, 1, 1, 1, 1, 2, 2,\n",
       "       2, 2, 2, 2, 2, 2, 2, 2, 2, 2, 2, 2, 2, 2, 2, 2, 2, 2], dtype=int32)"
      ]
     },
     "execution_count": 33,
     "metadata": {},
     "output_type": "execute_result"
    }
   ],
   "execution_count": 33
  },
  {
   "cell_type": "code",
   "id": "93aa2cec",
   "metadata": {
    "ExecuteTime": {
     "end_time": "2025-07-07T20:46:43.467493Z",
     "start_time": "2025-07-07T20:46:43.449405Z"
    }
   },
   "source": [
    "# Single linkage method\n",
    "hc_single = linkage(corD, method='single', metric='correlation')\n",
    "fcluster(hc_single, t=2, criterion='maxclust')"
   ],
   "outputs": [
    {
     "data": {
      "text/plain": [
       "array([1, 1, 1, 1, 1, 1, 1, 1, 1, 1, 1, 1, 1, 1, 1, 1, 1, 1, 1, 1, 2, 2,\n",
       "       2, 2, 2, 2, 2, 2, 2, 2, 2, 2, 2, 2, 2, 2, 2, 2, 2, 2], dtype=int32)"
      ]
     },
     "execution_count": 34,
     "metadata": {},
     "output_type": "execute_result"
    }
   ],
   "execution_count": 34
  },
  {
   "cell_type": "code",
   "id": "74b8af29",
   "metadata": {
    "ExecuteTime": {
     "end_time": "2025-07-07T20:46:43.624643Z",
     "start_time": "2025-07-07T20:46:43.610014Z"
    }
   },
   "source": [
    "# Average linkage method\n",
    "hc_avg = linkage(corD, method='average', metric='correlation')\n",
    "fcluster(hc_avg, t=2, criterion='maxclust')"
   ],
   "outputs": [
    {
     "data": {
      "text/plain": [
       "array([1, 1, 1, 1, 1, 1, 1, 1, 1, 1, 1, 1, 1, 1, 1, 1, 1, 1, 1, 1, 2, 2,\n",
       "       2, 2, 2, 2, 2, 2, 2, 2, 2, 2, 2, 2, 2, 2, 2, 2, 2, 2], dtype=int32)"
      ]
     },
     "execution_count": 35,
     "metadata": {},
     "output_type": "execute_result"
    }
   ],
   "execution_count": 35
  },
  {
   "cell_type": "markdown",
   "id": "4fd3511a",
   "metadata": {},
   "source": [
    "Regardless of the linkage method used, the resulting clusters are the same when we cut the tree to have 2 clusters. The observations assigned to each cluster are consistent across all the cases shown above."
   ]
  },
  {
   "cell_type": "markdown",
   "id": "c1b12c23",
   "metadata": {},
   "source": [
    "### 13.c\n",
    "\n",
    "To address our collaborator's question, one approach could be to visualize the data in order to identify the genes that exhibit the greatest differences between the two groups. Given that we are working with high-dimensional data, it would be beneficial to obtain a lower-dimensional representation of the data. Principal Component Analysis (PCA) is a suitable technique for this purpose."
   ]
  },
  {
   "cell_type": "code",
   "id": "269e5346",
   "metadata": {
    "ExecuteTime": {
     "end_time": "2025-07-07T20:46:43.877994Z",
     "start_time": "2025-07-07T20:46:43.872449Z"
    }
   },
   "source": [],
   "outputs": [],
   "execution_count": null
  }
 ],
 "metadata": {
  "kernelspec": {
   "display_name": "Python 3 (ipykernel)",
   "language": "python",
   "name": "python3"
  },
  "language_info": {
   "codemirror_mode": {
    "name": "ipython",
    "version": 3
   },
   "file_extension": ".py",
   "mimetype": "text/x-python",
   "name": "python",
   "nbconvert_exporter": "python",
   "pygments_lexer": "ipython3",
   "version": "3.10.10"
  }
 },
 "nbformat": 4,
 "nbformat_minor": 5
}
